{
 "cells": [
  {
   "cell_type": "markdown",
   "id": "1fa09f47-ec17-4d2f-abf1-94400b45731a",
   "metadata": {},
   "source": [
    "# SAX circuit simulator\n",
    "\n",
    "[SAX](https://flaport.github.io/sax/) is a circuit solver written in JAX, writing your component models in SAX enables you not only to get the function values but the gradients, this is useful for circuit optimization.\n",
    "\n",
    "This tutorial has been adapted from SAX tutorial.\n",
    "\n",
    "Note that SAX does not work on Windows, so if you use windows you'll need to run from [WSL](https://docs.microsoft.com/en-us/windows/wsl/) or using docker.\n",
    "\n",
    "You can install sax with pip\n",
    "\n",
    "```\n",
    "! pip install sax\n",
    "```"
   ]
  },
  {
   "cell_type": "code",
   "execution_count": 1,
   "id": "0cbb9797-1aa0-4864-8fd4-bdf6b8718b0c",
   "metadata": {
    "execution": {
     "iopub.execute_input": "2022-03-01T18:43:14.051889Z",
     "iopub.status.busy": "2022-03-01T18:43:14.051509Z",
     "iopub.status.idle": "2022-03-01T18:43:16.847478Z",
     "shell.execute_reply": "2022-03-01T18:43:16.846709Z"
    }
   },
   "outputs": [
    {
     "name": "stderr",
     "output_type": "stream",
     "text": [
      "2022-03-01 18:43:15.005 | INFO     | gdsfactory.config:<module>:52 - Load '/home/runner/work/gdsfactory/gdsfactory/gdsfactory' 4.2.16\n"
     ]
    },
    {
     "name": "stderr",
     "output_type": "stream",
     "text": [
      "2022-03-01 18:43:16.843 | INFO     | gdsfactory.simulation.gmeep:<module>:28 - Meep '1.22.0' installed at ['/usr/share/miniconda/envs/anaconda-client-env/lib/python3.9/site-packages/meep']\n"
     ]
    },
    {
     "name": "stdout",
     "output_type": "stream",
     "text": [
      "Using MPI version 3.1, 1 processes\n"
     ]
    }
   ],
   "source": [
    "import gdsfactory as gf\n",
    "import gdsfactory.simulation.sax as gs\n",
    "import gdsfactory.simulation.modes as gm\n",
    "import sax"
   ]
  },
  {
   "cell_type": "markdown",
   "id": "acb023da-1990-4e35-b760-e837ca799d1c",
   "metadata": {},
   "source": [
    "## Scatter *dictionaries*\n",
    "\n",
    "The core datastructure for specifying scatter parameters in SAX is a dictionary... more specifically a dictionary which maps a port combination (2-tuple) to a scatter parameter (or an array of scatter parameters when considering multiple wavelengths for example). Such a specific dictionary mapping is called ann `SDict` in SAX (`SDict ≈ Dict[Tuple[str,str], float]`).\n",
    "\n",
    "Dictionaries are in fact much better suited for characterizing S-parameters than, say, (jax-)numpy arrays due to the inherent sparse nature of scatter parameters. Moreover, dictonaries allow for string indexing, which makes them much more pleasant to use in this context.\n",
    "\n",
    "```\n",
    "o2            o3 \n",
    "   \\        /\n",
    "    ========\n",
    "   /        \\\n",
    "o1            o4 \n",
    "```"
   ]
  },
  {
   "cell_type": "code",
   "execution_count": 2,
   "id": "2baac9ad-7e2d-4c8e-993c-528928c9f35a",
   "metadata": {
    "execution": {
     "iopub.execute_input": "2022-03-01T18:43:16.850625Z",
     "iopub.status.busy": "2022-03-01T18:43:16.850139Z",
     "iopub.status.idle": "2022-03-01T18:43:16.859550Z",
     "shell.execute_reply": "2022-03-01T18:43:16.859044Z"
    }
   },
   "outputs": [
    {
     "data": {
      "text/plain": [
       "{('o1', 'o4'): 0.7071067811865476,\n",
       " ('o4', 'o1'): 0.7071067811865476,\n",
       " ('o1', 'o3'): 0.7071067811865476j,\n",
       " ('o3', 'o1'): 0.7071067811865476j,\n",
       " ('o2', 'o4'): 0.7071067811865476j,\n",
       " ('o4', 'o2'): 0.7071067811865476j,\n",
       " ('o2', 'o3'): 0.7071067811865476,\n",
       " ('o3', 'o2'): 0.7071067811865476}"
      ]
     },
     "execution_count": 2,
     "metadata": {},
     "output_type": "execute_result"
    }
   ],
   "source": [
    "coupling = 0.5\n",
    "kappa = coupling ** 0.5\n",
    "tau = (1 - coupling) ** 0.5\n",
    "coupler_dict = {\n",
    "    (\"o1\", \"o4\"): tau,\n",
    "    (\"o4\", \"o1\"): tau,\n",
    "    (\"o1\", \"o3\"): 1j * kappa,\n",
    "    (\"o3\", \"o1\"): 1j * kappa,\n",
    "    (\"o2\", \"o4\"): 1j * kappa,\n",
    "    (\"o4\", \"o2\"): 1j * kappa,\n",
    "    (\"o2\", \"o3\"): tau,\n",
    "    (\"o3\", \"o2\"): tau,\n",
    "}\n",
    "coupler_dict"
   ]
  },
  {
   "cell_type": "markdown",
   "id": "fb6213ba-b169-4b16-8a9b-f38fb1bd918a",
   "metadata": {},
   "source": [
    " it can still be tedious to specify every port in the circuit manually. SAX therefore offers the `reciprocal` function, which auto-fills the reverse connection if the forward connection exist. For example:"
   ]
  },
  {
   "cell_type": "code",
   "execution_count": 3,
   "id": "f62d8110-7f6f-4b88-8167-ffbcdad36019",
   "metadata": {
    "execution": {
     "iopub.execute_input": "2022-03-01T18:43:16.862814Z",
     "iopub.status.busy": "2022-03-01T18:43:16.862362Z",
     "iopub.status.idle": "2022-03-01T18:43:16.868980Z",
     "shell.execute_reply": "2022-03-01T18:43:16.868489Z"
    }
   },
   "outputs": [
    {
     "data": {
      "text/plain": [
       "{('o1', 'o4'): 0.7071067811865476,\n",
       " ('o1', 'o3'): 0.7071067811865476j,\n",
       " ('o2', 'o4'): 0.7071067811865476j,\n",
       " ('o2', 'o3'): 0.7071067811865476,\n",
       " ('o4', 'o1'): 0.7071067811865476,\n",
       " ('o3', 'o1'): 0.7071067811865476j,\n",
       " ('o4', 'o2'): 0.7071067811865476j,\n",
       " ('o3', 'o2'): 0.7071067811865476}"
      ]
     },
     "execution_count": 3,
     "metadata": {},
     "output_type": "execute_result"
    }
   ],
   "source": [
    "coupler_dict = sax.reciprocal(\n",
    "    {\n",
    "        (\"o1\", \"o4\"): tau,\n",
    "        (\"o1\", \"o3\"): 1j * kappa,\n",
    "        (\"o2\", \"o4\"): 1j * kappa,\n",
    "        (\"o2\", \"o3\"): tau,\n",
    "    }\n",
    ")\n",
    "\n",
    "coupler_dict"
   ]
  },
  {
   "cell_type": "markdown",
   "id": "12f9ab3f-8645-4aee-80ac-c6946a9d657e",
   "metadata": {},
   "source": [
    "## Parametrized Models\n",
    "\n",
    "Constructing such an `SDict` is easy, however, usually we're more interested in having parametrized models for our components. To parametrize the coupler `SDict`, just wrap it in a function to obtain a SAX `Model`, which is a keyword-only function mapping to an `SDict`:"
   ]
  },
  {
   "cell_type": "code",
   "execution_count": 4,
   "id": "9aacbe90-b8d7-4cbd-bdad-309e7d34cffa",
   "metadata": {
    "execution": {
     "iopub.execute_input": "2022-03-01T18:43:16.871808Z",
     "iopub.status.busy": "2022-03-01T18:43:16.871525Z",
     "iopub.status.idle": "2022-03-01T18:43:16.879217Z",
     "shell.execute_reply": "2022-03-01T18:43:16.878721Z"
    }
   },
   "outputs": [
    {
     "data": {
      "text/plain": [
       "{('o1', 'o4'): 0.8366600265340756,\n",
       " ('o1', 'o3'): 0.5477225575051661j,\n",
       " ('o2', 'o4'): 0.5477225575051661j,\n",
       " ('o2', 'o3'): 0.8366600265340756,\n",
       " ('o4', 'o1'): 0.8366600265340756,\n",
       " ('o3', 'o1'): 0.5477225575051661j,\n",
       " ('o4', 'o2'): 0.5477225575051661j,\n",
       " ('o3', 'o2'): 0.8366600265340756}"
      ]
     },
     "execution_count": 4,
     "metadata": {},
     "output_type": "execute_result"
    }
   ],
   "source": [
    "def coupler(coupling=0.5) -> sax.SDict:\n",
    "    kappa = coupling ** 0.5\n",
    "    tau = (1 - coupling) ** 0.5\n",
    "    coupler_dict = sax.reciprocal(\n",
    "        {\n",
    "        (\"o1\", \"o4\"): tau,\n",
    "        (\"o1\", \"o3\"): 1j * kappa,\n",
    "        (\"o2\", \"o4\"): 1j * kappa,\n",
    "        (\"o2\", \"o3\"): tau,\n",
    "        }\n",
    "    )\n",
    "    return coupler_dict\n",
    "\n",
    "\n",
    "coupler(coupling=0.3)"
   ]
  },
  {
   "cell_type": "code",
   "execution_count": 5,
   "id": "cc3ccb8f-6154-4cd7-8ce0-9b1a5aa8f581",
   "metadata": {
    "execution": {
     "iopub.execute_input": "2022-03-01T18:43:16.881994Z",
     "iopub.status.busy": "2022-03-01T18:43:16.881599Z",
     "iopub.status.idle": "2022-03-01T18:43:16.886916Z",
     "shell.execute_reply": "2022-03-01T18:43:16.886443Z"
    }
   },
   "outputs": [],
   "source": [
    "def waveguide(wl=1.55, wl0=1.55, neff=2.34, ng=3.4, length=10.0, loss=0.0) -> sax.SDict:\n",
    "    dwl = wl - wl0\n",
    "    dneff_dwl = (ng - neff) / wl0\n",
    "    neff = neff - dwl * dneff_dwl\n",
    "    phase = 2 * jnp.pi * neff * length / wl\n",
    "    transmission = 10 ** (-loss * length / 20) * jnp.exp(1j * phase)\n",
    "    sdict = sax.reciprocal(\n",
    "        {\n",
    "            (\"o1\", \"o2\"): transmission,\n",
    "        }\n",
    "    )\n",
    "    return sdict"
   ]
  },
  {
   "cell_type": "markdown",
   "id": "7e9ca43d-8182-4443-be8d-8c7213a26ed7",
   "metadata": {},
   "source": [
    "## Component Models\n",
    "\n",
    "### Waveguide model\n",
    "\n",
    "You can create a dispersive waveguide model in SAX."
   ]
  },
  {
   "cell_type": "markdown",
   "id": "1432d022-d9da-4f5c-8089-0ace00c1461d",
   "metadata": {},
   "source": [
    "Lets compute the effective index `neff` and group index `ng` for a 1550nm 500nm straight waveguide"
   ]
  },
  {
   "cell_type": "code",
   "execution_count": 6,
   "id": "b9dd95bd-8942-480a-97e2-b481bf256499",
   "metadata": {
    "execution": {
     "iopub.execute_input": "2022-03-01T18:43:16.889346Z",
     "iopub.status.busy": "2022-03-01T18:43:16.889183Z",
     "iopub.status.idle": "2022-03-01T18:43:16.905404Z",
     "shell.execute_reply": "2022-03-01T18:43:16.904804Z"
    }
   },
   "outputs": [
    {
     "name": "stdout",
     "output_type": "stream",
     "text": [
      "2.3638584286954814 4.251242165908622\n"
     ]
    }
   ],
   "source": [
    "m = gm.find_mode_dispersion(wavelength=1.55)\n",
    "print(m.neff, m.ng)"
   ]
  },
  {
   "cell_type": "code",
   "execution_count": 7,
   "id": "c2c01486-7d98-4240-9c82-ef6ae112bc34",
   "metadata": {
    "execution": {
     "iopub.execute_input": "2022-03-01T18:43:16.907973Z",
     "iopub.status.busy": "2022-03-01T18:43:16.907796Z",
     "iopub.status.idle": "2022-03-01T18:43:16.911587Z",
     "shell.execute_reply": "2022-03-01T18:43:16.911120Z"
    }
   },
   "outputs": [],
   "source": [
    "straight_sc = gf.partial(gs.models.straight, neff=m.neff, ng=m.ng)"
   ]
  },
  {
   "cell_type": "code",
   "execution_count": 8,
   "id": "b984b918-7b58-44b7-b8f1-32a19ad7f46a",
   "metadata": {
    "execution": {
     "iopub.execute_input": "2022-03-01T18:43:16.914434Z",
     "iopub.status.busy": "2022-03-01T18:43:16.914151Z",
     "iopub.status.idle": "2022-03-01T18:43:17.123332Z",
     "shell.execute_reply": "2022-03-01T18:43:17.122718Z"
    }
   },
   "outputs": [
    {
     "name": "stderr",
     "output_type": "stream",
     "text": [
      "/usr/share/miniconda/envs/anaconda-client-env/lib/python3.9/site-packages/jax/_src/numpy/lax_numpy.py:3690: UserWarning: Explicitly requested dtype <class 'complex'> requested in asarray is not available, and will be truncated to dtype complex64. To enable more dtypes, set the jax_enable_x64 configuration option or the JAX_ENABLE_X64 shell environment variable. See https://github.com/google/jax#current-gotchas for more.\n",
      "  lax._check_user_dtype_supported(dtype, \"asarray\")\n",
      "WARNING:absl:No GPU/TPU found, falling back to CPU. (Set TF_CPP_MIN_LOG_LEVEL=0 and rerun for more info.)\n"
     ]
    },
    {
     "data": {
      "image/png": "[encoded data removed]",
      "text/plain": [
       "<Figure size 432x288 with 1 Axes>"
      ]
     },
     "metadata": {
      "needs_background": "light"
     },
     "output_type": "display_data"
    },
    {
     "data": {
      "text/plain": [
       "<AxesSubplot:title={'center':'o1'}, xlabel='wavelength (nm)', ylabel='|S (dB)|'>"
      ]
     },
     "execution_count": 8,
     "metadata": {},
     "output_type": "execute_result"
    }
   ],
   "source": [
    "gs.plot_model(straight_sc)"
   ]
  },
  {
   "cell_type": "code",
   "execution_count": 9,
   "id": "cd9cf620-92df-4e3a-a584-7417223a062c",
   "metadata": {
    "execution": {
     "iopub.execute_input": "2022-03-01T18:43:17.126646Z",
     "iopub.status.busy": "2022-03-01T18:43:17.126245Z",
     "iopub.status.idle": "2022-03-01T18:43:17.253148Z",
     "shell.execute_reply": "2022-03-01T18:43:17.252599Z"
    }
   },
   "outputs": [
    {
     "name": "stderr",
     "output_type": "stream",
     "text": [
      "/usr/share/miniconda/envs/anaconda-client-env/lib/python3.9/site-packages/jax/_src/numpy/lax_numpy.py:3690: UserWarning: Explicitly requested dtype <class 'complex'> requested in asarray is not available, and will be truncated to dtype complex64. To enable more dtypes, set the jax_enable_x64 configuration option or the JAX_ENABLE_X64 shell environment variable. See https://github.com/google/jax#current-gotchas for more.\n",
      "  lax._check_user_dtype_supported(dtype, \"asarray\")\n"
     ]
    },
    {
     "data": {
      "image/png": "[encoded data removed]",
      "text/plain": [
       "<Figure size 432x288 with 1 Axes>"
      ]
     },
     "metadata": {
      "needs_background": "light"
     },
     "output_type": "display_data"
    },
    {
     "data": {
      "text/plain": [
       "<AxesSubplot:title={'center':'o1'}, xlabel='wavelength (nm)', ylabel='angle (rad)'>"
      ]
     },
     "execution_count": 9,
     "metadata": {},
     "output_type": "execute_result"
    }
   ],
   "source": [
    "gs.plot_model(straight_sc, phase=True)"
   ]
  },
  {
   "cell_type": "markdown",
   "id": "4f665628-5cab-4e25-80a7-35642cbe92d5",
   "metadata": {},
   "source": [
    "### Coupler model"
   ]
  },
  {
   "cell_type": "code",
   "execution_count": 10,
   "id": "281b0de1-ceae-4e04-a004-4de0c94b3bdd",
   "metadata": {
    "execution": {
     "iopub.execute_input": "2022-03-01T18:43:17.256523Z",
     "iopub.status.busy": "2022-03-01T18:43:17.256335Z",
     "iopub.status.idle": "2022-03-01T18:43:17.303794Z",
     "shell.execute_reply": "2022-03-01T18:43:17.303094Z"
    }
   },
   "outputs": [],
   "source": [
    "gm.find_coupling_vs_gap?"
   ]
  },
  {
   "cell_type": "code",
   "execution_count": 11,
   "id": "fb877b9f-a86c-4aa9-973b-5ee361b6dbd5",
   "metadata": {
    "execution": {
     "iopub.execute_input": "2022-03-01T18:43:17.307690Z",
     "iopub.status.busy": "2022-03-01T18:43:17.306956Z",
     "iopub.status.idle": "2022-03-01T18:43:17.349865Z",
     "shell.execute_reply": "2022-03-01T18:43:17.349361Z"
    }
   },
   "outputs": [
    {
     "name": "stderr",
     "output_type": "stream",
     "text": [
      "\r",
      "  0%|          | 0/12 [00:00<?, ?it/s]"
     ]
    },
    {
     "name": "stderr",
     "output_type": "stream",
     "text": [
      "\r",
      "100%|██████████| 12/12 [00:00<00:00, 487.43it/s]"
     ]
    },
    {
     "name": "stderr",
     "output_type": "stream",
     "text": [
      "\n"
     ]
    },
    {
     "data": {
      "text/html": [
       "<div>\n",
       "<style scoped>\n",
       "    .dataframe tbody tr th:only-of-type {\n",
       "        vertical-align: middle;\n",
       "    }\n",
       "\n",
       "    .dataframe tbody tr th {\n",
       "        vertical-align: top;\n",
       "    }\n",
       "\n",
       "    .dataframe thead th {\n",
       "        text-align: right;\n",
       "    }\n",
       "</style>\n",
       "<table border=\"1\" class=\"dataframe\">\n",
       "  <thead>\n",
       "    <tr style=\"text-align: right;\">\n",
       "      <th></th>\n",
       "      <th>gap</th>\n",
       "      <th>ne</th>\n",
       "      <th>no</th>\n",
       "      <th>lc</th>\n",
       "      <th>dn</th>\n",
       "    </tr>\n",
       "  </thead>\n",
       "  <tbody>\n",
       "    <tr>\n",
       "      <th>0</th>\n",
       "      <td>0.200000</td>\n",
       "      <td>2.457894</td>\n",
       "      <td>2.437607</td>\n",
       "      <td>38.201198</td>\n",
       "      <td>0.020287</td>\n",
       "    </tr>\n",
       "    <tr>\n",
       "      <th>1</th>\n",
       "      <td>0.218182</td>\n",
       "      <td>2.459028</td>\n",
       "      <td>2.441121</td>\n",
       "      <td>43.278893</td>\n",
       "      <td>0.017907</td>\n",
       "    </tr>\n",
       "    <tr>\n",
       "      <th>2</th>\n",
       "      <td>0.236364</td>\n",
       "      <td>2.452195</td>\n",
       "      <td>2.437659</td>\n",
       "      <td>53.318206</td>\n",
       "      <td>0.014535</td>\n",
       "    </tr>\n",
       "    <tr>\n",
       "      <th>3</th>\n",
       "      <td>0.254545</td>\n",
       "      <td>2.451946</td>\n",
       "      <td>2.439549</td>\n",
       "      <td>62.514018</td>\n",
       "      <td>0.012397</td>\n",
       "    </tr>\n",
       "    <tr>\n",
       "      <th>4</th>\n",
       "      <td>0.272727</td>\n",
       "      <td>2.451248</td>\n",
       "      <td>2.441058</td>\n",
       "      <td>76.053858</td>\n",
       "      <td>0.010190</td>\n",
       "    </tr>\n",
       "    <tr>\n",
       "      <th>5</th>\n",
       "      <td>0.290909</td>\n",
       "      <td>2.451491</td>\n",
       "      <td>2.442325</td>\n",
       "      <td>84.553535</td>\n",
       "      <td>0.009166</td>\n",
       "    </tr>\n",
       "    <tr>\n",
       "      <th>6</th>\n",
       "      <td>0.309091</td>\n",
       "      <td>2.449447</td>\n",
       "      <td>2.441517</td>\n",
       "      <td>97.723696</td>\n",
       "      <td>0.007931</td>\n",
       "    </tr>\n",
       "    <tr>\n",
       "      <th>7</th>\n",
       "      <td>0.327273</td>\n",
       "      <td>2.447256</td>\n",
       "      <td>2.440698</td>\n",
       "      <td>118.168160</td>\n",
       "      <td>0.006558</td>\n",
       "    </tr>\n",
       "    <tr>\n",
       "      <th>8</th>\n",
       "      <td>0.345455</td>\n",
       "      <td>2.451715</td>\n",
       "      <td>2.446248</td>\n",
       "      <td>141.751936</td>\n",
       "      <td>0.005467</td>\n",
       "    </tr>\n",
       "    <tr>\n",
       "      <th>9</th>\n",
       "      <td>0.363636</td>\n",
       "      <td>2.451128</td>\n",
       "      <td>2.446210</td>\n",
       "      <td>157.608710</td>\n",
       "      <td>0.004917</td>\n",
       "    </tr>\n",
       "    <tr>\n",
       "      <th>10</th>\n",
       "      <td>0.381818</td>\n",
       "      <td>2.445577</td>\n",
       "      <td>2.441408</td>\n",
       "      <td>185.893679</td>\n",
       "      <td>0.004169</td>\n",
       "    </tr>\n",
       "    <tr>\n",
       "      <th>11</th>\n",
       "      <td>0.400000</td>\n",
       "      <td>2.445128</td>\n",
       "      <td>2.441678</td>\n",
       "      <td>224.665375</td>\n",
       "      <td>0.003450</td>\n",
       "    </tr>\n",
       "  </tbody>\n",
       "</table>\n",
       "</div>"
      ],
      "text/plain": [
       "         gap        ne        no          lc        dn\n",
       "0   0.200000  2.457894  2.437607   38.201198  0.020287\n",
       "1   0.218182  2.459028  2.441121   43.278893  0.017907\n",
       "2   0.236364  2.452195  2.437659   53.318206  0.014535\n",
       "3   0.254545  2.451946  2.439549   62.514018  0.012397\n",
       "4   0.272727  2.451248  2.441058   76.053858  0.010190\n",
       "5   0.290909  2.451491  2.442325   84.553535  0.009166\n",
       "6   0.309091  2.449447  2.441517   97.723696  0.007931\n",
       "7   0.327273  2.447256  2.440698  118.168160  0.006558\n",
       "8   0.345455  2.451715  2.446248  141.751936  0.005467\n",
       "9   0.363636  2.451128  2.446210  157.608710  0.004917\n",
       "10  0.381818  2.445577  2.441408  185.893679  0.004169\n",
       "11  0.400000  2.445128  2.441678  224.665375  0.003450"
      ]
     },
     "execution_count": 11,
     "metadata": {},
     "output_type": "execute_result"
    }
   ],
   "source": [
    "df = gm.find_coupling_vs_gap()\n",
    "df"
   ]
  },
  {
   "cell_type": "markdown",
   "id": "3cc34541-5f73-462f-a3e6-42b56d7f3b7b",
   "metadata": {},
   "source": [
    "For a 200nm gap the effective index difference `dn` is `0.02`, which means that there is 100% power coupling over 38.2um"
   ]
  },
  {
   "cell_type": "code",
   "execution_count": 12,
   "id": "6b041d26-1246-4c3d-80c9-60c5eb838e08",
   "metadata": {
    "execution": {
     "iopub.execute_input": "2022-03-01T18:43:17.352710Z",
     "iopub.status.busy": "2022-03-01T18:43:17.352319Z",
     "iopub.status.idle": "2022-03-01T18:43:17.552932Z",
     "shell.execute_reply": "2022-03-01T18:43:17.552491Z"
    }
   },
   "outputs": [
    {
     "data": {
      "image/png": "[encoded data removed]",
      "text/plain": [
       "<Figure size 432x288 with 1 Axes>"
      ]
     },
     "metadata": {
      "needs_background": "light"
     },
     "output_type": "display_data"
    },
    {
     "data": {
      "text/plain": [
       "<AxesSubplot:title={'center':'o1'}, xlabel='wavelength (nm)', ylabel='|S (dB)|'>"
      ]
     },
     "execution_count": 12,
     "metadata": {},
     "output_type": "execute_result"
    }
   ],
   "source": [
    "coupler_sc = gf.partial(gs.models.coupler, dn=0.02, length=0, coupling0=0)\n",
    "gs.plot_model(coupler_sc)"
   ]
  },
  {
   "cell_type": "markdown",
   "id": "054c1248-bd96-4192-892f-981b4c6f121d",
   "metadata": {},
   "source": [
    "If we ignore the coupling from the bend `coupling0 = 0` we know that for a 3dB coupling we need half of the `lc` length, which is the length needed to coupler `100%` of power."
   ]
  },
  {
   "cell_type": "code",
   "execution_count": 13,
   "id": "193184a3-ff6c-403c-b456-d43f45b1b1cd",
   "metadata": {
    "execution": {
     "iopub.execute_input": "2022-03-01T18:43:17.556163Z",
     "iopub.status.busy": "2022-03-01T18:43:17.555763Z",
     "iopub.status.idle": "2022-03-01T18:43:17.687753Z",
     "shell.execute_reply": "2022-03-01T18:43:17.687317Z"
    }
   },
   "outputs": [
    {
     "data": {
      "image/png": "[encoded data removed]",
      "text/plain": [
       "<Figure size 432x288 with 1 Axes>"
      ]
     },
     "metadata": {
      "needs_background": "light"
     },
     "output_type": "display_data"
    },
    {
     "data": {
      "text/plain": [
       "<AxesSubplot:title={'center':'o1'}, xlabel='wavelength (nm)', ylabel='|S (dB)|'>"
      ]
     },
     "execution_count": 13,
     "metadata": {},
     "output_type": "execute_result"
    }
   ],
   "source": [
    "coupler_sc = gf.partial(gs.models.coupler, dn=0.02, length=38.2/2, coupling0=0)\n",
    "gs.plot_model(coupler_sc)"
   ]
  },
  {
   "cell_type": "markdown",
   "id": "9e0c22d4-16f7-4150-bb27-da05a6b8a003",
   "metadata": {},
   "source": [
    "### FDTD Sparameters model\n",
    "\n",
    "You can also fit a model from Sparameter FDTD simulation data."
   ]
  },
  {
   "cell_type": "code",
   "execution_count": 14,
   "id": "fe47c03f-ee34-44d5-a5d7-1e2c9cb5cd4b",
   "metadata": {
    "execution": {
     "iopub.execute_input": "2022-03-01T18:43:17.690383Z",
     "iopub.status.busy": "2022-03-01T18:43:17.690073Z",
     "iopub.status.idle": "2022-03-01T18:43:17.854723Z",
     "shell.execute_reply": "2022-03-01T18:43:17.854172Z"
    }
   },
   "outputs": [
    {
     "data": {
      "image/png": "[encoded data removed]",
      "text/plain": [
       "<Figure size 432x288 with 1 Axes>"
      ]
     },
     "metadata": {
      "needs_background": "light"
     },
     "output_type": "display_data"
    },
    {
     "data": {
      "text/plain": [
       "<AxesSubplot:title={'center':'o1'}, xlabel='wavelength (nm)', ylabel='|S (dB)|'>"
      ]
     },
     "execution_count": 14,
     "metadata": {},
     "output_type": "execute_result"
    }
   ],
   "source": [
    "from gdsfactory.simulation.get_sparameters_path import get_sparameters_path_lumerical\n",
    "\n",
    "filepath = get_sparameters_path_lumerical(gf.c.mmi1x2)\n",
    "mmi1x2 = gf.partial(gs.read.sdict_from_csv, filepath=filepath)\n",
    "gs.plot_model(mmi1x2)"
   ]
  },
  {
   "cell_type": "markdown",
   "id": "9e30b544-85d7-4285-ac4e-d5c43140d139",
   "metadata": {},
   "source": [
    "## Circuit Models\n",
    "\n",
    "You can combine component models into a circuit using `sax.circuit`, which basically creates a new `Model` function:\n",
    "\n",
    "Lets define a [MZI interferometer](https://en.wikipedia.org/wiki/Mach%E2%80%93Zehnder_interferometer)\n",
    "\n",
    "```\n",
    "           _________\n",
    "          |  top    |\n",
    "          |         |\n",
    "    lft===|         |===rgt\n",
    "          |         |\n",
    "          |_________|\n",
    "             bot\n",
    "             \n",
    "               o1    top   o2\n",
    "                 ----------\n",
    "o2            o3           o2            o3 \n",
    "   \\        /                 \\        /\n",
    "    ========                   ========\n",
    "   /        \\                 /        \\\n",
    "o1     lft    04           o1    rgt     04 \n",
    "                 ----------\n",
    "               o1   bot    o2\n",
    "```"
   ]
  },
  {
   "cell_type": "code",
   "execution_count": 15,
   "id": "1bd9e29e-2fed-4f56-b0c9-a9ef32069fd6",
   "metadata": {
    "execution": {
     "iopub.execute_input": "2022-03-01T18:43:17.857531Z",
     "iopub.status.busy": "2022-03-01T18:43:17.857342Z",
     "iopub.status.idle": "2022-03-01T18:43:17.875024Z",
     "shell.execute_reply": "2022-03-01T18:43:17.874554Z"
    }
   },
   "outputs": [],
   "source": [
    "waveguide = straight_sc\n",
    "coupler = coupler_sc\n",
    "\n",
    "mzi = sax.circuit(\n",
    "    instances={\n",
    "        \"lft\": coupler,\n",
    "        \"top\": waveguide,\n",
    "        \"bot\": waveguide,\n",
    "        \"rgt\": coupler,\n",
    "    },\n",
    "    connections={\n",
    "        \"lft,o4\": \"bot,o1\",\n",
    "        \"bot,o2\": \"rgt,o1\",\n",
    "        \"lft,o3\": \"top,o1\",\n",
    "        \"top,o2\": \"rgt,o2\",\n",
    "    },\n",
    "    ports={\n",
    "        \"o1\": \"lft,o1\",\n",
    "        \"o2\": \"lft,o2\",\n",
    "        \"o4\": \"rgt,o4\",\n",
    "        \"o3\": \"rgt,o3\",\n",
    "    },\n",
    ")"
   ]
  },
  {
   "cell_type": "markdown",
   "id": "fe8a8187-0388-4990-b00b-bdae4dbda0db",
   "metadata": {},
   "source": [
    "The `circuit` function just creates a similar function as we created for the waveguide and the coupler, but in stead of taking parameters directly it takes parameter *dictionaries* for each of the instances in the circuit. The keys in these parameter dictionaries should correspond to the keyword arguments of each individual subcomponent. \n",
    "\n",
    "Let's now do a simulation for the MZI we just constructed:"
   ]
  },
  {
   "cell_type": "code",
   "execution_count": 16,
   "id": "bf497c1a-9f19-459a-adf5-b468b37564c3",
   "metadata": {
    "execution": {
     "iopub.execute_input": "2022-03-01T18:43:17.877931Z",
     "iopub.status.busy": "2022-03-01T18:43:17.877473Z",
     "iopub.status.idle": "2022-03-01T18:43:20.179380Z",
     "shell.execute_reply": "2022-03-01T18:43:20.178476Z"
    }
   },
   "outputs": [
    {
     "name": "stderr",
     "output_type": "stream",
     "text": [
      "/usr/share/miniconda/envs/anaconda-client-env/lib/python3.9/site-packages/jax/_src/numpy/lax_numpy.py:3690: UserWarning: Explicitly requested dtype <class 'complex'> requested in asarray is not available, and will be truncated to dtype complex64. To enable more dtypes, set the jax_enable_x64 configuration option or the JAX_ENABLE_X64 shell environment variable. See https://github.com/google/jax#current-gotchas for more.\n",
      "  lax._check_user_dtype_supported(dtype, \"asarray\")\n"
     ]
    },
    {
     "name": "stdout",
     "output_type": "stream",
     "text": [
      "CPU times: user 2.24 s, sys: 31.6 ms, total: 2.27 s\n",
      "Wall time: 2.27 s\n"
     ]
    },
    {
     "data": {
      "text/plain": [
       "{('o2', 'o2'): 0j,\n",
       " ('o2', 'o1'): 0j,\n",
       " ('o1', 'o2'): 0j,\n",
       " ('o1', 'o1'): 0j,\n",
       " ('o3', 'o3'): 0j,\n",
       " ('o3', 'o4'): 0j,\n",
       " ('o3', 'o2'): -9.807199239730835e-05+0.02229j,\n",
       " ('o3', 'o1'): 0.99974+0.0044j,\n",
       " ('o4', 'o3'): 0j,\n",
       " ('o4', 'o4'): 0j,\n",
       " ('o4', 'o2'): 0.99974+0.0044j,\n",
       " ('o4', 'o1'): -9.807199239730835e-05+0.02229j,\n",
       " ('o2', 'o3'): -9.807199239730835e-05+0.02229j,\n",
       " ('o2', 'o4'): 0.99974+0.0044j,\n",
       " ('o1', 'o3'): 0.99974+0.0044j,\n",
       " ('o1', 'o4'): -9.807199239730835e-05+0.02229j}"
      ]
     },
     "execution_count": 16,
     "metadata": {},
     "output_type": "execute_result"
    }
   ],
   "source": [
    "%time mzi()"
   ]
  },
  {
   "cell_type": "code",
   "execution_count": 17,
   "id": "d770b5f0-441b-4a5e-984f-46f4c1746163",
   "metadata": {
    "execution": {
     "iopub.execute_input": "2022-03-01T18:43:20.182495Z",
     "iopub.status.busy": "2022-03-01T18:43:20.182087Z",
     "iopub.status.idle": "2022-03-01T18:43:20.187045Z",
     "shell.execute_reply": "2022-03-01T18:43:20.186529Z"
    }
   },
   "outputs": [],
   "source": [
    "import jax\n",
    "import jax.example_libraries.optimizers as opt\n",
    "import jax.numpy as jnp\n",
    "import matplotlib.pyplot as plt  # plotting\n",
    "\n",
    "mzi2 = jax.jit(mzi)"
   ]
  },
  {
   "cell_type": "code",
   "execution_count": 18,
   "id": "9184478c-b5da-4a40-911f-efe75f8395a0",
   "metadata": {
    "execution": {
     "iopub.execute_input": "2022-03-01T18:43:20.189757Z",
     "iopub.status.busy": "2022-03-01T18:43:20.189384Z",
     "iopub.status.idle": "2022-03-01T18:43:23.602266Z",
     "shell.execute_reply": "2022-03-01T18:43:23.601578Z"
    }
   },
   "outputs": [
    {
     "name": "stdout",
     "output_type": "stream",
     "text": [
      "CPU times: user 3.38 s, sys: 51.6 ms, total: 3.43 s\n",
      "Wall time: 3.4 s\n"
     ]
    },
    {
     "data": {
      "text/plain": [
       "{('o1', 'o1'): 0j,\n",
       " ('o1', 'o2'): 0j,\n",
       " ('o1', 'o3'): 0.99974+0.0044j,\n",
       " ('o1', 'o4'): -9.807199239730835e-05+0.02229j,\n",
       " ('o2', 'o1'): 0j,\n",
       " ('o2', 'o2'): 0j,\n",
       " ('o2', 'o3'): -9.807199239730835e-05+0.02229j,\n",
       " ('o2', 'o4'): 0.99974+0.0044j,\n",
       " ('o3', 'o1'): 0.99974+0.0044j,\n",
       " ('o3', 'o2'): -9.807199239730835e-05+0.02229j,\n",
       " ('o3', 'o3'): 0j,\n",
       " ('o3', 'o4'): 0j,\n",
       " ('o4', 'o1'): -9.807199239730835e-05+0.02229j,\n",
       " ('o4', 'o2'): 0.99974+0.0044j,\n",
       " ('o4', 'o3'): 0j,\n",
       " ('o4', 'o4'): 0j}"
      ]
     },
     "execution_count": 18,
     "metadata": {},
     "output_type": "execute_result"
    }
   ],
   "source": [
    "%time mzi2()"
   ]
  },
  {
   "cell_type": "code",
   "execution_count": 19,
   "id": "bd363622-a0e9-40cd-a94b-e01877e52e9c",
   "metadata": {
    "execution": {
     "iopub.execute_input": "2022-03-01T18:43:23.605425Z",
     "iopub.status.busy": "2022-03-01T18:43:23.605127Z",
     "iopub.status.idle": "2022-03-01T18:43:23.618547Z",
     "shell.execute_reply": "2022-03-01T18:43:23.617937Z"
    }
   },
   "outputs": [
    {
     "data": {
      "text/plain": [
       "{('o2', 'o2'): 0j,\n",
       " ('o2', 'o1'): 0j,\n",
       " ('o1', 'o2'): 0j,\n",
       " ('o1', 'o1'): 0j,\n",
       " ('o3', 'o3'): 0j,\n",
       " ('o3', 'o4'): 0j,\n",
       " ('o3', 'o2'): 0.35958-0.12346j,\n",
       " ('o3', 'o1'): 0.85721-0.34735j,\n",
       " ('o4', 'o3'): 0j,\n",
       " ('o4', 'o4'): 0j,\n",
       " ('o4', 'o2'): 0.85721-0.34735j,\n",
       " ('o4', 'o1'): -0.34409+0.16169j,\n",
       " ('o2', 'o3'): 0.35958-0.12346j,\n",
       " ('o2', 'o4'): 0.85721-0.34735j,\n",
       " ('o1', 'o3'): 0.85721-0.34735j,\n",
       " ('o1', 'o4'): -0.34409+0.16169j}"
      ]
     },
     "execution_count": 19,
     "metadata": {},
     "output_type": "execute_result"
    }
   ],
   "source": [
    "mzi(top={\"length\": 25.0}, btm={\"length\": 15.0})"
   ]
  },
  {
   "cell_type": "code",
   "execution_count": 20,
   "id": "a87486a6-b353-4988-9d8e-81b68bb7834f",
   "metadata": {
    "execution": {
     "iopub.execute_input": "2022-03-01T18:43:23.621519Z",
     "iopub.status.busy": "2022-03-01T18:43:23.621002Z",
     "iopub.status.idle": "2022-03-01T18:43:26.268120Z",
     "shell.execute_reply": "2022-03-01T18:43:26.267086Z"
    }
   },
   "outputs": [
    {
     "name": "stderr",
     "output_type": "stream",
     "text": [
      "/usr/share/miniconda/envs/anaconda-client-env/lib/python3.9/site-packages/numpy/core/getlimits.py:499: UserWarning: The value of the smallest subnormal for <class 'numpy.float32'> type is zero.\n",
      "  setattr(self, word, getattr(machar, word).flat[0])\n",
      "/usr/share/miniconda/envs/anaconda-client-env/lib/python3.9/site-packages/numpy/core/getlimits.py:89: UserWarning: The value of the smallest subnormal for <class 'numpy.float32'> type is zero.\n",
      "  return self._float_to_str(self.smallest_subnormal)\n"
     ]
    },
    {
     "name": "stdout",
     "output_type": "stream",
     "text": [
      "CPU times: user 2.61 s, sys: 3.71 ms, total: 2.62 s\n",
      "Wall time: 2.61 s\n"
     ]
    }
   ],
   "source": [
    "wl = jnp.linspace(1.51, 1.59, 1000)\n",
    "%time S = mzi(wl=wl, top={\"length\": 25.0}, btm={\"length\": 15.0})"
   ]
  },
  {
   "cell_type": "code",
   "execution_count": 21,
   "id": "e0ffcad8-2d62-4484-98ef-8932ccf3a1bb",
   "metadata": {
    "execution": {
     "iopub.execute_input": "2022-03-01T18:43:26.272070Z",
     "iopub.status.busy": "2022-03-01T18:43:26.271475Z",
     "iopub.status.idle": "2022-03-01T18:43:26.816976Z",
     "shell.execute_reply": "2022-03-01T18:43:26.816512Z"
    }
   },
   "outputs": [
    {
     "data": {
      "image/png": "[encoded data removed]",
      "text/plain": [
       "<Figure size 432x288 with 1 Axes>"
      ]
     },
     "metadata": {
      "needs_background": "light"
     },
     "output_type": "display_data"
    }
   ],
   "source": [
    "plt.plot(wl * 1e3, abs(S[\"o1\", \"o3\"]) ** 2, label='o3')\n",
    "plt.plot(wl * 1e3, abs(S[\"o1\", \"o4\"]) ** 2, label='o4')\n",
    "plt.ylim(-0.05, 1.05)\n",
    "plt.xlabel(\"λ [nm]\")\n",
    "plt.ylabel(\"T\")\n",
    "plt.ylim(-0.05, 1.05)\n",
    "plt.legend()\n",
    "plt.show()"
   ]
  },
  {
   "cell_type": "markdown",
   "id": "ceffc432-a4b8-46f6-a21c-61cf788c21ec",
   "metadata": {},
   "source": [
    "## Optimization\n",
    "\n",
    "You can optimize an MZI to get T=0 at 1550nm.\n",
    "To do this, you need to define a loss function for the circuit at 1550nm.\n",
    "This function should take the parameters that you want to optimize as positional arguments:"
   ]
  },
  {
   "cell_type": "code",
   "execution_count": 22,
   "id": "faf315c7-096e-47f3-ba9c-24a8fe4e37a5",
   "metadata": {
    "execution": {
     "iopub.execute_input": "2022-03-01T18:43:26.819767Z",
     "iopub.status.busy": "2022-03-01T18:43:26.819359Z",
     "iopub.status.idle": "2022-03-01T18:43:26.823138Z",
     "shell.execute_reply": "2022-03-01T18:43:26.822714Z"
    }
   },
   "outputs": [],
   "source": [
    "@jax.jit\n",
    "def loss(delta_length):\n",
    "    S = mzi(wl=1.55, top={\"length\": 15.0 + delta_length}, btm={\"length\": 15.0})\n",
    "    return (abs(S[\"o1\", \"o4\"]) ** 2).mean()"
   ]
  },
  {
   "cell_type": "code",
   "execution_count": 23,
   "id": "081e9a8d-3c21-435b-a960-35018e7bc174",
   "metadata": {
    "execution": {
     "iopub.execute_input": "2022-03-01T18:43:26.825623Z",
     "iopub.status.busy": "2022-03-01T18:43:26.825249Z",
     "iopub.status.idle": "2022-03-01T18:43:30.399030Z",
     "shell.execute_reply": "2022-03-01T18:43:30.398454Z"
    }
   },
   "outputs": [
    {
     "name": "stderr",
     "output_type": "stream",
     "text": [
      "/usr/share/miniconda/envs/anaconda-client-env/lib/python3.9/site-packages/jax/_src/numpy/lax_numpy.py:3690: UserWarning: Explicitly requested dtype <class 'complex'> requested in asarray is not available, and will be truncated to dtype complex64. To enable more dtypes, set the jax_enable_x64 configuration option or the JAX_ENABLE_X64 shell environment variable. See https://github.com/google/jax#current-gotchas for more.\n",
      "  lax._check_user_dtype_supported(dtype, \"asarray\")\n"
     ]
    },
    {
     "name": "stdout",
     "output_type": "stream",
     "text": [
      "CPU times: user 3.59 s, sys: 11.5 ms, total: 3.6 s\n",
      "Wall time: 3.56 s\n"
     ]
    },
    {
     "data": {
      "text/plain": [
       "0.14454"
      ]
     },
     "execution_count": 23,
     "metadata": {},
     "output_type": "execute_result"
    }
   ],
   "source": [
    "%time loss(10.0)"
   ]
  },
  {
   "cell_type": "markdown",
   "id": "9250a346-3fc8-49aa-9bf8-9dd06ba2d69e",
   "metadata": {},
   "source": [
    "You can use this loss function to define a grad function which works on the parameters of the loss function:"
   ]
  },
  {
   "cell_type": "code",
   "execution_count": 24,
   "id": "681cbec3-d0cb-4002-b756-58562ae3362a",
   "metadata": {
    "execution": {
     "iopub.execute_input": "2022-03-01T18:43:30.401860Z",
     "iopub.status.busy": "2022-03-01T18:43:30.401547Z",
     "iopub.status.idle": "2022-03-01T18:43:30.405953Z",
     "shell.execute_reply": "2022-03-01T18:43:30.405358Z"
    }
   },
   "outputs": [],
   "source": [
    "grad = jax.jit(\n",
    "    jax.grad(\n",
    "        loss,\n",
    "        argnums=0,  # JAX gradient function for the first positional argument, jitted\n",
    "    )\n",
    ")"
   ]
  },
  {
   "cell_type": "markdown",
   "id": "4f2fc61b-b946-4ffd-893f-428ec9764b10",
   "metadata": {},
   "source": [
    "Next, you need to define a JAX optimizer, which on its own is nothing more than three more functions:  \n",
    "\n",
    "1. an initialization function with which to initialize the optimizer state\n",
    "2. an update function which will update the optimizer state (and with it the model parameters). \n",
    "3. a function with the model parameters given the optimizer state."
   ]
  },
  {
   "cell_type": "code",
   "execution_count": 25,
   "id": "cfc972de-9f6d-45fd-9a31-30e98432e52a",
   "metadata": {
    "execution": {
     "iopub.execute_input": "2022-03-01T18:43:30.408493Z",
     "iopub.status.busy": "2022-03-01T18:43:30.408205Z",
     "iopub.status.idle": "2022-03-01T18:43:30.426019Z",
     "shell.execute_reply": "2022-03-01T18:43:30.425494Z"
    }
   },
   "outputs": [],
   "source": [
    "initial_delta_length = 10.0\n",
    "optim_init, optim_update, optim_params = opt.adam(step_size=0.1)\n",
    "optim_state = optim_init(initial_delta_length)"
   ]
  },
  {
   "cell_type": "code",
   "execution_count": 26,
   "id": "bbf6243e-25b6-43ae-abd0-9911846fd282",
   "metadata": {
    "execution": {
     "iopub.execute_input": "2022-03-01T18:43:30.429180Z",
     "iopub.status.busy": "2022-03-01T18:43:30.428642Z",
     "iopub.status.idle": "2022-03-01T18:43:30.433150Z",
     "shell.execute_reply": "2022-03-01T18:43:30.432617Z"
    }
   },
   "outputs": [],
   "source": [
    "def train_step(step, optim_state):\n",
    "    settings = optim_params(optim_state)\n",
    "    lossvalue = loss(settings)\n",
    "    gradvalue = grad(settings)\n",
    "    optim_state = optim_update(step, gradvalue, optim_state)\n",
    "    return lossvalue, optim_state"
   ]
  },
  {
   "cell_type": "code",
   "execution_count": 27,
   "id": "6427fb3e-defc-41ca-82cb-5692c6f504fc",
   "metadata": {
    "execution": {
     "iopub.execute_input": "2022-03-01T18:43:30.435917Z",
     "iopub.status.busy": "2022-03-01T18:43:30.435639Z",
     "iopub.status.idle": "2022-03-01T18:43:47.934520Z",
     "shell.execute_reply": "2022-03-01T18:43:47.933916Z"
    }
   },
   "outputs": [
    {
     "name": "stderr",
     "output_type": "stream",
     "text": [
      "\r",
      "  0%|          | 0/300 [00:00<?, ?it/s]"
     ]
    },
    {
     "name": "stderr",
     "output_type": "stream",
     "text": [
      "\r",
      "  0%|          | 0/300 [00:04<?, ?it/s, loss=0.144537]"
     ]
    },
    {
     "name": "stderr",
     "output_type": "stream",
     "text": [
      "\r",
      "  0%|          | 1/300 [00:04<21:57,  4.41s/it, loss=0.144537]"
     ]
    },
    {
     "name": "stderr",
     "output_type": "stream",
     "text": [
      "\r",
      "  0%|          | 1/300 [00:12<21:57,  4.41s/it, loss=0.008521]"
     ]
    },
    {
     "name": "stderr",
     "output_type": "stream",
     "text": [
      "\r",
      "  1%|          | 2/300 [00:12<31:29,  6.34s/it, loss=0.008521]"
     ]
    },
    {
     "name": "stderr",
     "output_type": "stream",
     "text": [
      "\r",
      "  1%|          | 2/300 [00:12<31:29,  6.34s/it, loss=0.095274]"
     ]
    },
    {
     "name": "stderr",
     "output_type": "stream",
     "text": [
      "\r",
      "  1%|          | 2/300 [00:12<31:29,  6.34s/it, loss=0.063922]"
     ]
    },
    {
     "name": "stderr",
     "output_type": "stream",
     "text": [
      "\r",
      "  1%|          | 2/300 [00:12<31:29,  6.34s/it, loss=0.007386]"
     ]
    },
    {
     "name": "stderr",
     "output_type": "stream",
     "text": [
      "\r",
      "  1%|          | 2/300 [00:12<31:29,  6.34s/it, loss=0.010611]"
     ]
    },
    {
     "name": "stderr",
     "output_type": "stream",
     "text": [
      "\r",
      "  1%|          | 2/300 [00:12<31:29,  6.34s/it, loss=0.044013]"
     ]
    },
    {
     "name": "stderr",
     "output_type": "stream",
     "text": [
      "\r",
      "  1%|          | 2/300 [00:12<31:29,  6.34s/it, loss=0.045545]"
     ]
    },
    {
     "name": "stderr",
     "output_type": "stream",
     "text": [
      "\r",
      "  1%|          | 2/300 [00:12<31:29,  6.34s/it, loss=0.019057]"
     ]
    },
    {
     "name": "stderr",
     "output_type": "stream",
     "text": [
      "\r",
      "  3%|▎         | 9/300 [00:12<04:32,  1.07it/s, loss=0.019057]"
     ]
    },
    {
     "name": "stderr",
     "output_type": "stream",
     "text": [
      "\r",
      "  3%|▎         | 9/300 [00:12<04:32,  1.07it/s, loss=0.000873]"
     ]
    },
    {
     "name": "stderr",
     "output_type": "stream",
     "text": [
      "\r",
      "  3%|▎         | 9/300 [00:12<04:32,  1.07it/s, loss=0.009007]"
     ]
    },
    {
     "name": "stderr",
     "output_type": "stream",
     "text": [
      "\r",
      "  3%|▎         | 9/300 [00:12<04:32,  1.07it/s, loss=0.025268]"
     ]
    },
    {
     "name": "stderr",
     "output_type": "stream",
     "text": [
      "\r",
      "  3%|▎         | 9/300 [00:12<04:32,  1.07it/s, loss=0.026025]"
     ]
    },
    {
     "name": "stderr",
     "output_type": "stream",
     "text": [
      "\r",
      "  3%|▎         | 9/300 [00:12<04:32,  1.07it/s, loss=0.012185]"
     ]
    },
    {
     "name": "stderr",
     "output_type": "stream",
     "text": [
      "\r",
      "  3%|▎         | 9/300 [00:12<04:32,  1.07it/s, loss=0.001130]"
     ]
    },
    {
     "name": "stderr",
     "output_type": "stream",
     "text": [
      "\r",
      "  5%|▌         | 15/300 [00:12<02:12,  2.15it/s, loss=0.001130]"
     ]
    },
    {
     "name": "stderr",
     "output_type": "stream",
     "text": [
      "\r",
      "  5%|▌         | 15/300 [00:12<02:12,  2.15it/s, loss=0.003934]"
     ]
    },
    {
     "name": "stderr",
     "output_type": "stream",
     "text": [
      "\r",
      "  5%|▌         | 15/300 [00:12<02:12,  2.15it/s, loss=0.013488]"
     ]
    },
    {
     "name": "stderr",
     "output_type": "stream",
     "text": [
      "\r",
      "  5%|▌         | 15/300 [00:12<02:12,  2.15it/s, loss=0.016100]"
     ]
    },
    {
     "name": "stderr",
     "output_type": "stream",
     "text": [
      "\r",
      "  5%|▌         | 15/300 [00:12<02:12,  2.15it/s, loss=0.009127]"
     ]
    },
    {
     "name": "stderr",
     "output_type": "stream",
     "text": [
      "\r",
      "  5%|▌         | 15/300 [00:12<02:12,  2.15it/s, loss=0.001556]"
     ]
    },
    {
     "name": "stderr",
     "output_type": "stream",
     "text": [
      "\r",
      "  5%|▌         | 15/300 [00:12<02:12,  2.15it/s, loss=0.001622]"
     ]
    },
    {
     "name": "stderr",
     "output_type": "stream",
     "text": [
      "\r",
      "  7%|▋         | 21/300 [00:12<01:17,  3.62it/s, loss=0.001622]"
     ]
    },
    {
     "name": "stderr",
     "output_type": "stream",
     "text": [
      "\r",
      "  7%|▋         | 21/300 [00:12<01:17,  3.62it/s, loss=0.007207]"
     ]
    },
    {
     "name": "stderr",
     "output_type": "stream",
     "text": [
      "\r",
      "  7%|▋         | 21/300 [00:12<01:17,  3.62it/s, loss=0.009955]"
     ]
    },
    {
     "name": "stderr",
     "output_type": "stream",
     "text": [
      "\r",
      "  7%|▋         | 21/300 [00:12<01:17,  3.62it/s, loss=0.006496]"
     ]
    },
    {
     "name": "stderr",
     "output_type": "stream",
     "text": [
      "\r",
      "  7%|▋         | 21/300 [00:12<01:17,  3.62it/s, loss=0.001547]"
     ]
    },
    {
     "name": "stderr",
     "output_type": "stream",
     "text": [
      "\r",
      "  7%|▋         | 21/300 [00:12<01:17,  3.62it/s, loss=0.000903]"
     ]
    },
    {
     "name": "stderr",
     "output_type": "stream",
     "text": [
      "\r",
      "  7%|▋         | 21/300 [00:12<01:17,  3.62it/s, loss=0.004184]"
     ]
    },
    {
     "name": "stderr",
     "output_type": "stream",
     "text": [
      "\r",
      "  9%|▉         | 27/300 [00:12<00:48,  5.59it/s, loss=0.004184]"
     ]
    },
    {
     "name": "stderr",
     "output_type": "stream",
     "text": [
      "\r",
      "  9%|▉         | 27/300 [00:12<00:48,  5.59it/s, loss=0.006213]"
     ]
    },
    {
     "name": "stderr",
     "output_type": "stream",
     "text": [
      "\r",
      "  9%|▉         | 27/300 [00:12<00:48,  5.59it/s, loss=0.004298]"
     ]
    },
    {
     "name": "stderr",
     "output_type": "stream",
     "text": [
      "\r",
      "  9%|▉         | 27/300 [00:12<00:48,  5.59it/s, loss=0.001191]"
     ]
    },
    {
     "name": "stderr",
     "output_type": "stream",
     "text": [
      "\r",
      "  9%|▉         | 27/300 [00:12<00:48,  5.59it/s, loss=0.000741]"
     ]
    },
    {
     "name": "stderr",
     "output_type": "stream",
     "text": [
      "\r",
      "  9%|▉         | 27/300 [00:12<00:48,  5.59it/s, loss=0.002797]"
     ]
    },
    {
     "name": "stderr",
     "output_type": "stream",
     "text": [
      "\r",
      "  9%|▉         | 27/300 [00:12<00:48,  5.59it/s, loss=0.003993]"
     ]
    },
    {
     "name": "stderr",
     "output_type": "stream",
     "text": [
      "\r",
      " 11%|█         | 33/300 [00:12<00:32,  8.17it/s, loss=0.003993]"
     ]
    },
    {
     "name": "stderr",
     "output_type": "stream",
     "text": [
      "\r",
      " 11%|█         | 33/300 [00:12<00:32,  8.17it/s, loss=0.002671]"
     ]
    },
    {
     "name": "stderr",
     "output_type": "stream",
     "text": [
      "\r",
      " 11%|█         | 33/300 [00:12<00:32,  8.17it/s, loss=0.000793]"
     ]
    },
    {
     "name": "stderr",
     "output_type": "stream",
     "text": [
      "\r",
      " 11%|█         | 33/300 [00:12<00:32,  8.17it/s, loss=0.000765]"
     ]
    },
    {
     "name": "stderr",
     "output_type": "stream",
     "text": [
      "\r",
      " 11%|█         | 33/300 [00:12<00:32,  8.17it/s, loss=0.002130]"
     ]
    },
    {
     "name": "stderr",
     "output_type": "stream",
     "text": [
      "\r",
      " 11%|█         | 33/300 [00:12<00:32,  8.17it/s, loss=0.002621]"
     ]
    },
    {
     "name": "stderr",
     "output_type": "stream",
     "text": [
      "\r",
      " 11%|█         | 33/300 [00:12<00:32,  8.17it/s, loss=0.001561]"
     ]
    },
    {
     "name": "stderr",
     "output_type": "stream",
     "text": [
      "\r",
      " 13%|█▎        | 39/300 [00:12<00:22, 11.43it/s, loss=0.001561]"
     ]
    },
    {
     "name": "stderr",
     "output_type": "stream",
     "text": [
      "\r",
      " 13%|█▎        | 39/300 [00:12<00:22, 11.43it/s, loss=0.000547]"
     ]
    },
    {
     "name": "stderr",
     "output_type": "stream",
     "text": [
      "\r",
      " 13%|█▎        | 39/300 [00:12<00:22, 11.43it/s, loss=0.000864]"
     ]
    },
    {
     "name": "stderr",
     "output_type": "stream",
     "text": [
      "\r",
      " 13%|█▎        | 39/300 [00:12<00:22, 11.43it/s, loss=0.001721]"
     ]
    },
    {
     "name": "stderr",
     "output_type": "stream",
     "text": [
      "\r",
      " 13%|█▎        | 39/300 [00:12<00:22, 11.43it/s, loss=0.001694]"
     ]
    },
    {
     "name": "stderr",
     "output_type": "stream",
     "text": [
      "\r",
      " 13%|█▎        | 39/300 [00:12<00:22, 11.43it/s, loss=0.000878]"
     ]
    },
    {
     "name": "stderr",
     "output_type": "stream",
     "text": [
      "\r",
      " 13%|█▎        | 39/300 [00:12<00:22, 11.43it/s, loss=0.000504]"
     ]
    },
    {
     "name": "stderr",
     "output_type": "stream",
     "text": [
      "\r",
      " 15%|█▌        | 45/300 [00:12<00:16, 15.35it/s, loss=0.000504]"
     ]
    },
    {
     "name": "stderr",
     "output_type": "stream",
     "text": [
      "\r",
      " 15%|█▌        | 45/300 [00:12<00:16, 15.35it/s, loss=0.000963]"
     ]
    },
    {
     "name": "stderr",
     "output_type": "stream",
     "text": [
      "\r",
      " 15%|█▌        | 45/300 [00:12<00:16, 15.35it/s, loss=0.001359]"
     ]
    },
    {
     "name": "stderr",
     "output_type": "stream",
     "text": [
      "\r",
      " 15%|█▌        | 45/300 [00:12<00:16, 15.35it/s, loss=0.001044]"
     ]
    },
    {
     "name": "stderr",
     "output_type": "stream",
     "text": [
      "\r",
      " 15%|█▌        | 45/300 [00:12<00:16, 15.35it/s, loss=0.000553]"
     ]
    },
    {
     "name": "stderr",
     "output_type": "stream",
     "text": [
      "\r",
      " 15%|█▌        | 45/300 [00:12<00:16, 15.35it/s, loss=0.000604]"
     ]
    },
    {
     "name": "stderr",
     "output_type": "stream",
     "text": [
      "\r",
      " 15%|█▌        | 45/300 [00:12<00:16, 15.35it/s, loss=0.000974]"
     ]
    },
    {
     "name": "stderr",
     "output_type": "stream",
     "text": [
      "\r",
      " 17%|█▋        | 51/300 [00:12<00:12, 19.83it/s, loss=0.000974]"
     ]
    },
    {
     "name": "stderr",
     "output_type": "stream",
     "text": [
      "\r",
      " 17%|█▋        | 51/300 [00:12<00:12, 19.83it/s, loss=0.000990]"
     ]
    },
    {
     "name": "stderr",
     "output_type": "stream",
     "text": [
      "\r",
      " 17%|█▋        | 51/300 [00:12<00:12, 19.83it/s, loss=0.000646]"
     ]
    },
    {
     "name": "stderr",
     "output_type": "stream",
     "text": [
      "\r",
      " 17%|█▋        | 51/300 [00:13<00:12, 19.83it/s, loss=0.000504]"
     ]
    },
    {
     "name": "stderr",
     "output_type": "stream",
     "text": [
      "\r",
      " 17%|█▋        | 51/300 [00:13<00:12, 19.83it/s, loss=0.000717]"
     ]
    },
    {
     "name": "stderr",
     "output_type": "stream",
     "text": [
      "\r",
      " 17%|█▋        | 51/300 [00:13<00:12, 19.83it/s, loss=0.000851]"
     ]
    },
    {
     "name": "stderr",
     "output_type": "stream",
     "text": [
      "\r",
      " 17%|█▋        | 51/300 [00:13<00:12, 19.83it/s, loss=0.000676]"
     ]
    },
    {
     "name": "stderr",
     "output_type": "stream",
     "text": [
      "\r",
      " 19%|█▉        | 57/300 [00:13<00:09, 24.72it/s, loss=0.000676]"
     ]
    },
    {
     "name": "stderr",
     "output_type": "stream",
     "text": [
      "\r",
      " 19%|█▉        | 57/300 [00:13<00:09, 24.72it/s, loss=0.000501]"
     ]
    },
    {
     "name": "stderr",
     "output_type": "stream",
     "text": [
      "\r",
      " 19%|█▉        | 57/300 [00:13<00:09, 24.72it/s, loss=0.000586]"
     ]
    },
    {
     "name": "stderr",
     "output_type": "stream",
     "text": [
      "\r",
      " 19%|█▉        | 57/300 [00:13<00:09, 24.72it/s, loss=0.000724]"
     ]
    },
    {
     "name": "stderr",
     "output_type": "stream",
     "text": [
      "\r",
      " 19%|█▉        | 57/300 [00:13<00:09, 24.72it/s, loss=0.000657]"
     ]
    },
    {
     "name": "stderr",
     "output_type": "stream",
     "text": [
      "\r",
      " 19%|█▉        | 57/300 [00:13<00:09, 24.72it/s, loss=0.000514]"
     ]
    },
    {
     "name": "stderr",
     "output_type": "stream",
     "text": [
      "\r",
      " 19%|█▉        | 57/300 [00:13<00:09, 24.72it/s, loss=0.000530]"
     ]
    },
    {
     "name": "stderr",
     "output_type": "stream",
     "text": [
      "\r",
      " 21%|██        | 63/300 [00:13<00:07, 29.70it/s, loss=0.000530]"
     ]
    },
    {
     "name": "stderr",
     "output_type": "stream",
     "text": [
      "\r",
      " 21%|██        | 63/300 [00:13<00:07, 29.70it/s, loss=0.000635]"
     ]
    },
    {
     "name": "stderr",
     "output_type": "stream",
     "text": [
      "\r",
      " 21%|██        | 63/300 [00:13<00:07, 29.70it/s, loss=0.000621]"
     ]
    },
    {
     "name": "stderr",
     "output_type": "stream",
     "text": [
      "\r",
      " 21%|██        | 63/300 [00:13<00:07, 29.70it/s, loss=0.000520]"
     ]
    },
    {
     "name": "stderr",
     "output_type": "stream",
     "text": [
      "\r",
      " 21%|██        | 63/300 [00:13<00:07, 29.70it/s, loss=0.000509]"
     ]
    },
    {
     "name": "stderr",
     "output_type": "stream",
     "text": [
      "\r",
      " 21%|██        | 63/300 [00:13<00:07, 29.70it/s, loss=0.000580]"
     ]
    },
    {
     "name": "stderr",
     "output_type": "stream",
     "text": [
      "\r",
      " 21%|██        | 63/300 [00:13<00:07, 29.70it/s, loss=0.000585]"
     ]
    },
    {
     "name": "stderr",
     "output_type": "stream",
     "text": [
      "\r",
      " 23%|██▎       | 69/300 [00:13<00:06, 34.78it/s, loss=0.000585]"
     ]
    },
    {
     "name": "stderr",
     "output_type": "stream",
     "text": [
      "\r",
      " 23%|██▎       | 69/300 [00:13<00:06, 34.78it/s, loss=0.000519]"
     ]
    },
    {
     "name": "stderr",
     "output_type": "stream",
     "text": [
      "\r",
      " 23%|██▎       | 69/300 [00:13<00:06, 34.78it/s, loss=0.000502]"
     ]
    },
    {
     "name": "stderr",
     "output_type": "stream",
     "text": [
      "\r",
      " 23%|██▎       | 69/300 [00:13<00:06, 34.78it/s, loss=0.000549]"
     ]
    },
    {
     "name": "stderr",
     "output_type": "stream",
     "text": [
      "\r",
      " 23%|██▎       | 69/300 [00:13<00:06, 34.78it/s, loss=0.000558]"
     ]
    },
    {
     "name": "stderr",
     "output_type": "stream",
     "text": [
      "\r",
      " 23%|██▎       | 69/300 [00:13<00:06, 34.78it/s, loss=0.000513]"
     ]
    },
    {
     "name": "stderr",
     "output_type": "stream",
     "text": [
      "\r",
      " 23%|██▎       | 69/300 [00:13<00:06, 34.78it/s, loss=0.000500]"
     ]
    },
    {
     "name": "stderr",
     "output_type": "stream",
     "text": [
      "\r",
      " 25%|██▌       | 75/300 [00:13<00:05, 39.21it/s, loss=0.000500]"
     ]
    },
    {
     "name": "stderr",
     "output_type": "stream",
     "text": [
      "\r",
      " 25%|██▌       | 75/300 [00:13<00:05, 39.21it/s, loss=0.000531]"
     ]
    },
    {
     "name": "stderr",
     "output_type": "stream",
     "text": [
      "\r",
      " 25%|██▌       | 75/300 [00:13<00:05, 39.21it/s, loss=0.000537]"
     ]
    },
    {
     "name": "stderr",
     "output_type": "stream",
     "text": [
      "\r",
      " 25%|██▌       | 75/300 [00:13<00:05, 39.21it/s, loss=0.000508]"
     ]
    },
    {
     "name": "stderr",
     "output_type": "stream",
     "text": [
      "\r",
      " 25%|██▌       | 75/300 [00:13<00:05, 39.21it/s, loss=0.000499]"
     ]
    },
    {
     "name": "stderr",
     "output_type": "stream",
     "text": [
      "\r",
      " 25%|██▌       | 75/300 [00:13<00:05, 39.21it/s, loss=0.000520]"
     ]
    },
    {
     "name": "stderr",
     "output_type": "stream",
     "text": [
      "\r",
      " 25%|██▌       | 75/300 [00:13<00:05, 39.21it/s, loss=0.000523]"
     ]
    },
    {
     "name": "stderr",
     "output_type": "stream",
     "text": [
      "\r",
      " 27%|██▋       | 81/300 [00:13<00:05, 43.25it/s, loss=0.000523]"
     ]
    },
    {
     "name": "stderr",
     "output_type": "stream",
     "text": [
      "\r",
      " 27%|██▋       | 81/300 [00:13<00:05, 43.25it/s, loss=0.000503]"
     ]
    },
    {
     "name": "stderr",
     "output_type": "stream",
     "text": [
      "\r",
      " 27%|██▋       | 81/300 [00:13<00:05, 43.25it/s, loss=0.000499]"
     ]
    },
    {
     "name": "stderr",
     "output_type": "stream",
     "text": [
      "\r",
      " 27%|██▋       | 81/300 [00:13<00:05, 43.25it/s, loss=0.000514]"
     ]
    },
    {
     "name": "stderr",
     "output_type": "stream",
     "text": [
      "\r",
      " 27%|██▋       | 81/300 [00:13<00:05, 43.25it/s, loss=0.000514]"
     ]
    },
    {
     "name": "stderr",
     "output_type": "stream",
     "text": [
      "\r",
      " 27%|██▋       | 81/300 [00:13<00:05, 43.25it/s, loss=0.000500]"
     ]
    },
    {
     "name": "stderr",
     "output_type": "stream",
     "text": [
      "\r",
      " 27%|██▋       | 81/300 [00:13<00:05, 43.25it/s, loss=0.000499]"
     ]
    },
    {
     "name": "stderr",
     "output_type": "stream",
     "text": [
      "\r",
      " 29%|██▉       | 87/300 [00:13<00:04, 46.37it/s, loss=0.000499]"
     ]
    },
    {
     "name": "stderr",
     "output_type": "stream",
     "text": [
      "\r",
      " 29%|██▉       | 87/300 [00:13<00:04, 46.37it/s, loss=0.000509]"
     ]
    },
    {
     "name": "stderr",
     "output_type": "stream",
     "text": [
      "\r",
      " 29%|██▉       | 87/300 [00:13<00:04, 46.37it/s, loss=0.000507]"
     ]
    },
    {
     "name": "stderr",
     "output_type": "stream",
     "text": [
      "\r",
      " 29%|██▉       | 87/300 [00:13<00:04, 46.37it/s, loss=0.000498]"
     ]
    },
    {
     "name": "stderr",
     "output_type": "stream",
     "text": [
      "\r",
      " 29%|██▉       | 87/300 [00:13<00:04, 46.37it/s, loss=0.000500]"
     ]
    },
    {
     "name": "stderr",
     "output_type": "stream",
     "text": [
      "\r",
      " 29%|██▉       | 87/300 [00:13<00:04, 46.37it/s, loss=0.000506]"
     ]
    },
    {
     "name": "stderr",
     "output_type": "stream",
     "text": [
      "\r",
      " 29%|██▉       | 87/300 [00:13<00:04, 46.37it/s, loss=0.000502]"
     ]
    },
    {
     "name": "stderr",
     "output_type": "stream",
     "text": [
      "\r",
      " 31%|███       | 93/300 [00:13<00:04, 48.57it/s, loss=0.000502]"
     ]
    },
    {
     "name": "stderr",
     "output_type": "stream",
     "text": [
      "\r",
      " 31%|███       | 93/300 [00:13<00:04, 48.57it/s, loss=0.000497]"
     ]
    },
    {
     "name": "stderr",
     "output_type": "stream",
     "text": [
      "\r",
      " 31%|███       | 93/300 [00:13<00:04, 48.57it/s, loss=0.000500]"
     ]
    },
    {
     "name": "stderr",
     "output_type": "stream",
     "text": [
      "\r",
      " 31%|███       | 93/300 [00:13<00:04, 48.57it/s, loss=0.000503]"
     ]
    },
    {
     "name": "stderr",
     "output_type": "stream",
     "text": [
      "\r",
      " 31%|███       | 93/300 [00:13<00:04, 48.57it/s, loss=0.000499]"
     ]
    },
    {
     "name": "stderr",
     "output_type": "stream",
     "text": [
      "\r",
      " 31%|███       | 93/300 [00:13<00:04, 48.57it/s, loss=0.000497]"
     ]
    },
    {
     "name": "stderr",
     "output_type": "stream",
     "text": [
      "\r",
      " 31%|███       | 93/300 [00:13<00:04, 48.57it/s, loss=0.000500]"
     ]
    },
    {
     "name": "stderr",
     "output_type": "stream",
     "text": [
      "\r",
      " 33%|███▎      | 99/300 [00:13<00:03, 50.46it/s, loss=0.000500]"
     ]
    },
    {
     "name": "stderr",
     "output_type": "stream",
     "text": [
      "\r",
      " 33%|███▎      | 99/300 [00:13<00:03, 50.46it/s, loss=0.000501]"
     ]
    },
    {
     "name": "stderr",
     "output_type": "stream",
     "text": [
      "\r",
      " 33%|███▎      | 99/300 [00:13<00:03, 50.46it/s, loss=0.000498]"
     ]
    },
    {
     "name": "stderr",
     "output_type": "stream",
     "text": [
      "\r",
      " 33%|███▎      | 99/300 [00:13<00:03, 50.46it/s, loss=0.000497]"
     ]
    },
    {
     "name": "stderr",
     "output_type": "stream",
     "text": [
      "\r",
      " 33%|███▎      | 99/300 [00:13<00:03, 50.46it/s, loss=0.000500]"
     ]
    },
    {
     "name": "stderr",
     "output_type": "stream",
     "text": [
      "\r",
      " 33%|███▎      | 99/300 [00:13<00:03, 50.46it/s, loss=0.000499]"
     ]
    },
    {
     "name": "stderr",
     "output_type": "stream",
     "text": [
      "\r",
      " 33%|███▎      | 99/300 [00:13<00:03, 50.46it/s, loss=0.000497]"
     ]
    },
    {
     "name": "stderr",
     "output_type": "stream",
     "text": [
      "\r",
      " 35%|███▌      | 105/300 [00:13<00:03, 52.07it/s, loss=0.000497]"
     ]
    },
    {
     "name": "stderr",
     "output_type": "stream",
     "text": [
      "\r",
      " 35%|███▌      | 105/300 [00:13<00:03, 52.07it/s, loss=0.000498]"
     ]
    },
    {
     "name": "stderr",
     "output_type": "stream",
     "text": [
      "\r",
      " 35%|███▌      | 105/300 [00:13<00:03, 52.07it/s, loss=0.000499]"
     ]
    },
    {
     "name": "stderr",
     "output_type": "stream",
     "text": [
      "\r",
      " 35%|███▌      | 105/300 [00:13<00:03, 52.07it/s, loss=0.000498]"
     ]
    },
    {
     "name": "stderr",
     "output_type": "stream",
     "text": [
      "\r",
      " 35%|███▌      | 105/300 [00:13<00:03, 52.07it/s, loss=0.000497]"
     ]
    },
    {
     "name": "stderr",
     "output_type": "stream",
     "text": [
      "\r",
      " 35%|███▌      | 105/300 [00:14<00:03, 52.07it/s, loss=0.000498]"
     ]
    },
    {
     "name": "stderr",
     "output_type": "stream",
     "text": [
      "\r",
      " 35%|███▌      | 105/300 [00:14<00:03, 52.07it/s, loss=0.000498]"
     ]
    },
    {
     "name": "stderr",
     "output_type": "stream",
     "text": [
      "\r",
      " 37%|███▋      | 111/300 [00:14<00:03, 52.91it/s, loss=0.000498]"
     ]
    },
    {
     "name": "stderr",
     "output_type": "stream",
     "text": [
      "\r",
      " 37%|███▋      | 111/300 [00:14<00:03, 52.91it/s, loss=0.000497]"
     ]
    },
    {
     "name": "stderr",
     "output_type": "stream",
     "text": [
      "\r",
      " 37%|███▋      | 111/300 [00:14<00:03, 52.91it/s, loss=0.000497]"
     ]
    },
    {
     "name": "stderr",
     "output_type": "stream",
     "text": [
      "\r",
      " 37%|███▋      | 111/300 [00:14<00:03, 52.91it/s, loss=0.000498]"
     ]
    },
    {
     "name": "stderr",
     "output_type": "stream",
     "text": [
      "\r",
      " 37%|███▋      | 111/300 [00:14<00:03, 52.91it/s, loss=0.000497]"
     ]
    },
    {
     "name": "stderr",
     "output_type": "stream",
     "text": [
      "\r",
      " 37%|███▋      | 111/300 [00:14<00:03, 52.91it/s, loss=0.000497]"
     ]
    },
    {
     "name": "stderr",
     "output_type": "stream",
     "text": [
      "\r",
      " 37%|███▋      | 111/300 [00:14<00:03, 52.91it/s, loss=0.000497]"
     ]
    },
    {
     "name": "stderr",
     "output_type": "stream",
     "text": [
      "\r",
      " 39%|███▉      | 117/300 [00:14<00:03, 53.48it/s, loss=0.000497]"
     ]
    },
    {
     "name": "stderr",
     "output_type": "stream",
     "text": [
      "\r",
      " 39%|███▉      | 117/300 [00:14<00:03, 53.48it/s, loss=0.000498]"
     ]
    },
    {
     "name": "stderr",
     "output_type": "stream",
     "text": [
      "\r",
      " 39%|███▉      | 117/300 [00:14<00:03, 53.48it/s, loss=0.000497]"
     ]
    },
    {
     "name": "stderr",
     "output_type": "stream",
     "text": [
      "\r",
      " 39%|███▉      | 117/300 [00:14<00:03, 53.48it/s, loss=0.000497]"
     ]
    },
    {
     "name": "stderr",
     "output_type": "stream",
     "text": [
      "\r",
      " 39%|███▉      | 117/300 [00:14<00:03, 53.48it/s, loss=0.000497]"
     ]
    },
    {
     "name": "stderr",
     "output_type": "stream",
     "text": [
      "\r",
      " 39%|███▉      | 117/300 [00:14<00:03, 53.48it/s, loss=0.000497]"
     ]
    },
    {
     "name": "stderr",
     "output_type": "stream",
     "text": [
      "\r",
      " 39%|███▉      | 117/300 [00:14<00:03, 53.48it/s, loss=0.000497]"
     ]
    },
    {
     "name": "stderr",
     "output_type": "stream",
     "text": [
      "\r",
      " 41%|████      | 123/300 [00:14<00:03, 53.68it/s, loss=0.000497]"
     ]
    },
    {
     "name": "stderr",
     "output_type": "stream",
     "text": [
      "\r",
      " 41%|████      | 123/300 [00:14<00:03, 53.68it/s, loss=0.000497]"
     ]
    },
    {
     "name": "stderr",
     "output_type": "stream",
     "text": [
      "\r",
      " 41%|████      | 123/300 [00:14<00:03, 53.68it/s, loss=0.000497]"
     ]
    },
    {
     "name": "stderr",
     "output_type": "stream",
     "text": [
      "\r",
      " 41%|████      | 123/300 [00:14<00:03, 53.68it/s, loss=0.000497]"
     ]
    },
    {
     "name": "stderr",
     "output_type": "stream",
     "text": [
      "\r",
      " 41%|████      | 123/300 [00:14<00:03, 53.68it/s, loss=0.000497]"
     ]
    },
    {
     "name": "stderr",
     "output_type": "stream",
     "text": [
      "\r",
      " 41%|████      | 123/300 [00:14<00:03, 53.68it/s, loss=0.000497]"
     ]
    },
    {
     "name": "stderr",
     "output_type": "stream",
     "text": [
      "\r",
      " 41%|████      | 123/300 [00:14<00:03, 53.68it/s, loss=0.000497]"
     ]
    },
    {
     "name": "stderr",
     "output_type": "stream",
     "text": [
      "\r",
      " 43%|████▎     | 129/300 [00:14<00:03, 53.83it/s, loss=0.000497]"
     ]
    },
    {
     "name": "stderr",
     "output_type": "stream",
     "text": [
      "\r",
      " 43%|████▎     | 129/300 [00:14<00:03, 53.83it/s, loss=0.000497]"
     ]
    },
    {
     "name": "stderr",
     "output_type": "stream",
     "text": [
      "\r",
      " 43%|████▎     | 129/300 [00:14<00:03, 53.83it/s, loss=0.000497]"
     ]
    },
    {
     "name": "stderr",
     "output_type": "stream",
     "text": [
      "\r",
      " 43%|████▎     | 129/300 [00:14<00:03, 53.83it/s, loss=0.000497]"
     ]
    },
    {
     "name": "stderr",
     "output_type": "stream",
     "text": [
      "\r",
      " 43%|████▎     | 129/300 [00:14<00:03, 53.83it/s, loss=0.000497]"
     ]
    },
    {
     "name": "stderr",
     "output_type": "stream",
     "text": [
      "\r",
      " 43%|████▎     | 129/300 [00:14<00:03, 53.83it/s, loss=0.000497]"
     ]
    },
    {
     "name": "stderr",
     "output_type": "stream",
     "text": [
      "\r",
      " 43%|████▎     | 129/300 [00:14<00:03, 53.83it/s, loss=0.000497]"
     ]
    },
    {
     "name": "stderr",
     "output_type": "stream",
     "text": [
      "\r",
      " 45%|████▌     | 135/300 [00:14<00:03, 54.42it/s, loss=0.000497]"
     ]
    },
    {
     "name": "stderr",
     "output_type": "stream",
     "text": [
      "\r",
      " 45%|████▌     | 135/300 [00:14<00:03, 54.42it/s, loss=0.000497]"
     ]
    },
    {
     "name": "stderr",
     "output_type": "stream",
     "text": [
      "\r",
      " 45%|████▌     | 135/300 [00:14<00:03, 54.42it/s, loss=0.000497]"
     ]
    },
    {
     "name": "stderr",
     "output_type": "stream",
     "text": [
      "\r",
      " 45%|████▌     | 135/300 [00:14<00:03, 54.42it/s, loss=0.000497]"
     ]
    },
    {
     "name": "stderr",
     "output_type": "stream",
     "text": [
      "\r",
      " 45%|████▌     | 135/300 [00:14<00:03, 54.42it/s, loss=0.000497]"
     ]
    },
    {
     "name": "stderr",
     "output_type": "stream",
     "text": [
      "\r",
      " 45%|████▌     | 135/300 [00:14<00:03, 54.42it/s, loss=0.000497]"
     ]
    },
    {
     "name": "stderr",
     "output_type": "stream",
     "text": [
      "\r",
      " 45%|████▌     | 135/300 [00:14<00:03, 54.42it/s, loss=0.000497]"
     ]
    },
    {
     "name": "stderr",
     "output_type": "stream",
     "text": [
      "\r",
      " 47%|████▋     | 141/300 [00:14<00:02, 53.29it/s, loss=0.000497]"
     ]
    },
    {
     "name": "stderr",
     "output_type": "stream",
     "text": [
      "\r",
      " 47%|████▋     | 141/300 [00:14<00:02, 53.29it/s, loss=0.000497]"
     ]
    },
    {
     "name": "stderr",
     "output_type": "stream",
     "text": [
      "\r",
      " 47%|████▋     | 141/300 [00:14<00:02, 53.29it/s, loss=0.000497]"
     ]
    },
    {
     "name": "stderr",
     "output_type": "stream",
     "text": [
      "\r",
      " 47%|████▋     | 141/300 [00:14<00:02, 53.29it/s, loss=0.000497]"
     ]
    },
    {
     "name": "stderr",
     "output_type": "stream",
     "text": [
      "\r",
      " 47%|████▋     | 141/300 [00:14<00:02, 53.29it/s, loss=0.000497]"
     ]
    },
    {
     "name": "stderr",
     "output_type": "stream",
     "text": [
      "\r",
      " 47%|████▋     | 141/300 [00:14<00:02, 53.29it/s, loss=0.000497]"
     ]
    },
    {
     "name": "stderr",
     "output_type": "stream",
     "text": [
      "\r",
      " 47%|████▋     | 141/300 [00:14<00:02, 53.29it/s, loss=0.000497]"
     ]
    },
    {
     "name": "stderr",
     "output_type": "stream",
     "text": [
      "\r",
      " 49%|████▉     | 147/300 [00:14<00:02, 53.46it/s, loss=0.000497]"
     ]
    },
    {
     "name": "stderr",
     "output_type": "stream",
     "text": [
      "\r",
      " 49%|████▉     | 147/300 [00:14<00:02, 53.46it/s, loss=0.000497]"
     ]
    },
    {
     "name": "stderr",
     "output_type": "stream",
     "text": [
      "\r",
      " 49%|████▉     | 147/300 [00:14<00:02, 53.46it/s, loss=0.000497]"
     ]
    },
    {
     "name": "stderr",
     "output_type": "stream",
     "text": [
      "\r",
      " 49%|████▉     | 147/300 [00:14<00:02, 53.46it/s, loss=0.000497]"
     ]
    },
    {
     "name": "stderr",
     "output_type": "stream",
     "text": [
      "\r",
      " 49%|████▉     | 147/300 [00:14<00:02, 53.46it/s, loss=0.000497]"
     ]
    },
    {
     "name": "stderr",
     "output_type": "stream",
     "text": [
      "\r",
      " 49%|████▉     | 147/300 [00:14<00:02, 53.46it/s, loss=0.000497]"
     ]
    },
    {
     "name": "stderr",
     "output_type": "stream",
     "text": [
      "\r",
      " 49%|████▉     | 147/300 [00:14<00:02, 53.46it/s, loss=0.000497]"
     ]
    },
    {
     "name": "stderr",
     "output_type": "stream",
     "text": [
      "\r",
      " 51%|█████     | 153/300 [00:14<00:02, 53.82it/s, loss=0.000497]"
     ]
    },
    {
     "name": "stderr",
     "output_type": "stream",
     "text": [
      "\r",
      " 51%|█████     | 153/300 [00:14<00:02, 53.82it/s, loss=0.000497]"
     ]
    },
    {
     "name": "stderr",
     "output_type": "stream",
     "text": [
      "\r",
      " 51%|█████     | 153/300 [00:14<00:02, 53.82it/s, loss=0.000497]"
     ]
    },
    {
     "name": "stderr",
     "output_type": "stream",
     "text": [
      "\r",
      " 51%|█████     | 153/300 [00:14<00:02, 53.82it/s, loss=0.000497]"
     ]
    },
    {
     "name": "stderr",
     "output_type": "stream",
     "text": [
      "\r",
      " 51%|█████     | 153/300 [00:14<00:02, 53.82it/s, loss=0.000497]"
     ]
    },
    {
     "name": "stderr",
     "output_type": "stream",
     "text": [
      "\r",
      " 51%|█████     | 153/300 [00:14<00:02, 53.82it/s, loss=0.000497]"
     ]
    },
    {
     "name": "stderr",
     "output_type": "stream",
     "text": [
      "\r",
      " 51%|█████     | 153/300 [00:14<00:02, 53.82it/s, loss=0.000497]"
     ]
    },
    {
     "name": "stderr",
     "output_type": "stream",
     "text": [
      "\r",
      " 53%|█████▎    | 159/300 [00:14<00:02, 53.23it/s, loss=0.000497]"
     ]
    },
    {
     "name": "stderr",
     "output_type": "stream",
     "text": [
      "\r",
      " 53%|█████▎    | 159/300 [00:14<00:02, 53.23it/s, loss=0.000497]"
     ]
    },
    {
     "name": "stderr",
     "output_type": "stream",
     "text": [
      "\r",
      " 53%|█████▎    | 159/300 [00:14<00:02, 53.23it/s, loss=0.000497]"
     ]
    },
    {
     "name": "stderr",
     "output_type": "stream",
     "text": [
      "\r",
      " 53%|█████▎    | 159/300 [00:14<00:02, 53.23it/s, loss=0.000497]"
     ]
    },
    {
     "name": "stderr",
     "output_type": "stream",
     "text": [
      "\r",
      " 53%|█████▎    | 159/300 [00:15<00:02, 53.23it/s, loss=0.000497]"
     ]
    },
    {
     "name": "stderr",
     "output_type": "stream",
     "text": [
      "\r",
      " 53%|█████▎    | 159/300 [00:15<00:02, 53.23it/s, loss=0.000497]"
     ]
    },
    {
     "name": "stderr",
     "output_type": "stream",
     "text": [
      "\r",
      " 53%|█████▎    | 159/300 [00:15<00:02, 53.23it/s, loss=0.000497]"
     ]
    },
    {
     "name": "stderr",
     "output_type": "stream",
     "text": [
      "\r",
      " 55%|█████▌    | 165/300 [00:15<00:02, 53.18it/s, loss=0.000497]"
     ]
    },
    {
     "name": "stderr",
     "output_type": "stream",
     "text": [
      "\r",
      " 55%|█████▌    | 165/300 [00:15<00:02, 53.18it/s, loss=0.000497]"
     ]
    },
    {
     "name": "stderr",
     "output_type": "stream",
     "text": [
      "\r",
      " 55%|█████▌    | 165/300 [00:15<00:02, 53.18it/s, loss=0.000497]"
     ]
    },
    {
     "name": "stderr",
     "output_type": "stream",
     "text": [
      "\r",
      " 55%|█████▌    | 165/300 [00:15<00:02, 53.18it/s, loss=0.000497]"
     ]
    },
    {
     "name": "stderr",
     "output_type": "stream",
     "text": [
      "\r",
      " 55%|█████▌    | 165/300 [00:15<00:02, 53.18it/s, loss=0.000497]"
     ]
    },
    {
     "name": "stderr",
     "output_type": "stream",
     "text": [
      "\r",
      " 55%|█████▌    | 165/300 [00:15<00:02, 53.18it/s, loss=0.000497]"
     ]
    },
    {
     "name": "stderr",
     "output_type": "stream",
     "text": [
      "\r",
      " 55%|█████▌    | 165/300 [00:15<00:02, 53.18it/s, loss=0.000497]"
     ]
    },
    {
     "name": "stderr",
     "output_type": "stream",
     "text": [
      "\r",
      " 57%|█████▋    | 171/300 [00:15<00:02, 53.45it/s, loss=0.000497]"
     ]
    },
    {
     "name": "stderr",
     "output_type": "stream",
     "text": [
      "\r",
      " 57%|█████▋    | 171/300 [00:15<00:02, 53.45it/s, loss=0.000497]"
     ]
    },
    {
     "name": "stderr",
     "output_type": "stream",
     "text": [
      "\r",
      " 57%|█████▋    | 171/300 [00:15<00:02, 53.45it/s, loss=0.000497]"
     ]
    },
    {
     "name": "stderr",
     "output_type": "stream",
     "text": [
      "\r",
      " 57%|█████▋    | 171/300 [00:15<00:02, 53.45it/s, loss=0.000497]"
     ]
    },
    {
     "name": "stderr",
     "output_type": "stream",
     "text": [
      "\r",
      " 57%|█████▋    | 171/300 [00:15<00:02, 53.45it/s, loss=0.000497]"
     ]
    },
    {
     "name": "stderr",
     "output_type": "stream",
     "text": [
      "\r",
      " 57%|█████▋    | 171/300 [00:15<00:02, 53.45it/s, loss=0.000497]"
     ]
    },
    {
     "name": "stderr",
     "output_type": "stream",
     "text": [
      "\r",
      " 57%|█████▋    | 171/300 [00:15<00:02, 53.45it/s, loss=0.000497]"
     ]
    },
    {
     "name": "stderr",
     "output_type": "stream",
     "text": [
      "\r",
      " 59%|█████▉    | 177/300 [00:15<00:02, 53.95it/s, loss=0.000497]"
     ]
    },
    {
     "name": "stderr",
     "output_type": "stream",
     "text": [
      "\r",
      " 59%|█████▉    | 177/300 [00:15<00:02, 53.95it/s, loss=0.000497]"
     ]
    },
    {
     "name": "stderr",
     "output_type": "stream",
     "text": [
      "\r",
      " 59%|█████▉    | 177/300 [00:15<00:02, 53.95it/s, loss=0.000497]"
     ]
    },
    {
     "name": "stderr",
     "output_type": "stream",
     "text": [
      "\r",
      " 59%|█████▉    | 177/300 [00:15<00:02, 53.95it/s, loss=0.000497]"
     ]
    },
    {
     "name": "stderr",
     "output_type": "stream",
     "text": [
      "\r",
      " 59%|█████▉    | 177/300 [00:15<00:02, 53.95it/s, loss=0.000497]"
     ]
    },
    {
     "name": "stderr",
     "output_type": "stream",
     "text": [
      "\r",
      " 59%|█████▉    | 177/300 [00:15<00:02, 53.95it/s, loss=0.000497]"
     ]
    },
    {
     "name": "stderr",
     "output_type": "stream",
     "text": [
      "\r",
      " 59%|█████▉    | 177/300 [00:15<00:02, 53.95it/s, loss=0.000497]"
     ]
    },
    {
     "name": "stderr",
     "output_type": "stream",
     "text": [
      "\r",
      " 61%|██████    | 183/300 [00:15<00:02, 54.51it/s, loss=0.000497]"
     ]
    },
    {
     "name": "stderr",
     "output_type": "stream",
     "text": [
      "\r",
      " 61%|██████    | 183/300 [00:15<00:02, 54.51it/s, loss=0.000497]"
     ]
    },
    {
     "name": "stderr",
     "output_type": "stream",
     "text": [
      "\r",
      " 61%|██████    | 183/300 [00:15<00:02, 54.51it/s, loss=0.000497]"
     ]
    },
    {
     "name": "stderr",
     "output_type": "stream",
     "text": [
      "\r",
      " 61%|██████    | 183/300 [00:15<00:02, 54.51it/s, loss=0.000497]"
     ]
    },
    {
     "name": "stderr",
     "output_type": "stream",
     "text": [
      "\r",
      " 61%|██████    | 183/300 [00:15<00:02, 54.51it/s, loss=0.000497]"
     ]
    },
    {
     "name": "stderr",
     "output_type": "stream",
     "text": [
      "\r",
      " 61%|██████    | 183/300 [00:15<00:02, 54.51it/s, loss=0.000497]"
     ]
    },
    {
     "name": "stderr",
     "output_type": "stream",
     "text": [
      "\r",
      " 61%|██████    | 183/300 [00:15<00:02, 54.51it/s, loss=0.000497]"
     ]
    },
    {
     "name": "stderr",
     "output_type": "stream",
     "text": [
      "\r",
      " 63%|██████▎   | 189/300 [00:15<00:02, 54.29it/s, loss=0.000497]"
     ]
    },
    {
     "name": "stderr",
     "output_type": "stream",
     "text": [
      "\r",
      " 63%|██████▎   | 189/300 [00:15<00:02, 54.29it/s, loss=0.000497]"
     ]
    },
    {
     "name": "stderr",
     "output_type": "stream",
     "text": [
      "\r",
      " 63%|██████▎   | 189/300 [00:15<00:02, 54.29it/s, loss=0.000497]"
     ]
    },
    {
     "name": "stderr",
     "output_type": "stream",
     "text": [
      "\r",
      " 63%|██████▎   | 189/300 [00:15<00:02, 54.29it/s, loss=0.000497]"
     ]
    },
    {
     "name": "stderr",
     "output_type": "stream",
     "text": [
      "\r",
      " 63%|██████▎   | 189/300 [00:15<00:02, 54.29it/s, loss=0.000497]"
     ]
    },
    {
     "name": "stderr",
     "output_type": "stream",
     "text": [
      "\r",
      " 63%|██████▎   | 189/300 [00:15<00:02, 54.29it/s, loss=0.000497]"
     ]
    },
    {
     "name": "stderr",
     "output_type": "stream",
     "text": [
      "\r",
      " 63%|██████▎   | 189/300 [00:15<00:02, 54.29it/s, loss=0.000497]"
     ]
    },
    {
     "name": "stderr",
     "output_type": "stream",
     "text": [
      "\r",
      " 65%|██████▌   | 195/300 [00:15<00:01, 54.75it/s, loss=0.000497]"
     ]
    },
    {
     "name": "stderr",
     "output_type": "stream",
     "text": [
      "\r",
      " 65%|██████▌   | 195/300 [00:15<00:01, 54.75it/s, loss=0.000497]"
     ]
    },
    {
     "name": "stderr",
     "output_type": "stream",
     "text": [
      "\r",
      " 65%|██████▌   | 195/300 [00:15<00:01, 54.75it/s, loss=0.000497]"
     ]
    },
    {
     "name": "stderr",
     "output_type": "stream",
     "text": [
      "\r",
      " 65%|██████▌   | 195/300 [00:15<00:01, 54.75it/s, loss=0.000497]"
     ]
    },
    {
     "name": "stderr",
     "output_type": "stream",
     "text": [
      "\r",
      " 65%|██████▌   | 195/300 [00:15<00:01, 54.75it/s, loss=0.000497]"
     ]
    },
    {
     "name": "stderr",
     "output_type": "stream",
     "text": [
      "\r",
      " 65%|██████▌   | 195/300 [00:15<00:01, 54.75it/s, loss=0.000497]"
     ]
    },
    {
     "name": "stderr",
     "output_type": "stream",
     "text": [
      "\r",
      " 65%|██████▌   | 195/300 [00:15<00:01, 54.75it/s, loss=0.000497]"
     ]
    },
    {
     "name": "stderr",
     "output_type": "stream",
     "text": [
      "\r",
      " 67%|██████▋   | 201/300 [00:15<00:01, 54.34it/s, loss=0.000497]"
     ]
    },
    {
     "name": "stderr",
     "output_type": "stream",
     "text": [
      "\r",
      " 67%|██████▋   | 201/300 [00:15<00:01, 54.34it/s, loss=0.000497]"
     ]
    },
    {
     "name": "stderr",
     "output_type": "stream",
     "text": [
      "\r",
      " 67%|██████▋   | 201/300 [00:15<00:01, 54.34it/s, loss=0.000497]"
     ]
    },
    {
     "name": "stderr",
     "output_type": "stream",
     "text": [
      "\r",
      " 67%|██████▋   | 201/300 [00:15<00:01, 54.34it/s, loss=0.000497]"
     ]
    },
    {
     "name": "stderr",
     "output_type": "stream",
     "text": [
      "\r",
      " 67%|██████▋   | 201/300 [00:15<00:01, 54.34it/s, loss=0.000497]"
     ]
    },
    {
     "name": "stderr",
     "output_type": "stream",
     "text": [
      "\r",
      " 67%|██████▋   | 201/300 [00:15<00:01, 54.34it/s, loss=0.000497]"
     ]
    },
    {
     "name": "stderr",
     "output_type": "stream",
     "text": [
      "\r",
      " 67%|██████▋   | 201/300 [00:15<00:01, 54.34it/s, loss=0.000497]"
     ]
    },
    {
     "name": "stderr",
     "output_type": "stream",
     "text": [
      "\r",
      " 69%|██████▉   | 207/300 [00:15<00:01, 54.54it/s, loss=0.000497]"
     ]
    },
    {
     "name": "stderr",
     "output_type": "stream",
     "text": [
      "\r",
      " 69%|██████▉   | 207/300 [00:15<00:01, 54.54it/s, loss=0.000497]"
     ]
    },
    {
     "name": "stderr",
     "output_type": "stream",
     "text": [
      "\r",
      " 69%|██████▉   | 207/300 [00:15<00:01, 54.54it/s, loss=0.000497]"
     ]
    },
    {
     "name": "stderr",
     "output_type": "stream",
     "text": [
      "\r",
      " 69%|██████▉   | 207/300 [00:15<00:01, 54.54it/s, loss=0.000497]"
     ]
    },
    {
     "name": "stderr",
     "output_type": "stream",
     "text": [
      "\r",
      " 69%|██████▉   | 207/300 [00:15<00:01, 54.54it/s, loss=0.000497]"
     ]
    },
    {
     "name": "stderr",
     "output_type": "stream",
     "text": [
      "\r",
      " 69%|██████▉   | 207/300 [00:15<00:01, 54.54it/s, loss=0.000497]"
     ]
    },
    {
     "name": "stderr",
     "output_type": "stream",
     "text": [
      "\r",
      " 69%|██████▉   | 207/300 [00:15<00:01, 54.54it/s, loss=0.000497]"
     ]
    },
    {
     "name": "stderr",
     "output_type": "stream",
     "text": [
      "\r",
      " 71%|███████   | 213/300 [00:15<00:01, 54.97it/s, loss=0.000497]"
     ]
    },
    {
     "name": "stderr",
     "output_type": "stream",
     "text": [
      "\r",
      " 71%|███████   | 213/300 [00:15<00:01, 54.97it/s, loss=0.000497]"
     ]
    },
    {
     "name": "stderr",
     "output_type": "stream",
     "text": [
      "\r",
      " 71%|███████   | 213/300 [00:15<00:01, 54.97it/s, loss=0.000497]"
     ]
    },
    {
     "name": "stderr",
     "output_type": "stream",
     "text": [
      "\r",
      " 71%|███████   | 213/300 [00:15<00:01, 54.97it/s, loss=0.000497]"
     ]
    },
    {
     "name": "stderr",
     "output_type": "stream",
     "text": [
      "\r",
      " 71%|███████   | 213/300 [00:15<00:01, 54.97it/s, loss=0.000497]"
     ]
    },
    {
     "name": "stderr",
     "output_type": "stream",
     "text": [
      "\r",
      " 71%|███████   | 213/300 [00:16<00:01, 54.97it/s, loss=0.000497]"
     ]
    },
    {
     "name": "stderr",
     "output_type": "stream",
     "text": [
      "\r",
      " 71%|███████   | 213/300 [00:16<00:01, 54.97it/s, loss=0.000497]"
     ]
    },
    {
     "name": "stderr",
     "output_type": "stream",
     "text": [
      "\r",
      " 73%|███████▎  | 219/300 [00:16<00:01, 55.05it/s, loss=0.000497]"
     ]
    },
    {
     "name": "stderr",
     "output_type": "stream",
     "text": [
      "\r",
      " 73%|███████▎  | 219/300 [00:16<00:01, 55.05it/s, loss=0.000497]"
     ]
    },
    {
     "name": "stderr",
     "output_type": "stream",
     "text": [
      "\r",
      " 73%|███████▎  | 219/300 [00:16<00:01, 55.05it/s, loss=0.000497]"
     ]
    },
    {
     "name": "stderr",
     "output_type": "stream",
     "text": [
      "\r",
      " 73%|███████▎  | 219/300 [00:16<00:01, 55.05it/s, loss=0.000497]"
     ]
    },
    {
     "name": "stderr",
     "output_type": "stream",
     "text": [
      "\r",
      " 73%|███████▎  | 219/300 [00:16<00:01, 55.05it/s, loss=0.000497]"
     ]
    },
    {
     "name": "stderr",
     "output_type": "stream",
     "text": [
      "\r",
      " 73%|███████▎  | 219/300 [00:16<00:01, 55.05it/s, loss=0.000497]"
     ]
    },
    {
     "name": "stderr",
     "output_type": "stream",
     "text": [
      "\r",
      " 73%|███████▎  | 219/300 [00:16<00:01, 55.05it/s, loss=0.000497]"
     ]
    },
    {
     "name": "stderr",
     "output_type": "stream",
     "text": [
      "\r",
      " 75%|███████▌  | 225/300 [00:16<00:01, 54.47it/s, loss=0.000497]"
     ]
    },
    {
     "name": "stderr",
     "output_type": "stream",
     "text": [
      "\r",
      " 75%|███████▌  | 225/300 [00:16<00:01, 54.47it/s, loss=0.000497]"
     ]
    },
    {
     "name": "stderr",
     "output_type": "stream",
     "text": [
      "\r",
      " 75%|███████▌  | 225/300 [00:16<00:01, 54.47it/s, loss=0.000497]"
     ]
    },
    {
     "name": "stderr",
     "output_type": "stream",
     "text": [
      "\r",
      " 75%|███████▌  | 225/300 [00:16<00:01, 54.47it/s, loss=0.000497]"
     ]
    },
    {
     "name": "stderr",
     "output_type": "stream",
     "text": [
      "\r",
      " 75%|███████▌  | 225/300 [00:16<00:01, 54.47it/s, loss=0.000497]"
     ]
    },
    {
     "name": "stderr",
     "output_type": "stream",
     "text": [
      "\r",
      " 75%|███████▌  | 225/300 [00:16<00:01, 54.47it/s, loss=0.000497]"
     ]
    },
    {
     "name": "stderr",
     "output_type": "stream",
     "text": [
      "\r",
      " 75%|███████▌  | 225/300 [00:16<00:01, 54.47it/s, loss=0.000497]"
     ]
    },
    {
     "name": "stderr",
     "output_type": "stream",
     "text": [
      "\r",
      " 77%|███████▋  | 231/300 [00:16<00:01, 54.38it/s, loss=0.000497]"
     ]
    },
    {
     "name": "stderr",
     "output_type": "stream",
     "text": [
      "\r",
      " 77%|███████▋  | 231/300 [00:16<00:01, 54.38it/s, loss=0.000497]"
     ]
    },
    {
     "name": "stderr",
     "output_type": "stream",
     "text": [
      "\r",
      " 77%|███████▋  | 231/300 [00:16<00:01, 54.38it/s, loss=0.000497]"
     ]
    },
    {
     "name": "stderr",
     "output_type": "stream",
     "text": [
      "\r",
      " 77%|███████▋  | 231/300 [00:16<00:01, 54.38it/s, loss=0.000497]"
     ]
    },
    {
     "name": "stderr",
     "output_type": "stream",
     "text": [
      "\r",
      " 77%|███████▋  | 231/300 [00:16<00:01, 54.38it/s, loss=0.000497]"
     ]
    },
    {
     "name": "stderr",
     "output_type": "stream",
     "text": [
      "\r",
      " 77%|███████▋  | 231/300 [00:16<00:01, 54.38it/s, loss=0.000497]"
     ]
    },
    {
     "name": "stderr",
     "output_type": "stream",
     "text": [
      "\r",
      " 77%|███████▋  | 231/300 [00:16<00:01, 54.38it/s, loss=0.000497]"
     ]
    },
    {
     "name": "stderr",
     "output_type": "stream",
     "text": [
      "\r",
      " 79%|███████▉  | 237/300 [00:16<00:01, 54.35it/s, loss=0.000497]"
     ]
    },
    {
     "name": "stderr",
     "output_type": "stream",
     "text": [
      "\r",
      " 79%|███████▉  | 237/300 [00:16<00:01, 54.35it/s, loss=0.000497]"
     ]
    },
    {
     "name": "stderr",
     "output_type": "stream",
     "text": [
      "\r",
      " 79%|███████▉  | 237/300 [00:16<00:01, 54.35it/s, loss=0.000497]"
     ]
    },
    {
     "name": "stderr",
     "output_type": "stream",
     "text": [
      "\r",
      " 79%|███████▉  | 237/300 [00:16<00:01, 54.35it/s, loss=0.000497]"
     ]
    },
    {
     "name": "stderr",
     "output_type": "stream",
     "text": [
      "\r",
      " 79%|███████▉  | 237/300 [00:16<00:01, 54.35it/s, loss=0.000497]"
     ]
    },
    {
     "name": "stderr",
     "output_type": "stream",
     "text": [
      "\r",
      " 79%|███████▉  | 237/300 [00:16<00:01, 54.35it/s, loss=0.000497]"
     ]
    },
    {
     "name": "stderr",
     "output_type": "stream",
     "text": [
      "\r",
      " 79%|███████▉  | 237/300 [00:16<00:01, 54.35it/s, loss=0.000497]"
     ]
    },
    {
     "name": "stderr",
     "output_type": "stream",
     "text": [
      "\r",
      " 81%|████████  | 243/300 [00:16<00:01, 54.21it/s, loss=0.000497]"
     ]
    },
    {
     "name": "stderr",
     "output_type": "stream",
     "text": [
      "\r",
      " 81%|████████  | 243/300 [00:16<00:01, 54.21it/s, loss=0.000497]"
     ]
    },
    {
     "name": "stderr",
     "output_type": "stream",
     "text": [
      "\r",
      " 81%|████████  | 243/300 [00:16<00:01, 54.21it/s, loss=0.000497]"
     ]
    },
    {
     "name": "stderr",
     "output_type": "stream",
     "text": [
      "\r",
      " 81%|████████  | 243/300 [00:16<00:01, 54.21it/s, loss=0.000497]"
     ]
    },
    {
     "name": "stderr",
     "output_type": "stream",
     "text": [
      "\r",
      " 81%|████████  | 243/300 [00:16<00:01, 54.21it/s, loss=0.000497]"
     ]
    },
    {
     "name": "stderr",
     "output_type": "stream",
     "text": [
      "\r",
      " 81%|████████  | 243/300 [00:16<00:01, 54.21it/s, loss=0.000497]"
     ]
    },
    {
     "name": "stderr",
     "output_type": "stream",
     "text": [
      "\r",
      " 81%|████████  | 243/300 [00:16<00:01, 54.21it/s, loss=0.000497]"
     ]
    },
    {
     "name": "stderr",
     "output_type": "stream",
     "text": [
      "\r",
      " 83%|████████▎ | 249/300 [00:16<00:00, 54.59it/s, loss=0.000497]"
     ]
    },
    {
     "name": "stderr",
     "output_type": "stream",
     "text": [
      "\r",
      " 83%|████████▎ | 249/300 [00:16<00:00, 54.59it/s, loss=0.000497]"
     ]
    },
    {
     "name": "stderr",
     "output_type": "stream",
     "text": [
      "\r",
      " 83%|████████▎ | 249/300 [00:16<00:00, 54.59it/s, loss=0.000497]"
     ]
    },
    {
     "name": "stderr",
     "output_type": "stream",
     "text": [
      "\r",
      " 83%|████████▎ | 249/300 [00:16<00:00, 54.59it/s, loss=0.000497]"
     ]
    },
    {
     "name": "stderr",
     "output_type": "stream",
     "text": [
      "\r",
      " 83%|████████▎ | 249/300 [00:16<00:00, 54.59it/s, loss=0.000497]"
     ]
    },
    {
     "name": "stderr",
     "output_type": "stream",
     "text": [
      "\r",
      " 83%|████████▎ | 249/300 [00:16<00:00, 54.59it/s, loss=0.000497]"
     ]
    },
    {
     "name": "stderr",
     "output_type": "stream",
     "text": [
      "\r",
      " 83%|████████▎ | 249/300 [00:16<00:00, 54.59it/s, loss=0.000497]"
     ]
    },
    {
     "name": "stderr",
     "output_type": "stream",
     "text": [
      "\r",
      " 85%|████████▌ | 255/300 [00:16<00:00, 54.02it/s, loss=0.000497]"
     ]
    },
    {
     "name": "stderr",
     "output_type": "stream",
     "text": [
      "\r",
      " 85%|████████▌ | 255/300 [00:16<00:00, 54.02it/s, loss=0.000497]"
     ]
    },
    {
     "name": "stderr",
     "output_type": "stream",
     "text": [
      "\r",
      " 85%|████████▌ | 255/300 [00:16<00:00, 54.02it/s, loss=0.000497]"
     ]
    },
    {
     "name": "stderr",
     "output_type": "stream",
     "text": [
      "\r",
      " 85%|████████▌ | 255/300 [00:16<00:00, 54.02it/s, loss=0.000497]"
     ]
    },
    {
     "name": "stderr",
     "output_type": "stream",
     "text": [
      "\r",
      " 85%|████████▌ | 255/300 [00:16<00:00, 54.02it/s, loss=0.000497]"
     ]
    },
    {
     "name": "stderr",
     "output_type": "stream",
     "text": [
      "\r",
      " 85%|████████▌ | 255/300 [00:16<00:00, 54.02it/s, loss=0.000497]"
     ]
    },
    {
     "name": "stderr",
     "output_type": "stream",
     "text": [
      "\r",
      " 85%|████████▌ | 255/300 [00:16<00:00, 54.02it/s, loss=0.000497]"
     ]
    },
    {
     "name": "stderr",
     "output_type": "stream",
     "text": [
      "\r",
      " 87%|████████▋ | 261/300 [00:16<00:00, 54.58it/s, loss=0.000497]"
     ]
    },
    {
     "name": "stderr",
     "output_type": "stream",
     "text": [
      "\r",
      " 87%|████████▋ | 261/300 [00:16<00:00, 54.58it/s, loss=0.000497]"
     ]
    },
    {
     "name": "stderr",
     "output_type": "stream",
     "text": [
      "\r",
      " 87%|████████▋ | 261/300 [00:16<00:00, 54.58it/s, loss=0.000497]"
     ]
    },
    {
     "name": "stderr",
     "output_type": "stream",
     "text": [
      "\r",
      " 87%|████████▋ | 261/300 [00:16<00:00, 54.58it/s, loss=0.000497]"
     ]
    },
    {
     "name": "stderr",
     "output_type": "stream",
     "text": [
      "\r",
      " 87%|████████▋ | 261/300 [00:16<00:00, 54.58it/s, loss=0.000497]"
     ]
    },
    {
     "name": "stderr",
     "output_type": "stream",
     "text": [
      "\r",
      " 87%|████████▋ | 261/300 [00:16<00:00, 54.58it/s, loss=0.000497]"
     ]
    },
    {
     "name": "stderr",
     "output_type": "stream",
     "text": [
      "\r",
      " 87%|████████▋ | 261/300 [00:16<00:00, 54.58it/s, loss=0.000497]"
     ]
    },
    {
     "name": "stderr",
     "output_type": "stream",
     "text": [
      "\r",
      " 89%|████████▉ | 267/300 [00:16<00:00, 55.28it/s, loss=0.000497]"
     ]
    },
    {
     "name": "stderr",
     "output_type": "stream",
     "text": [
      "\r",
      " 89%|████████▉ | 267/300 [00:16<00:00, 55.28it/s, loss=0.000497]"
     ]
    },
    {
     "name": "stderr",
     "output_type": "stream",
     "text": [
      "\r",
      " 89%|████████▉ | 267/300 [00:16<00:00, 55.28it/s, loss=0.000497]"
     ]
    },
    {
     "name": "stderr",
     "output_type": "stream",
     "text": [
      "\r",
      " 89%|████████▉ | 267/300 [00:16<00:00, 55.28it/s, loss=0.000497]"
     ]
    },
    {
     "name": "stderr",
     "output_type": "stream",
     "text": [
      "\r",
      " 89%|████████▉ | 267/300 [00:16<00:00, 55.28it/s, loss=0.000497]"
     ]
    },
    {
     "name": "stderr",
     "output_type": "stream",
     "text": [
      "\r",
      " 89%|████████▉ | 267/300 [00:16<00:00, 55.28it/s, loss=0.000497]"
     ]
    },
    {
     "name": "stderr",
     "output_type": "stream",
     "text": [
      "\r",
      " 89%|████████▉ | 267/300 [00:17<00:00, 55.28it/s, loss=0.000497]"
     ]
    },
    {
     "name": "stderr",
     "output_type": "stream",
     "text": [
      "\r",
      " 91%|█████████ | 273/300 [00:17<00:00, 55.77it/s, loss=0.000497]"
     ]
    },
    {
     "name": "stderr",
     "output_type": "stream",
     "text": [
      "\r",
      " 91%|█████████ | 273/300 [00:17<00:00, 55.77it/s, loss=0.000497]"
     ]
    },
    {
     "name": "stderr",
     "output_type": "stream",
     "text": [
      "\r",
      " 91%|█████████ | 273/300 [00:17<00:00, 55.77it/s, loss=0.000497]"
     ]
    },
    {
     "name": "stderr",
     "output_type": "stream",
     "text": [
      "\r",
      " 91%|█████████ | 273/300 [00:17<00:00, 55.77it/s, loss=0.000497]"
     ]
    },
    {
     "name": "stderr",
     "output_type": "stream",
     "text": [
      "\r",
      " 91%|█████████ | 273/300 [00:17<00:00, 55.77it/s, loss=0.000497]"
     ]
    },
    {
     "name": "stderr",
     "output_type": "stream",
     "text": [
      "\r",
      " 91%|█████████ | 273/300 [00:17<00:00, 55.77it/s, loss=0.000497]"
     ]
    },
    {
     "name": "stderr",
     "output_type": "stream",
     "text": [
      "\r",
      " 91%|█████████ | 273/300 [00:17<00:00, 55.77it/s, loss=0.000497]"
     ]
    },
    {
     "name": "stderr",
     "output_type": "stream",
     "text": [
      "\r",
      " 93%|█████████▎| 279/300 [00:17<00:00, 56.11it/s, loss=0.000497]"
     ]
    },
    {
     "name": "stderr",
     "output_type": "stream",
     "text": [
      "\r",
      " 93%|█████████▎| 279/300 [00:17<00:00, 56.11it/s, loss=0.000497]"
     ]
    },
    {
     "name": "stderr",
     "output_type": "stream",
     "text": [
      "\r",
      " 93%|█████████▎| 279/300 [00:17<00:00, 56.11it/s, loss=0.000497]"
     ]
    },
    {
     "name": "stderr",
     "output_type": "stream",
     "text": [
      "\r",
      " 93%|█████████▎| 279/300 [00:17<00:00, 56.11it/s, loss=0.000497]"
     ]
    },
    {
     "name": "stderr",
     "output_type": "stream",
     "text": [
      "\r",
      " 93%|█████████▎| 279/300 [00:17<00:00, 56.11it/s, loss=0.000497]"
     ]
    },
    {
     "name": "stderr",
     "output_type": "stream",
     "text": [
      "\r",
      " 93%|█████████▎| 279/300 [00:17<00:00, 56.11it/s, loss=0.000497]"
     ]
    },
    {
     "name": "stderr",
     "output_type": "stream",
     "text": [
      "\r",
      " 93%|█████████▎| 279/300 [00:17<00:00, 56.11it/s, loss=0.000497]"
     ]
    },
    {
     "name": "stderr",
     "output_type": "stream",
     "text": [
      "\r",
      " 95%|█████████▌| 285/300 [00:17<00:00, 56.59it/s, loss=0.000497]"
     ]
    },
    {
     "name": "stderr",
     "output_type": "stream",
     "text": [
      "\r",
      " 95%|█████████▌| 285/300 [00:17<00:00, 56.59it/s, loss=0.000497]"
     ]
    },
    {
     "name": "stderr",
     "output_type": "stream",
     "text": [
      "\r",
      " 95%|█████████▌| 285/300 [00:17<00:00, 56.59it/s, loss=0.000497]"
     ]
    },
    {
     "name": "stderr",
     "output_type": "stream",
     "text": [
      "\r",
      " 95%|█████████▌| 285/300 [00:17<00:00, 56.59it/s, loss=0.000497]"
     ]
    },
    {
     "name": "stderr",
     "output_type": "stream",
     "text": [
      "\r",
      " 95%|█████████▌| 285/300 [00:17<00:00, 56.59it/s, loss=0.000497]"
     ]
    },
    {
     "name": "stderr",
     "output_type": "stream",
     "text": [
      "\r",
      " 95%|█████████▌| 285/300 [00:17<00:00, 56.59it/s, loss=0.000497]"
     ]
    },
    {
     "name": "stderr",
     "output_type": "stream",
     "text": [
      "\r",
      " 95%|█████████▌| 285/300 [00:17<00:00, 56.59it/s, loss=0.000497]"
     ]
    },
    {
     "name": "stderr",
     "output_type": "stream",
     "text": [
      "\r",
      " 97%|█████████▋| 291/300 [00:17<00:00, 56.77it/s, loss=0.000497]"
     ]
    },
    {
     "name": "stderr",
     "output_type": "stream",
     "text": [
      "\r",
      " 97%|█████████▋| 291/300 [00:17<00:00, 56.77it/s, loss=0.000497]"
     ]
    },
    {
     "name": "stderr",
     "output_type": "stream",
     "text": [
      "\r",
      " 97%|█████████▋| 291/300 [00:17<00:00, 56.77it/s, loss=0.000497]"
     ]
    },
    {
     "name": "stderr",
     "output_type": "stream",
     "text": [
      "\r",
      " 97%|█████████▋| 291/300 [00:17<00:00, 56.77it/s, loss=0.000497]"
     ]
    },
    {
     "name": "stderr",
     "output_type": "stream",
     "text": [
      "\r",
      " 97%|█████████▋| 291/300 [00:17<00:00, 56.77it/s, loss=0.000497]"
     ]
    },
    {
     "name": "stderr",
     "output_type": "stream",
     "text": [
      "\r",
      " 97%|█████████▋| 291/300 [00:17<00:00, 56.77it/s, loss=0.000497]"
     ]
    },
    {
     "name": "stderr",
     "output_type": "stream",
     "text": [
      "\r",
      " 97%|█████████▋| 291/300 [00:17<00:00, 56.77it/s, loss=0.000497]"
     ]
    },
    {
     "name": "stderr",
     "output_type": "stream",
     "text": [
      "\r",
      " 99%|█████████▉| 297/300 [00:17<00:00, 56.55it/s, loss=0.000497]"
     ]
    },
    {
     "name": "stderr",
     "output_type": "stream",
     "text": [
      "\r",
      " 99%|█████████▉| 297/300 [00:17<00:00, 56.55it/s, loss=0.000497]"
     ]
    },
    {
     "name": "stderr",
     "output_type": "stream",
     "text": [
      "\r",
      " 99%|█████████▉| 297/300 [00:17<00:00, 56.55it/s, loss=0.000497]"
     ]
    },
    {
     "name": "stderr",
     "output_type": "stream",
     "text": [
      "\r",
      " 99%|█████████▉| 297/300 [00:17<00:00, 56.55it/s, loss=0.000497]"
     ]
    },
    {
     "name": "stderr",
     "output_type": "stream",
     "text": [
      "\r",
      "100%|██████████| 300/300 [00:17<00:00, 17.15it/s, loss=0.000497]"
     ]
    },
    {
     "name": "stderr",
     "output_type": "stream",
     "text": [
      "\n"
     ]
    }
   ],
   "source": [
    "import tqdm\n",
    "\n",
    "range_ = tqdm.trange(300)\n",
    "for step in range_:\n",
    "    lossvalue, optim_state = train_step(step, optim_state)\n",
    "    range_.set_postfix(loss=f\"{lossvalue:.6f}\")"
   ]
  },
  {
   "cell_type": "code",
   "execution_count": 28,
   "id": "ca045b90-46c1-451b-a5bb-3969e4dbc80c",
   "metadata": {
    "execution": {
     "iopub.execute_input": "2022-03-01T18:43:47.937437Z",
     "iopub.status.busy": "2022-03-01T18:43:47.937026Z",
     "iopub.status.idle": "2022-03-01T18:43:47.942504Z",
     "shell.execute_reply": "2022-03-01T18:43:47.941953Z"
    }
   },
   "outputs": [
    {
     "data": {
      "text/plain": [
       "10.08127"
      ]
     },
     "execution_count": 28,
     "metadata": {},
     "output_type": "execute_result"
    }
   ],
   "source": [
    "delta_length = optim_params(optim_state)\n",
    "delta_length"
   ]
  },
  {
   "cell_type": "code",
   "execution_count": 29,
   "id": "31f258fd-e601-491c-8766-ac80553e9ed2",
   "metadata": {
    "execution": {
     "iopub.execute_input": "2022-03-01T18:43:47.944894Z",
     "iopub.status.busy": "2022-03-01T18:43:47.944705Z",
     "iopub.status.idle": "2022-03-01T18:43:48.082494Z",
     "shell.execute_reply": "2022-03-01T18:43:48.081924Z"
    }
   },
   "outputs": [
    {
     "data": {
      "image/png": "[encoded data removed]",
      "text/plain": [
       "<Figure size 432x288 with 1 Axes>"
      ]
     },
     "metadata": {
      "needs_background": "light"
     },
     "output_type": "display_data"
    }
   ],
   "source": [
    "S = mzi(wl=wl, top={\"length\": 15.0 + delta_length}, btm={\"length\": 15.0})\n",
    "plt.plot(wl * 1e3, abs(S[\"o1\", \"o4\"]) ** 2)\n",
    "plt.xlabel(\"λ [nm]\")\n",
    "plt.ylabel(\"T\")\n",
    "plt.ylim(-0.05, 1.05)\n",
    "plt.plot([1550, 1550], [0, 1])\n",
    "plt.show()"
   ]
  },
  {
   "cell_type": "markdown",
   "id": "5cfb9dc1-f146-4637-abbd-247948fe4142",
   "metadata": {},
   "source": [
    "The minimum of the MZI is perfectly located at 1550nm."
   ]
  },
  {
   "cell_type": "markdown",
   "id": "a5d13cb5-987b-440b-a719-d1ff67bbca5c",
   "metadata": {},
   "source": [
    "## Model fit\n",
    "\n",
    "You can fit a sax model to Sparameter FDTD simulation data."
   ]
  },
  {
   "cell_type": "code",
   "execution_count": 30,
   "id": "4c700aca-be96-4fe1-be90-46d148e0cc9d",
   "metadata": {
    "execution": {
     "iopub.execute_input": "2022-03-01T18:43:48.086100Z",
     "iopub.status.busy": "2022-03-01T18:43:48.085621Z",
     "iopub.status.idle": "2022-03-01T18:43:48.090420Z",
     "shell.execute_reply": "2022-03-01T18:43:48.089935Z"
    }
   },
   "outputs": [],
   "source": [
    "import tqdm\n",
    "import jax\n",
    "import jax.numpy as jnp\n",
    "import jax.example_libraries.optimizers as opt\n",
    "import matplotlib.pyplot as plt\n",
    "\n",
    "import gdsfactory as gf\n",
    "import gdsfactory.simulation.modes as gm\n",
    "import gdsfactory.simulation.sax as gs"
   ]
  },
  {
   "cell_type": "code",
   "execution_count": 31,
   "id": "b4de1790-fb61-466e-b2cb-0d5d3fff330a",
   "metadata": {
    "execution": {
     "iopub.execute_input": "2022-03-01T18:43:48.093367Z",
     "iopub.status.busy": "2022-03-01T18:43:48.093105Z",
     "iopub.status.idle": "2022-03-01T18:43:48.098881Z",
     "shell.execute_reply": "2022-03-01T18:43:48.098355Z"
    }
   },
   "outputs": [
    {
     "data": {
      "text/plain": [
       "PosixPath('/home/runner/work/gdsfactory/gdsfactory/gdslib/sp')"
      ]
     },
     "execution_count": 31,
     "metadata": {},
     "output_type": "execute_result"
    }
   ],
   "source": [
    "gf.config.sparameters_path"
   ]
  },
  {
   "cell_type": "code",
   "execution_count": 32,
   "id": "169a75b6-63a8-4892-8265-06347aa30775",
   "metadata": {
    "execution": {
     "iopub.execute_input": "2022-03-01T18:43:48.101739Z",
     "iopub.status.busy": "2022-03-01T18:43:48.101569Z",
     "iopub.status.idle": "2022-03-01T18:43:48.121332Z",
     "shell.execute_reply": "2022-03-01T18:43:48.120767Z"
    }
   },
   "outputs": [],
   "source": [
    "sd = gs.read.sdict_from_csv(gf.config.sparameters_path / 'coupler' / 'coupler_G224n_L20_S220.csv', xkey='wavelength_nm', prefix='S', xunits=1e-3)"
   ]
  },
  {
   "cell_type": "code",
   "execution_count": 33,
   "id": "34eaf4a2-edb2-4dd1-9856-f1a1eb9b502d",
   "metadata": {
    "execution": {
     "iopub.execute_input": "2022-03-01T18:43:48.124450Z",
     "iopub.status.busy": "2022-03-01T18:43:48.124055Z",
     "iopub.status.idle": "2022-03-01T18:43:48.128576Z",
     "shell.execute_reply": "2022-03-01T18:43:48.128061Z"
    }
   },
   "outputs": [],
   "source": [
    "coupler_fdtd = gf.partial(gs.read.sdict_from_csv, filepath=gf.config.sparameters_path / 'coupler' / 'coupler_G224n_L20_S220.csv', xkey='wavelength_nm', prefix='S', xunits=1e-3)"
   ]
  },
  {
   "cell_type": "code",
   "execution_count": 34,
   "id": "cb664d7e-0b19-4ffb-a904-6b7104abdd0c",
   "metadata": {
    "execution": {
     "iopub.execute_input": "2022-03-01T18:43:48.131732Z",
     "iopub.status.busy": "2022-03-01T18:43:48.131262Z",
     "iopub.status.idle": "2022-03-01T18:43:48.325958Z",
     "shell.execute_reply": "2022-03-01T18:43:48.325366Z"
    }
   },
   "outputs": [
    {
     "data": {
      "image/png": "[encoded data removed]",
      "text/plain": [
       "<Figure size 432x288 with 1 Axes>"
      ]
     },
     "metadata": {
      "needs_background": "light"
     },
     "output_type": "display_data"
    },
    {
     "data": {
      "text/plain": [
       "<AxesSubplot:title={'center':'o1'}, xlabel='wavelength (nm)', ylabel='|S (dB)|'>"
      ]
     },
     "execution_count": 34,
     "metadata": {},
     "output_type": "execute_result"
    }
   ],
   "source": [
    "gs.plot_model(coupler_fdtd)"
   ]
  },
  {
   "cell_type": "code",
   "execution_count": 35,
   "id": "6db05c71-2f8b-4dd9-a2a4-ae5d58d664a5",
   "metadata": {
    "execution": {
     "iopub.execute_input": "2022-03-01T18:43:48.329212Z",
     "iopub.status.busy": "2022-03-01T18:43:48.328719Z",
     "iopub.status.idle": "2022-03-01T18:43:48.483200Z",
     "shell.execute_reply": "2022-03-01T18:43:48.482741Z"
    }
   },
   "outputs": [
    {
     "data": {
      "image/png": "[encoded data removed]",
      "text/plain": [
       "<Figure size 432x288 with 1 Axes>"
      ]
     },
     "metadata": {
      "needs_background": "light"
     },
     "output_type": "display_data"
    },
    {
     "data": {
      "text/plain": [
       "<AxesSubplot:title={'center':'o1'}, xlabel='wavelength (nm)', ylabel='|S (dB)|'>"
      ]
     },
     "execution_count": 35,
     "metadata": {},
     "output_type": "execute_result"
    }
   ],
   "source": [
    "gs.plot_model(coupler_fdtd, ports2=('o3', 'o4'))"
   ]
  },
  {
   "cell_type": "code",
   "execution_count": 36,
   "id": "f945a239-dae2-4b56-9c05-dafe6e644810",
   "metadata": {
    "execution": {
     "iopub.execute_input": "2022-03-01T18:43:48.486482Z",
     "iopub.status.busy": "2022-03-01T18:43:48.486064Z",
     "iopub.status.idle": "2022-03-01T18:43:48.494875Z",
     "shell.execute_reply": "2022-03-01T18:43:48.494354Z"
    }
   },
   "outputs": [
    {
     "data": {
      "text/plain": [
       "{1: Mode1, 2: Mode2, 3: Mode3, 4: Mode4}"
      ]
     },
     "execution_count": 36,
     "metadata": {},
     "output_type": "execute_result"
    }
   ],
   "source": [
    "modes = gm.find_modes_coupler(gap=0.224)\n",
    "modes"
   ]
  },
  {
   "cell_type": "code",
   "execution_count": 37,
   "id": "2275e15c-9c34-4d78-b716-1924e405de3a",
   "metadata": {
    "execution": {
     "iopub.execute_input": "2022-03-01T18:43:48.498296Z",
     "iopub.status.busy": "2022-03-01T18:43:48.497844Z",
     "iopub.status.idle": "2022-03-01T18:43:48.503934Z",
     "shell.execute_reply": "2022-03-01T18:43:48.503446Z"
    }
   },
   "outputs": [
    {
     "data": {
      "text/plain": [
       "0.01660599375543148"
      ]
     },
     "execution_count": 37,
     "metadata": {},
     "output_type": "execute_result"
    }
   ],
   "source": [
    "dn = modes[1].neff - modes[2].neff\n",
    "dn"
   ]
  },
  {
   "cell_type": "code",
   "execution_count": 38,
   "id": "16132318-e221-470b-a61b-14302ca56334",
   "metadata": {
    "execution": {
     "iopub.execute_input": "2022-03-01T18:43:48.506536Z",
     "iopub.status.busy": "2022-03-01T18:43:48.506357Z",
     "iopub.status.idle": "2022-03-01T18:43:48.640494Z",
     "shell.execute_reply": "2022-03-01T18:43:48.639941Z"
    }
   },
   "outputs": [
    {
     "data": {
      "image/png": "[encoded data removed]",
      "text/plain": [
       "<Figure size 432x288 with 1 Axes>"
      ]
     },
     "metadata": {
      "needs_background": "light"
     },
     "output_type": "display_data"
    },
    {
     "data": {
      "text/plain": [
       "<AxesSubplot:title={'center':'o1'}, xlabel='wavelength (nm)', ylabel='|S (dB)|'>"
      ]
     },
     "execution_count": 38,
     "metadata": {},
     "output_type": "execute_result"
    }
   ],
   "source": [
    "coupler = gf.partial(gf.simulation.sax.models.coupler, dn=dn, length=20, coupling0=0.3)\n",
    "gs.plot_model(coupler)"
   ]
  },
  {
   "cell_type": "code",
   "execution_count": 39,
   "id": "d7375dd7-75e9-437e-a5e8-86dda1800e07",
   "metadata": {
    "execution": {
     "iopub.execute_input": "2022-03-01T18:43:48.643902Z",
     "iopub.status.busy": "2022-03-01T18:43:48.643713Z",
     "iopub.status.idle": "2022-03-01T18:43:48.744328Z",
     "shell.execute_reply": "2022-03-01T18:43:48.743574Z"
    }
   },
   "outputs": [
    {
     "data": {
      "text/plain": [
       "0.31112"
      ]
     },
     "execution_count": 39,
     "metadata": {},
     "output_type": "execute_result"
    }
   ],
   "source": [
    "coupler_fdtd = gs.read.sdict_from_csv(filepath=gf.config.sparameters_path / 'coupler' / 'coupler_G224n_L20_S220.csv', xkey='wavelength_nm', prefix='S', xunits=1e-3)\n",
    "S = coupler_fdtd\n",
    "T_fdtd = abs(S['o1', 'o3'])**2\n",
    "K_fdtd = abs(S['o1', 'o4'])**2\n",
    "\n",
    "@jax.jit\n",
    "def loss(coupling0, dn, dn1, dn2, dk1, dk2):\n",
    "    \"\"\"Returns fit least squares error from a coupler model spectrum\n",
    "    to the FDTD Sparameter spectrum that we want to fit.\n",
    "    \n",
    "    Args:\n",
    "        coupling0: coupling from the bend raegion\n",
    "        dn: effective index difference between even and odd mode solver simulations.\n",
    "        dn1: first derivative of effective index difference vs wavelength.\n",
    "        dn2: second derivative of effective index difference vs wavelength.\n",
    "        dk1: first derivative of coupling0 vs wavelength.\n",
    "        dk2: second derivative of coupling vs wavelength.\n",
    "\n",
    "    .. code::\n",
    "\n",
    "          coupling0/2        coupling        coupling0/2\n",
    "        <-------------><--------------------><---------->\n",
    "         o2 ________                           _______o3\n",
    "                    \\                         /\n",
    "                     \\        length         /\n",
    "                      ======================= gap\n",
    "                     /                       \\\n",
    "            ________/                         \\________\n",
    "         o1                                           o4\n",
    "\n",
    "                      ------------------------> K (coupled power)\n",
    "                     /\n",
    "                    / K\n",
    "           -----------------------------------> T = 1 - K (transmitted power)\n",
    "\n",
    "    T: o1 -> o4\n",
    "    K: o1 -> o3\n",
    "    \"\"\"\n",
    "    S = gf.simulation.sax.models.coupler(dn=dn, length=20, coupling0=coupling0, dn1=dn1, dn2=dn2, dk1=dk1, dk2=dk2)\n",
    "    T_model = abs(S['o1', 'o4'])**2\n",
    "    K_model = abs(S['o1', 'o3'])**2\n",
    "    return jnp.abs(T_fdtd-T_model).mean() + jnp.abs(K_fdtd-K_model).mean()\n",
    "\n",
    "\n",
    "loss(coupling0=0.3, dn=0.016, dk1 = 1.2435, dk2 = 5.3022, dn1 = 0.1169, dn2 = 0.4821)"
   ]
  },
  {
   "cell_type": "code",
   "execution_count": 40,
   "id": "49f5af42-ac85-498e-aa50-b4a787189943",
   "metadata": {
    "execution": {
     "iopub.execute_input": "2022-03-01T18:43:48.748003Z",
     "iopub.status.busy": "2022-03-01T18:43:48.747474Z",
     "iopub.status.idle": "2022-03-01T18:43:48.755584Z",
     "shell.execute_reply": "2022-03-01T18:43:48.754934Z"
    }
   },
   "outputs": [],
   "source": [
    "grad = jax.jit(\n",
    "    jax.grad(\n",
    "        loss,\n",
    "        argnums=0,  # JAX gradient function for the first positional argument, jitted\n",
    "    )\n",
    ")"
   ]
  },
  {
   "cell_type": "code",
   "execution_count": 41,
   "id": "26b00537-961b-47fa-8728-790de6cfde60",
   "metadata": {
    "execution": {
     "iopub.execute_input": "2022-03-01T18:43:48.759166Z",
     "iopub.status.busy": "2022-03-01T18:43:48.758660Z",
     "iopub.status.idle": "2022-03-01T18:43:49.807663Z",
     "shell.execute_reply": "2022-03-01T18:43:49.807094Z"
    }
   },
   "outputs": [
    {
     "name": "stderr",
     "output_type": "stream",
     "text": [
      "\r",
      "  0%|          | 0/300 [00:00<?, ?it/s]"
     ]
    },
    {
     "name": "stderr",
     "output_type": "stream",
     "text": [
      "\r",
      "  0%|          | 0/300 [00:00<?, ?it/s, loss=0.351761]"
     ]
    },
    {
     "name": "stderr",
     "output_type": "stream",
     "text": [
      "\r",
      "  0%|          | 1/300 [00:00<01:09,  4.33it/s, loss=0.351761]"
     ]
    },
    {
     "name": "stderr",
     "output_type": "stream",
     "text": [
      "\r",
      "  0%|          | 1/300 [00:00<01:09,  4.33it/s, loss=0.216963]"
     ]
    },
    {
     "name": "stderr",
     "output_type": "stream",
     "text": [
      "\r",
      "  1%|          | 2/300 [00:00<01:08,  4.35it/s, loss=0.216963]"
     ]
    },
    {
     "name": "stderr",
     "output_type": "stream",
     "text": [
      "\r",
      "  1%|          | 2/300 [00:00<01:08,  4.35it/s, loss=0.178975]"
     ]
    },
    {
     "name": "stderr",
     "output_type": "stream",
     "text": [
      "\r",
      "  1%|          | 2/300 [00:00<01:08,  4.35it/s, loss=0.212982]"
     ]
    },
    {
     "name": "stderr",
     "output_type": "stream",
     "text": [
      "\r",
      "  1%|          | 2/300 [00:00<01:08,  4.35it/s, loss=0.242301]"
     ]
    },
    {
     "name": "stderr",
     "output_type": "stream",
     "text": [
      "\r",
      "  1%|          | 2/300 [00:00<01:08,  4.35it/s, loss=0.235206]"
     ]
    },
    {
     "name": "stderr",
     "output_type": "stream",
     "text": [
      "\r",
      "  1%|          | 2/300 [00:00<01:08,  4.35it/s, loss=0.208810]"
     ]
    },
    {
     "name": "stderr",
     "output_type": "stream",
     "text": [
      "\r",
      "  1%|          | 2/300 [00:00<01:08,  4.35it/s, loss=0.185850]"
     ]
    },
    {
     "name": "stderr",
     "output_type": "stream",
     "text": [
      "\r",
      "  1%|          | 2/300 [00:00<01:08,  4.35it/s, loss=0.178526]"
     ]
    },
    {
     "name": "stderr",
     "output_type": "stream",
     "text": [
      "\r",
      "  1%|          | 2/300 [00:00<01:08,  4.35it/s, loss=0.186215]"
     ]
    },
    {
     "name": "stderr",
     "output_type": "stream",
     "text": [
      "\r",
      "  1%|          | 2/300 [00:00<01:08,  4.35it/s, loss=0.198756]"
     ]
    },
    {
     "name": "stderr",
     "output_type": "stream",
     "text": [
      "\r",
      "  1%|          | 2/300 [00:00<01:08,  4.35it/s, loss=0.205603]"
     ]
    },
    {
     "name": "stderr",
     "output_type": "stream",
     "text": [
      "\r",
      "  1%|          | 2/300 [00:00<01:08,  4.35it/s, loss=0.203065]"
     ]
    },
    {
     "name": "stderr",
     "output_type": "stream",
     "text": [
      "\r",
      "  1%|          | 2/300 [00:00<01:08,  4.35it/s, loss=0.193898]"
     ]
    },
    {
     "name": "stderr",
     "output_type": "stream",
     "text": [
      "\r",
      "  1%|          | 2/300 [00:00<01:08,  4.35it/s, loss=0.184057]"
     ]
    },
    {
     "name": "stderr",
     "output_type": "stream",
     "text": [
      "\r",
      "  1%|          | 2/300 [00:00<01:08,  4.35it/s, loss=0.178765]"
     ]
    },
    {
     "name": "stderr",
     "output_type": "stream",
     "text": [
      "\r",
      "  1%|          | 2/300 [00:00<01:08,  4.35it/s, loss=0.179949]"
     ]
    },
    {
     "name": "stderr",
     "output_type": "stream",
     "text": [
      "\r",
      "  1%|          | 2/300 [00:00<01:08,  4.35it/s, loss=0.185224]"
     ]
    },
    {
     "name": "stderr",
     "output_type": "stream",
     "text": [
      "\r",
      "  1%|          | 2/300 [00:00<01:08,  4.35it/s, loss=0.190039]"
     ]
    },
    {
     "name": "stderr",
     "output_type": "stream",
     "text": [
      "\r",
      "  1%|          | 2/300 [00:00<01:08,  4.35it/s, loss=0.190962]"
     ]
    },
    {
     "name": "stderr",
     "output_type": "stream",
     "text": [
      "\r",
      "  1%|          | 2/300 [00:00<01:08,  4.35it/s, loss=0.187685]"
     ]
    },
    {
     "name": "stderr",
     "output_type": "stream",
     "text": [
      "\r",
      "  1%|          | 2/300 [00:00<01:08,  4.35it/s, loss=0.182754]"
     ]
    },
    {
     "name": "stderr",
     "output_type": "stream",
     "text": [
      "\r",
      "  1%|          | 2/300 [00:00<01:08,  4.35it/s, loss=0.179180]"
     ]
    },
    {
     "name": "stderr",
     "output_type": "stream",
     "text": [
      "\r",
      "  1%|          | 2/300 [00:00<01:08,  4.35it/s, loss=0.178655]"
     ]
    },
    {
     "name": "stderr",
     "output_type": "stream",
     "text": [
      "\r",
      "  1%|          | 2/300 [00:00<01:08,  4.35it/s, loss=0.180717]"
     ]
    },
    {
     "name": "stderr",
     "output_type": "stream",
     "text": [
      "\r",
      "  1%|          | 2/300 [00:00<01:08,  4.35it/s, loss=0.183382]"
     ]
    },
    {
     "name": "stderr",
     "output_type": "stream",
     "text": [
      "\r",
      "  1%|          | 2/300 [00:00<01:08,  4.35it/s, loss=0.184607]"
     ]
    },
    {
     "name": "stderr",
     "output_type": "stream",
     "text": [
      "\r",
      "  1%|          | 2/300 [00:00<01:08,  4.35it/s, loss=0.183702]"
     ]
    },
    {
     "name": "stderr",
     "output_type": "stream",
     "text": [
      "\r",
      "  1%|          | 2/300 [00:00<01:08,  4.35it/s, loss=0.181374]"
     ]
    },
    {
     "name": "stderr",
     "output_type": "stream",
     "text": [
      "\r",
      "  1%|          | 2/300 [00:00<01:08,  4.35it/s, loss=0.179228]"
     ]
    },
    {
     "name": "stderr",
     "output_type": "stream",
     "text": [
      "\r",
      "  1%|          | 2/300 [00:00<01:08,  4.35it/s, loss=0.178476]"
     ]
    },
    {
     "name": "stderr",
     "output_type": "stream",
     "text": [
      "\r",
      "  1%|          | 2/300 [00:00<01:08,  4.35it/s, loss=0.179254]"
     ]
    },
    {
     "name": "stderr",
     "output_type": "stream",
     "text": [
      "\r",
      "  1%|          | 2/300 [00:00<01:08,  4.35it/s, loss=0.180684]"
     ]
    },
    {
     "name": "stderr",
     "output_type": "stream",
     "text": [
      "\r",
      "  1%|          | 2/300 [00:00<01:08,  4.35it/s, loss=0.181561]"
     ]
    },
    {
     "name": "stderr",
     "output_type": "stream",
     "text": [
      "\r",
      "  1%|          | 2/300 [00:00<01:08,  4.35it/s, loss=0.181224]"
     ]
    },
    {
     "name": "stderr",
     "output_type": "stream",
     "text": [
      "\r",
      "  1%|          | 2/300 [00:00<01:08,  4.35it/s, loss=0.180025]"
     ]
    },
    {
     "name": "stderr",
     "output_type": "stream",
     "text": [
      "\r",
      "  1%|          | 2/300 [00:00<01:08,  4.35it/s, loss=0.178864]"
     ]
    },
    {
     "name": "stderr",
     "output_type": "stream",
     "text": [
      "\r",
      "  1%|          | 2/300 [00:00<01:08,  4.35it/s, loss=0.178476]"
     ]
    },
    {
     "name": "stderr",
     "output_type": "stream",
     "text": [
      "\r",
      "  1%|          | 2/300 [00:00<01:08,  4.35it/s, loss=0.178954]"
     ]
    },
    {
     "name": "stderr",
     "output_type": "stream",
     "text": [
      "\r",
      "  1%|          | 2/300 [00:00<01:08,  4.35it/s, loss=0.179767]"
     ]
    },
    {
     "name": "stderr",
     "output_type": "stream",
     "text": [
      "\r",
      "  1%|          | 2/300 [00:00<01:08,  4.35it/s, loss=0.180180]"
     ]
    },
    {
     "name": "stderr",
     "output_type": "stream",
     "text": [
      "\r",
      "  1%|          | 2/300 [00:00<01:08,  4.35it/s, loss=0.179913]"
     ]
    },
    {
     "name": "stderr",
     "output_type": "stream",
     "text": [
      "\r",
      "  1%|          | 2/300 [00:00<01:08,  4.35it/s, loss=0.179186]"
     ]
    },
    {
     "name": "stderr",
     "output_type": "stream",
     "text": [
      "\r",
      "  1%|          | 2/300 [00:00<01:08,  4.35it/s, loss=0.178587]"
     ]
    },
    {
     "name": "stderr",
     "output_type": "stream",
     "text": [
      "\r",
      "  1%|          | 2/300 [00:00<01:08,  4.35it/s, loss=0.178518]"
     ]
    },
    {
     "name": "stderr",
     "output_type": "stream",
     "text": [
      "\r",
      "  1%|          | 2/300 [00:00<01:08,  4.35it/s, loss=0.178905]"
     ]
    },
    {
     "name": "stderr",
     "output_type": "stream",
     "text": [
      "\r",
      "  1%|          | 2/300 [00:00<01:08,  4.35it/s, loss=0.179340]"
     ]
    },
    {
     "name": "stderr",
     "output_type": "stream",
     "text": [
      "\r",
      "  1%|          | 2/300 [00:00<01:08,  4.35it/s, loss=0.179419]"
     ]
    },
    {
     "name": "stderr",
     "output_type": "stream",
     "text": [
      "\r",
      "  1%|          | 2/300 [00:00<01:08,  4.35it/s, loss=0.179117]"
     ]
    },
    {
     "name": "stderr",
     "output_type": "stream",
     "text": [
      "\r",
      "  1%|          | 2/300 [00:00<01:08,  4.35it/s, loss=0.178686]"
     ]
    },
    {
     "name": "stderr",
     "output_type": "stream",
     "text": [
      "\r",
      "  1%|          | 2/300 [00:00<01:08,  4.35it/s, loss=0.178476]"
     ]
    },
    {
     "name": "stderr",
     "output_type": "stream",
     "text": [
      "\r",
      "  1%|          | 2/300 [00:00<01:08,  4.35it/s, loss=0.178564]"
     ]
    },
    {
     "name": "stderr",
     "output_type": "stream",
     "text": [
      "\r",
      "  1%|          | 2/300 [00:00<01:08,  4.35it/s, loss=0.178805]"
     ]
    },
    {
     "name": "stderr",
     "output_type": "stream",
     "text": [
      "\r",
      "  1%|          | 2/300 [00:00<01:08,  4.35it/s, loss=0.178921]"
     ]
    },
    {
     "name": "stderr",
     "output_type": "stream",
     "text": [
      "\r",
      "  1%|          | 2/300 [00:00<01:08,  4.35it/s, loss=0.178842]"
     ]
    },
    {
     "name": "stderr",
     "output_type": "stream",
     "text": [
      "\r",
      " 18%|█▊        | 55/300 [00:00<00:01, 144.85it/s, loss=0.178842]"
     ]
    },
    {
     "name": "stderr",
     "output_type": "stream",
     "text": [
      "\r",
      " 18%|█▊        | 55/300 [00:00<00:01, 144.85it/s, loss=0.178635]"
     ]
    },
    {
     "name": "stderr",
     "output_type": "stream",
     "text": [
      "\r",
      " 18%|█▊        | 55/300 [00:00<00:01, 144.85it/s, loss=0.178481]"
     ]
    },
    {
     "name": "stderr",
     "output_type": "stream",
     "text": [
      "\r",
      " 18%|█▊        | 55/300 [00:00<00:01, 144.85it/s, loss=0.178504]"
     ]
    },
    {
     "name": "stderr",
     "output_type": "stream",
     "text": [
      "\r",
      " 18%|█▊        | 55/300 [00:00<00:01, 144.85it/s, loss=0.178619]"
     ]
    },
    {
     "name": "stderr",
     "output_type": "stream",
     "text": [
      "\r",
      " 18%|█▊        | 55/300 [00:00<00:01, 144.85it/s, loss=0.178692]"
     ]
    },
    {
     "name": "stderr",
     "output_type": "stream",
     "text": [
      "\r",
      " 18%|█▊        | 55/300 [00:00<00:01, 144.85it/s, loss=0.178671]"
     ]
    },
    {
     "name": "stderr",
     "output_type": "stream",
     "text": [
      "\r",
      " 18%|█▊        | 55/300 [00:00<00:01, 144.85it/s, loss=0.178571]"
     ]
    },
    {
     "name": "stderr",
     "output_type": "stream",
     "text": [
      "\r",
      " 18%|█▊        | 55/300 [00:00<00:01, 144.85it/s, loss=0.178484]"
     ]
    },
    {
     "name": "stderr",
     "output_type": "stream",
     "text": [
      "\r",
      " 18%|█▊        | 55/300 [00:00<00:01, 144.85it/s, loss=0.178476]"
     ]
    },
    {
     "name": "stderr",
     "output_type": "stream",
     "text": [
      "\r",
      " 18%|█▊        | 55/300 [00:00<00:01, 144.85it/s, loss=0.178543]"
     ]
    },
    {
     "name": "stderr",
     "output_type": "stream",
     "text": [
      "\r",
      " 18%|█▊        | 55/300 [00:00<00:01, 144.85it/s, loss=0.178615]"
     ]
    },
    {
     "name": "stderr",
     "output_type": "stream",
     "text": [
      "\r",
      " 18%|█▊        | 55/300 [00:00<00:01, 144.85it/s, loss=0.178610]"
     ]
    },
    {
     "name": "stderr",
     "output_type": "stream",
     "text": [
      "\r",
      " 18%|█▊        | 55/300 [00:00<00:01, 144.85it/s, loss=0.178539]"
     ]
    },
    {
     "name": "stderr",
     "output_type": "stream",
     "text": [
      "\r",
      " 18%|█▊        | 55/300 [00:00<00:01, 144.85it/s, loss=0.178477]"
     ]
    },
    {
     "name": "stderr",
     "output_type": "stream",
     "text": [
      "\r",
      " 18%|█▊        | 55/300 [00:00<00:01, 144.85it/s, loss=0.178476]"
     ]
    },
    {
     "name": "stderr",
     "output_type": "stream",
     "text": [
      "\r",
      " 18%|█▊        | 55/300 [00:00<00:01, 144.85it/s, loss=0.178529]"
     ]
    },
    {
     "name": "stderr",
     "output_type": "stream",
     "text": [
      "\r",
      " 18%|█▊        | 55/300 [00:00<00:01, 144.85it/s, loss=0.178572]"
     ]
    },
    {
     "name": "stderr",
     "output_type": "stream",
     "text": [
      "\r",
      " 18%|█▊        | 55/300 [00:00<00:01, 144.85it/s, loss=0.178567]"
     ]
    },
    {
     "name": "stderr",
     "output_type": "stream",
     "text": [
      "\r",
      " 18%|█▊        | 55/300 [00:00<00:01, 144.85it/s, loss=0.178523]"
     ]
    },
    {
     "name": "stderr",
     "output_type": "stream",
     "text": [
      "\r",
      " 18%|█▊        | 55/300 [00:00<00:01, 144.85it/s, loss=0.178476]"
     ]
    },
    {
     "name": "stderr",
     "output_type": "stream",
     "text": [
      "\r",
      " 18%|█▊        | 55/300 [00:00<00:01, 144.85it/s, loss=0.178476]"
     ]
    },
    {
     "name": "stderr",
     "output_type": "stream",
     "text": [
      "\r",
      " 18%|█▊        | 55/300 [00:00<00:01, 144.85it/s, loss=0.178503]"
     ]
    },
    {
     "name": "stderr",
     "output_type": "stream",
     "text": [
      "\r",
      " 18%|█▊        | 55/300 [00:00<00:01, 144.85it/s, loss=0.178522]"
     ]
    },
    {
     "name": "stderr",
     "output_type": "stream",
     "text": [
      "\r",
      " 18%|█▊        | 55/300 [00:00<00:01, 144.85it/s, loss=0.178515]"
     ]
    },
    {
     "name": "stderr",
     "output_type": "stream",
     "text": [
      "\r",
      " 18%|█▊        | 55/300 [00:00<00:01, 144.85it/s, loss=0.178484]"
     ]
    },
    {
     "name": "stderr",
     "output_type": "stream",
     "text": [
      "\r",
      " 18%|█▊        | 55/300 [00:00<00:01, 144.85it/s, loss=0.178476]"
     ]
    },
    {
     "name": "stderr",
     "output_type": "stream",
     "text": [
      "\r",
      " 18%|█▊        | 55/300 [00:00<00:01, 144.85it/s, loss=0.178484]"
     ]
    },
    {
     "name": "stderr",
     "output_type": "stream",
     "text": [
      "\r",
      " 18%|█▊        | 55/300 [00:00<00:01, 144.85it/s, loss=0.178513]"
     ]
    },
    {
     "name": "stderr",
     "output_type": "stream",
     "text": [
      "\r",
      " 18%|█▊        | 55/300 [00:00<00:01, 144.85it/s, loss=0.178516]"
     ]
    },
    {
     "name": "stderr",
     "output_type": "stream",
     "text": [
      "\r",
      " 18%|█▊        | 55/300 [00:00<00:01, 144.85it/s, loss=0.178493]"
     ]
    },
    {
     "name": "stderr",
     "output_type": "stream",
     "text": [
      "\r",
      " 18%|█▊        | 55/300 [00:00<00:01, 144.85it/s, loss=0.178476]"
     ]
    },
    {
     "name": "stderr",
     "output_type": "stream",
     "text": [
      "\r",
      " 18%|█▊        | 55/300 [00:00<00:01, 144.85it/s, loss=0.178476]"
     ]
    },
    {
     "name": "stderr",
     "output_type": "stream",
     "text": [
      "\r",
      " 18%|█▊        | 55/300 [00:00<00:01, 144.85it/s, loss=0.178500]"
     ]
    },
    {
     "name": "stderr",
     "output_type": "stream",
     "text": [
      "\r",
      " 18%|█▊        | 55/300 [00:00<00:01, 144.85it/s, loss=0.178508]"
     ]
    },
    {
     "name": "stderr",
     "output_type": "stream",
     "text": [
      "\r",
      " 18%|█▊        | 55/300 [00:00<00:01, 144.85it/s, loss=0.178490]"
     ]
    },
    {
     "name": "stderr",
     "output_type": "stream",
     "text": [
      "\r",
      " 18%|█▊        | 55/300 [00:00<00:01, 144.85it/s, loss=0.178476]"
     ]
    },
    {
     "name": "stderr",
     "output_type": "stream",
     "text": [
      "\r",
      " 18%|█▊        | 55/300 [00:00<00:01, 144.85it/s, loss=0.178476]"
     ]
    },
    {
     "name": "stderr",
     "output_type": "stream",
     "text": [
      "\r",
      " 18%|█▊        | 55/300 [00:00<00:01, 144.85it/s, loss=0.178494]"
     ]
    },
    {
     "name": "stderr",
     "output_type": "stream",
     "text": [
      "\r",
      " 18%|█▊        | 55/300 [00:00<00:01, 144.85it/s, loss=0.178499]"
     ]
    },
    {
     "name": "stderr",
     "output_type": "stream",
     "text": [
      "\r",
      " 18%|█▊        | 55/300 [00:00<00:01, 144.85it/s, loss=0.178481]"
     ]
    },
    {
     "name": "stderr",
     "output_type": "stream",
     "text": [
      "\r",
      " 18%|█▊        | 55/300 [00:00<00:01, 144.85it/s, loss=0.178476]"
     ]
    },
    {
     "name": "stderr",
     "output_type": "stream",
     "text": [
      "\r",
      " 18%|█▊        | 55/300 [00:00<00:01, 144.85it/s, loss=0.178476]"
     ]
    },
    {
     "name": "stderr",
     "output_type": "stream",
     "text": [
      "\r",
      " 18%|█▊        | 55/300 [00:00<00:01, 144.85it/s, loss=0.178481]"
     ]
    },
    {
     "name": "stderr",
     "output_type": "stream",
     "text": [
      "\r",
      " 18%|█▊        | 55/300 [00:00<00:01, 144.85it/s, loss=0.178492]"
     ]
    },
    {
     "name": "stderr",
     "output_type": "stream",
     "text": [
      "\r",
      " 18%|█▊        | 55/300 [00:00<00:01, 144.85it/s, loss=0.178478]"
     ]
    },
    {
     "name": "stderr",
     "output_type": "stream",
     "text": [
      "\r",
      " 18%|█▊        | 55/300 [00:00<00:01, 144.85it/s, loss=0.178476]"
     ]
    },
    {
     "name": "stderr",
     "output_type": "stream",
     "text": [
      "\r",
      " 18%|█▊        | 55/300 [00:00<00:01, 144.85it/s, loss=0.178476]"
     ]
    },
    {
     "name": "stderr",
     "output_type": "stream",
     "text": [
      "\r",
      " 18%|█▊        | 55/300 [00:00<00:01, 144.85it/s, loss=0.178479]"
     ]
    },
    {
     "name": "stderr",
     "output_type": "stream",
     "text": [
      "\r",
      " 18%|█▊        | 55/300 [00:00<00:01, 144.85it/s, loss=0.178483]"
     ]
    },
    {
     "name": "stderr",
     "output_type": "stream",
     "text": [
      "\r",
      " 18%|█▊        | 55/300 [00:00<00:01, 144.85it/s, loss=0.178479]"
     ]
    },
    {
     "name": "stderr",
     "output_type": "stream",
     "text": [
      "\r",
      " 18%|█▊        | 55/300 [00:00<00:01, 144.85it/s, loss=0.178476]"
     ]
    },
    {
     "name": "stderr",
     "output_type": "stream",
     "text": [
      "\r",
      " 18%|█▊        | 55/300 [00:00<00:01, 144.85it/s, loss=0.178476]"
     ]
    },
    {
     "name": "stderr",
     "output_type": "stream",
     "text": [
      "\r",
      " 36%|███▌      | 107/300 [00:00<00:00, 248.05it/s, loss=0.178476]"
     ]
    },
    {
     "name": "stderr",
     "output_type": "stream",
     "text": [
      "\r",
      " 36%|███▌      | 107/300 [00:00<00:00, 248.05it/s, loss=0.178476]"
     ]
    },
    {
     "name": "stderr",
     "output_type": "stream",
     "text": [
      "\r",
      " 36%|███▌      | 107/300 [00:00<00:00, 248.05it/s, loss=0.178476]"
     ]
    },
    {
     "name": "stderr",
     "output_type": "stream",
     "text": [
      "\r",
      " 36%|███▌      | 107/300 [00:00<00:00, 248.05it/s, loss=0.178480]"
     ]
    },
    {
     "name": "stderr",
     "output_type": "stream",
     "text": [
      "\r",
      " 36%|███▌      | 107/300 [00:00<00:00, 248.05it/s, loss=0.178478]"
     ]
    },
    {
     "name": "stderr",
     "output_type": "stream",
     "text": [
      "\r",
      " 36%|███▌      | 107/300 [00:00<00:00, 248.05it/s, loss=0.178476]"
     ]
    },
    {
     "name": "stderr",
     "output_type": "stream",
     "text": [
      "\r",
      " 36%|███▌      | 107/300 [00:00<00:00, 248.05it/s, loss=0.178476]"
     ]
    },
    {
     "name": "stderr",
     "output_type": "stream",
     "text": [
      "\r",
      " 36%|███▌      | 107/300 [00:00<00:00, 248.05it/s, loss=0.178476]"
     ]
    },
    {
     "name": "stderr",
     "output_type": "stream",
     "text": [
      "\r",
      " 36%|███▌      | 107/300 [00:00<00:00, 248.05it/s, loss=0.178476]"
     ]
    },
    {
     "name": "stderr",
     "output_type": "stream",
     "text": [
      "\r",
      " 36%|███▌      | 107/300 [00:00<00:00, 248.05it/s, loss=0.178476]"
     ]
    },
    {
     "name": "stderr",
     "output_type": "stream",
     "text": [
      "\r",
      " 36%|███▌      | 107/300 [00:00<00:00, 248.05it/s, loss=0.178477]"
     ]
    },
    {
     "name": "stderr",
     "output_type": "stream",
     "text": [
      "\r",
      " 36%|███▌      | 107/300 [00:00<00:00, 248.05it/s, loss=0.178476]"
     ]
    },
    {
     "name": "stderr",
     "output_type": "stream",
     "text": [
      "\r",
      " 36%|███▌      | 107/300 [00:00<00:00, 248.05it/s, loss=0.178476]"
     ]
    },
    {
     "name": "stderr",
     "output_type": "stream",
     "text": [
      "\r",
      " 36%|███▌      | 107/300 [00:00<00:00, 248.05it/s, loss=0.178476]"
     ]
    },
    {
     "name": "stderr",
     "output_type": "stream",
     "text": [
      "\r",
      " 36%|███▌      | 107/300 [00:00<00:00, 248.05it/s, loss=0.178476]"
     ]
    },
    {
     "name": "stderr",
     "output_type": "stream",
     "text": [
      "\r",
      " 36%|███▌      | 107/300 [00:00<00:00, 248.05it/s, loss=0.178476]"
     ]
    },
    {
     "name": "stderr",
     "output_type": "stream",
     "text": [
      "\r",
      " 36%|███▌      | 107/300 [00:00<00:00, 248.05it/s, loss=0.178476]"
     ]
    },
    {
     "name": "stderr",
     "output_type": "stream",
     "text": [
      "\r",
      " 36%|███▌      | 107/300 [00:00<00:00, 248.05it/s, loss=0.178476]"
     ]
    },
    {
     "name": "stderr",
     "output_type": "stream",
     "text": [
      "\r",
      " 36%|███▌      | 107/300 [00:00<00:00, 248.05it/s, loss=0.178476]"
     ]
    },
    {
     "name": "stderr",
     "output_type": "stream",
     "text": [
      "\r",
      " 36%|███▌      | 107/300 [00:00<00:00, 248.05it/s, loss=0.178476]"
     ]
    },
    {
     "name": "stderr",
     "output_type": "stream",
     "text": [
      "\r",
      " 36%|███▌      | 107/300 [00:00<00:00, 248.05it/s, loss=0.178476]"
     ]
    },
    {
     "name": "stderr",
     "output_type": "stream",
     "text": [
      "\r",
      " 36%|███▌      | 107/300 [00:00<00:00, 248.05it/s, loss=0.178476]"
     ]
    },
    {
     "name": "stderr",
     "output_type": "stream",
     "text": [
      "\r",
      " 36%|███▌      | 107/300 [00:00<00:00, 248.05it/s, loss=0.178476]"
     ]
    },
    {
     "name": "stderr",
     "output_type": "stream",
     "text": [
      "\r",
      " 36%|███▌      | 107/300 [00:00<00:00, 248.05it/s, loss=0.178476]"
     ]
    },
    {
     "name": "stderr",
     "output_type": "stream",
     "text": [
      "\r",
      " 36%|███▌      | 107/300 [00:00<00:00, 248.05it/s, loss=0.178476]"
     ]
    },
    {
     "name": "stderr",
     "output_type": "stream",
     "text": [
      "\r",
      " 36%|███▌      | 107/300 [00:00<00:00, 248.05it/s, loss=0.178476]"
     ]
    },
    {
     "name": "stderr",
     "output_type": "stream",
     "text": [
      "\r",
      " 36%|███▌      | 107/300 [00:00<00:00, 248.05it/s, loss=0.178476]"
     ]
    },
    {
     "name": "stderr",
     "output_type": "stream",
     "text": [
      "\r",
      " 36%|███▌      | 107/300 [00:00<00:00, 248.05it/s, loss=0.178476]"
     ]
    },
    {
     "name": "stderr",
     "output_type": "stream",
     "text": [
      "\r",
      " 36%|███▌      | 107/300 [00:00<00:00, 248.05it/s, loss=0.178476]"
     ]
    },
    {
     "name": "stderr",
     "output_type": "stream",
     "text": [
      "\r",
      " 36%|███▌      | 107/300 [00:00<00:00, 248.05it/s, loss=0.178476]"
     ]
    },
    {
     "name": "stderr",
     "output_type": "stream",
     "text": [
      "\r",
      " 36%|███▌      | 107/300 [00:00<00:00, 248.05it/s, loss=0.178476]"
     ]
    },
    {
     "name": "stderr",
     "output_type": "stream",
     "text": [
      "\r",
      " 36%|███▌      | 107/300 [00:00<00:00, 248.05it/s, loss=0.178476]"
     ]
    },
    {
     "name": "stderr",
     "output_type": "stream",
     "text": [
      "\r",
      " 36%|███▌      | 107/300 [00:00<00:00, 248.05it/s, loss=0.178476]"
     ]
    },
    {
     "name": "stderr",
     "output_type": "stream",
     "text": [
      "\r",
      " 36%|███▌      | 107/300 [00:00<00:00, 248.05it/s, loss=0.178476]"
     ]
    },
    {
     "name": "stderr",
     "output_type": "stream",
     "text": [
      "\r",
      " 36%|███▌      | 107/300 [00:00<00:00, 248.05it/s, loss=0.178476]"
     ]
    },
    {
     "name": "stderr",
     "output_type": "stream",
     "text": [
      "\r",
      " 36%|███▌      | 107/300 [00:00<00:00, 248.05it/s, loss=0.178476]"
     ]
    },
    {
     "name": "stderr",
     "output_type": "stream",
     "text": [
      "\r",
      " 36%|███▌      | 107/300 [00:00<00:00, 248.05it/s, loss=0.178476]"
     ]
    },
    {
     "name": "stderr",
     "output_type": "stream",
     "text": [
      "\r",
      " 36%|███▌      | 107/300 [00:00<00:00, 248.05it/s, loss=0.178476]"
     ]
    },
    {
     "name": "stderr",
     "output_type": "stream",
     "text": [
      "\r",
      " 36%|███▌      | 107/300 [00:00<00:00, 248.05it/s, loss=0.178476]"
     ]
    },
    {
     "name": "stderr",
     "output_type": "stream",
     "text": [
      "\r",
      " 36%|███▌      | 107/300 [00:00<00:00, 248.05it/s, loss=0.178476]"
     ]
    },
    {
     "name": "stderr",
     "output_type": "stream",
     "text": [
      "\r",
      " 36%|███▌      | 107/300 [00:00<00:00, 248.05it/s, loss=0.178476]"
     ]
    },
    {
     "name": "stderr",
     "output_type": "stream",
     "text": [
      "\r",
      " 36%|███▌      | 107/300 [00:00<00:00, 248.05it/s, loss=0.178476]"
     ]
    },
    {
     "name": "stderr",
     "output_type": "stream",
     "text": [
      "\r",
      " 36%|███▌      | 107/300 [00:00<00:00, 248.05it/s, loss=0.178476]"
     ]
    },
    {
     "name": "stderr",
     "output_type": "stream",
     "text": [
      "\r",
      " 36%|███▌      | 107/300 [00:00<00:00, 248.05it/s, loss=0.178476]"
     ]
    },
    {
     "name": "stderr",
     "output_type": "stream",
     "text": [
      "\r",
      " 36%|███▌      | 107/300 [00:00<00:00, 248.05it/s, loss=0.178476]"
     ]
    },
    {
     "name": "stderr",
     "output_type": "stream",
     "text": [
      "\r",
      " 36%|███▌      | 107/300 [00:00<00:00, 248.05it/s, loss=0.178476]"
     ]
    },
    {
     "name": "stderr",
     "output_type": "stream",
     "text": [
      "\r",
      " 36%|███▌      | 107/300 [00:00<00:00, 248.05it/s, loss=0.178476]"
     ]
    },
    {
     "name": "stderr",
     "output_type": "stream",
     "text": [
      "\r",
      " 36%|███▌      | 107/300 [00:00<00:00, 248.05it/s, loss=0.178476]"
     ]
    },
    {
     "name": "stderr",
     "output_type": "stream",
     "text": [
      "\r",
      " 36%|███▌      | 107/300 [00:00<00:00, 248.05it/s, loss=0.178476]"
     ]
    },
    {
     "name": "stderr",
     "output_type": "stream",
     "text": [
      "\r",
      " 36%|███▌      | 107/300 [00:00<00:00, 248.05it/s, loss=0.178476]"
     ]
    },
    {
     "name": "stderr",
     "output_type": "stream",
     "text": [
      "\r",
      " 36%|███▌      | 107/300 [00:00<00:00, 248.05it/s, loss=0.178476]"
     ]
    },
    {
     "name": "stderr",
     "output_type": "stream",
     "text": [
      "\r",
      " 36%|███▌      | 107/300 [00:00<00:00, 248.05it/s, loss=0.178476]"
     ]
    },
    {
     "name": "stderr",
     "output_type": "stream",
     "text": [
      "\r",
      " 36%|███▌      | 107/300 [00:00<00:00, 248.05it/s, loss=0.178476]"
     ]
    },
    {
     "name": "stderr",
     "output_type": "stream",
     "text": [
      "\r",
      " 36%|███▌      | 107/300 [00:00<00:00, 248.05it/s, loss=0.178476]"
     ]
    },
    {
     "name": "stderr",
     "output_type": "stream",
     "text": [
      "\r",
      " 53%|█████▎    | 160/300 [00:00<00:00, 326.48it/s, loss=0.178476]"
     ]
    },
    {
     "name": "stderr",
     "output_type": "stream",
     "text": [
      "\r",
      " 53%|█████▎    | 160/300 [00:00<00:00, 326.48it/s, loss=0.178476]"
     ]
    },
    {
     "name": "stderr",
     "output_type": "stream",
     "text": [
      "\r",
      " 53%|█████▎    | 160/300 [00:00<00:00, 326.48it/s, loss=0.178476]"
     ]
    },
    {
     "name": "stderr",
     "output_type": "stream",
     "text": [
      "\r",
      " 53%|█████▎    | 160/300 [00:00<00:00, 326.48it/s, loss=0.178476]"
     ]
    },
    {
     "name": "stderr",
     "output_type": "stream",
     "text": [
      "\r",
      " 53%|█████▎    | 160/300 [00:00<00:00, 326.48it/s, loss=0.178476]"
     ]
    },
    {
     "name": "stderr",
     "output_type": "stream",
     "text": [
      "\r",
      " 53%|█████▎    | 160/300 [00:00<00:00, 326.48it/s, loss=0.178476]"
     ]
    },
    {
     "name": "stderr",
     "output_type": "stream",
     "text": [
      "\r",
      " 53%|█████▎    | 160/300 [00:00<00:00, 326.48it/s, loss=0.178476]"
     ]
    },
    {
     "name": "stderr",
     "output_type": "stream",
     "text": [
      "\r",
      " 53%|█████▎    | 160/300 [00:00<00:00, 326.48it/s, loss=0.178476]"
     ]
    },
    {
     "name": "stderr",
     "output_type": "stream",
     "text": [
      "\r",
      " 53%|█████▎    | 160/300 [00:00<00:00, 326.48it/s, loss=0.178476]"
     ]
    },
    {
     "name": "stderr",
     "output_type": "stream",
     "text": [
      "\r",
      " 53%|█████▎    | 160/300 [00:00<00:00, 326.48it/s, loss=0.178476]"
     ]
    },
    {
     "name": "stderr",
     "output_type": "stream",
     "text": [
      "\r",
      " 53%|█████▎    | 160/300 [00:00<00:00, 326.48it/s, loss=0.178476]"
     ]
    },
    {
     "name": "stderr",
     "output_type": "stream",
     "text": [
      "\r",
      " 53%|█████▎    | 160/300 [00:00<00:00, 326.48it/s, loss=0.178476]"
     ]
    },
    {
     "name": "stderr",
     "output_type": "stream",
     "text": [
      "\r",
      " 53%|█████▎    | 160/300 [00:00<00:00, 326.48it/s, loss=0.178476]"
     ]
    },
    {
     "name": "stderr",
     "output_type": "stream",
     "text": [
      "\r",
      " 53%|█████▎    | 160/300 [00:00<00:00, 326.48it/s, loss=0.178476]"
     ]
    },
    {
     "name": "stderr",
     "output_type": "stream",
     "text": [
      "\r",
      " 53%|█████▎    | 160/300 [00:00<00:00, 326.48it/s, loss=0.178476]"
     ]
    },
    {
     "name": "stderr",
     "output_type": "stream",
     "text": [
      "\r",
      " 53%|█████▎    | 160/300 [00:00<00:00, 326.48it/s, loss=0.178476]"
     ]
    },
    {
     "name": "stderr",
     "output_type": "stream",
     "text": [
      "\r",
      " 53%|█████▎    | 160/300 [00:00<00:00, 326.48it/s, loss=0.178476]"
     ]
    },
    {
     "name": "stderr",
     "output_type": "stream",
     "text": [
      "\r",
      " 53%|█████▎    | 160/300 [00:00<00:00, 326.48it/s, loss=0.178476]"
     ]
    },
    {
     "name": "stderr",
     "output_type": "stream",
     "text": [
      "\r",
      " 53%|█████▎    | 160/300 [00:00<00:00, 326.48it/s, loss=0.178476]"
     ]
    },
    {
     "name": "stderr",
     "output_type": "stream",
     "text": [
      "\r",
      " 53%|█████▎    | 160/300 [00:00<00:00, 326.48it/s, loss=0.178476]"
     ]
    },
    {
     "name": "stderr",
     "output_type": "stream",
     "text": [
      "\r",
      " 53%|█████▎    | 160/300 [00:00<00:00, 326.48it/s, loss=0.178476]"
     ]
    },
    {
     "name": "stderr",
     "output_type": "stream",
     "text": [
      "\r",
      " 53%|█████▎    | 160/300 [00:00<00:00, 326.48it/s, loss=0.178476]"
     ]
    },
    {
     "name": "stderr",
     "output_type": "stream",
     "text": [
      "\r",
      " 53%|█████▎    | 160/300 [00:00<00:00, 326.48it/s, loss=0.178476]"
     ]
    },
    {
     "name": "stderr",
     "output_type": "stream",
     "text": [
      "\r",
      " 53%|█████▎    | 160/300 [00:00<00:00, 326.48it/s, loss=0.178476]"
     ]
    },
    {
     "name": "stderr",
     "output_type": "stream",
     "text": [
      "\r",
      " 53%|█████▎    | 160/300 [00:00<00:00, 326.48it/s, loss=0.178476]"
     ]
    },
    {
     "name": "stderr",
     "output_type": "stream",
     "text": [
      "\r",
      " 53%|█████▎    | 160/300 [00:00<00:00, 326.48it/s, loss=0.178476]"
     ]
    },
    {
     "name": "stderr",
     "output_type": "stream",
     "text": [
      "\r",
      " 53%|█████▎    | 160/300 [00:00<00:00, 326.48it/s, loss=0.178476]"
     ]
    },
    {
     "name": "stderr",
     "output_type": "stream",
     "text": [
      "\r",
      " 53%|█████▎    | 160/300 [00:00<00:00, 326.48it/s, loss=0.178476]"
     ]
    },
    {
     "name": "stderr",
     "output_type": "stream",
     "text": [
      "\r",
      " 53%|█████▎    | 160/300 [00:00<00:00, 326.48it/s, loss=0.178476]"
     ]
    },
    {
     "name": "stderr",
     "output_type": "stream",
     "text": [
      "\r",
      " 53%|█████▎    | 160/300 [00:00<00:00, 326.48it/s, loss=0.178476]"
     ]
    },
    {
     "name": "stderr",
     "output_type": "stream",
     "text": [
      "\r",
      " 53%|█████▎    | 160/300 [00:00<00:00, 326.48it/s, loss=0.178476]"
     ]
    },
    {
     "name": "stderr",
     "output_type": "stream",
     "text": [
      "\r",
      " 53%|█████▎    | 160/300 [00:00<00:00, 326.48it/s, loss=0.178476]"
     ]
    },
    {
     "name": "stderr",
     "output_type": "stream",
     "text": [
      "\r",
      " 53%|█████▎    | 160/300 [00:00<00:00, 326.48it/s, loss=0.178476]"
     ]
    },
    {
     "name": "stderr",
     "output_type": "stream",
     "text": [
      "\r",
      " 53%|█████▎    | 160/300 [00:00<00:00, 326.48it/s, loss=0.178476]"
     ]
    },
    {
     "name": "stderr",
     "output_type": "stream",
     "text": [
      "\r",
      " 53%|█████▎    | 160/300 [00:00<00:00, 326.48it/s, loss=0.178476]"
     ]
    },
    {
     "name": "stderr",
     "output_type": "stream",
     "text": [
      "\r",
      " 53%|█████▎    | 160/300 [00:00<00:00, 326.48it/s, loss=0.178476]"
     ]
    },
    {
     "name": "stderr",
     "output_type": "stream",
     "text": [
      "\r",
      " 53%|█████▎    | 160/300 [00:00<00:00, 326.48it/s, loss=0.178476]"
     ]
    },
    {
     "name": "stderr",
     "output_type": "stream",
     "text": [
      "\r",
      " 53%|█████▎    | 160/300 [00:00<00:00, 326.48it/s, loss=0.178476]"
     ]
    },
    {
     "name": "stderr",
     "output_type": "stream",
     "text": [
      "\r",
      " 53%|█████▎    | 160/300 [00:00<00:00, 326.48it/s, loss=0.178476]"
     ]
    },
    {
     "name": "stderr",
     "output_type": "stream",
     "text": [
      "\r",
      " 53%|█████▎    | 160/300 [00:00<00:00, 326.48it/s, loss=0.178476]"
     ]
    },
    {
     "name": "stderr",
     "output_type": "stream",
     "text": [
      "\r",
      " 53%|█████▎    | 160/300 [00:00<00:00, 326.48it/s, loss=0.178476]"
     ]
    },
    {
     "name": "stderr",
     "output_type": "stream",
     "text": [
      "\r",
      " 53%|█████▎    | 160/300 [00:00<00:00, 326.48it/s, loss=0.178476]"
     ]
    },
    {
     "name": "stderr",
     "output_type": "stream",
     "text": [
      "\r",
      " 53%|█████▎    | 160/300 [00:00<00:00, 326.48it/s, loss=0.178476]"
     ]
    },
    {
     "name": "stderr",
     "output_type": "stream",
     "text": [
      "\r",
      " 53%|█████▎    | 160/300 [00:00<00:00, 326.48it/s, loss=0.178476]"
     ]
    },
    {
     "name": "stderr",
     "output_type": "stream",
     "text": [
      "\r",
      " 53%|█████▎    | 160/300 [00:00<00:00, 326.48it/s, loss=0.178476]"
     ]
    },
    {
     "name": "stderr",
     "output_type": "stream",
     "text": [
      "\r",
      " 53%|█████▎    | 160/300 [00:00<00:00, 326.48it/s, loss=0.178476]"
     ]
    },
    {
     "name": "stderr",
     "output_type": "stream",
     "text": [
      "\r",
      " 53%|█████▎    | 160/300 [00:00<00:00, 326.48it/s, loss=0.178476]"
     ]
    },
    {
     "name": "stderr",
     "output_type": "stream",
     "text": [
      "\r",
      " 53%|█████▎    | 160/300 [00:00<00:00, 326.48it/s, loss=0.178476]"
     ]
    },
    {
     "name": "stderr",
     "output_type": "stream",
     "text": [
      "\r",
      " 53%|█████▎    | 160/300 [00:00<00:00, 326.48it/s, loss=0.178476]"
     ]
    },
    {
     "name": "stderr",
     "output_type": "stream",
     "text": [
      "\r",
      " 53%|█████▎    | 160/300 [00:00<00:00, 326.48it/s, loss=0.178476]"
     ]
    },
    {
     "name": "stderr",
     "output_type": "stream",
     "text": [
      "\r",
      " 53%|█████▎    | 160/300 [00:00<00:00, 326.48it/s, loss=0.178476]"
     ]
    },
    {
     "name": "stderr",
     "output_type": "stream",
     "text": [
      "\r",
      " 53%|█████▎    | 160/300 [00:00<00:00, 326.48it/s, loss=0.178476]"
     ]
    },
    {
     "name": "stderr",
     "output_type": "stream",
     "text": [
      "\r",
      " 53%|█████▎    | 160/300 [00:00<00:00, 326.48it/s, loss=0.178476]"
     ]
    },
    {
     "name": "stderr",
     "output_type": "stream",
     "text": [
      "\r",
      " 71%|███████   | 212/300 [00:00<00:00, 379.49it/s, loss=0.178476]"
     ]
    },
    {
     "name": "stderr",
     "output_type": "stream",
     "text": [
      "\r",
      " 71%|███████   | 212/300 [00:00<00:00, 379.49it/s, loss=0.178476]"
     ]
    },
    {
     "name": "stderr",
     "output_type": "stream",
     "text": [
      "\r",
      " 71%|███████   | 212/300 [00:00<00:00, 379.49it/s, loss=0.178476]"
     ]
    },
    {
     "name": "stderr",
     "output_type": "stream",
     "text": [
      "\r",
      " 71%|███████   | 212/300 [00:00<00:00, 379.49it/s, loss=0.178476]"
     ]
    },
    {
     "name": "stderr",
     "output_type": "stream",
     "text": [
      "\r",
      " 71%|███████   | 212/300 [00:00<00:00, 379.49it/s, loss=0.178476]"
     ]
    },
    {
     "name": "stderr",
     "output_type": "stream",
     "text": [
      "\r",
      " 71%|███████   | 212/300 [00:00<00:00, 379.49it/s, loss=0.178476]"
     ]
    },
    {
     "name": "stderr",
     "output_type": "stream",
     "text": [
      "\r",
      " 71%|███████   | 212/300 [00:00<00:00, 379.49it/s, loss=0.178476]"
     ]
    },
    {
     "name": "stderr",
     "output_type": "stream",
     "text": [
      "\r",
      " 71%|███████   | 212/300 [00:00<00:00, 379.49it/s, loss=0.178476]"
     ]
    },
    {
     "name": "stderr",
     "output_type": "stream",
     "text": [
      "\r",
      " 71%|███████   | 212/300 [00:00<00:00, 379.49it/s, loss=0.178476]"
     ]
    },
    {
     "name": "stderr",
     "output_type": "stream",
     "text": [
      "\r",
      " 71%|███████   | 212/300 [00:00<00:00, 379.49it/s, loss=0.178476]"
     ]
    },
    {
     "name": "stderr",
     "output_type": "stream",
     "text": [
      "\r",
      " 71%|███████   | 212/300 [00:00<00:00, 379.49it/s, loss=0.178476]"
     ]
    },
    {
     "name": "stderr",
     "output_type": "stream",
     "text": [
      "\r",
      " 71%|███████   | 212/300 [00:00<00:00, 379.49it/s, loss=0.178476]"
     ]
    },
    {
     "name": "stderr",
     "output_type": "stream",
     "text": [
      "\r",
      " 71%|███████   | 212/300 [00:00<00:00, 379.49it/s, loss=0.178476]"
     ]
    },
    {
     "name": "stderr",
     "output_type": "stream",
     "text": [
      "\r",
      " 71%|███████   | 212/300 [00:00<00:00, 379.49it/s, loss=0.178476]"
     ]
    },
    {
     "name": "stderr",
     "output_type": "stream",
     "text": [
      "\r",
      " 71%|███████   | 212/300 [00:00<00:00, 379.49it/s, loss=0.178476]"
     ]
    },
    {
     "name": "stderr",
     "output_type": "stream",
     "text": [
      "\r",
      " 71%|███████   | 212/300 [00:00<00:00, 379.49it/s, loss=0.178476]"
     ]
    },
    {
     "name": "stderr",
     "output_type": "stream",
     "text": [
      "\r",
      " 71%|███████   | 212/300 [00:00<00:00, 379.49it/s, loss=0.178476]"
     ]
    },
    {
     "name": "stderr",
     "output_type": "stream",
     "text": [
      "\r",
      " 71%|███████   | 212/300 [00:00<00:00, 379.49it/s, loss=0.178476]"
     ]
    },
    {
     "name": "stderr",
     "output_type": "stream",
     "text": [
      "\r",
      " 71%|███████   | 212/300 [00:00<00:00, 379.49it/s, loss=0.178476]"
     ]
    },
    {
     "name": "stderr",
     "output_type": "stream",
     "text": [
      "\r",
      " 71%|███████   | 212/300 [00:00<00:00, 379.49it/s, loss=0.178476]"
     ]
    },
    {
     "name": "stderr",
     "output_type": "stream",
     "text": [
      "\r",
      " 71%|███████   | 212/300 [00:00<00:00, 379.49it/s, loss=0.178476]"
     ]
    },
    {
     "name": "stderr",
     "output_type": "stream",
     "text": [
      "\r",
      " 71%|███████   | 212/300 [00:00<00:00, 379.49it/s, loss=0.178476]"
     ]
    },
    {
     "name": "stderr",
     "output_type": "stream",
     "text": [
      "\r",
      " 71%|███████   | 212/300 [00:00<00:00, 379.49it/s, loss=0.178476]"
     ]
    },
    {
     "name": "stderr",
     "output_type": "stream",
     "text": [
      "\r",
      " 71%|███████   | 212/300 [00:00<00:00, 379.49it/s, loss=0.178476]"
     ]
    },
    {
     "name": "stderr",
     "output_type": "stream",
     "text": [
      "\r",
      " 71%|███████   | 212/300 [00:00<00:00, 379.49it/s, loss=0.178476]"
     ]
    },
    {
     "name": "stderr",
     "output_type": "stream",
     "text": [
      "\r",
      " 71%|███████   | 212/300 [00:00<00:00, 379.49it/s, loss=0.178476]"
     ]
    },
    {
     "name": "stderr",
     "output_type": "stream",
     "text": [
      "\r",
      " 71%|███████   | 212/300 [00:00<00:00, 379.49it/s, loss=0.178476]"
     ]
    },
    {
     "name": "stderr",
     "output_type": "stream",
     "text": [
      "\r",
      " 71%|███████   | 212/300 [00:00<00:00, 379.49it/s, loss=0.178476]"
     ]
    },
    {
     "name": "stderr",
     "output_type": "stream",
     "text": [
      "\r",
      " 71%|███████   | 212/300 [00:00<00:00, 379.49it/s, loss=0.178476]"
     ]
    },
    {
     "name": "stderr",
     "output_type": "stream",
     "text": [
      "\r",
      " 71%|███████   | 212/300 [00:00<00:00, 379.49it/s, loss=0.178476]"
     ]
    },
    {
     "name": "stderr",
     "output_type": "stream",
     "text": [
      "\r",
      " 71%|███████   | 212/300 [00:00<00:00, 379.49it/s, loss=0.178476]"
     ]
    },
    {
     "name": "stderr",
     "output_type": "stream",
     "text": [
      "\r",
      " 71%|███████   | 212/300 [00:00<00:00, 379.49it/s, loss=0.178476]"
     ]
    },
    {
     "name": "stderr",
     "output_type": "stream",
     "text": [
      "\r",
      " 71%|███████   | 212/300 [00:00<00:00, 379.49it/s, loss=0.178476]"
     ]
    },
    {
     "name": "stderr",
     "output_type": "stream",
     "text": [
      "\r",
      " 71%|███████   | 212/300 [00:00<00:00, 379.49it/s, loss=0.178476]"
     ]
    },
    {
     "name": "stderr",
     "output_type": "stream",
     "text": [
      "\r",
      " 71%|███████   | 212/300 [00:00<00:00, 379.49it/s, loss=0.178476]"
     ]
    },
    {
     "name": "stderr",
     "output_type": "stream",
     "text": [
      "\r",
      " 71%|███████   | 212/300 [00:00<00:00, 379.49it/s, loss=0.178476]"
     ]
    },
    {
     "name": "stderr",
     "output_type": "stream",
     "text": [
      "\r",
      " 71%|███████   | 212/300 [00:00<00:00, 379.49it/s, loss=0.178476]"
     ]
    },
    {
     "name": "stderr",
     "output_type": "stream",
     "text": [
      "\r",
      " 71%|███████   | 212/300 [00:00<00:00, 379.49it/s, loss=0.178476]"
     ]
    },
    {
     "name": "stderr",
     "output_type": "stream",
     "text": [
      "\r",
      " 71%|███████   | 212/300 [00:00<00:00, 379.49it/s, loss=0.178476]"
     ]
    },
    {
     "name": "stderr",
     "output_type": "stream",
     "text": [
      "\r",
      " 71%|███████   | 212/300 [00:00<00:00, 379.49it/s, loss=0.178476]"
     ]
    },
    {
     "name": "stderr",
     "output_type": "stream",
     "text": [
      "\r",
      " 71%|███████   | 212/300 [00:00<00:00, 379.49it/s, loss=0.178476]"
     ]
    },
    {
     "name": "stderr",
     "output_type": "stream",
     "text": [
      "\r",
      " 71%|███████   | 212/300 [00:00<00:00, 379.49it/s, loss=0.178476]"
     ]
    },
    {
     "name": "stderr",
     "output_type": "stream",
     "text": [
      "\r",
      " 71%|███████   | 212/300 [00:00<00:00, 379.49it/s, loss=0.178476]"
     ]
    },
    {
     "name": "stderr",
     "output_type": "stream",
     "text": [
      "\r",
      " 71%|███████   | 212/300 [00:00<00:00, 379.49it/s, loss=0.178476]"
     ]
    },
    {
     "name": "stderr",
     "output_type": "stream",
     "text": [
      "\r",
      " 71%|███████   | 212/300 [00:00<00:00, 379.49it/s, loss=0.178476]"
     ]
    },
    {
     "name": "stderr",
     "output_type": "stream",
     "text": [
      "\r",
      " 71%|███████   | 212/300 [00:00<00:00, 379.49it/s, loss=0.178476]"
     ]
    },
    {
     "name": "stderr",
     "output_type": "stream",
     "text": [
      "\r",
      " 71%|███████   | 212/300 [00:00<00:00, 379.49it/s, loss=0.178476]"
     ]
    },
    {
     "name": "stderr",
     "output_type": "stream",
     "text": [
      "\r",
      " 71%|███████   | 212/300 [00:00<00:00, 379.49it/s, loss=0.178476]"
     ]
    },
    {
     "name": "stderr",
     "output_type": "stream",
     "text": [
      "\r",
      " 71%|███████   | 212/300 [00:00<00:00, 379.49it/s, loss=0.178476]"
     ]
    },
    {
     "name": "stderr",
     "output_type": "stream",
     "text": [
      "\r",
      " 87%|████████▋ | 260/300 [00:00<00:00, 407.70it/s, loss=0.178476]"
     ]
    },
    {
     "name": "stderr",
     "output_type": "stream",
     "text": [
      "\r",
      " 87%|████████▋ | 260/300 [00:00<00:00, 407.70it/s, loss=0.178476]"
     ]
    },
    {
     "name": "stderr",
     "output_type": "stream",
     "text": [
      "\r",
      " 87%|████████▋ | 260/300 [00:00<00:00, 407.70it/s, loss=0.178476]"
     ]
    },
    {
     "name": "stderr",
     "output_type": "stream",
     "text": [
      "\r",
      " 87%|████████▋ | 260/300 [00:00<00:00, 407.70it/s, loss=0.178476]"
     ]
    },
    {
     "name": "stderr",
     "output_type": "stream",
     "text": [
      "\r",
      " 87%|████████▋ | 260/300 [00:00<00:00, 407.70it/s, loss=0.178476]"
     ]
    },
    {
     "name": "stderr",
     "output_type": "stream",
     "text": [
      "\r",
      " 87%|████████▋ | 260/300 [00:00<00:00, 407.70it/s, loss=0.178476]"
     ]
    },
    {
     "name": "stderr",
     "output_type": "stream",
     "text": [
      "\r",
      " 87%|████████▋ | 260/300 [00:00<00:00, 407.70it/s, loss=0.178476]"
     ]
    },
    {
     "name": "stderr",
     "output_type": "stream",
     "text": [
      "\r",
      " 87%|████████▋ | 260/300 [00:00<00:00, 407.70it/s, loss=0.178476]"
     ]
    },
    {
     "name": "stderr",
     "output_type": "stream",
     "text": [
      "\r",
      " 87%|████████▋ | 260/300 [00:00<00:00, 407.70it/s, loss=0.178476]"
     ]
    },
    {
     "name": "stderr",
     "output_type": "stream",
     "text": [
      "\r",
      " 87%|████████▋ | 260/300 [00:00<00:00, 407.70it/s, loss=0.178476]"
     ]
    },
    {
     "name": "stderr",
     "output_type": "stream",
     "text": [
      "\r",
      " 87%|████████▋ | 260/300 [00:00<00:00, 407.70it/s, loss=0.178476]"
     ]
    },
    {
     "name": "stderr",
     "output_type": "stream",
     "text": [
      "\r",
      " 87%|████████▋ | 260/300 [00:00<00:00, 407.70it/s, loss=0.178476]"
     ]
    },
    {
     "name": "stderr",
     "output_type": "stream",
     "text": [
      "\r",
      " 87%|████████▋ | 260/300 [00:00<00:00, 407.70it/s, loss=0.178476]"
     ]
    },
    {
     "name": "stderr",
     "output_type": "stream",
     "text": [
      "\r",
      " 87%|████████▋ | 260/300 [00:00<00:00, 407.70it/s, loss=0.178476]"
     ]
    },
    {
     "name": "stderr",
     "output_type": "stream",
     "text": [
      "\r",
      " 87%|████████▋ | 260/300 [00:00<00:00, 407.70it/s, loss=0.178476]"
     ]
    },
    {
     "name": "stderr",
     "output_type": "stream",
     "text": [
      "\r",
      " 87%|████████▋ | 260/300 [00:00<00:00, 407.70it/s, loss=0.178476]"
     ]
    },
    {
     "name": "stderr",
     "output_type": "stream",
     "text": [
      "\r",
      " 87%|████████▋ | 260/300 [00:00<00:00, 407.70it/s, loss=0.178476]"
     ]
    },
    {
     "name": "stderr",
     "output_type": "stream",
     "text": [
      "\r",
      " 87%|████████▋ | 260/300 [00:00<00:00, 407.70it/s, loss=0.178476]"
     ]
    },
    {
     "name": "stderr",
     "output_type": "stream",
     "text": [
      "\r",
      " 87%|████████▋ | 260/300 [00:00<00:00, 407.70it/s, loss=0.178476]"
     ]
    },
    {
     "name": "stderr",
     "output_type": "stream",
     "text": [
      "\r",
      " 87%|████████▋ | 260/300 [00:01<00:00, 407.70it/s, loss=0.178476]"
     ]
    },
    {
     "name": "stderr",
     "output_type": "stream",
     "text": [
      "\r",
      " 87%|████████▋ | 260/300 [00:01<00:00, 407.70it/s, loss=0.178476]"
     ]
    },
    {
     "name": "stderr",
     "output_type": "stream",
     "text": [
      "\r",
      " 87%|████████▋ | 260/300 [00:01<00:00, 407.70it/s, loss=0.178476]"
     ]
    },
    {
     "name": "stderr",
     "output_type": "stream",
     "text": [
      "\r",
      " 87%|████████▋ | 260/300 [00:01<00:00, 407.70it/s, loss=0.178476]"
     ]
    },
    {
     "name": "stderr",
     "output_type": "stream",
     "text": [
      "\r",
      " 87%|████████▋ | 260/300 [00:01<00:00, 407.70it/s, loss=0.178476]"
     ]
    },
    {
     "name": "stderr",
     "output_type": "stream",
     "text": [
      "\r",
      " 87%|████████▋ | 260/300 [00:01<00:00, 407.70it/s, loss=0.178476]"
     ]
    },
    {
     "name": "stderr",
     "output_type": "stream",
     "text": [
      "\r",
      " 87%|████████▋ | 260/300 [00:01<00:00, 407.70it/s, loss=0.178476]"
     ]
    },
    {
     "name": "stderr",
     "output_type": "stream",
     "text": [
      "\r",
      " 87%|████████▋ | 260/300 [00:01<00:00, 407.70it/s, loss=0.178476]"
     ]
    },
    {
     "name": "stderr",
     "output_type": "stream",
     "text": [
      "\r",
      " 87%|████████▋ | 260/300 [00:01<00:00, 407.70it/s, loss=0.178476]"
     ]
    },
    {
     "name": "stderr",
     "output_type": "stream",
     "text": [
      "\r",
      " 87%|████████▋ | 260/300 [00:01<00:00, 407.70it/s, loss=0.178476]"
     ]
    },
    {
     "name": "stderr",
     "output_type": "stream",
     "text": [
      "\r",
      " 87%|████████▋ | 260/300 [00:01<00:00, 407.70it/s, loss=0.178476]"
     ]
    },
    {
     "name": "stderr",
     "output_type": "stream",
     "text": [
      "\r",
      " 87%|████████▋ | 260/300 [00:01<00:00, 407.70it/s, loss=0.178476]"
     ]
    },
    {
     "name": "stderr",
     "output_type": "stream",
     "text": [
      "\r",
      " 87%|████████▋ | 260/300 [00:01<00:00, 407.70it/s, loss=0.178476]"
     ]
    },
    {
     "name": "stderr",
     "output_type": "stream",
     "text": [
      "\r",
      " 87%|████████▋ | 260/300 [00:01<00:00, 407.70it/s, loss=0.178476]"
     ]
    },
    {
     "name": "stderr",
     "output_type": "stream",
     "text": [
      "\r",
      " 87%|████████▋ | 260/300 [00:01<00:00, 407.70it/s, loss=0.178476]"
     ]
    },
    {
     "name": "stderr",
     "output_type": "stream",
     "text": [
      "\r",
      " 87%|████████▋ | 260/300 [00:01<00:00, 407.70it/s, loss=0.178476]"
     ]
    },
    {
     "name": "stderr",
     "output_type": "stream",
     "text": [
      "\r",
      " 87%|████████▋ | 260/300 [00:01<00:00, 407.70it/s, loss=0.178476]"
     ]
    },
    {
     "name": "stderr",
     "output_type": "stream",
     "text": [
      "\r",
      " 87%|████████▋ | 260/300 [00:01<00:00, 407.70it/s, loss=0.178476]"
     ]
    },
    {
     "name": "stderr",
     "output_type": "stream",
     "text": [
      "\r",
      " 87%|████████▋ | 260/300 [00:01<00:00, 407.70it/s, loss=0.178476]"
     ]
    },
    {
     "name": "stderr",
     "output_type": "stream",
     "text": [
      "\r",
      " 87%|████████▋ | 260/300 [00:01<00:00, 407.70it/s, loss=0.178476]"
     ]
    },
    {
     "name": "stderr",
     "output_type": "stream",
     "text": [
      "\r",
      " 87%|████████▋ | 260/300 [00:01<00:00, 407.70it/s, loss=0.178476]"
     ]
    },
    {
     "name": "stderr",
     "output_type": "stream",
     "text": [
      "\r",
      " 87%|████████▋ | 260/300 [00:01<00:00, 407.70it/s, loss=0.178476]"
     ]
    },
    {
     "name": "stderr",
     "output_type": "stream",
     "text": [
      "\r",
      "100%|██████████| 300/300 [00:01<00:00, 289.10it/s, loss=0.178476]"
     ]
    },
    {
     "name": "stderr",
     "output_type": "stream",
     "text": [
      "\n"
     ]
    }
   ],
   "source": [
    "def train_step(step, optim_state, dn, dn1, dn2, dk1, dk2):\n",
    "    settings = optim_params(optim_state)\n",
    "    lossvalue = loss(settings, dn, dn1, dn2, dk1, dk2)\n",
    "    gradvalue = grad(settings, dn, dn1, dn2, dk1, dk2)\n",
    "    optim_state = optim_update(step, gradvalue, optim_state)\n",
    "    return lossvalue, optim_state\n",
    "\n",
    "\n",
    "coupling0 = 0.3\n",
    "optim_init, optim_update, optim_params = opt.adam(step_size=0.1)\n",
    "optim_state = optim_init(coupling0)\n",
    "\n",
    "dn = 0.0166\n",
    "dn1 = 0.11\n",
    "dn2 = 0.48\n",
    "dk1 = 1.2\n",
    "dk2 = 5\n",
    "\n",
    "range_ = tqdm.trange(300)\n",
    "for step in range_:\n",
    "    lossvalue, optim_state = train_step(step, optim_state, dn, dn1, dn2, dk1, dk2)\n",
    "    range_.set_postfix(loss=f\"{lossvalue:.6f}\")"
   ]
  },
  {
   "cell_type": "code",
   "execution_count": 42,
   "id": "743eabf0-f180-413e-b136-ccb4cd25263d",
   "metadata": {
    "execution": {
     "iopub.execute_input": "2022-03-01T18:43:49.810970Z",
     "iopub.status.busy": "2022-03-01T18:43:49.810419Z",
     "iopub.status.idle": "2022-03-01T18:43:49.816392Z",
     "shell.execute_reply": "2022-03-01T18:43:49.815876Z"
    }
   },
   "outputs": [
    {
     "data": {
      "text/plain": [
       "0.11667"
      ]
     },
     "execution_count": 42,
     "metadata": {},
     "output_type": "execute_result"
    }
   ],
   "source": [
    "coupling0_fit = optim_params(optim_state)\n",
    "coupling0_fit"
   ]
  },
  {
   "cell_type": "code",
   "execution_count": 43,
   "id": "743ff586-3323-45d4-b421-493f3c732f7a",
   "metadata": {
    "execution": {
     "iopub.execute_input": "2022-03-01T18:43:49.819440Z",
     "iopub.status.busy": "2022-03-01T18:43:49.818921Z",
     "iopub.status.idle": "2022-03-01T18:43:50.008332Z",
     "shell.execute_reply": "2022-03-01T18:43:50.007761Z"
    }
   },
   "outputs": [
    {
     "data": {
      "image/png": "[encoded data removed]",
      "text/plain": [
       "<Figure size 432x288 with 1 Axes>"
      ]
     },
     "metadata": {
      "needs_background": "light"
     },
     "output_type": "display_data"
    },
    {
     "data": {
      "text/plain": [
       "<AxesSubplot:title={'center':'o1'}, xlabel='wavelength (nm)', ylabel='|S (dB)|'>"
      ]
     },
     "execution_count": 43,
     "metadata": {},
     "output_type": "execute_result"
    }
   ],
   "source": [
    "coupler = gf.partial(gf.simulation.sax.models.coupler, dn=dn, length=20, coupling0=coupling0_fit)\n",
    "gs.plot_model(coupler)"
   ]
  },
  {
   "cell_type": "code",
   "execution_count": 44,
   "id": "b2fccee2-0467-4864-bb98-492f41d4e7ef",
   "metadata": {
    "execution": {
     "iopub.execute_input": "2022-03-01T18:43:50.012691Z",
     "iopub.status.busy": "2022-03-01T18:43:50.011516Z",
     "iopub.status.idle": "2022-03-01T18:43:50.105622Z",
     "shell.execute_reply": "2022-03-01T18:43:50.104873Z"
    }
   },
   "outputs": [],
   "source": [
    "wl = jnp.linspace(1.50, 1.60, 1000)\n",
    "S = gf.simulation.sax.models.coupler(dn=dn, length=20, coupling0=coupling0_fit, dn1=dn1, dn2=dn2, dk1=dk1, dk2=dk2, wl=wl)\n",
    "T_model = abs(S['o1', 'o4'])**2\n",
    "K_model = abs(S['o1', 'o3'])**2"
   ]
  },
  {
   "cell_type": "code",
   "execution_count": 45,
   "id": "1a71389b-2086-4fb6-ad30-9e8594559512",
   "metadata": {
    "execution": {
     "iopub.execute_input": "2022-03-01T18:43:50.109840Z",
     "iopub.status.busy": "2022-03-01T18:43:50.109370Z",
     "iopub.status.idle": "2022-03-01T18:43:50.129037Z",
     "shell.execute_reply": "2022-03-01T18:43:50.128483Z"
    }
   },
   "outputs": [],
   "source": [
    "coupler_fdtd = S = gs.read.sdict_from_csv(filepath=gf.config.sparameters_path / 'coupler' / 'coupler_G224n_L20_S220.csv', xkey='wavelength_nm', prefix='S', xunits=1e-3, wl=wl)\n",
    "T_fdtd = abs(S['o1', 'o3'])**2\n",
    "K_fdtd = abs(S['o1', 'o4'])**2"
   ]
  },
  {
   "cell_type": "code",
   "execution_count": 46,
   "id": "87bdd8e5-f7bc-4aed-8e40-46a3eab1e1cd",
   "metadata": {
    "execution": {
     "iopub.execute_input": "2022-03-01T18:43:50.132169Z",
     "iopub.status.busy": "2022-03-01T18:43:50.131686Z",
     "iopub.status.idle": "2022-03-01T18:43:50.298179Z",
     "shell.execute_reply": "2022-03-01T18:43:50.297685Z"
    }
   },
   "outputs": [
    {
     "data": {
      "text/plain": [
       "<matplotlib.legend.Legend at 0x7f8a84cd92e0>"
      ]
     },
     "execution_count": 46,
     "metadata": {},
     "output_type": "execute_result"
    },
    {
     "data": {
      "image/png": "[encoded data removed]",
      "text/plain": [
       "<Figure size 432x288 with 1 Axes>"
      ]
     },
     "metadata": {
      "needs_background": "light"
     },
     "output_type": "display_data"
    }
   ],
   "source": [
    "plt.plot(wl, T_fdtd, label='fdtd', c='b')\n",
    "plt.plot(wl, T_model, label='fit', c='b', ls='-.')\n",
    "plt.plot(wl, K_fdtd, label='fdtd', c='r')\n",
    "plt.plot(wl, K_model, label='fit', c='r', ls='-.')\n",
    "plt.legend()"
   ]
  },
  {
   "cell_type": "markdown",
   "id": "c95a168c-c5c8-4cb4-8c6f-6276885a697d",
   "metadata": {},
   "source": [
    "### Multi-variable optimization\n",
    "\n",
    "As you can see we need to fit more than 1 variable `coupling0` to get a good fit."
   ]
  },
  {
   "cell_type": "code",
   "execution_count": 47,
   "id": "ea9bdf1b-889e-41dc-9b29-05bb2b70ac61",
   "metadata": {
    "execution": {
     "iopub.execute_input": "2022-03-01T18:43:50.302305Z",
     "iopub.status.busy": "2022-03-01T18:43:50.301332Z",
     "iopub.status.idle": "2022-03-01T18:43:50.307692Z",
     "shell.execute_reply": "2022-03-01T18:43:50.307225Z"
    }
   },
   "outputs": [],
   "source": [
    "grad = jax.jit(\n",
    "    jax.grad(\n",
    "        loss,\n",
    "        #argnums=0,  # JAX gradient function for the first positional argument, jitted\n",
    "        argnums=[0, 1, 2, 3, 4, 5],  # JAX gradient function for all positional arguments, jitted\n",
    "    )\n",
    ")"
   ]
  },
  {
   "cell_type": "code",
   "execution_count": 48,
   "id": "c57d51c3-9252-4f4d-91fb-2d583cf2d1da",
   "metadata": {
    "execution": {
     "iopub.execute_input": "2022-03-01T18:43:50.311878Z",
     "iopub.status.busy": "2022-03-01T18:43:50.311457Z",
     "iopub.status.idle": "2022-03-01T18:43:50.316341Z",
     "shell.execute_reply": "2022-03-01T18:43:50.315809Z"
    }
   },
   "outputs": [],
   "source": [
    "def train_step(step, optim_state):\n",
    "    coupling0, dn, dn1, dn2, dk1, dk2 = optim_params(optim_state)\n",
    "    lossvalue = loss(coupling0, dn, dn1, dn2, dk1, dk2)\n",
    "    gradvalue = grad(coupling0, dn, dn1, dn2, dk1, dk2)\n",
    "    optim_state = optim_update(step, gradvalue, optim_state)\n",
    "    return lossvalue, optim_state"
   ]
  },
  {
   "cell_type": "code",
   "execution_count": 49,
   "id": "e3048a7b-0d48-4d70-b6d2-124d1ae513c3",
   "metadata": {
    "execution": {
     "iopub.execute_input": "2022-03-01T18:43:50.319137Z",
     "iopub.status.busy": "2022-03-01T18:43:50.318853Z",
     "iopub.status.idle": "2022-03-01T18:43:50.325787Z",
     "shell.execute_reply": "2022-03-01T18:43:50.325305Z"
    }
   },
   "outputs": [],
   "source": [
    "coupling0 = 0.3\n",
    "dn = 0.0166\n",
    "dn1 = 0.11\n",
    "dn2 = 0.48\n",
    "dk1 = 1.2\n",
    "dk2 = 5.0\n",
    "optim_init, optim_update, optim_params = opt.adam(step_size=0.01)\n",
    "optim_state = optim_init((coupling0, dn, dn1, dn2, dk1, dk2))"
   ]
  },
  {
   "cell_type": "code",
   "execution_count": 50,
   "id": "a5fb0ade-c728-4190-ad44-4f58b50d8c4b",
   "metadata": {
    "execution": {
     "iopub.execute_input": "2022-03-01T18:43:50.328748Z",
     "iopub.status.busy": "2022-03-01T18:43:50.328461Z",
     "iopub.status.idle": "2022-03-01T18:44:07.945714Z",
     "shell.execute_reply": "2022-03-01T18:44:07.944744Z"
    }
   },
   "outputs": [
    {
     "name": "stderr",
     "output_type": "stream",
     "text": [
      "\r",
      "  0%|          | 0/1000 [00:00<?, ?it/s]"
     ]
    },
    {
     "name": "stderr",
     "output_type": "stream",
     "text": [
      "\r",
      "  0%|          | 0/1000 [00:00<?, ?it/s, loss=0.351744]"
     ]
    },
    {
     "name": "stderr",
     "output_type": "stream",
     "text": [
      "\r",
      "  0%|          | 1/1000 [00:00<04:18,  3.87it/s, loss=0.351744]"
     ]
    },
    {
     "name": "stderr",
     "output_type": "stream",
     "text": [
      "\r",
      "  0%|          | 1/1000 [00:00<04:18,  3.87it/s, loss=0.455868]"
     ]
    },
    {
     "name": "stderr",
     "output_type": "stream",
     "text": [
      "\r",
      "  0%|          | 2/1000 [00:00<04:18,  3.87it/s, loss=0.455868]"
     ]
    },
    {
     "name": "stderr",
     "output_type": "stream",
     "text": [
      "\r",
      "  0%|          | 2/1000 [00:00<04:18,  3.87it/s, loss=0.408208]"
     ]
    },
    {
     "name": "stderr",
     "output_type": "stream",
     "text": [
      "\r",
      "  0%|          | 2/1000 [00:00<04:18,  3.87it/s, loss=0.182992]"
     ]
    },
    {
     "name": "stderr",
     "output_type": "stream",
     "text": [
      "\r",
      "  0%|          | 2/1000 [00:00<04:18,  3.87it/s, loss=0.276236]"
     ]
    },
    {
     "name": "stderr",
     "output_type": "stream",
     "text": [
      "\r",
      "  0%|          | 2/1000 [00:00<04:18,  3.87it/s, loss=0.335642]"
     ]
    },
    {
     "name": "stderr",
     "output_type": "stream",
     "text": [
      "\r",
      "  0%|          | 2/1000 [00:00<04:18,  3.87it/s, loss=0.239862]"
     ]
    },
    {
     "name": "stderr",
     "output_type": "stream",
     "text": [
      "\r",
      "  0%|          | 2/1000 [00:00<04:18,  3.87it/s, loss=0.177655]"
     ]
    },
    {
     "name": "stderr",
     "output_type": "stream",
     "text": [
      "\r",
      "  0%|          | 2/1000 [00:00<04:18,  3.87it/s, loss=0.240594]"
     ]
    },
    {
     "name": "stderr",
     "output_type": "stream",
     "text": [
      "\r",
      "  0%|          | 2/1000 [00:00<04:18,  3.87it/s, loss=0.272126]"
     ]
    },
    {
     "name": "stderr",
     "output_type": "stream",
     "text": [
      "\r",
      "  0%|          | 2/1000 [00:00<04:18,  3.87it/s, loss=0.214315]"
     ]
    },
    {
     "name": "stderr",
     "output_type": "stream",
     "text": [
      "\r",
      "  0%|          | 2/1000 [00:00<04:18,  3.87it/s, loss=0.177319]"
     ]
    },
    {
     "name": "stderr",
     "output_type": "stream",
     "text": [
      "\r",
      "  0%|          | 2/1000 [00:00<04:18,  3.87it/s, loss=0.208923]"
     ]
    },
    {
     "name": "stderr",
     "output_type": "stream",
     "text": [
      "\r",
      "  0%|          | 2/1000 [00:00<04:18,  3.87it/s, loss=0.237348]"
     ]
    },
    {
     "name": "stderr",
     "output_type": "stream",
     "text": [
      "\r",
      "  0%|          | 2/1000 [00:00<04:18,  3.87it/s, loss=0.216135]"
     ]
    },
    {
     "name": "stderr",
     "output_type": "stream",
     "text": [
      "\r",
      "  0%|          | 2/1000 [00:00<04:18,  3.87it/s, loss=0.181517]"
     ]
    },
    {
     "name": "stderr",
     "output_type": "stream",
     "text": [
      "\r",
      "  0%|          | 2/1000 [00:00<04:18,  3.87it/s, loss=0.184931]"
     ]
    },
    {
     "name": "stderr",
     "output_type": "stream",
     "text": [
      "\r",
      "  0%|          | 2/1000 [00:00<04:18,  3.87it/s, loss=0.211244]"
     ]
    },
    {
     "name": "stderr",
     "output_type": "stream",
     "text": [
      "\r",
      "  0%|          | 2/1000 [00:00<04:18,  3.87it/s, loss=0.210202]"
     ]
    },
    {
     "name": "stderr",
     "output_type": "stream",
     "text": [
      "\r",
      "  0%|          | 2/1000 [00:00<04:18,  3.87it/s, loss=0.185683]"
     ]
    },
    {
     "name": "stderr",
     "output_type": "stream",
     "text": [
      "\r",
      "  0%|          | 2/1000 [00:00<04:18,  3.87it/s, loss=0.178353]"
     ]
    },
    {
     "name": "stderr",
     "output_type": "stream",
     "text": [
      "\r",
      "  0%|          | 2/1000 [00:00<04:18,  3.87it/s, loss=0.193983]"
     ]
    },
    {
     "name": "stderr",
     "output_type": "stream",
     "text": [
      "\r",
      "  0%|          | 2/1000 [00:00<04:18,  3.87it/s, loss=0.201489]"
     ]
    },
    {
     "name": "stderr",
     "output_type": "stream",
     "text": [
      "\r",
      "  0%|          | 2/1000 [00:00<04:18,  3.87it/s, loss=0.188822]"
     ]
    },
    {
     "name": "stderr",
     "output_type": "stream",
     "text": [
      "\r",
      "  0%|          | 2/1000 [00:00<04:18,  3.87it/s, loss=0.177430]"
     ]
    },
    {
     "name": "stderr",
     "output_type": "stream",
     "text": [
      "\r",
      "  2%|▎         | 25/1000 [00:00<00:16, 59.16it/s, loss=0.177430]"
     ]
    },
    {
     "name": "stderr",
     "output_type": "stream",
     "text": [
      "\r",
      "  2%|▎         | 25/1000 [00:00<00:16, 59.16it/s, loss=0.183944]"
     ]
    },
    {
     "name": "stderr",
     "output_type": "stream",
     "text": [
      "\r",
      "  2%|▎         | 25/1000 [00:00<00:16, 59.16it/s, loss=0.193208]"
     ]
    },
    {
     "name": "stderr",
     "output_type": "stream",
     "text": [
      "\r",
      "  2%|▎         | 25/1000 [00:00<00:16, 59.16it/s, loss=0.187861]"
     ]
    },
    {
     "name": "stderr",
     "output_type": "stream",
     "text": [
      "\r",
      "  2%|▎         | 25/1000 [00:00<00:16, 59.16it/s, loss=0.178169]"
     ]
    },
    {
     "name": "stderr",
     "output_type": "stream",
     "text": [
      "\r",
      "  2%|▎         | 25/1000 [00:00<00:16, 59.16it/s, loss=0.179964]"
     ]
    },
    {
     "name": "stderr",
     "output_type": "stream",
     "text": [
      "\r",
      "  2%|▎         | 25/1000 [00:00<00:16, 59.16it/s, loss=0.187078]"
     ]
    },
    {
     "name": "stderr",
     "output_type": "stream",
     "text": [
      "\r",
      "  2%|▎         | 25/1000 [00:00<00:16, 59.16it/s, loss=0.185649]"
     ]
    },
    {
     "name": "stderr",
     "output_type": "stream",
     "text": [
      "\r",
      "  2%|▎         | 25/1000 [00:00<00:16, 59.16it/s, loss=0.178687]"
     ]
    },
    {
     "name": "stderr",
     "output_type": "stream",
     "text": [
      "\r",
      "  2%|▎         | 25/1000 [00:00<00:16, 59.16it/s, loss=0.178290]"
     ]
    },
    {
     "name": "stderr",
     "output_type": "stream",
     "text": [
      "\r",
      "  2%|▎         | 25/1000 [00:00<00:16, 59.16it/s, loss=0.183323]"
     ]
    },
    {
     "name": "stderr",
     "output_type": "stream",
     "text": [
      "\r",
      "  2%|▎         | 25/1000 [00:00<00:16, 59.16it/s, loss=0.183278]"
     ]
    },
    {
     "name": "stderr",
     "output_type": "stream",
     "text": [
      "\r",
      "  2%|▎         | 25/1000 [00:00<00:16, 59.16it/s, loss=0.178503]"
     ]
    },
    {
     "name": "stderr",
     "output_type": "stream",
     "text": [
      "\r",
      "  2%|▎         | 25/1000 [00:00<00:16, 59.16it/s, loss=0.177822]"
     ]
    },
    {
     "name": "stderr",
     "output_type": "stream",
     "text": [
      "\r",
      "  2%|▎         | 25/1000 [00:00<00:16, 59.16it/s, loss=0.181261]"
     ]
    },
    {
     "name": "stderr",
     "output_type": "stream",
     "text": [
      "\r",
      "  2%|▎         | 25/1000 [00:00<00:16, 59.16it/s, loss=0.181431]"
     ]
    },
    {
     "name": "stderr",
     "output_type": "stream",
     "text": [
      "\r",
      "  2%|▎         | 25/1000 [00:00<00:16, 59.16it/s, loss=0.178149]"
     ]
    },
    {
     "name": "stderr",
     "output_type": "stream",
     "text": [
      "\r",
      "  2%|▎         | 25/1000 [00:00<00:16, 59.16it/s, loss=0.177662]"
     ]
    },
    {
     "name": "stderr",
     "output_type": "stream",
     "text": [
      "\r",
      "  2%|▎         | 25/1000 [00:00<00:16, 59.16it/s, loss=0.180030]"
     ]
    },
    {
     "name": "stderr",
     "output_type": "stream",
     "text": [
      "\r",
      "  2%|▎         | 25/1000 [00:00<00:16, 59.16it/s, loss=0.179965]"
     ]
    },
    {
     "name": "stderr",
     "output_type": "stream",
     "text": [
      "\r",
      "  2%|▎         | 25/1000 [00:00<00:16, 59.16it/s, loss=0.177717]"
     ]
    },
    {
     "name": "stderr",
     "output_type": "stream",
     "text": [
      "\r",
      "  2%|▎         | 25/1000 [00:00<00:16, 59.16it/s, loss=0.177682]"
     ]
    },
    {
     "name": "stderr",
     "output_type": "stream",
     "text": [
      "\r",
      "  2%|▎         | 25/1000 [00:00<00:16, 59.16it/s, loss=0.179285]"
     ]
    },
    {
     "name": "stderr",
     "output_type": "stream",
     "text": [
      "\r",
      "  5%|▍         | 47/1000 [00:00<00:09, 99.98it/s, loss=0.179285]"
     ]
    },
    {
     "name": "stderr",
     "output_type": "stream",
     "text": [
      "\r",
      "  5%|▍         | 47/1000 [00:00<00:09, 99.98it/s, loss=0.178895]"
     ]
    },
    {
     "name": "stderr",
     "output_type": "stream",
     "text": [
      "\r",
      "  5%|▍         | 47/1000 [00:00<00:09, 99.98it/s, loss=0.177422]"
     ]
    },
    {
     "name": "stderr",
     "output_type": "stream",
     "text": [
      "\r",
      "  5%|▍         | 47/1000 [00:00<00:09, 99.98it/s, loss=0.177751]"
     ]
    },
    {
     "name": "stderr",
     "output_type": "stream",
     "text": [
      "\r",
      "  5%|▍         | 47/1000 [00:00<00:09, 99.98it/s, loss=0.178736]"
     ]
    },
    {
     "name": "stderr",
     "output_type": "stream",
     "text": [
      "\r",
      "  5%|▍         | 47/1000 [00:00<00:09, 99.98it/s, loss=0.178116]"
     ]
    },
    {
     "name": "stderr",
     "output_type": "stream",
     "text": [
      "\r",
      "  5%|▍         | 47/1000 [00:00<00:09, 99.98it/s, loss=0.177292]"
     ]
    },
    {
     "name": "stderr",
     "output_type": "stream",
     "text": [
      "\r",
      "  5%|▍         | 47/1000 [00:00<00:09, 99.98it/s, loss=0.177836]"
     ]
    },
    {
     "name": "stderr",
     "output_type": "stream",
     "text": [
      "\r",
      "  5%|▍         | 47/1000 [00:00<00:09, 99.98it/s, loss=0.178254]"
     ]
    },
    {
     "name": "stderr",
     "output_type": "stream",
     "text": [
      "\r",
      "  5%|▍         | 47/1000 [00:00<00:09, 99.98it/s, loss=0.177608]"
     ]
    },
    {
     "name": "stderr",
     "output_type": "stream",
     "text": [
      "\r",
      "  5%|▍         | 47/1000 [00:00<00:09, 99.98it/s, loss=0.177323]"
     ]
    },
    {
     "name": "stderr",
     "output_type": "stream",
     "text": [
      "\r",
      "  5%|▍         | 47/1000 [00:00<00:09, 99.98it/s, loss=0.177839]"
     ]
    },
    {
     "name": "stderr",
     "output_type": "stream",
     "text": [
      "\r",
      "  5%|▍         | 47/1000 [00:00<00:09, 99.98it/s, loss=0.177842]"
     ]
    },
    {
     "name": "stderr",
     "output_type": "stream",
     "text": [
      "\r",
      "  5%|▍         | 47/1000 [00:00<00:09, 99.98it/s, loss=0.177345]"
     ]
    },
    {
     "name": "stderr",
     "output_type": "stream",
     "text": [
      "\r",
      "  5%|▍         | 47/1000 [00:00<00:09, 99.98it/s, loss=0.177437]"
     ]
    },
    {
     "name": "stderr",
     "output_type": "stream",
     "text": [
      "\r",
      "  5%|▍         | 47/1000 [00:00<00:09, 99.98it/s, loss=0.177756]"
     ]
    },
    {
     "name": "stderr",
     "output_type": "stream",
     "text": [
      "\r",
      "  5%|▍         | 47/1000 [00:00<00:09, 99.98it/s, loss=0.177511]"
     ]
    },
    {
     "name": "stderr",
     "output_type": "stream",
     "text": [
      "\r",
      "  5%|▍         | 47/1000 [00:00<00:09, 99.98it/s, loss=0.177291]"
     ]
    },
    {
     "name": "stderr",
     "output_type": "stream",
     "text": [
      "\r",
      "  5%|▍         | 47/1000 [00:00<00:09, 99.98it/s, loss=0.177521]"
     ]
    },
    {
     "name": "stderr",
     "output_type": "stream",
     "text": [
      "\r",
      "  5%|▍         | 47/1000 [00:00<00:09, 99.98it/s, loss=0.177573]"
     ]
    },
    {
     "name": "stderr",
     "output_type": "stream",
     "text": [
      "\r",
      "  5%|▍         | 47/1000 [00:00<00:09, 99.98it/s, loss=0.177327]"
     ]
    },
    {
     "name": "stderr",
     "output_type": "stream",
     "text": [
      "\r",
      "  5%|▍         | 47/1000 [00:00<00:09, 99.98it/s, loss=0.177353]"
     ]
    },
    {
     "name": "stderr",
     "output_type": "stream",
     "text": [
      "\r",
      "  5%|▍         | 47/1000 [00:00<00:09, 99.98it/s, loss=0.177517]"
     ]
    },
    {
     "name": "stderr",
     "output_type": "stream",
     "text": [
      "\r",
      "  7%|▋         | 69/1000 [00:00<00:07, 131.80it/s, loss=0.177517]"
     ]
    },
    {
     "name": "stderr",
     "output_type": "stream",
     "text": [
      "\r",
      "  7%|▋         | 69/1000 [00:00<00:07, 131.80it/s, loss=0.177396]"
     ]
    },
    {
     "name": "stderr",
     "output_type": "stream",
     "text": [
      "\r",
      "  7%|▋         | 69/1000 [00:00<00:07, 131.80it/s, loss=0.177291]"
     ]
    },
    {
     "name": "stderr",
     "output_type": "stream",
     "text": [
      "\r",
      "  7%|▋         | 69/1000 [00:00<00:07, 131.80it/s, loss=0.177420]"
     ]
    },
    {
     "name": "stderr",
     "output_type": "stream",
     "text": [
      "\r",
      "  7%|▋         | 69/1000 [00:00<00:07, 131.80it/s, loss=0.177426]"
     ]
    },
    {
     "name": "stderr",
     "output_type": "stream",
     "text": [
      "\r",
      "  7%|▋         | 69/1000 [00:00<00:07, 131.80it/s, loss=0.177300]"
     ]
    },
    {
     "name": "stderr",
     "output_type": "stream",
     "text": [
      "\r",
      "  7%|▋         | 69/1000 [00:00<00:07, 131.80it/s, loss=0.177335]"
     ]
    },
    {
     "name": "stderr",
     "output_type": "stream",
     "text": [
      "\r",
      "  7%|▋         | 69/1000 [00:00<00:07, 131.80it/s, loss=0.177406]"
     ]
    },
    {
     "name": "stderr",
     "output_type": "stream",
     "text": [
      "\r",
      "  7%|▋         | 69/1000 [00:00<00:07, 131.80it/s, loss=0.177329]"
     ]
    },
    {
     "name": "stderr",
     "output_type": "stream",
     "text": [
      "\r",
      "  7%|▋         | 69/1000 [00:00<00:07, 131.80it/s, loss=0.177295]"
     ]
    },
    {
     "name": "stderr",
     "output_type": "stream",
     "text": [
      "\r",
      "  7%|▋         | 69/1000 [00:00<00:07, 131.80it/s, loss=0.177365]"
     ]
    },
    {
     "name": "stderr",
     "output_type": "stream",
     "text": [
      "\r",
      "  7%|▋         | 69/1000 [00:00<00:07, 131.80it/s, loss=0.177343]"
     ]
    },
    {
     "name": "stderr",
     "output_type": "stream",
     "text": [
      "\r",
      "  7%|▋         | 69/1000 [00:00<00:07, 131.80it/s, loss=0.177288]"
     ]
    },
    {
     "name": "stderr",
     "output_type": "stream",
     "text": [
      "\r",
      "  7%|▋         | 69/1000 [00:00<00:07, 131.80it/s, loss=0.177327]"
     ]
    },
    {
     "name": "stderr",
     "output_type": "stream",
     "text": [
      "\r",
      "  7%|▋         | 69/1000 [00:00<00:07, 131.80it/s, loss=0.177340]"
     ]
    },
    {
     "name": "stderr",
     "output_type": "stream",
     "text": [
      "\r",
      "  7%|▋         | 69/1000 [00:00<00:07, 131.80it/s, loss=0.177293]"
     ]
    },
    {
     "name": "stderr",
     "output_type": "stream",
     "text": [
      "\r",
      "  7%|▋         | 69/1000 [00:00<00:07, 131.80it/s, loss=0.177307]"
     ]
    },
    {
     "name": "stderr",
     "output_type": "stream",
     "text": [
      "\r",
      "  7%|▋         | 69/1000 [00:00<00:07, 131.80it/s, loss=0.177335]"
     ]
    },
    {
     "name": "stderr",
     "output_type": "stream",
     "text": [
      "\r",
      "  7%|▋         | 69/1000 [00:00<00:07, 131.80it/s, loss=0.177301]"
     ]
    },
    {
     "name": "stderr",
     "output_type": "stream",
     "text": [
      "\r",
      "  7%|▋         | 69/1000 [00:00<00:07, 131.80it/s, loss=0.177294]"
     ]
    },
    {
     "name": "stderr",
     "output_type": "stream",
     "text": [
      "\r",
      "  7%|▋         | 69/1000 [00:00<00:07, 131.80it/s, loss=0.177318]"
     ]
    },
    {
     "name": "stderr",
     "output_type": "stream",
     "text": [
      "\r",
      "  7%|▋         | 69/1000 [00:00<00:07, 131.80it/s, loss=0.177302]"
     ]
    },
    {
     "name": "stderr",
     "output_type": "stream",
     "text": [
      "\r",
      "  9%|▉         | 90/1000 [00:00<00:05, 152.47it/s, loss=0.177302]"
     ]
    },
    {
     "name": "stderr",
     "output_type": "stream",
     "text": [
      "\r",
      "  9%|▉         | 90/1000 [00:00<00:05, 152.47it/s, loss=0.177290]"
     ]
    },
    {
     "name": "stderr",
     "output_type": "stream",
     "text": [
      "\r",
      "  9%|▉         | 90/1000 [00:00<00:05, 152.47it/s, loss=0.177311]"
     ]
    },
    {
     "name": "stderr",
     "output_type": "stream",
     "text": [
      "\r",
      "  9%|▉         | 90/1000 [00:00<00:05, 152.47it/s, loss=0.177305]"
     ]
    },
    {
     "name": "stderr",
     "output_type": "stream",
     "text": [
      "\r",
      "  9%|▉         | 90/1000 [00:00<00:05, 152.47it/s, loss=0.177288]"
     ]
    },
    {
     "name": "stderr",
     "output_type": "stream",
     "text": [
      "\r",
      "  9%|▉         | 90/1000 [00:00<00:05, 152.47it/s, loss=0.177305]"
     ]
    },
    {
     "name": "stderr",
     "output_type": "stream",
     "text": [
      "\r",
      "  9%|▉         | 90/1000 [00:00<00:05, 152.47it/s, loss=0.177303]"
     ]
    },
    {
     "name": "stderr",
     "output_type": "stream",
     "text": [
      "\r",
      "  9%|▉         | 90/1000 [00:00<00:05, 152.47it/s, loss=0.177288]"
     ]
    },
    {
     "name": "stderr",
     "output_type": "stream",
     "text": [
      "\r",
      "  9%|▉         | 90/1000 [00:00<00:05, 152.47it/s, loss=0.177296]"
     ]
    },
    {
     "name": "stderr",
     "output_type": "stream",
     "text": [
      "\r",
      "  9%|▉         | 90/1000 [00:00<00:05, 152.47it/s, loss=0.177300]"
     ]
    },
    {
     "name": "stderr",
     "output_type": "stream",
     "text": [
      "\r",
      "  9%|▉         | 90/1000 [00:00<00:05, 152.47it/s, loss=0.177289]"
     ]
    },
    {
     "name": "stderr",
     "output_type": "stream",
     "text": [
      "\r",
      "  9%|▉         | 90/1000 [00:00<00:05, 152.47it/s, loss=0.177292]"
     ]
    },
    {
     "name": "stderr",
     "output_type": "stream",
     "text": [
      "\r",
      "  9%|▉         | 90/1000 [00:00<00:05, 152.47it/s, loss=0.177298]"
     ]
    },
    {
     "name": "stderr",
     "output_type": "stream",
     "text": [
      "\r",
      "  9%|▉         | 90/1000 [00:00<00:05, 152.47it/s, loss=0.177290]"
     ]
    },
    {
     "name": "stderr",
     "output_type": "stream",
     "text": [
      "\r",
      "  9%|▉         | 90/1000 [00:00<00:05, 152.47it/s, loss=0.177290]"
     ]
    },
    {
     "name": "stderr",
     "output_type": "stream",
     "text": [
      "\r",
      "  9%|▉         | 90/1000 [00:00<00:05, 152.47it/s, loss=0.177293]"
     ]
    },
    {
     "name": "stderr",
     "output_type": "stream",
     "text": [
      "\r",
      "  9%|▉         | 90/1000 [00:00<00:05, 152.47it/s, loss=0.177289]"
     ]
    },
    {
     "name": "stderr",
     "output_type": "stream",
     "text": [
      "\r",
      "  9%|▉         | 90/1000 [00:00<00:05, 152.47it/s, loss=0.177289]"
     ]
    },
    {
     "name": "stderr",
     "output_type": "stream",
     "text": [
      "\r",
      "  9%|▉         | 90/1000 [00:01<00:05, 152.47it/s, loss=0.177292]"
     ]
    },
    {
     "name": "stderr",
     "output_type": "stream",
     "text": [
      "\r",
      "  9%|▉         | 90/1000 [00:01<00:05, 152.47it/s, loss=0.177290]"
     ]
    },
    {
     "name": "stderr",
     "output_type": "stream",
     "text": [
      "\r",
      "  9%|▉         | 90/1000 [00:01<00:05, 152.47it/s, loss=0.177288]"
     ]
    },
    {
     "name": "stderr",
     "output_type": "stream",
     "text": [
      "\r",
      "  9%|▉         | 90/1000 [00:01<00:05, 152.47it/s, loss=0.177291]"
     ]
    },
    {
     "name": "stderr",
     "output_type": "stream",
     "text": [
      "\r",
      "  9%|▉         | 90/1000 [00:01<00:05, 152.47it/s, loss=0.177290]"
     ]
    },
    {
     "name": "stderr",
     "output_type": "stream",
     "text": [
      "\r",
      "  9%|▉         | 90/1000 [00:01<00:05, 152.47it/s, loss=0.177288]"
     ]
    },
    {
     "name": "stderr",
     "output_type": "stream",
     "text": [
      "\r",
      " 11%|█▏        | 113/1000 [00:01<00:05, 174.14it/s, loss=0.177288]"
     ]
    },
    {
     "name": "stderr",
     "output_type": "stream",
     "text": [
      "\r",
      " 11%|█▏        | 113/1000 [00:01<00:05, 174.14it/s, loss=0.177291]"
     ]
    },
    {
     "name": "stderr",
     "output_type": "stream",
     "text": [
      "\r",
      " 11%|█▏        | 113/1000 [00:01<00:05, 174.14it/s, loss=0.177290]"
     ]
    },
    {
     "name": "stderr",
     "output_type": "stream",
     "text": [
      "\r",
      " 11%|█▏        | 113/1000 [00:01<00:05, 174.14it/s, loss=0.177289]"
     ]
    },
    {
     "name": "stderr",
     "output_type": "stream",
     "text": [
      "\r",
      " 11%|█▏        | 113/1000 [00:01<00:05, 174.14it/s, loss=0.177291]"
     ]
    },
    {
     "name": "stderr",
     "output_type": "stream",
     "text": [
      "\r",
      " 11%|█▏        | 113/1000 [00:01<00:05, 174.14it/s, loss=0.177289]"
     ]
    },
    {
     "name": "stderr",
     "output_type": "stream",
     "text": [
      "\r",
      " 11%|█▏        | 113/1000 [00:01<00:05, 174.14it/s, loss=0.177289]"
     ]
    },
    {
     "name": "stderr",
     "output_type": "stream",
     "text": [
      "\r",
      " 11%|█▏        | 113/1000 [00:01<00:05, 174.14it/s, loss=0.177290]"
     ]
    },
    {
     "name": "stderr",
     "output_type": "stream",
     "text": [
      "\r",
      " 11%|█▏        | 113/1000 [00:01<00:05, 174.14it/s, loss=0.177288]"
     ]
    },
    {
     "name": "stderr",
     "output_type": "stream",
     "text": [
      "\r",
      " 11%|█▏        | 113/1000 [00:01<00:05, 174.14it/s, loss=0.177289]"
     ]
    },
    {
     "name": "stderr",
     "output_type": "stream",
     "text": [
      "\r",
      " 11%|█▏        | 113/1000 [00:01<00:05, 174.14it/s, loss=0.177289]"
     ]
    },
    {
     "name": "stderr",
     "output_type": "stream",
     "text": [
      "\r",
      " 11%|█▏        | 113/1000 [00:01<00:05, 174.14it/s, loss=0.177288]"
     ]
    },
    {
     "name": "stderr",
     "output_type": "stream",
     "text": [
      "\r",
      " 11%|█▏        | 113/1000 [00:01<00:05, 174.14it/s, loss=0.177289]"
     ]
    },
    {
     "name": "stderr",
     "output_type": "stream",
     "text": [
      "\r",
      " 11%|█▏        | 113/1000 [00:01<00:05, 174.14it/s, loss=0.177288]"
     ]
    },
    {
     "name": "stderr",
     "output_type": "stream",
     "text": [
      "\r",
      " 11%|█▏        | 113/1000 [00:01<00:05, 174.14it/s, loss=0.177288]"
     ]
    },
    {
     "name": "stderr",
     "output_type": "stream",
     "text": [
      "\r",
      " 11%|█▏        | 113/1000 [00:01<00:05, 174.14it/s, loss=0.177288]"
     ]
    },
    {
     "name": "stderr",
     "output_type": "stream",
     "text": [
      "\r",
      " 11%|█▏        | 113/1000 [00:01<00:05, 174.14it/s, loss=0.177288]"
     ]
    },
    {
     "name": "stderr",
     "output_type": "stream",
     "text": [
      "\r",
      " 11%|█▏        | 113/1000 [00:01<00:05, 174.14it/s, loss=0.177288]"
     ]
    },
    {
     "name": "stderr",
     "output_type": "stream",
     "text": [
      "\r",
      " 11%|█▏        | 113/1000 [00:01<00:05, 174.14it/s, loss=0.177288]"
     ]
    },
    {
     "name": "stderr",
     "output_type": "stream",
     "text": [
      "\r",
      " 11%|█▏        | 113/1000 [00:01<00:05, 174.14it/s, loss=0.177288]"
     ]
    },
    {
     "name": "stderr",
     "output_type": "stream",
     "text": [
      "\r",
      " 11%|█▏        | 113/1000 [00:01<00:05, 174.14it/s, loss=0.177288]"
     ]
    },
    {
     "name": "stderr",
     "output_type": "stream",
     "text": [
      "\r",
      " 11%|█▏        | 113/1000 [00:01<00:05, 174.14it/s, loss=0.177289]"
     ]
    },
    {
     "name": "stderr",
     "output_type": "stream",
     "text": [
      "\r",
      " 11%|█▏        | 113/1000 [00:01<00:05, 174.14it/s, loss=0.177288]"
     ]
    },
    {
     "name": "stderr",
     "output_type": "stream",
     "text": [
      "\r",
      " 14%|█▎        | 135/1000 [00:01<00:04, 185.55it/s, loss=0.177288]"
     ]
    },
    {
     "name": "stderr",
     "output_type": "stream",
     "text": [
      "\r",
      " 14%|█▎        | 135/1000 [00:01<00:04, 185.55it/s, loss=0.177289]"
     ]
    },
    {
     "name": "stderr",
     "output_type": "stream",
     "text": [
      "\r",
      " 14%|█▎        | 135/1000 [00:01<00:04, 185.55it/s, loss=0.177288]"
     ]
    },
    {
     "name": "stderr",
     "output_type": "stream",
     "text": [
      "\r",
      " 14%|█▎        | 135/1000 [00:01<00:04, 185.55it/s, loss=0.177288]"
     ]
    },
    {
     "name": "stderr",
     "output_type": "stream",
     "text": [
      "\r",
      " 14%|█▎        | 135/1000 [00:01<00:04, 185.55it/s, loss=0.177288]"
     ]
    },
    {
     "name": "stderr",
     "output_type": "stream",
     "text": [
      "\r",
      " 14%|█▎        | 135/1000 [00:01<00:04, 185.55it/s, loss=0.177288]"
     ]
    },
    {
     "name": "stderr",
     "output_type": "stream",
     "text": [
      "\r",
      " 14%|█▎        | 135/1000 [00:01<00:04, 185.55it/s, loss=0.177288]"
     ]
    },
    {
     "name": "stderr",
     "output_type": "stream",
     "text": [
      "\r",
      " 14%|█▎        | 135/1000 [00:01<00:04, 185.55it/s, loss=0.177289]"
     ]
    },
    {
     "name": "stderr",
     "output_type": "stream",
     "text": [
      "\r",
      " 14%|█▎        | 135/1000 [00:01<00:04, 185.55it/s, loss=0.177289]"
     ]
    },
    {
     "name": "stderr",
     "output_type": "stream",
     "text": [
      "\r",
      " 14%|█▎        | 135/1000 [00:01<00:04, 185.55it/s, loss=0.177289]"
     ]
    },
    {
     "name": "stderr",
     "output_type": "stream",
     "text": [
      "\r",
      " 14%|█▎        | 135/1000 [00:01<00:04, 185.55it/s, loss=0.177289]"
     ]
    },
    {
     "name": "stderr",
     "output_type": "stream",
     "text": [
      "\r",
      " 14%|█▎        | 135/1000 [00:01<00:04, 185.55it/s, loss=0.177288]"
     ]
    },
    {
     "name": "stderr",
     "output_type": "stream",
     "text": [
      "\r",
      " 14%|█▎        | 135/1000 [00:01<00:04, 185.55it/s, loss=0.177289]"
     ]
    },
    {
     "name": "stderr",
     "output_type": "stream",
     "text": [
      "\r",
      " 14%|█▎        | 135/1000 [00:01<00:04, 185.55it/s, loss=0.177288]"
     ]
    },
    {
     "name": "stderr",
     "output_type": "stream",
     "text": [
      "\r",
      " 14%|█▎        | 135/1000 [00:01<00:04, 185.55it/s, loss=0.177288]"
     ]
    },
    {
     "name": "stderr",
     "output_type": "stream",
     "text": [
      "\r",
      " 14%|█▎        | 135/1000 [00:01<00:04, 185.55it/s, loss=0.177288]"
     ]
    },
    {
     "name": "stderr",
     "output_type": "stream",
     "text": [
      "\r",
      " 14%|█▎        | 135/1000 [00:01<00:04, 185.55it/s, loss=0.177289]"
     ]
    },
    {
     "name": "stderr",
     "output_type": "stream",
     "text": [
      "\r",
      " 14%|█▎        | 135/1000 [00:01<00:04, 185.55it/s, loss=0.177288]"
     ]
    },
    {
     "name": "stderr",
     "output_type": "stream",
     "text": [
      "\r",
      " 14%|█▎        | 135/1000 [00:01<00:04, 185.55it/s, loss=0.177289]"
     ]
    },
    {
     "name": "stderr",
     "output_type": "stream",
     "text": [
      "\r",
      " 14%|█▎        | 135/1000 [00:01<00:04, 185.55it/s, loss=0.177288]"
     ]
    },
    {
     "name": "stderr",
     "output_type": "stream",
     "text": [
      "\r",
      " 14%|█▎        | 135/1000 [00:01<00:04, 185.55it/s, loss=0.177288]"
     ]
    },
    {
     "name": "stderr",
     "output_type": "stream",
     "text": [
      "\r",
      " 14%|█▎        | 135/1000 [00:01<00:04, 185.55it/s, loss=0.177290]"
     ]
    },
    {
     "name": "stderr",
     "output_type": "stream",
     "text": [
      "\r",
      " 14%|█▎        | 135/1000 [00:01<00:04, 185.55it/s, loss=0.177289]"
     ]
    },
    {
     "name": "stderr",
     "output_type": "stream",
     "text": [
      "\r",
      " 16%|█▌        | 157/1000 [00:01<00:04, 193.90it/s, loss=0.177289]"
     ]
    },
    {
     "name": "stderr",
     "output_type": "stream",
     "text": [
      "\r",
      " 16%|█▌        | 157/1000 [00:01<00:04, 193.90it/s, loss=0.177288]"
     ]
    },
    {
     "name": "stderr",
     "output_type": "stream",
     "text": [
      "\r",
      " 16%|█▌        | 157/1000 [00:01<00:04, 193.90it/s, loss=0.177290]"
     ]
    },
    {
     "name": "stderr",
     "output_type": "stream",
     "text": [
      "\r",
      " 16%|█▌        | 157/1000 [00:01<00:04, 193.90it/s, loss=0.177289]"
     ]
    },
    {
     "name": "stderr",
     "output_type": "stream",
     "text": [
      "\r",
      " 16%|█▌        | 157/1000 [00:01<00:04, 193.90it/s, loss=0.177289]"
     ]
    },
    {
     "name": "stderr",
     "output_type": "stream",
     "text": [
      "\r",
      " 16%|█▌        | 157/1000 [00:01<00:04, 193.90it/s, loss=0.177289]"
     ]
    },
    {
     "name": "stderr",
     "output_type": "stream",
     "text": [
      "\r",
      " 16%|█▌        | 157/1000 [00:01<00:04, 193.90it/s, loss=0.177288]"
     ]
    },
    {
     "name": "stderr",
     "output_type": "stream",
     "text": [
      "\r",
      " 16%|█▌        | 157/1000 [00:01<00:04, 193.90it/s, loss=0.177289]"
     ]
    },
    {
     "name": "stderr",
     "output_type": "stream",
     "text": [
      "\r",
      " 16%|█▌        | 157/1000 [00:01<00:04, 193.90it/s, loss=0.177288]"
     ]
    },
    {
     "name": "stderr",
     "output_type": "stream",
     "text": [
      "\r",
      " 16%|█▌        | 157/1000 [00:01<00:04, 193.90it/s, loss=0.177288]"
     ]
    },
    {
     "name": "stderr",
     "output_type": "stream",
     "text": [
      "\r",
      " 16%|█▌        | 157/1000 [00:01<00:04, 193.90it/s, loss=0.177288]"
     ]
    },
    {
     "name": "stderr",
     "output_type": "stream",
     "text": [
      "\r",
      " 16%|█▌        | 157/1000 [00:01<00:04, 193.90it/s, loss=0.177289]"
     ]
    },
    {
     "name": "stderr",
     "output_type": "stream",
     "text": [
      "\r",
      " 16%|█▌        | 157/1000 [00:01<00:04, 193.90it/s, loss=0.177288]"
     ]
    },
    {
     "name": "stderr",
     "output_type": "stream",
     "text": [
      "\r",
      " 16%|█▌        | 157/1000 [00:01<00:04, 193.90it/s, loss=0.177289]"
     ]
    },
    {
     "name": "stderr",
     "output_type": "stream",
     "text": [
      "\r",
      " 16%|█▌        | 157/1000 [00:01<00:04, 193.90it/s, loss=0.177289]"
     ]
    },
    {
     "name": "stderr",
     "output_type": "stream",
     "text": [
      "\r",
      " 16%|█▌        | 157/1000 [00:01<00:04, 193.90it/s, loss=0.177289]"
     ]
    },
    {
     "name": "stderr",
     "output_type": "stream",
     "text": [
      "\r",
      " 16%|█▌        | 157/1000 [00:01<00:04, 193.90it/s, loss=0.177290]"
     ]
    },
    {
     "name": "stderr",
     "output_type": "stream",
     "text": [
      "\r",
      " 16%|█▌        | 157/1000 [00:01<00:04, 193.90it/s, loss=0.177288]"
     ]
    },
    {
     "name": "stderr",
     "output_type": "stream",
     "text": [
      "\r",
      " 16%|█▌        | 157/1000 [00:01<00:04, 193.90it/s, loss=0.177289]"
     ]
    },
    {
     "name": "stderr",
     "output_type": "stream",
     "text": [
      "\r",
      " 16%|█▌        | 157/1000 [00:01<00:04, 193.90it/s, loss=0.177288]"
     ]
    },
    {
     "name": "stderr",
     "output_type": "stream",
     "text": [
      "\r",
      " 16%|█▌        | 157/1000 [00:01<00:04, 193.90it/s, loss=0.177288]"
     ]
    },
    {
     "name": "stderr",
     "output_type": "stream",
     "text": [
      "\r",
      " 16%|█▌        | 157/1000 [00:01<00:04, 193.90it/s, loss=0.177288]"
     ]
    },
    {
     "name": "stderr",
     "output_type": "stream",
     "text": [
      "\r",
      " 16%|█▌        | 157/1000 [00:01<00:04, 193.90it/s, loss=0.177288]"
     ]
    },
    {
     "name": "stderr",
     "output_type": "stream",
     "text": [
      "\r",
      " 18%|█▊        | 179/1000 [00:01<00:04, 199.57it/s, loss=0.177288]"
     ]
    },
    {
     "name": "stderr",
     "output_type": "stream",
     "text": [
      "\r",
      " 18%|█▊        | 179/1000 [00:01<00:04, 199.57it/s, loss=0.177289]"
     ]
    },
    {
     "name": "stderr",
     "output_type": "stream",
     "text": [
      "\r",
      " 18%|█▊        | 179/1000 [00:01<00:04, 199.57it/s, loss=0.177289]"
     ]
    },
    {
     "name": "stderr",
     "output_type": "stream",
     "text": [
      "\r",
      " 18%|█▊        | 179/1000 [00:01<00:04, 199.57it/s, loss=0.177289]"
     ]
    },
    {
     "name": "stderr",
     "output_type": "stream",
     "text": [
      "\r",
      " 18%|█▊        | 179/1000 [00:01<00:04, 199.57it/s, loss=0.177289]"
     ]
    },
    {
     "name": "stderr",
     "output_type": "stream",
     "text": [
      "\r",
      " 18%|█▊        | 179/1000 [00:01<00:04, 199.57it/s, loss=0.177288]"
     ]
    },
    {
     "name": "stderr",
     "output_type": "stream",
     "text": [
      "\r",
      " 18%|█▊        | 179/1000 [00:01<00:04, 199.57it/s, loss=0.177289]"
     ]
    },
    {
     "name": "stderr",
     "output_type": "stream",
     "text": [
      "\r",
      " 18%|█▊        | 179/1000 [00:01<00:04, 199.57it/s, loss=0.177288]"
     ]
    },
    {
     "name": "stderr",
     "output_type": "stream",
     "text": [
      "\r",
      " 18%|█▊        | 179/1000 [00:01<00:04, 199.57it/s, loss=0.177288]"
     ]
    },
    {
     "name": "stderr",
     "output_type": "stream",
     "text": [
      "\r",
      " 18%|█▊        | 179/1000 [00:01<00:04, 199.57it/s, loss=0.177288]"
     ]
    },
    {
     "name": "stderr",
     "output_type": "stream",
     "text": [
      "\r",
      " 18%|█▊        | 179/1000 [00:01<00:04, 199.57it/s, loss=0.177289]"
     ]
    },
    {
     "name": "stderr",
     "output_type": "stream",
     "text": [
      "\r",
      " 18%|█▊        | 179/1000 [00:01<00:04, 199.57it/s, loss=0.177288]"
     ]
    },
    {
     "name": "stderr",
     "output_type": "stream",
     "text": [
      "\r",
      " 18%|█▊        | 179/1000 [00:01<00:04, 199.57it/s, loss=0.177289]"
     ]
    },
    {
     "name": "stderr",
     "output_type": "stream",
     "text": [
      "\r",
      " 18%|█▊        | 179/1000 [00:01<00:04, 199.57it/s, loss=0.177289]"
     ]
    },
    {
     "name": "stderr",
     "output_type": "stream",
     "text": [
      "\r",
      " 18%|█▊        | 179/1000 [00:01<00:04, 199.57it/s, loss=0.177289]"
     ]
    },
    {
     "name": "stderr",
     "output_type": "stream",
     "text": [
      "\r",
      " 18%|█▊        | 179/1000 [00:01<00:04, 199.57it/s, loss=0.177290]"
     ]
    },
    {
     "name": "stderr",
     "output_type": "stream",
     "text": [
      "\r",
      " 18%|█▊        | 179/1000 [00:01<00:04, 199.57it/s, loss=0.177288]"
     ]
    },
    {
     "name": "stderr",
     "output_type": "stream",
     "text": [
      "\r",
      " 18%|█▊        | 179/1000 [00:01<00:04, 199.57it/s, loss=0.177289]"
     ]
    },
    {
     "name": "stderr",
     "output_type": "stream",
     "text": [
      "\r",
      " 18%|█▊        | 179/1000 [00:01<00:04, 199.57it/s, loss=0.177288]"
     ]
    },
    {
     "name": "stderr",
     "output_type": "stream",
     "text": [
      "\r",
      " 18%|█▊        | 179/1000 [00:01<00:04, 199.57it/s, loss=0.177288]"
     ]
    },
    {
     "name": "stderr",
     "output_type": "stream",
     "text": [
      "\r",
      " 18%|█▊        | 179/1000 [00:01<00:04, 199.57it/s, loss=0.177289]"
     ]
    },
    {
     "name": "stderr",
     "output_type": "stream",
     "text": [
      "\r",
      " 18%|█▊        | 179/1000 [00:01<00:04, 199.57it/s, loss=0.177288]"
     ]
    },
    {
     "name": "stderr",
     "output_type": "stream",
     "text": [
      "\r",
      " 18%|█▊        | 179/1000 [00:01<00:04, 199.57it/s, loss=0.177290]"
     ]
    },
    {
     "name": "stderr",
     "output_type": "stream",
     "text": [
      "\r",
      " 18%|█▊        | 179/1000 [00:01<00:04, 199.57it/s, loss=0.177289]"
     ]
    },
    {
     "name": "stderr",
     "output_type": "stream",
     "text": [
      "\r",
      " 20%|██        | 202/1000 [00:01<00:03, 208.11it/s, loss=0.177289]"
     ]
    },
    {
     "name": "stderr",
     "output_type": "stream",
     "text": [
      "\r",
      " 20%|██        | 202/1000 [00:01<00:03, 208.11it/s, loss=0.177289]"
     ]
    },
    {
     "name": "stderr",
     "output_type": "stream",
     "text": [
      "\r",
      " 20%|██        | 202/1000 [00:01<00:03, 208.11it/s, loss=0.177290]"
     ]
    },
    {
     "name": "stderr",
     "output_type": "stream",
     "text": [
      "\r",
      " 20%|██        | 202/1000 [00:01<00:03, 208.11it/s, loss=0.177288]"
     ]
    },
    {
     "name": "stderr",
     "output_type": "stream",
     "text": [
      "\r",
      " 20%|██        | 202/1000 [00:01<00:03, 208.11it/s, loss=0.177289]"
     ]
    },
    {
     "name": "stderr",
     "output_type": "stream",
     "text": [
      "\r",
      " 20%|██        | 202/1000 [00:01<00:03, 208.11it/s, loss=0.177288]"
     ]
    },
    {
     "name": "stderr",
     "output_type": "stream",
     "text": [
      "\r",
      " 20%|██        | 202/1000 [00:01<00:03, 208.11it/s, loss=0.177288]"
     ]
    },
    {
     "name": "stderr",
     "output_type": "stream",
     "text": [
      "\r",
      " 20%|██        | 202/1000 [00:01<00:03, 208.11it/s, loss=0.177288]"
     ]
    },
    {
     "name": "stderr",
     "output_type": "stream",
     "text": [
      "\r",
      " 20%|██        | 202/1000 [00:01<00:03, 208.11it/s, loss=0.177288]"
     ]
    },
    {
     "name": "stderr",
     "output_type": "stream",
     "text": [
      "\r",
      " 20%|██        | 202/1000 [00:01<00:03, 208.11it/s, loss=0.177289]"
     ]
    },
    {
     "name": "stderr",
     "output_type": "stream",
     "text": [
      "\r",
      " 20%|██        | 202/1000 [00:01<00:03, 208.11it/s, loss=0.177288]"
     ]
    },
    {
     "name": "stderr",
     "output_type": "stream",
     "text": [
      "\r",
      " 20%|██        | 202/1000 [00:01<00:03, 208.11it/s, loss=0.177290]"
     ]
    },
    {
     "name": "stderr",
     "output_type": "stream",
     "text": [
      "\r",
      " 20%|██        | 202/1000 [00:01<00:03, 208.11it/s, loss=0.177289]"
     ]
    },
    {
     "name": "stderr",
     "output_type": "stream",
     "text": [
      "\r",
      " 20%|██        | 202/1000 [00:01<00:03, 208.11it/s, loss=0.177289]"
     ]
    },
    {
     "name": "stderr",
     "output_type": "stream",
     "text": [
      "\r",
      " 20%|██        | 202/1000 [00:01<00:03, 208.11it/s, loss=0.177289]"
     ]
    },
    {
     "name": "stderr",
     "output_type": "stream",
     "text": [
      "\r",
      " 20%|██        | 202/1000 [00:01<00:03, 208.11it/s, loss=0.177288]"
     ]
    },
    {
     "name": "stderr",
     "output_type": "stream",
     "text": [
      "\r",
      " 20%|██        | 202/1000 [00:01<00:03, 208.11it/s, loss=0.177290]"
     ]
    },
    {
     "name": "stderr",
     "output_type": "stream",
     "text": [
      "\r",
      " 20%|██        | 202/1000 [00:01<00:03, 208.11it/s, loss=0.177289]"
     ]
    },
    {
     "name": "stderr",
     "output_type": "stream",
     "text": [
      "\r",
      " 20%|██        | 202/1000 [00:01<00:03, 208.11it/s, loss=0.177289]"
     ]
    },
    {
     "name": "stderr",
     "output_type": "stream",
     "text": [
      "\r",
      " 20%|██        | 202/1000 [00:01<00:03, 208.11it/s, loss=0.177289]"
     ]
    },
    {
     "name": "stderr",
     "output_type": "stream",
     "text": [
      "\r",
      " 20%|██        | 202/1000 [00:01<00:03, 208.11it/s, loss=0.177288]"
     ]
    },
    {
     "name": "stderr",
     "output_type": "stream",
     "text": [
      "\r",
      " 20%|██        | 202/1000 [00:01<00:03, 208.11it/s, loss=0.177289]"
     ]
    },
    {
     "name": "stderr",
     "output_type": "stream",
     "text": [
      "\r",
      " 20%|██        | 202/1000 [00:01<00:03, 208.11it/s, loss=0.177289]"
     ]
    },
    {
     "name": "stderr",
     "output_type": "stream",
     "text": [
      "\r",
      " 20%|██        | 202/1000 [00:01<00:03, 208.11it/s, loss=0.177289]"
     ]
    },
    {
     "name": "stderr",
     "output_type": "stream",
     "text": [
      "\r",
      " 22%|██▎       | 225/1000 [00:01<00:03, 212.70it/s, loss=0.177289]"
     ]
    },
    {
     "name": "stderr",
     "output_type": "stream",
     "text": [
      "\r",
      " 22%|██▎       | 225/1000 [00:01<00:03, 212.70it/s, loss=0.177289]"
     ]
    },
    {
     "name": "stderr",
     "output_type": "stream",
     "text": [
      "\r",
      " 22%|██▎       | 225/1000 [00:01<00:03, 212.70it/s, loss=0.177288]"
     ]
    },
    {
     "name": "stderr",
     "output_type": "stream",
     "text": [
      "\r",
      " 22%|██▎       | 225/1000 [00:01<00:03, 212.70it/s, loss=0.177289]"
     ]
    },
    {
     "name": "stderr",
     "output_type": "stream",
     "text": [
      "\r",
      " 22%|██▎       | 225/1000 [00:01<00:03, 212.70it/s, loss=0.177289]"
     ]
    },
    {
     "name": "stderr",
     "output_type": "stream",
     "text": [
      "\r",
      " 22%|██▎       | 225/1000 [00:01<00:03, 212.70it/s, loss=0.177289]"
     ]
    },
    {
     "name": "stderr",
     "output_type": "stream",
     "text": [
      "\r",
      " 22%|██▎       | 225/1000 [00:01<00:03, 212.70it/s, loss=0.177289]"
     ]
    },
    {
     "name": "stderr",
     "output_type": "stream",
     "text": [
      "\r",
      " 22%|██▎       | 225/1000 [00:01<00:03, 212.70it/s, loss=0.177288]"
     ]
    },
    {
     "name": "stderr",
     "output_type": "stream",
     "text": [
      "\r",
      " 22%|██▎       | 225/1000 [00:01<00:03, 212.70it/s, loss=0.177289]"
     ]
    },
    {
     "name": "stderr",
     "output_type": "stream",
     "text": [
      "\r",
      " 22%|██▎       | 225/1000 [00:01<00:03, 212.70it/s, loss=0.177289]"
     ]
    },
    {
     "name": "stderr",
     "output_type": "stream",
     "text": [
      "\r",
      " 22%|██▎       | 225/1000 [00:01<00:03, 212.70it/s, loss=0.177289]"
     ]
    },
    {
     "name": "stderr",
     "output_type": "stream",
     "text": [
      "\r",
      " 22%|██▎       | 225/1000 [00:01<00:03, 212.70it/s, loss=0.177289]"
     ]
    },
    {
     "name": "stderr",
     "output_type": "stream",
     "text": [
      "\r",
      " 22%|██▎       | 225/1000 [00:01<00:03, 212.70it/s, loss=0.177288]"
     ]
    },
    {
     "name": "stderr",
     "output_type": "stream",
     "text": [
      "\r",
      " 22%|██▎       | 225/1000 [00:01<00:03, 212.70it/s, loss=0.177289]"
     ]
    },
    {
     "name": "stderr",
     "output_type": "stream",
     "text": [
      "\r",
      " 22%|██▎       | 225/1000 [00:01<00:03, 212.70it/s, loss=0.177289]"
     ]
    },
    {
     "name": "stderr",
     "output_type": "stream",
     "text": [
      "\r",
      " 22%|██▎       | 225/1000 [00:01<00:03, 212.70it/s, loss=0.177289]"
     ]
    },
    {
     "name": "stderr",
     "output_type": "stream",
     "text": [
      "\r",
      " 22%|██▎       | 225/1000 [00:01<00:03, 212.70it/s, loss=0.177290]"
     ]
    },
    {
     "name": "stderr",
     "output_type": "stream",
     "text": [
      "\r",
      " 22%|██▎       | 225/1000 [00:01<00:03, 212.70it/s, loss=0.177288]"
     ]
    },
    {
     "name": "stderr",
     "output_type": "stream",
     "text": [
      "\r",
      " 22%|██▎       | 225/1000 [00:01<00:03, 212.70it/s, loss=0.177289]"
     ]
    },
    {
     "name": "stderr",
     "output_type": "stream",
     "text": [
      "\r",
      " 22%|██▎       | 225/1000 [00:01<00:03, 212.70it/s, loss=0.177289]"
     ]
    },
    {
     "name": "stderr",
     "output_type": "stream",
     "text": [
      "\r",
      " 22%|██▎       | 225/1000 [00:01<00:03, 212.70it/s, loss=0.177289]"
     ]
    },
    {
     "name": "stderr",
     "output_type": "stream",
     "text": [
      "\r",
      " 22%|██▎       | 225/1000 [00:01<00:03, 212.70it/s, loss=0.177290]"
     ]
    },
    {
     "name": "stderr",
     "output_type": "stream",
     "text": [
      "\r",
      " 22%|██▎       | 225/1000 [00:01<00:03, 212.70it/s, loss=0.177288]"
     ]
    },
    {
     "name": "stderr",
     "output_type": "stream",
     "text": [
      "\r",
      " 22%|██▎       | 225/1000 [00:01<00:03, 212.70it/s, loss=0.177289]"
     ]
    },
    {
     "name": "stderr",
     "output_type": "stream",
     "text": [
      "\r",
      " 22%|██▎       | 225/1000 [00:01<00:03, 212.70it/s, loss=0.177289]"
     ]
    },
    {
     "name": "stderr",
     "output_type": "stream",
     "text": [
      "\r",
      " 25%|██▍       | 249/1000 [00:01<00:03, 220.55it/s, loss=0.177289]"
     ]
    },
    {
     "name": "stderr",
     "output_type": "stream",
     "text": [
      "\r",
      " 25%|██▍       | 249/1000 [00:01<00:03, 220.55it/s, loss=0.177289]"
     ]
    },
    {
     "name": "stderr",
     "output_type": "stream",
     "text": [
      "\r",
      " 25%|██▍       | 249/1000 [00:01<00:03, 220.55it/s, loss=0.177290]"
     ]
    },
    {
     "name": "stderr",
     "output_type": "stream",
     "text": [
      "\r",
      " 25%|██▍       | 249/1000 [00:01<00:03, 220.55it/s, loss=0.177288]"
     ]
    },
    {
     "name": "stderr",
     "output_type": "stream",
     "text": [
      "\r",
      " 25%|██▍       | 249/1000 [00:01<00:03, 220.55it/s, loss=0.177289]"
     ]
    },
    {
     "name": "stderr",
     "output_type": "stream",
     "text": [
      "\r",
      " 25%|██▍       | 249/1000 [00:01<00:03, 220.55it/s, loss=0.177289]"
     ]
    },
    {
     "name": "stderr",
     "output_type": "stream",
     "text": [
      "\r",
      " 25%|██▍       | 249/1000 [00:01<00:03, 220.55it/s, loss=0.177289]"
     ]
    },
    {
     "name": "stderr",
     "output_type": "stream",
     "text": [
      "\r",
      " 25%|██▍       | 249/1000 [00:01<00:03, 220.55it/s, loss=0.177290]"
     ]
    },
    {
     "name": "stderr",
     "output_type": "stream",
     "text": [
      "\r",
      " 25%|██▍       | 249/1000 [00:01<00:03, 220.55it/s, loss=0.177288]"
     ]
    },
    {
     "name": "stderr",
     "output_type": "stream",
     "text": [
      "\r",
      " 25%|██▍       | 249/1000 [00:01<00:03, 220.55it/s, loss=0.177289]"
     ]
    },
    {
     "name": "stderr",
     "output_type": "stream",
     "text": [
      "\r",
      " 25%|██▍       | 249/1000 [00:01<00:03, 220.55it/s, loss=0.177289]"
     ]
    },
    {
     "name": "stderr",
     "output_type": "stream",
     "text": [
      "\r",
      " 25%|██▍       | 249/1000 [00:01<00:03, 220.55it/s, loss=0.177289]"
     ]
    },
    {
     "name": "stderr",
     "output_type": "stream",
     "text": [
      "\r",
      " 25%|██▍       | 249/1000 [00:01<00:03, 220.55it/s, loss=0.177290]"
     ]
    },
    {
     "name": "stderr",
     "output_type": "stream",
     "text": [
      "\r",
      " 25%|██▍       | 249/1000 [00:01<00:03, 220.55it/s, loss=0.177288]"
     ]
    },
    {
     "name": "stderr",
     "output_type": "stream",
     "text": [
      "\r",
      " 25%|██▍       | 249/1000 [00:01<00:03, 220.55it/s, loss=0.177289]"
     ]
    },
    {
     "name": "stderr",
     "output_type": "stream",
     "text": [
      "\r",
      " 25%|██▍       | 249/1000 [00:01<00:03, 220.55it/s, loss=0.177289]"
     ]
    },
    {
     "name": "stderr",
     "output_type": "stream",
     "text": [
      "\r",
      " 25%|██▍       | 249/1000 [00:01<00:03, 220.55it/s, loss=0.177289]"
     ]
    },
    {
     "name": "stderr",
     "output_type": "stream",
     "text": [
      "\r",
      " 25%|██▍       | 249/1000 [00:01<00:03, 220.55it/s, loss=0.177290]"
     ]
    },
    {
     "name": "stderr",
     "output_type": "stream",
     "text": [
      "\r",
      " 25%|██▍       | 249/1000 [00:01<00:03, 220.55it/s, loss=0.177288]"
     ]
    },
    {
     "name": "stderr",
     "output_type": "stream",
     "text": [
      "\r",
      " 25%|██▍       | 249/1000 [00:01<00:03, 220.55it/s, loss=0.177289]"
     ]
    },
    {
     "name": "stderr",
     "output_type": "stream",
     "text": [
      "\r",
      " 25%|██▍       | 249/1000 [00:01<00:03, 220.55it/s, loss=0.177289]"
     ]
    },
    {
     "name": "stderr",
     "output_type": "stream",
     "text": [
      "\r",
      " 25%|██▍       | 249/1000 [00:01<00:03, 220.55it/s, loss=0.177289]"
     ]
    },
    {
     "name": "stderr",
     "output_type": "stream",
     "text": [
      "\r",
      " 25%|██▍       | 249/1000 [00:01<00:03, 220.55it/s, loss=0.177290]"
     ]
    },
    {
     "name": "stderr",
     "output_type": "stream",
     "text": [
      "\r",
      " 25%|██▍       | 249/1000 [00:01<00:03, 220.55it/s, loss=0.177288]"
     ]
    },
    {
     "name": "stderr",
     "output_type": "stream",
     "text": [
      "\r",
      " 25%|██▍       | 249/1000 [00:01<00:03, 220.55it/s, loss=0.177289]"
     ]
    },
    {
     "name": "stderr",
     "output_type": "stream",
     "text": [
      "\r",
      " 27%|██▋       | 273/1000 [00:01<00:03, 224.66it/s, loss=0.177289]"
     ]
    },
    {
     "name": "stderr",
     "output_type": "stream",
     "text": [
      "\r",
      " 27%|██▋       | 273/1000 [00:01<00:03, 224.66it/s, loss=0.177289]"
     ]
    },
    {
     "name": "stderr",
     "output_type": "stream",
     "text": [
      "\r",
      " 27%|██▋       | 273/1000 [00:01<00:03, 224.66it/s, loss=0.177289]"
     ]
    },
    {
     "name": "stderr",
     "output_type": "stream",
     "text": [
      "\r",
      " 27%|██▋       | 273/1000 [00:01<00:03, 224.66it/s, loss=0.177290]"
     ]
    },
    {
     "name": "stderr",
     "output_type": "stream",
     "text": [
      "\r",
      " 27%|██▋       | 273/1000 [00:01<00:03, 224.66it/s, loss=0.177288]"
     ]
    },
    {
     "name": "stderr",
     "output_type": "stream",
     "text": [
      "\r",
      " 27%|██▋       | 273/1000 [00:01<00:03, 224.66it/s, loss=0.177289]"
     ]
    },
    {
     "name": "stderr",
     "output_type": "stream",
     "text": [
      "\r",
      " 27%|██▋       | 273/1000 [00:01<00:03, 224.66it/s, loss=0.177289]"
     ]
    },
    {
     "name": "stderr",
     "output_type": "stream",
     "text": [
      "\r",
      " 27%|██▋       | 273/1000 [00:01<00:03, 224.66it/s, loss=0.177289]"
     ]
    },
    {
     "name": "stderr",
     "output_type": "stream",
     "text": [
      "\r",
      " 27%|██▋       | 273/1000 [00:01<00:03, 224.66it/s, loss=0.177290]"
     ]
    },
    {
     "name": "stderr",
     "output_type": "stream",
     "text": [
      "\r",
      " 27%|██▋       | 273/1000 [00:01<00:03, 224.66it/s, loss=0.177288]"
     ]
    },
    {
     "name": "stderr",
     "output_type": "stream",
     "text": [
      "\r",
      " 27%|██▋       | 273/1000 [00:01<00:03, 224.66it/s, loss=0.177289]"
     ]
    },
    {
     "name": "stderr",
     "output_type": "stream",
     "text": [
      "\r",
      " 27%|██▋       | 273/1000 [00:01<00:03, 224.66it/s, loss=0.177289]"
     ]
    },
    {
     "name": "stderr",
     "output_type": "stream",
     "text": [
      "\r",
      " 27%|██▋       | 273/1000 [00:01<00:03, 224.66it/s, loss=0.177289]"
     ]
    },
    {
     "name": "stderr",
     "output_type": "stream",
     "text": [
      "\r",
      " 27%|██▋       | 273/1000 [00:01<00:03, 224.66it/s, loss=0.177290]"
     ]
    },
    {
     "name": "stderr",
     "output_type": "stream",
     "text": [
      "\r",
      " 27%|██▋       | 273/1000 [00:01<00:03, 224.66it/s, loss=0.177288]"
     ]
    },
    {
     "name": "stderr",
     "output_type": "stream",
     "text": [
      "\r",
      " 27%|██▋       | 273/1000 [00:01<00:03, 224.66it/s, loss=0.177290]"
     ]
    },
    {
     "name": "stderr",
     "output_type": "stream",
     "text": [
      "\r",
      " 27%|██▋       | 273/1000 [00:01<00:03, 224.66it/s, loss=0.177289]"
     ]
    },
    {
     "name": "stderr",
     "output_type": "stream",
     "text": [
      "\r",
      " 27%|██▋       | 273/1000 [00:01<00:03, 224.66it/s, loss=0.177289]"
     ]
    },
    {
     "name": "stderr",
     "output_type": "stream",
     "text": [
      "\r",
      " 27%|██▋       | 273/1000 [00:01<00:03, 224.66it/s, loss=0.177290]"
     ]
    },
    {
     "name": "stderr",
     "output_type": "stream",
     "text": [
      "\r",
      " 27%|██▋       | 273/1000 [00:01<00:03, 224.66it/s, loss=0.177289]"
     ]
    },
    {
     "name": "stderr",
     "output_type": "stream",
     "text": [
      "\r",
      " 27%|██▋       | 273/1000 [00:01<00:03, 224.66it/s, loss=0.177289]"
     ]
    },
    {
     "name": "stderr",
     "output_type": "stream",
     "text": [
      "\r",
      " 27%|██▋       | 273/1000 [00:01<00:03, 224.66it/s, loss=0.177288]"
     ]
    },
    {
     "name": "stderr",
     "output_type": "stream",
     "text": [
      "\r",
      " 27%|██▋       | 273/1000 [00:01<00:03, 224.66it/s, loss=0.177289]"
     ]
    },
    {
     "name": "stderr",
     "output_type": "stream",
     "text": [
      "\r",
      " 27%|██▋       | 273/1000 [00:01<00:03, 224.66it/s, loss=0.177289]"
     ]
    },
    {
     "name": "stderr",
     "output_type": "stream",
     "text": [
      "\r",
      " 27%|██▋       | 273/1000 [00:01<00:03, 224.66it/s, loss=0.177290]"
     ]
    },
    {
     "name": "stderr",
     "output_type": "stream",
     "text": [
      "\r",
      " 30%|██▉       | 297/1000 [00:01<00:03, 228.06it/s, loss=0.177290]"
     ]
    },
    {
     "name": "stderr",
     "output_type": "stream",
     "text": [
      "\r",
      " 30%|██▉       | 297/1000 [00:01<00:03, 228.06it/s, loss=0.177289]"
     ]
    },
    {
     "name": "stderr",
     "output_type": "stream",
     "text": [
      "\r",
      " 30%|██▉       | 297/1000 [00:01<00:03, 228.06it/s, loss=0.177289]"
     ]
    },
    {
     "name": "stderr",
     "output_type": "stream",
     "text": [
      "\r",
      " 30%|██▉       | 297/1000 [00:01<00:03, 228.06it/s, loss=0.177290]"
     ]
    },
    {
     "name": "stderr",
     "output_type": "stream",
     "text": [
      "\r",
      " 30%|██▉       | 297/1000 [00:01<00:03, 228.06it/s, loss=0.177288]"
     ]
    },
    {
     "name": "stderr",
     "output_type": "stream",
     "text": [
      "\r",
      " 30%|██▉       | 297/1000 [00:01<00:03, 228.06it/s, loss=0.177290]"
     ]
    },
    {
     "name": "stderr",
     "output_type": "stream",
     "text": [
      "\r",
      " 30%|██▉       | 297/1000 [00:01<00:03, 228.06it/s, loss=0.177289]"
     ]
    },
    {
     "name": "stderr",
     "output_type": "stream",
     "text": [
      "\r",
      " 30%|██▉       | 297/1000 [00:01<00:03, 228.06it/s, loss=0.177289]"
     ]
    },
    {
     "name": "stderr",
     "output_type": "stream",
     "text": [
      "\r",
      " 30%|██▉       | 297/1000 [00:01<00:03, 228.06it/s, loss=0.177290]"
     ]
    },
    {
     "name": "stderr",
     "output_type": "stream",
     "text": [
      "\r",
      " 30%|██▉       | 297/1000 [00:01<00:03, 228.06it/s, loss=0.177288]"
     ]
    },
    {
     "name": "stderr",
     "output_type": "stream",
     "text": [
      "\r",
      " 30%|██▉       | 297/1000 [00:02<00:03, 228.06it/s, loss=0.177290]"
     ]
    },
    {
     "name": "stderr",
     "output_type": "stream",
     "text": [
      "\r",
      " 30%|██▉       | 297/1000 [00:02<00:03, 228.06it/s, loss=0.177289]"
     ]
    },
    {
     "name": "stderr",
     "output_type": "stream",
     "text": [
      "\r",
      " 30%|██▉       | 297/1000 [00:02<00:03, 228.06it/s, loss=0.177289]"
     ]
    },
    {
     "name": "stderr",
     "output_type": "stream",
     "text": [
      "\r",
      " 30%|██▉       | 297/1000 [00:02<00:03, 228.06it/s, loss=0.177290]"
     ]
    },
    {
     "name": "stderr",
     "output_type": "stream",
     "text": [
      "\r",
      " 30%|██▉       | 297/1000 [00:02<00:03, 228.06it/s, loss=0.177288]"
     ]
    },
    {
     "name": "stderr",
     "output_type": "stream",
     "text": [
      "\r",
      " 30%|██▉       | 297/1000 [00:02<00:03, 228.06it/s, loss=0.177290]"
     ]
    },
    {
     "name": "stderr",
     "output_type": "stream",
     "text": [
      "\r",
      " 30%|██▉       | 297/1000 [00:02<00:03, 228.06it/s, loss=0.177289]"
     ]
    },
    {
     "name": "stderr",
     "output_type": "stream",
     "text": [
      "\r",
      " 30%|██▉       | 297/1000 [00:02<00:03, 228.06it/s, loss=0.177289]"
     ]
    },
    {
     "name": "stderr",
     "output_type": "stream",
     "text": [
      "\r",
      " 30%|██▉       | 297/1000 [00:02<00:03, 228.06it/s, loss=0.177290]"
     ]
    },
    {
     "name": "stderr",
     "output_type": "stream",
     "text": [
      "\r",
      " 30%|██▉       | 297/1000 [00:02<00:03, 228.06it/s, loss=0.177289]"
     ]
    },
    {
     "name": "stderr",
     "output_type": "stream",
     "text": [
      "\r",
      " 30%|██▉       | 297/1000 [00:02<00:03, 228.06it/s, loss=0.177290]"
     ]
    },
    {
     "name": "stderr",
     "output_type": "stream",
     "text": [
      "\r",
      " 30%|██▉       | 297/1000 [00:02<00:03, 228.06it/s, loss=0.177288]"
     ]
    },
    {
     "name": "stderr",
     "output_type": "stream",
     "text": [
      "\r",
      " 30%|██▉       | 297/1000 [00:02<00:03, 228.06it/s, loss=0.177289]"
     ]
    },
    {
     "name": "stderr",
     "output_type": "stream",
     "text": [
      "\r",
      " 30%|██▉       | 297/1000 [00:02<00:03, 228.06it/s, loss=0.177289]"
     ]
    },
    {
     "name": "stderr",
     "output_type": "stream",
     "text": [
      "\r",
      " 32%|███▏      | 320/1000 [00:02<00:06, 112.00it/s, loss=0.177289]"
     ]
    },
    {
     "name": "stderr",
     "output_type": "stream",
     "text": [
      "\r",
      " 32%|███▏      | 320/1000 [00:02<00:06, 112.00it/s, loss=0.177290]"
     ]
    },
    {
     "name": "stderr",
     "output_type": "stream",
     "text": [
      "\r",
      " 32%|███▏      | 320/1000 [00:02<00:06, 112.00it/s, loss=0.177288]"
     ]
    },
    {
     "name": "stderr",
     "output_type": "stream",
     "text": [
      "\r",
      " 32%|███▏      | 320/1000 [00:02<00:06, 112.00it/s, loss=0.177289]"
     ]
    },
    {
     "name": "stderr",
     "output_type": "stream",
     "text": [
      "\r",
      " 32%|███▏      | 320/1000 [00:02<00:06, 112.00it/s, loss=0.177288]"
     ]
    },
    {
     "name": "stderr",
     "output_type": "stream",
     "text": [
      "\r",
      " 32%|███▏      | 320/1000 [00:02<00:06, 112.00it/s, loss=0.177288]"
     ]
    },
    {
     "name": "stderr",
     "output_type": "stream",
     "text": [
      "\r",
      " 32%|███▏      | 320/1000 [00:02<00:06, 112.00it/s, loss=0.177289]"
     ]
    },
    {
     "name": "stderr",
     "output_type": "stream",
     "text": [
      "\r",
      " 32%|███▏      | 320/1000 [00:02<00:06, 112.00it/s, loss=0.177289]"
     ]
    },
    {
     "name": "stderr",
     "output_type": "stream",
     "text": [
      "\r",
      " 32%|███▏      | 320/1000 [00:02<00:06, 112.00it/s, loss=0.177288]"
     ]
    },
    {
     "name": "stderr",
     "output_type": "stream",
     "text": [
      "\r",
      " 32%|███▏      | 320/1000 [00:02<00:06, 112.00it/s, loss=0.177288]"
     ]
    },
    {
     "name": "stderr",
     "output_type": "stream",
     "text": [
      "\r",
      " 32%|███▏      | 320/1000 [00:02<00:06, 112.00it/s, loss=0.177289]"
     ]
    },
    {
     "name": "stderr",
     "output_type": "stream",
     "text": [
      "\r",
      " 32%|███▏      | 320/1000 [00:02<00:06, 112.00it/s, loss=0.177288]"
     ]
    },
    {
     "name": "stderr",
     "output_type": "stream",
     "text": [
      "\r",
      " 32%|███▏      | 320/1000 [00:02<00:06, 112.00it/s, loss=0.177290]"
     ]
    },
    {
     "name": "stderr",
     "output_type": "stream",
     "text": [
      "\r",
      " 32%|███▏      | 320/1000 [00:02<00:06, 112.00it/s, loss=0.177288]"
     ]
    },
    {
     "name": "stderr",
     "output_type": "stream",
     "text": [
      "\r",
      " 32%|███▏      | 320/1000 [00:02<00:06, 112.00it/s, loss=0.177290]"
     ]
    },
    {
     "name": "stderr",
     "output_type": "stream",
     "text": [
      "\r",
      " 32%|███▏      | 320/1000 [00:02<00:06, 112.00it/s, loss=0.177289]"
     ]
    },
    {
     "name": "stderr",
     "output_type": "stream",
     "text": [
      "\r",
      " 32%|███▏      | 320/1000 [00:02<00:06, 112.00it/s, loss=0.177290]"
     ]
    },
    {
     "name": "stderr",
     "output_type": "stream",
     "text": [
      "\r",
      " 32%|███▏      | 320/1000 [00:02<00:06, 112.00it/s, loss=0.177290]"
     ]
    },
    {
     "name": "stderr",
     "output_type": "stream",
     "text": [
      "\r",
      " 32%|███▏      | 320/1000 [00:02<00:06, 112.00it/s, loss=0.177289]"
     ]
    },
    {
     "name": "stderr",
     "output_type": "stream",
     "text": [
      "\r",
      " 34%|███▍      | 338/1000 [00:02<00:07, 83.23it/s, loss=0.177289] "
     ]
    },
    {
     "name": "stderr",
     "output_type": "stream",
     "text": [
      "\r",
      " 34%|███▍      | 338/1000 [00:02<00:07, 83.23it/s, loss=0.177290]"
     ]
    },
    {
     "name": "stderr",
     "output_type": "stream",
     "text": [
      "\r",
      " 34%|███▍      | 338/1000 [00:02<00:07, 83.23it/s, loss=0.177288]"
     ]
    },
    {
     "name": "stderr",
     "output_type": "stream",
     "text": [
      "\r",
      " 34%|███▍      | 338/1000 [00:02<00:07, 83.23it/s, loss=0.177290]"
     ]
    },
    {
     "name": "stderr",
     "output_type": "stream",
     "text": [
      "\r",
      " 34%|███▍      | 338/1000 [00:02<00:07, 83.23it/s, loss=0.177289]"
     ]
    },
    {
     "name": "stderr",
     "output_type": "stream",
     "text": [
      "\r",
      " 34%|███▍      | 338/1000 [00:02<00:07, 83.23it/s, loss=0.177290]"
     ]
    },
    {
     "name": "stderr",
     "output_type": "stream",
     "text": [
      "\r",
      " 34%|███▍      | 338/1000 [00:02<00:07, 83.23it/s, loss=0.177288]"
     ]
    },
    {
     "name": "stderr",
     "output_type": "stream",
     "text": [
      "\r",
      " 34%|███▍      | 338/1000 [00:02<00:07, 83.23it/s, loss=0.177289]"
     ]
    },
    {
     "name": "stderr",
     "output_type": "stream",
     "text": [
      "\r",
      " 34%|███▍      | 338/1000 [00:02<00:07, 83.23it/s, loss=0.177288]"
     ]
    },
    {
     "name": "stderr",
     "output_type": "stream",
     "text": [
      "\r",
      " 34%|███▍      | 338/1000 [00:02<00:07, 83.23it/s, loss=0.177288]"
     ]
    },
    {
     "name": "stderr",
     "output_type": "stream",
     "text": [
      "\r",
      " 34%|███▍      | 338/1000 [00:02<00:07, 83.23it/s, loss=0.177289]"
     ]
    },
    {
     "name": "stderr",
     "output_type": "stream",
     "text": [
      "\r",
      " 34%|███▍      | 338/1000 [00:02<00:07, 83.23it/s, loss=0.177289]"
     ]
    },
    {
     "name": "stderr",
     "output_type": "stream",
     "text": [
      "\r",
      " 34%|███▍      | 338/1000 [00:02<00:07, 83.23it/s, loss=0.177288]"
     ]
    },
    {
     "name": "stderr",
     "output_type": "stream",
     "text": [
      "\r",
      " 34%|███▍      | 338/1000 [00:02<00:07, 83.23it/s, loss=0.177288]"
     ]
    },
    {
     "name": "stderr",
     "output_type": "stream",
     "text": [
      "\r",
      " 34%|███▍      | 338/1000 [00:02<00:07, 83.23it/s, loss=0.177289]"
     ]
    },
    {
     "name": "stderr",
     "output_type": "stream",
     "text": [
      "\r",
      " 35%|███▌      | 352/1000 [00:02<00:09, 70.89it/s, loss=0.177289]"
     ]
    },
    {
     "name": "stderr",
     "output_type": "stream",
     "text": [
      "\r",
      " 35%|███▌      | 352/1000 [00:03<00:09, 70.89it/s, loss=0.177288]"
     ]
    },
    {
     "name": "stderr",
     "output_type": "stream",
     "text": [
      "\r",
      " 35%|███▌      | 352/1000 [00:03<00:09, 70.89it/s, loss=0.177290]"
     ]
    },
    {
     "name": "stderr",
     "output_type": "stream",
     "text": [
      "\r",
      " 35%|███▌      | 352/1000 [00:03<00:09, 70.89it/s, loss=0.177289]"
     ]
    },
    {
     "name": "stderr",
     "output_type": "stream",
     "text": [
      "\r",
      " 35%|███▌      | 352/1000 [00:03<00:09, 70.89it/s, loss=0.177290]"
     ]
    },
    {
     "name": "stderr",
     "output_type": "stream",
     "text": [
      "\r",
      " 35%|███▌      | 352/1000 [00:03<00:09, 70.89it/s, loss=0.177288]"
     ]
    },
    {
     "name": "stderr",
     "output_type": "stream",
     "text": [
      "\r",
      " 35%|███▌      | 352/1000 [00:03<00:09, 70.89it/s, loss=0.177290]"
     ]
    },
    {
     "name": "stderr",
     "output_type": "stream",
     "text": [
      "\r",
      " 35%|███▌      | 352/1000 [00:03<00:09, 70.89it/s, loss=0.177289]"
     ]
    },
    {
     "name": "stderr",
     "output_type": "stream",
     "text": [
      "\r",
      " 35%|███▌      | 352/1000 [00:03<00:09, 70.89it/s, loss=0.177290]"
     ]
    },
    {
     "name": "stderr",
     "output_type": "stream",
     "text": [
      "\r",
      " 35%|███▌      | 352/1000 [00:03<00:09, 70.89it/s, loss=0.177288]"
     ]
    },
    {
     "name": "stderr",
     "output_type": "stream",
     "text": [
      "\r",
      " 35%|███▌      | 352/1000 [00:03<00:09, 70.89it/s, loss=0.177289]"
     ]
    },
    {
     "name": "stderr",
     "output_type": "stream",
     "text": [
      "\r",
      " 35%|███▌      | 352/1000 [00:03<00:09, 70.89it/s, loss=0.177288]"
     ]
    },
    {
     "name": "stderr",
     "output_type": "stream",
     "text": [
      "\r",
      " 36%|███▋      | 363/1000 [00:03<00:09, 64.51it/s, loss=0.177288]"
     ]
    },
    {
     "name": "stderr",
     "output_type": "stream",
     "text": [
      "\r",
      " 36%|███▋      | 363/1000 [00:03<00:09, 64.51it/s, loss=0.177288]"
     ]
    },
    {
     "name": "stderr",
     "output_type": "stream",
     "text": [
      "\r",
      " 36%|███▋      | 363/1000 [00:03<00:09, 64.51it/s, loss=0.177289]"
     ]
    },
    {
     "name": "stderr",
     "output_type": "stream",
     "text": [
      "\r",
      " 36%|███▋      | 363/1000 [00:03<00:09, 64.51it/s, loss=0.177289]"
     ]
    },
    {
     "name": "stderr",
     "output_type": "stream",
     "text": [
      "\r",
      " 36%|███▋      | 363/1000 [00:03<00:09, 64.51it/s, loss=0.177288]"
     ]
    },
    {
     "name": "stderr",
     "output_type": "stream",
     "text": [
      "\r",
      " 36%|███▋      | 363/1000 [00:03<00:09, 64.51it/s, loss=0.177288]"
     ]
    },
    {
     "name": "stderr",
     "output_type": "stream",
     "text": [
      "\r",
      " 36%|███▋      | 363/1000 [00:03<00:09, 64.51it/s, loss=0.177289]"
     ]
    },
    {
     "name": "stderr",
     "output_type": "stream",
     "text": [
      "\r",
      " 36%|███▋      | 363/1000 [00:03<00:09, 64.51it/s, loss=0.177288]"
     ]
    },
    {
     "name": "stderr",
     "output_type": "stream",
     "text": [
      "\r",
      " 36%|███▋      | 363/1000 [00:03<00:09, 64.51it/s, loss=0.177290]"
     ]
    },
    {
     "name": "stderr",
     "output_type": "stream",
     "text": [
      "\r",
      " 36%|███▋      | 363/1000 [00:03<00:09, 64.51it/s, loss=0.177289]"
     ]
    },
    {
     "name": "stderr",
     "output_type": "stream",
     "text": [
      "\r",
      " 36%|███▋      | 363/1000 [00:03<00:09, 64.51it/s, loss=0.177290]"
     ]
    },
    {
     "name": "stderr",
     "output_type": "stream",
     "text": [
      "\r",
      " 37%|███▋      | 373/1000 [00:03<00:10, 59.22it/s, loss=0.177290]"
     ]
    },
    {
     "name": "stderr",
     "output_type": "stream",
     "text": [
      "\r",
      " 37%|███▋      | 373/1000 [00:03<00:10, 59.22it/s, loss=0.177288]"
     ]
    },
    {
     "name": "stderr",
     "output_type": "stream",
     "text": [
      "\r",
      " 37%|███▋      | 373/1000 [00:03<00:10, 59.22it/s, loss=0.177290]"
     ]
    },
    {
     "name": "stderr",
     "output_type": "stream",
     "text": [
      "\r",
      " 37%|███▋      | 373/1000 [00:03<00:10, 59.22it/s, loss=0.177288]"
     ]
    },
    {
     "name": "stderr",
     "output_type": "stream",
     "text": [
      "\r",
      " 37%|███▋      | 373/1000 [00:03<00:10, 59.22it/s, loss=0.177290]"
     ]
    },
    {
     "name": "stderr",
     "output_type": "stream",
     "text": [
      "\r",
      " 37%|███▋      | 373/1000 [00:03<00:10, 59.22it/s, loss=0.177289]"
     ]
    },
    {
     "name": "stderr",
     "output_type": "stream",
     "text": [
      "\r",
      " 37%|███▋      | 373/1000 [00:03<00:10, 59.22it/s, loss=0.177289]"
     ]
    },
    {
     "name": "stderr",
     "output_type": "stream",
     "text": [
      "\r",
      " 37%|███▋      | 373/1000 [00:03<00:10, 59.22it/s, loss=0.177288]"
     ]
    },
    {
     "name": "stderr",
     "output_type": "stream",
     "text": [
      "\r",
      " 37%|███▋      | 373/1000 [00:03<00:10, 59.22it/s, loss=0.177288]"
     ]
    },
    {
     "name": "stderr",
     "output_type": "stream",
     "text": [
      "\r",
      " 38%|███▊      | 381/1000 [00:03<00:11, 55.97it/s, loss=0.177288]"
     ]
    },
    {
     "name": "stderr",
     "output_type": "stream",
     "text": [
      "\r",
      " 38%|███▊      | 381/1000 [00:03<00:11, 55.97it/s, loss=0.177288]"
     ]
    },
    {
     "name": "stderr",
     "output_type": "stream",
     "text": [
      "\r",
      " 38%|███▊      | 381/1000 [00:03<00:11, 55.97it/s, loss=0.177289]"
     ]
    },
    {
     "name": "stderr",
     "output_type": "stream",
     "text": [
      "\r",
      " 38%|███▊      | 381/1000 [00:03<00:11, 55.97it/s, loss=0.177289]"
     ]
    },
    {
     "name": "stderr",
     "output_type": "stream",
     "text": [
      "\r",
      " 38%|███▊      | 381/1000 [00:03<00:11, 55.97it/s, loss=0.177288]"
     ]
    },
    {
     "name": "stderr",
     "output_type": "stream",
     "text": [
      "\r",
      " 38%|███▊      | 381/1000 [00:03<00:11, 55.97it/s, loss=0.177288]"
     ]
    },
    {
     "name": "stderr",
     "output_type": "stream",
     "text": [
      "\r",
      " 38%|███▊      | 381/1000 [00:03<00:11, 55.97it/s, loss=0.177288]"
     ]
    },
    {
     "name": "stderr",
     "output_type": "stream",
     "text": [
      "\r",
      " 38%|███▊      | 381/1000 [00:03<00:11, 55.97it/s, loss=0.177289]"
     ]
    },
    {
     "name": "stderr",
     "output_type": "stream",
     "text": [
      "\r",
      " 39%|███▉      | 388/1000 [00:03<00:11, 53.88it/s, loss=0.177289]"
     ]
    },
    {
     "name": "stderr",
     "output_type": "stream",
     "text": [
      "\r",
      " 39%|███▉      | 388/1000 [00:03<00:11, 53.88it/s, loss=0.177289]"
     ]
    },
    {
     "name": "stderr",
     "output_type": "stream",
     "text": [
      "\r",
      " 39%|███▉      | 388/1000 [00:03<00:11, 53.88it/s, loss=0.177288]"
     ]
    },
    {
     "name": "stderr",
     "output_type": "stream",
     "text": [
      "\r",
      " 39%|███▉      | 388/1000 [00:03<00:11, 53.88it/s, loss=0.177288]"
     ]
    },
    {
     "name": "stderr",
     "output_type": "stream",
     "text": [
      "\r",
      " 39%|███▉      | 388/1000 [00:03<00:11, 53.88it/s, loss=0.177288]"
     ]
    },
    {
     "name": "stderr",
     "output_type": "stream",
     "text": [
      "\r",
      " 39%|███▉      | 388/1000 [00:03<00:11, 53.88it/s, loss=0.177288]"
     ]
    },
    {
     "name": "stderr",
     "output_type": "stream",
     "text": [
      "\r",
      " 39%|███▉      | 388/1000 [00:03<00:11, 53.88it/s, loss=0.177289]"
     ]
    },
    {
     "name": "stderr",
     "output_type": "stream",
     "text": [
      "\r",
      " 39%|███▉      | 388/1000 [00:03<00:11, 53.88it/s, loss=0.177289]"
     ]
    },
    {
     "name": "stderr",
     "output_type": "stream",
     "text": [
      "\r",
      " 40%|███▉      | 395/1000 [00:03<00:11, 51.78it/s, loss=0.177289]"
     ]
    },
    {
     "name": "stderr",
     "output_type": "stream",
     "text": [
      "\r",
      " 40%|███▉      | 395/1000 [00:03<00:11, 51.78it/s, loss=0.177288]"
     ]
    },
    {
     "name": "stderr",
     "output_type": "stream",
     "text": [
      "\r",
      " 40%|███▉      | 395/1000 [00:03<00:11, 51.78it/s, loss=0.177288]"
     ]
    },
    {
     "name": "stderr",
     "output_type": "stream",
     "text": [
      "\r",
      " 40%|███▉      | 395/1000 [00:03<00:11, 51.78it/s, loss=0.177289]"
     ]
    },
    {
     "name": "stderr",
     "output_type": "stream",
     "text": [
      "\r",
      " 40%|███▉      | 395/1000 [00:04<00:11, 51.78it/s, loss=0.177288]"
     ]
    },
    {
     "name": "stderr",
     "output_type": "stream",
     "text": [
      "\r",
      " 40%|███▉      | 395/1000 [00:04<00:11, 51.78it/s, loss=0.177289]"
     ]
    },
    {
     "name": "stderr",
     "output_type": "stream",
     "text": [
      "\r",
      " 40%|███▉      | 395/1000 [00:04<00:11, 51.78it/s, loss=0.177289]"
     ]
    },
    {
     "name": "stderr",
     "output_type": "stream",
     "text": [
      "\r",
      " 40%|████      | 401/1000 [00:04<00:11, 50.46it/s, loss=0.177289]"
     ]
    },
    {
     "name": "stderr",
     "output_type": "stream",
     "text": [
      "\r",
      " 40%|████      | 401/1000 [00:04<00:11, 50.46it/s, loss=0.177288]"
     ]
    },
    {
     "name": "stderr",
     "output_type": "stream",
     "text": [
      "\r",
      " 40%|████      | 401/1000 [00:04<00:11, 50.46it/s, loss=0.177288]"
     ]
    },
    {
     "name": "stderr",
     "output_type": "stream",
     "text": [
      "\r",
      " 40%|████      | 401/1000 [00:04<00:11, 50.46it/s, loss=0.177288]"
     ]
    },
    {
     "name": "stderr",
     "output_type": "stream",
     "text": [
      "\r",
      " 40%|████      | 401/1000 [00:04<00:11, 50.46it/s, loss=0.177288]"
     ]
    },
    {
     "name": "stderr",
     "output_type": "stream",
     "text": [
      "\r",
      " 40%|████      | 401/1000 [00:04<00:11, 50.46it/s, loss=0.177289]"
     ]
    },
    {
     "name": "stderr",
     "output_type": "stream",
     "text": [
      "\r",
      " 40%|████      | 401/1000 [00:04<00:11, 50.46it/s, loss=0.177289]"
     ]
    },
    {
     "name": "stderr",
     "output_type": "stream",
     "text": [
      "\r",
      " 41%|████      | 407/1000 [00:04<00:11, 49.56it/s, loss=0.177289]"
     ]
    },
    {
     "name": "stderr",
     "output_type": "stream",
     "text": [
      "\r",
      " 41%|████      | 407/1000 [00:04<00:11, 49.56it/s, loss=0.177288]"
     ]
    },
    {
     "name": "stderr",
     "output_type": "stream",
     "text": [
      "\r",
      " 41%|████      | 407/1000 [00:04<00:11, 49.56it/s, loss=0.177288]"
     ]
    },
    {
     "name": "stderr",
     "output_type": "stream",
     "text": [
      "\r",
      " 41%|████      | 407/1000 [00:04<00:11, 49.56it/s, loss=0.177289]"
     ]
    },
    {
     "name": "stderr",
     "output_type": "stream",
     "text": [
      "\r",
      " 41%|████      | 407/1000 [00:04<00:11, 49.56it/s, loss=0.177288]"
     ]
    },
    {
     "name": "stderr",
     "output_type": "stream",
     "text": [
      "\r",
      " 41%|████      | 407/1000 [00:04<00:11, 49.56it/s, loss=0.177289]"
     ]
    },
    {
     "name": "stderr",
     "output_type": "stream",
     "text": [
      "\r",
      " 41%|████      | 407/1000 [00:04<00:11, 49.56it/s, loss=0.177289]"
     ]
    },
    {
     "name": "stderr",
     "output_type": "stream",
     "text": [
      "\r",
      " 41%|████▏     | 413/1000 [00:04<00:12, 48.71it/s, loss=0.177289]"
     ]
    },
    {
     "name": "stderr",
     "output_type": "stream",
     "text": [
      "\r",
      " 41%|████▏     | 413/1000 [00:04<00:12, 48.71it/s, loss=0.177288]"
     ]
    },
    {
     "name": "stderr",
     "output_type": "stream",
     "text": [
      "\r",
      " 41%|████▏     | 413/1000 [00:04<00:12, 48.71it/s, loss=0.177288]"
     ]
    },
    {
     "name": "stderr",
     "output_type": "stream",
     "text": [
      "\r",
      " 41%|████▏     | 413/1000 [00:04<00:12, 48.71it/s, loss=0.177288]"
     ]
    },
    {
     "name": "stderr",
     "output_type": "stream",
     "text": [
      "\r",
      " 41%|████▏     | 413/1000 [00:04<00:12, 48.71it/s, loss=0.177288]"
     ]
    },
    {
     "name": "stderr",
     "output_type": "stream",
     "text": [
      "\r",
      " 41%|████▏     | 413/1000 [00:04<00:12, 48.71it/s, loss=0.177289]"
     ]
    },
    {
     "name": "stderr",
     "output_type": "stream",
     "text": [
      "\r",
      " 42%|████▏     | 418/1000 [00:04<00:12, 48.10it/s, loss=0.177289]"
     ]
    },
    {
     "name": "stderr",
     "output_type": "stream",
     "text": [
      "\r",
      " 42%|████▏     | 418/1000 [00:04<00:12, 48.10it/s, loss=0.177289]"
     ]
    },
    {
     "name": "stderr",
     "output_type": "stream",
     "text": [
      "\r",
      " 42%|████▏     | 418/1000 [00:04<00:12, 48.10it/s, loss=0.177288]"
     ]
    },
    {
     "name": "stderr",
     "output_type": "stream",
     "text": [
      "\r",
      " 42%|████▏     | 418/1000 [00:04<00:12, 48.10it/s, loss=0.177288]"
     ]
    },
    {
     "name": "stderr",
     "output_type": "stream",
     "text": [
      "\r",
      " 42%|████▏     | 418/1000 [00:04<00:12, 48.10it/s, loss=0.177289]"
     ]
    },
    {
     "name": "stderr",
     "output_type": "stream",
     "text": [
      "\r",
      " 42%|████▏     | 418/1000 [00:04<00:12, 48.10it/s, loss=0.177288]"
     ]
    },
    {
     "name": "stderr",
     "output_type": "stream",
     "text": [
      "\r",
      " 42%|████▏     | 423/1000 [00:04<00:12, 47.85it/s, loss=0.177288]"
     ]
    },
    {
     "name": "stderr",
     "output_type": "stream",
     "text": [
      "\r",
      " 42%|████▏     | 423/1000 [00:04<00:12, 47.85it/s, loss=0.177289]"
     ]
    },
    {
     "name": "stderr",
     "output_type": "stream",
     "text": [
      "\r",
      " 42%|████▏     | 423/1000 [00:04<00:12, 47.85it/s, loss=0.177289]"
     ]
    },
    {
     "name": "stderr",
     "output_type": "stream",
     "text": [
      "\r",
      " 42%|████▏     | 423/1000 [00:04<00:12, 47.85it/s, loss=0.177288]"
     ]
    },
    {
     "name": "stderr",
     "output_type": "stream",
     "text": [
      "\r",
      " 42%|████▏     | 423/1000 [00:04<00:12, 47.85it/s, loss=0.177288]"
     ]
    },
    {
     "name": "stderr",
     "output_type": "stream",
     "text": [
      "\r",
      " 42%|████▏     | 423/1000 [00:04<00:12, 47.85it/s, loss=0.177288]"
     ]
    },
    {
     "name": "stderr",
     "output_type": "stream",
     "text": [
      "\r",
      " 43%|████▎     | 428/1000 [00:04<00:12, 46.92it/s, loss=0.177288]"
     ]
    },
    {
     "name": "stderr",
     "output_type": "stream",
     "text": [
      "\r",
      " 43%|████▎     | 428/1000 [00:04<00:12, 46.92it/s, loss=0.177288]"
     ]
    },
    {
     "name": "stderr",
     "output_type": "stream",
     "text": [
      "\r",
      " 43%|████▎     | 428/1000 [00:04<00:12, 46.92it/s, loss=0.177289]"
     ]
    },
    {
     "name": "stderr",
     "output_type": "stream",
     "text": [
      "\r",
      " 43%|████▎     | 428/1000 [00:04<00:12, 46.92it/s, loss=0.177289]"
     ]
    },
    {
     "name": "stderr",
     "output_type": "stream",
     "text": [
      "\r",
      " 43%|████▎     | 428/1000 [00:04<00:12, 46.92it/s, loss=0.177288]"
     ]
    },
    {
     "name": "stderr",
     "output_type": "stream",
     "text": [
      "\r",
      " 43%|████▎     | 428/1000 [00:04<00:12, 46.92it/s, loss=0.177288]"
     ]
    },
    {
     "name": "stderr",
     "output_type": "stream",
     "text": [
      "\r",
      " 43%|████▎     | 433/1000 [00:04<00:12, 46.56it/s, loss=0.177288]"
     ]
    },
    {
     "name": "stderr",
     "output_type": "stream",
     "text": [
      "\r",
      " 43%|████▎     | 433/1000 [00:04<00:12, 46.56it/s, loss=0.177289]"
     ]
    },
    {
     "name": "stderr",
     "output_type": "stream",
     "text": [
      "\r",
      " 43%|████▎     | 433/1000 [00:04<00:12, 46.56it/s, loss=0.177288]"
     ]
    },
    {
     "name": "stderr",
     "output_type": "stream",
     "text": [
      "\r",
      " 43%|████▎     | 433/1000 [00:04<00:12, 46.56it/s, loss=0.177289]"
     ]
    },
    {
     "name": "stderr",
     "output_type": "stream",
     "text": [
      "\r",
      " 43%|████▎     | 433/1000 [00:04<00:12, 46.56it/s, loss=0.177289]"
     ]
    },
    {
     "name": "stderr",
     "output_type": "stream",
     "text": [
      "\r",
      " 43%|████▎     | 433/1000 [00:04<00:12, 46.56it/s, loss=0.177288]"
     ]
    },
    {
     "name": "stderr",
     "output_type": "stream",
     "text": [
      "\r",
      " 44%|████▍     | 438/1000 [00:04<00:12, 46.57it/s, loss=0.177288]"
     ]
    },
    {
     "name": "stderr",
     "output_type": "stream",
     "text": [
      "\r",
      " 44%|████▍     | 438/1000 [00:04<00:12, 46.57it/s, loss=0.177288]"
     ]
    },
    {
     "name": "stderr",
     "output_type": "stream",
     "text": [
      "\r",
      " 44%|████▍     | 438/1000 [00:04<00:12, 46.57it/s, loss=0.177288]"
     ]
    },
    {
     "name": "stderr",
     "output_type": "stream",
     "text": [
      "\r",
      " 44%|████▍     | 438/1000 [00:04<00:12, 46.57it/s, loss=0.177288]"
     ]
    },
    {
     "name": "stderr",
     "output_type": "stream",
     "text": [
      "\r",
      " 44%|████▍     | 438/1000 [00:04<00:12, 46.57it/s, loss=0.177289]"
     ]
    },
    {
     "name": "stderr",
     "output_type": "stream",
     "text": [
      "\r",
      " 44%|████▍     | 438/1000 [00:04<00:12, 46.57it/s, loss=0.177289]"
     ]
    },
    {
     "name": "stderr",
     "output_type": "stream",
     "text": [
      "\r",
      " 44%|████▍     | 443/1000 [00:04<00:11, 46.58it/s, loss=0.177289]"
     ]
    },
    {
     "name": "stderr",
     "output_type": "stream",
     "text": [
      "\r",
      " 44%|████▍     | 443/1000 [00:04<00:11, 46.58it/s, loss=0.177288]"
     ]
    },
    {
     "name": "stderr",
     "output_type": "stream",
     "text": [
      "\r",
      " 44%|████▍     | 443/1000 [00:05<00:11, 46.58it/s, loss=0.177288]"
     ]
    },
    {
     "name": "stderr",
     "output_type": "stream",
     "text": [
      "\r",
      " 44%|████▍     | 443/1000 [00:05<00:11, 46.58it/s, loss=0.177289]"
     ]
    },
    {
     "name": "stderr",
     "output_type": "stream",
     "text": [
      "\r",
      " 44%|████▍     | 443/1000 [00:05<00:11, 46.58it/s, loss=0.177288]"
     ]
    },
    {
     "name": "stderr",
     "output_type": "stream",
     "text": [
      "\r",
      " 44%|████▍     | 443/1000 [00:05<00:11, 46.58it/s, loss=0.177289]"
     ]
    },
    {
     "name": "stderr",
     "output_type": "stream",
     "text": [
      "\r",
      " 45%|████▍     | 448/1000 [00:05<00:11, 46.04it/s, loss=0.177289]"
     ]
    },
    {
     "name": "stderr",
     "output_type": "stream",
     "text": [
      "\r",
      " 45%|████▍     | 448/1000 [00:05<00:11, 46.04it/s, loss=0.177289]"
     ]
    },
    {
     "name": "stderr",
     "output_type": "stream",
     "text": [
      "\r",
      " 45%|████▍     | 448/1000 [00:05<00:11, 46.04it/s, loss=0.177288]"
     ]
    },
    {
     "name": "stderr",
     "output_type": "stream",
     "text": [
      "\r",
      " 45%|████▍     | 448/1000 [00:05<00:11, 46.04it/s, loss=0.177288]"
     ]
    },
    {
     "name": "stderr",
     "output_type": "stream",
     "text": [
      "\r",
      " 45%|████▍     | 448/1000 [00:05<00:11, 46.04it/s, loss=0.177289]"
     ]
    },
    {
     "name": "stderr",
     "output_type": "stream",
     "text": [
      "\r",
      " 45%|████▍     | 448/1000 [00:05<00:11, 46.04it/s, loss=0.177289]"
     ]
    },
    {
     "name": "stderr",
     "output_type": "stream",
     "text": [
      "\r",
      " 45%|████▌     | 453/1000 [00:05<00:11, 46.32it/s, loss=0.177289]"
     ]
    },
    {
     "name": "stderr",
     "output_type": "stream",
     "text": [
      "\r",
      " 45%|████▌     | 453/1000 [00:05<00:11, 46.32it/s, loss=0.177289]"
     ]
    },
    {
     "name": "stderr",
     "output_type": "stream",
     "text": [
      "\r",
      " 45%|████▌     | 453/1000 [00:05<00:11, 46.32it/s, loss=0.177291]"
     ]
    },
    {
     "name": "stderr",
     "output_type": "stream",
     "text": [
      "\r",
      " 45%|████▌     | 453/1000 [00:05<00:11, 46.32it/s, loss=0.177288]"
     ]
    },
    {
     "name": "stderr",
     "output_type": "stream",
     "text": [
      "\r",
      " 45%|████▌     | 453/1000 [00:05<00:11, 46.32it/s, loss=0.177290]"
     ]
    },
    {
     "name": "stderr",
     "output_type": "stream",
     "text": [
      "\r",
      " 45%|████▌     | 453/1000 [00:05<00:11, 46.32it/s, loss=0.177289]"
     ]
    },
    {
     "name": "stderr",
     "output_type": "stream",
     "text": [
      "\r",
      " 46%|████▌     | 458/1000 [00:05<00:11, 46.21it/s, loss=0.177289]"
     ]
    },
    {
     "name": "stderr",
     "output_type": "stream",
     "text": [
      "\r",
      " 46%|████▌     | 458/1000 [00:05<00:11, 46.21it/s, loss=0.177290]"
     ]
    },
    {
     "name": "stderr",
     "output_type": "stream",
     "text": [
      "\r",
      " 46%|████▌     | 458/1000 [00:05<00:11, 46.21it/s, loss=0.177290]"
     ]
    },
    {
     "name": "stderr",
     "output_type": "stream",
     "text": [
      "\r",
      " 46%|████▌     | 458/1000 [00:05<00:11, 46.21it/s, loss=0.177291]"
     ]
    },
    {
     "name": "stderr",
     "output_type": "stream",
     "text": [
      "\r",
      " 46%|████▌     | 458/1000 [00:05<00:11, 46.21it/s, loss=0.177291]"
     ]
    },
    {
     "name": "stderr",
     "output_type": "stream",
     "text": [
      "\r",
      " 46%|████▌     | 458/1000 [00:05<00:11, 46.21it/s, loss=0.177289]"
     ]
    },
    {
     "name": "stderr",
     "output_type": "stream",
     "text": [
      "\r",
      " 46%|████▋     | 463/1000 [00:05<00:11, 45.61it/s, loss=0.177289]"
     ]
    },
    {
     "name": "stderr",
     "output_type": "stream",
     "text": [
      "\r",
      " 46%|████▋     | 463/1000 [00:05<00:11, 45.61it/s, loss=0.177291]"
     ]
    },
    {
     "name": "stderr",
     "output_type": "stream",
     "text": [
      "\r",
      " 46%|████▋     | 463/1000 [00:05<00:11, 45.61it/s, loss=0.177288]"
     ]
    },
    {
     "name": "stderr",
     "output_type": "stream",
     "text": [
      "\r",
      " 46%|████▋     | 463/1000 [00:05<00:11, 45.61it/s, loss=0.177290]"
     ]
    },
    {
     "name": "stderr",
     "output_type": "stream",
     "text": [
      "\r",
      " 46%|████▋     | 463/1000 [00:05<00:11, 45.61it/s, loss=0.177288]"
     ]
    },
    {
     "name": "stderr",
     "output_type": "stream",
     "text": [
      "\r",
      " 46%|████▋     | 463/1000 [00:05<00:11, 45.61it/s, loss=0.177291]"
     ]
    },
    {
     "name": "stderr",
     "output_type": "stream",
     "text": [
      "\r",
      " 47%|████▋     | 468/1000 [00:05<00:11, 44.58it/s, loss=0.177291]"
     ]
    },
    {
     "name": "stderr",
     "output_type": "stream",
     "text": [
      "\r",
      " 47%|████▋     | 468/1000 [00:05<00:11, 44.58it/s, loss=0.177289]"
     ]
    },
    {
     "name": "stderr",
     "output_type": "stream",
     "text": [
      "\r",
      " 47%|████▋     | 468/1000 [00:05<00:11, 44.58it/s, loss=0.177289]"
     ]
    },
    {
     "name": "stderr",
     "output_type": "stream",
     "text": [
      "\r",
      " 47%|████▋     | 468/1000 [00:05<00:11, 44.58it/s, loss=0.177289]"
     ]
    },
    {
     "name": "stderr",
     "output_type": "stream",
     "text": [
      "\r",
      " 47%|████▋     | 468/1000 [00:05<00:11, 44.58it/s, loss=0.177288]"
     ]
    },
    {
     "name": "stderr",
     "output_type": "stream",
     "text": [
      "\r",
      " 47%|████▋     | 468/1000 [00:05<00:11, 44.58it/s, loss=0.177288]"
     ]
    },
    {
     "name": "stderr",
     "output_type": "stream",
     "text": [
      "\r",
      " 47%|████▋     | 473/1000 [00:05<00:12, 43.65it/s, loss=0.177288]"
     ]
    },
    {
     "name": "stderr",
     "output_type": "stream",
     "text": [
      "\r",
      " 47%|████▋     | 473/1000 [00:05<00:12, 43.65it/s, loss=0.177289]"
     ]
    },
    {
     "name": "stderr",
     "output_type": "stream",
     "text": [
      "\r",
      " 47%|████▋     | 473/1000 [00:05<00:12, 43.65it/s, loss=0.177289]"
     ]
    },
    {
     "name": "stderr",
     "output_type": "stream",
     "text": [
      "\r",
      " 47%|████▋     | 473/1000 [00:05<00:12, 43.65it/s, loss=0.177288]"
     ]
    },
    {
     "name": "stderr",
     "output_type": "stream",
     "text": [
      "\r",
      " 47%|████▋     | 473/1000 [00:05<00:12, 43.65it/s, loss=0.177292]"
     ]
    },
    {
     "name": "stderr",
     "output_type": "stream",
     "text": [
      "\r",
      " 47%|████▋     | 473/1000 [00:05<00:12, 43.65it/s, loss=0.177288]"
     ]
    },
    {
     "name": "stderr",
     "output_type": "stream",
     "text": [
      "\r",
      " 48%|████▊     | 478/1000 [00:05<00:11, 43.72it/s, loss=0.177288]"
     ]
    },
    {
     "name": "stderr",
     "output_type": "stream",
     "text": [
      "\r",
      " 48%|████▊     | 478/1000 [00:05<00:11, 43.72it/s, loss=0.177290]"
     ]
    },
    {
     "name": "stderr",
     "output_type": "stream",
     "text": [
      "\r",
      " 48%|████▊     | 478/1000 [00:05<00:11, 43.72it/s, loss=0.177288]"
     ]
    },
    {
     "name": "stderr",
     "output_type": "stream",
     "text": [
      "\r",
      " 48%|████▊     | 478/1000 [00:05<00:11, 43.72it/s, loss=0.177290]"
     ]
    },
    {
     "name": "stderr",
     "output_type": "stream",
     "text": [
      "\r",
      " 48%|████▊     | 478/1000 [00:05<00:11, 43.72it/s, loss=0.177290]"
     ]
    },
    {
     "name": "stderr",
     "output_type": "stream",
     "text": [
      "\r",
      " 48%|████▊     | 478/1000 [00:05<00:11, 43.72it/s, loss=0.177291]"
     ]
    },
    {
     "name": "stderr",
     "output_type": "stream",
     "text": [
      "\r",
      " 48%|████▊     | 483/1000 [00:05<00:11, 43.69it/s, loss=0.177291]"
     ]
    },
    {
     "name": "stderr",
     "output_type": "stream",
     "text": [
      "\r",
      " 48%|████▊     | 483/1000 [00:05<00:11, 43.69it/s, loss=0.177291]"
     ]
    },
    {
     "name": "stderr",
     "output_type": "stream",
     "text": [
      "\r",
      " 48%|████▊     | 483/1000 [00:05<00:11, 43.69it/s, loss=0.177289]"
     ]
    },
    {
     "name": "stderr",
     "output_type": "stream",
     "text": [
      "\r",
      " 48%|████▊     | 483/1000 [00:05<00:11, 43.69it/s, loss=0.177290]"
     ]
    },
    {
     "name": "stderr",
     "output_type": "stream",
     "text": [
      "\r",
      " 48%|████▊     | 483/1000 [00:05<00:11, 43.69it/s, loss=0.177288]"
     ]
    },
    {
     "name": "stderr",
     "output_type": "stream",
     "text": [
      "\r",
      " 48%|████▊     | 483/1000 [00:05<00:11, 43.69it/s, loss=0.177290]"
     ]
    },
    {
     "name": "stderr",
     "output_type": "stream",
     "text": [
      "\r",
      " 49%|████▉     | 488/1000 [00:05<00:11, 43.69it/s, loss=0.177290]"
     ]
    },
    {
     "name": "stderr",
     "output_type": "stream",
     "text": [
      "\r",
      " 49%|████▉     | 488/1000 [00:06<00:11, 43.69it/s, loss=0.177288]"
     ]
    },
    {
     "name": "stderr",
     "output_type": "stream",
     "text": [
      "\r",
      " 49%|████▉     | 488/1000 [00:06<00:11, 43.69it/s, loss=0.177291]"
     ]
    },
    {
     "name": "stderr",
     "output_type": "stream",
     "text": [
      "\r",
      " 49%|████▉     | 488/1000 [00:06<00:11, 43.69it/s, loss=0.177289]"
     ]
    },
    {
     "name": "stderr",
     "output_type": "stream",
     "text": [
      "\r",
      " 49%|████▉     | 488/1000 [00:06<00:11, 43.69it/s, loss=0.177289]"
     ]
    },
    {
     "name": "stderr",
     "output_type": "stream",
     "text": [
      "\r",
      " 49%|████▉     | 488/1000 [00:06<00:11, 43.69it/s, loss=0.177289]"
     ]
    },
    {
     "name": "stderr",
     "output_type": "stream",
     "text": [
      "\r",
      " 49%|████▉     | 493/1000 [00:06<00:11, 43.92it/s, loss=0.177289]"
     ]
    },
    {
     "name": "stderr",
     "output_type": "stream",
     "text": [
      "\r",
      " 49%|████▉     | 493/1000 [00:06<00:11, 43.92it/s, loss=0.177288]"
     ]
    },
    {
     "name": "stderr",
     "output_type": "stream",
     "text": [
      "\r",
      " 49%|████▉     | 493/1000 [00:06<00:11, 43.92it/s, loss=0.177288]"
     ]
    },
    {
     "name": "stderr",
     "output_type": "stream",
     "text": [
      "\r",
      " 49%|████▉     | 493/1000 [00:06<00:11, 43.92it/s, loss=0.177289]"
     ]
    },
    {
     "name": "stderr",
     "output_type": "stream",
     "text": [
      "\r",
      " 49%|████▉     | 493/1000 [00:06<00:11, 43.92it/s, loss=0.177289]"
     ]
    },
    {
     "name": "stderr",
     "output_type": "stream",
     "text": [
      "\r",
      " 49%|████▉     | 493/1000 [00:06<00:11, 43.92it/s, loss=0.177288]"
     ]
    },
    {
     "name": "stderr",
     "output_type": "stream",
     "text": [
      "\r",
      " 50%|████▉     | 498/1000 [00:06<00:11, 44.21it/s, loss=0.177288]"
     ]
    },
    {
     "name": "stderr",
     "output_type": "stream",
     "text": [
      "\r",
      " 50%|████▉     | 498/1000 [00:06<00:11, 44.21it/s, loss=0.177292]"
     ]
    },
    {
     "name": "stderr",
     "output_type": "stream",
     "text": [
      "\r",
      " 50%|████▉     | 498/1000 [00:06<00:11, 44.21it/s, loss=0.177288]"
     ]
    },
    {
     "name": "stderr",
     "output_type": "stream",
     "text": [
      "\r",
      " 50%|████▉     | 498/1000 [00:06<00:11, 44.21it/s, loss=0.177290]"
     ]
    },
    {
     "name": "stderr",
     "output_type": "stream",
     "text": [
      "\r",
      " 50%|████▉     | 498/1000 [00:06<00:11, 44.21it/s, loss=0.177290]"
     ]
    },
    {
     "name": "stderr",
     "output_type": "stream",
     "text": [
      "\r",
      " 50%|████▉     | 498/1000 [00:06<00:11, 44.21it/s, loss=0.177290]"
     ]
    },
    {
     "name": "stderr",
     "output_type": "stream",
     "text": [
      "\r",
      " 50%|█████     | 503/1000 [00:06<00:11, 43.81it/s, loss=0.177290]"
     ]
    },
    {
     "name": "stderr",
     "output_type": "stream",
     "text": [
      "\r",
      " 50%|█████     | 503/1000 [00:06<00:11, 43.81it/s, loss=0.177293]"
     ]
    },
    {
     "name": "stderr",
     "output_type": "stream",
     "text": [
      "\r",
      " 50%|█████     | 503/1000 [00:06<00:11, 43.81it/s, loss=0.177289]"
     ]
    },
    {
     "name": "stderr",
     "output_type": "stream",
     "text": [
      "\r",
      " 50%|█████     | 503/1000 [00:06<00:11, 43.81it/s, loss=0.177295]"
     ]
    },
    {
     "name": "stderr",
     "output_type": "stream",
     "text": [
      "\r",
      " 50%|█████     | 503/1000 [00:06<00:11, 43.81it/s, loss=0.177288]"
     ]
    },
    {
     "name": "stderr",
     "output_type": "stream",
     "text": [
      "\r",
      " 50%|█████     | 503/1000 [00:06<00:11, 43.81it/s, loss=0.177295]"
     ]
    },
    {
     "name": "stderr",
     "output_type": "stream",
     "text": [
      "\r",
      " 51%|█████     | 508/1000 [00:06<00:11, 43.86it/s, loss=0.177295]"
     ]
    },
    {
     "name": "stderr",
     "output_type": "stream",
     "text": [
      "\r",
      " 51%|█████     | 508/1000 [00:06<00:11, 43.86it/s, loss=0.177289]"
     ]
    },
    {
     "name": "stderr",
     "output_type": "stream",
     "text": [
      "\r",
      " 51%|█████     | 508/1000 [00:06<00:11, 43.86it/s, loss=0.177293]"
     ]
    },
    {
     "name": "stderr",
     "output_type": "stream",
     "text": [
      "\r",
      " 51%|█████     | 508/1000 [00:06<00:11, 43.86it/s, loss=0.177290]"
     ]
    },
    {
     "name": "stderr",
     "output_type": "stream",
     "text": [
      "\r",
      " 51%|█████     | 508/1000 [00:06<00:11, 43.86it/s, loss=0.177289]"
     ]
    },
    {
     "name": "stderr",
     "output_type": "stream",
     "text": [
      "\r",
      " 51%|█████     | 508/1000 [00:06<00:11, 43.86it/s, loss=0.177291]"
     ]
    },
    {
     "name": "stderr",
     "output_type": "stream",
     "text": [
      "\r",
      " 51%|█████▏    | 513/1000 [00:06<00:10, 44.33it/s, loss=0.177291]"
     ]
    },
    {
     "name": "stderr",
     "output_type": "stream",
     "text": [
      "\r",
      " 51%|█████▏    | 513/1000 [00:06<00:10, 44.33it/s, loss=0.177288]"
     ]
    },
    {
     "name": "stderr",
     "output_type": "stream",
     "text": [
      "\r",
      " 51%|█████▏    | 513/1000 [00:06<00:10, 44.33it/s, loss=0.177291]"
     ]
    },
    {
     "name": "stderr",
     "output_type": "stream",
     "text": [
      "\r",
      " 51%|█████▏    | 513/1000 [00:06<00:10, 44.33it/s, loss=0.177289]"
     ]
    },
    {
     "name": "stderr",
     "output_type": "stream",
     "text": [
      "\r",
      " 51%|█████▏    | 513/1000 [00:06<00:10, 44.33it/s, loss=0.177290]"
     ]
    },
    {
     "name": "stderr",
     "output_type": "stream",
     "text": [
      "\r",
      " 51%|█████▏    | 513/1000 [00:06<00:10, 44.33it/s, loss=0.177289]"
     ]
    },
    {
     "name": "stderr",
     "output_type": "stream",
     "text": [
      "\r",
      " 52%|█████▏    | 518/1000 [00:06<00:10, 45.24it/s, loss=0.177289]"
     ]
    },
    {
     "name": "stderr",
     "output_type": "stream",
     "text": [
      "\r",
      " 52%|█████▏    | 518/1000 [00:06<00:10, 45.24it/s, loss=0.177288]"
     ]
    },
    {
     "name": "stderr",
     "output_type": "stream",
     "text": [
      "\r",
      " 52%|█████▏    | 518/1000 [00:06<00:10, 45.24it/s, loss=0.177288]"
     ]
    },
    {
     "name": "stderr",
     "output_type": "stream",
     "text": [
      "\r",
      " 52%|█████▏    | 518/1000 [00:06<00:10, 45.24it/s, loss=0.177289]"
     ]
    },
    {
     "name": "stderr",
     "output_type": "stream",
     "text": [
      "\r",
      " 52%|█████▏    | 518/1000 [00:06<00:10, 45.24it/s, loss=0.177289]"
     ]
    },
    {
     "name": "stderr",
     "output_type": "stream",
     "text": [
      "\r",
      " 52%|█████▏    | 518/1000 [00:06<00:10, 45.24it/s, loss=0.177288]"
     ]
    },
    {
     "name": "stderr",
     "output_type": "stream",
     "text": [
      "\r",
      " 52%|█████▏    | 523/1000 [00:06<00:10, 45.42it/s, loss=0.177288]"
     ]
    },
    {
     "name": "stderr",
     "output_type": "stream",
     "text": [
      "\r",
      " 52%|█████▏    | 523/1000 [00:06<00:10, 45.42it/s, loss=0.177288]"
     ]
    },
    {
     "name": "stderr",
     "output_type": "stream",
     "text": [
      "\r",
      " 52%|█████▏    | 523/1000 [00:06<00:10, 45.42it/s, loss=0.177288]"
     ]
    },
    {
     "name": "stderr",
     "output_type": "stream",
     "text": [
      "\r",
      " 52%|█████▏    | 523/1000 [00:06<00:10, 45.42it/s, loss=0.177288]"
     ]
    },
    {
     "name": "stderr",
     "output_type": "stream",
     "text": [
      "\r",
      " 52%|█████▏    | 523/1000 [00:06<00:10, 45.42it/s, loss=0.177289]"
     ]
    },
    {
     "name": "stderr",
     "output_type": "stream",
     "text": [
      "\r",
      " 52%|█████▏    | 523/1000 [00:06<00:10, 45.42it/s, loss=0.177289]"
     ]
    },
    {
     "name": "stderr",
     "output_type": "stream",
     "text": [
      "\r",
      " 53%|█████▎    | 528/1000 [00:06<00:10, 45.58it/s, loss=0.177289]"
     ]
    },
    {
     "name": "stderr",
     "output_type": "stream",
     "text": [
      "\r",
      " 53%|█████▎    | 528/1000 [00:06<00:10, 45.58it/s, loss=0.177288]"
     ]
    },
    {
     "name": "stderr",
     "output_type": "stream",
     "text": [
      "\r",
      " 53%|█████▎    | 528/1000 [00:06<00:10, 45.58it/s, loss=0.177289]"
     ]
    },
    {
     "name": "stderr",
     "output_type": "stream",
     "text": [
      "\r",
      " 53%|█████▎    | 528/1000 [00:06<00:10, 45.58it/s, loss=0.177289]"
     ]
    },
    {
     "name": "stderr",
     "output_type": "stream",
     "text": [
      "\r",
      " 53%|█████▎    | 528/1000 [00:06<00:10, 45.58it/s, loss=0.177288]"
     ]
    },
    {
     "name": "stderr",
     "output_type": "stream",
     "text": [
      "\r",
      " 53%|█████▎    | 528/1000 [00:06<00:10, 45.58it/s, loss=0.177288]"
     ]
    },
    {
     "name": "stderr",
     "output_type": "stream",
     "text": [
      "\r",
      " 53%|█████▎    | 533/1000 [00:06<00:10, 46.01it/s, loss=0.177288]"
     ]
    },
    {
     "name": "stderr",
     "output_type": "stream",
     "text": [
      "\r",
      " 53%|█████▎    | 533/1000 [00:06<00:10, 46.01it/s, loss=0.177289]"
     ]
    },
    {
     "name": "stderr",
     "output_type": "stream",
     "text": [
      "\r",
      " 53%|█████▎    | 533/1000 [00:07<00:10, 46.01it/s, loss=0.177289]"
     ]
    },
    {
     "name": "stderr",
     "output_type": "stream",
     "text": [
      "\r",
      " 53%|█████▎    | 533/1000 [00:07<00:10, 46.01it/s, loss=0.177288]"
     ]
    },
    {
     "name": "stderr",
     "output_type": "stream",
     "text": [
      "\r",
      " 53%|█████▎    | 533/1000 [00:07<00:10, 46.01it/s, loss=0.177289]"
     ]
    },
    {
     "name": "stderr",
     "output_type": "stream",
     "text": [
      "\r",
      " 53%|█████▎    | 533/1000 [00:07<00:10, 46.01it/s, loss=0.177289]"
     ]
    },
    {
     "name": "stderr",
     "output_type": "stream",
     "text": [
      "\r",
      " 54%|█████▍    | 538/1000 [00:07<00:10, 45.98it/s, loss=0.177289]"
     ]
    },
    {
     "name": "stderr",
     "output_type": "stream",
     "text": [
      "\r",
      " 54%|█████▍    | 538/1000 [00:07<00:10, 45.98it/s, loss=0.177288]"
     ]
    },
    {
     "name": "stderr",
     "output_type": "stream",
     "text": [
      "\r",
      " 54%|█████▍    | 538/1000 [00:07<00:10, 45.98it/s, loss=0.177288]"
     ]
    },
    {
     "name": "stderr",
     "output_type": "stream",
     "text": [
      "\r",
      " 54%|█████▍    | 538/1000 [00:07<00:10, 45.98it/s, loss=0.177289]"
     ]
    },
    {
     "name": "stderr",
     "output_type": "stream",
     "text": [
      "\r",
      " 54%|█████▍    | 538/1000 [00:07<00:10, 45.98it/s, loss=0.177288]"
     ]
    },
    {
     "name": "stderr",
     "output_type": "stream",
     "text": [
      "\r",
      " 54%|█████▍    | 538/1000 [00:07<00:10, 45.98it/s, loss=0.177288]"
     ]
    },
    {
     "name": "stderr",
     "output_type": "stream",
     "text": [
      "\r",
      " 54%|█████▍    | 543/1000 [00:07<00:10, 45.49it/s, loss=0.177288]"
     ]
    },
    {
     "name": "stderr",
     "output_type": "stream",
     "text": [
      "\r",
      " 54%|█████▍    | 543/1000 [00:07<00:10, 45.49it/s, loss=0.177289]"
     ]
    },
    {
     "name": "stderr",
     "output_type": "stream",
     "text": [
      "\r",
      " 54%|█████▍    | 543/1000 [00:07<00:10, 45.49it/s, loss=0.177289]"
     ]
    },
    {
     "name": "stderr",
     "output_type": "stream",
     "text": [
      "\r",
      " 54%|█████▍    | 543/1000 [00:07<00:10, 45.49it/s, loss=0.177288]"
     ]
    },
    {
     "name": "stderr",
     "output_type": "stream",
     "text": [
      "\r",
      " 54%|█████▍    | 543/1000 [00:07<00:10, 45.49it/s, loss=0.177289]"
     ]
    },
    {
     "name": "stderr",
     "output_type": "stream",
     "text": [
      "\r",
      " 54%|█████▍    | 543/1000 [00:07<00:10, 45.49it/s, loss=0.177289]"
     ]
    },
    {
     "name": "stderr",
     "output_type": "stream",
     "text": [
      "\r",
      " 55%|█████▍    | 548/1000 [00:07<00:09, 45.62it/s, loss=0.177289]"
     ]
    },
    {
     "name": "stderr",
     "output_type": "stream",
     "text": [
      "\r",
      " 55%|█████▍    | 548/1000 [00:07<00:09, 45.62it/s, loss=0.177288]"
     ]
    },
    {
     "name": "stderr",
     "output_type": "stream",
     "text": [
      "\r",
      " 55%|█████▍    | 548/1000 [00:07<00:09, 45.62it/s, loss=0.177288]"
     ]
    },
    {
     "name": "stderr",
     "output_type": "stream",
     "text": [
      "\r",
      " 55%|█████▍    | 548/1000 [00:07<00:09, 45.62it/s, loss=0.177289]"
     ]
    },
    {
     "name": "stderr",
     "output_type": "stream",
     "text": [
      "\r",
      " 55%|█████▍    | 548/1000 [00:07<00:09, 45.62it/s, loss=0.177289]"
     ]
    },
    {
     "name": "stderr",
     "output_type": "stream",
     "text": [
      "\r",
      " 55%|█████▍    | 548/1000 [00:07<00:09, 45.62it/s, loss=0.177288]"
     ]
    },
    {
     "name": "stderr",
     "output_type": "stream",
     "text": [
      "\r",
      " 55%|█████▌    | 553/1000 [00:07<00:09, 45.83it/s, loss=0.177288]"
     ]
    },
    {
     "name": "stderr",
     "output_type": "stream",
     "text": [
      "\r",
      " 55%|█████▌    | 553/1000 [00:07<00:09, 45.83it/s, loss=0.177289]"
     ]
    },
    {
     "name": "stderr",
     "output_type": "stream",
     "text": [
      "\r",
      " 55%|█████▌    | 553/1000 [00:07<00:09, 45.83it/s, loss=0.177289]"
     ]
    },
    {
     "name": "stderr",
     "output_type": "stream",
     "text": [
      "\r",
      " 55%|█████▌    | 553/1000 [00:07<00:09, 45.83it/s, loss=0.177288]"
     ]
    },
    {
     "name": "stderr",
     "output_type": "stream",
     "text": [
      "\r",
      " 55%|█████▌    | 553/1000 [00:07<00:09, 45.83it/s, loss=0.177288]"
     ]
    },
    {
     "name": "stderr",
     "output_type": "stream",
     "text": [
      "\r",
      " 55%|█████▌    | 553/1000 [00:07<00:09, 45.83it/s, loss=0.177289]"
     ]
    },
    {
     "name": "stderr",
     "output_type": "stream",
     "text": [
      "\r",
      " 56%|█████▌    | 558/1000 [00:07<00:09, 45.78it/s, loss=0.177289]"
     ]
    },
    {
     "name": "stderr",
     "output_type": "stream",
     "text": [
      "\r",
      " 56%|█████▌    | 558/1000 [00:07<00:09, 45.78it/s, loss=0.177288]"
     ]
    },
    {
     "name": "stderr",
     "output_type": "stream",
     "text": [
      "\r",
      " 56%|█████▌    | 558/1000 [00:07<00:09, 45.78it/s, loss=0.177288]"
     ]
    },
    {
     "name": "stderr",
     "output_type": "stream",
     "text": [
      "\r",
      " 56%|█████▌    | 558/1000 [00:07<00:09, 45.78it/s, loss=0.177289]"
     ]
    },
    {
     "name": "stderr",
     "output_type": "stream",
     "text": [
      "\r",
      " 56%|█████▌    | 558/1000 [00:07<00:09, 45.78it/s, loss=0.177289]"
     ]
    },
    {
     "name": "stderr",
     "output_type": "stream",
     "text": [
      "\r",
      " 56%|█████▌    | 558/1000 [00:07<00:09, 45.78it/s, loss=0.177288]"
     ]
    },
    {
     "name": "stderr",
     "output_type": "stream",
     "text": [
      "\r",
      " 56%|█████▋    | 563/1000 [00:07<00:09, 45.25it/s, loss=0.177288]"
     ]
    },
    {
     "name": "stderr",
     "output_type": "stream",
     "text": [
      "\r",
      " 56%|█████▋    | 563/1000 [00:07<00:09, 45.25it/s, loss=0.177289]"
     ]
    },
    {
     "name": "stderr",
     "output_type": "stream",
     "text": [
      "\r",
      " 56%|█████▋    | 563/1000 [00:07<00:09, 45.25it/s, loss=0.177289]"
     ]
    },
    {
     "name": "stderr",
     "output_type": "stream",
     "text": [
      "\r",
      " 56%|█████▋    | 563/1000 [00:07<00:09, 45.25it/s, loss=0.177288]"
     ]
    },
    {
     "name": "stderr",
     "output_type": "stream",
     "text": [
      "\r",
      " 56%|█████▋    | 563/1000 [00:07<00:09, 45.25it/s, loss=0.177288]"
     ]
    },
    {
     "name": "stderr",
     "output_type": "stream",
     "text": [
      "\r",
      " 56%|█████▋    | 563/1000 [00:07<00:09, 45.25it/s, loss=0.177288]"
     ]
    },
    {
     "name": "stderr",
     "output_type": "stream",
     "text": [
      "\r",
      " 57%|█████▋    | 568/1000 [00:07<00:09, 45.16it/s, loss=0.177288]"
     ]
    },
    {
     "name": "stderr",
     "output_type": "stream",
     "text": [
      "\r",
      " 57%|█████▋    | 568/1000 [00:07<00:09, 45.16it/s, loss=0.177288]"
     ]
    },
    {
     "name": "stderr",
     "output_type": "stream",
     "text": [
      "\r",
      " 57%|█████▋    | 568/1000 [00:07<00:09, 45.16it/s, loss=0.177288]"
     ]
    },
    {
     "name": "stderr",
     "output_type": "stream",
     "text": [
      "\r",
      " 57%|█████▋    | 568/1000 [00:07<00:09, 45.16it/s, loss=0.177289]"
     ]
    },
    {
     "name": "stderr",
     "output_type": "stream",
     "text": [
      "\r",
      " 57%|█████▋    | 568/1000 [00:07<00:09, 45.16it/s, loss=0.177289]"
     ]
    },
    {
     "name": "stderr",
     "output_type": "stream",
     "text": [
      "\r",
      " 57%|█████▋    | 568/1000 [00:07<00:09, 45.16it/s, loss=0.177288]"
     ]
    },
    {
     "name": "stderr",
     "output_type": "stream",
     "text": [
      "\r",
      " 57%|█████▋    | 573/1000 [00:07<00:09, 45.15it/s, loss=0.177288]"
     ]
    },
    {
     "name": "stderr",
     "output_type": "stream",
     "text": [
      "\r",
      " 57%|█████▋    | 573/1000 [00:07<00:09, 45.15it/s, loss=0.177289]"
     ]
    },
    {
     "name": "stderr",
     "output_type": "stream",
     "text": [
      "\r",
      " 57%|█████▋    | 573/1000 [00:07<00:09, 45.15it/s, loss=0.177289]"
     ]
    },
    {
     "name": "stderr",
     "output_type": "stream",
     "text": [
      "\r",
      " 57%|█████▋    | 573/1000 [00:07<00:09, 45.15it/s, loss=0.177288]"
     ]
    },
    {
     "name": "stderr",
     "output_type": "stream",
     "text": [
      "\r",
      " 57%|█████▋    | 573/1000 [00:07<00:09, 45.15it/s, loss=0.177288]"
     ]
    },
    {
     "name": "stderr",
     "output_type": "stream",
     "text": [
      "\r",
      " 57%|█████▋    | 573/1000 [00:07<00:09, 45.15it/s, loss=0.177289]"
     ]
    },
    {
     "name": "stderr",
     "output_type": "stream",
     "text": [
      "\r",
      " 58%|█████▊    | 578/1000 [00:07<00:09, 45.43it/s, loss=0.177289]"
     ]
    },
    {
     "name": "stderr",
     "output_type": "stream",
     "text": [
      "\r",
      " 58%|█████▊    | 578/1000 [00:07<00:09, 45.43it/s, loss=0.177289]"
     ]
    },
    {
     "name": "stderr",
     "output_type": "stream",
     "text": [
      "\r",
      " 58%|█████▊    | 578/1000 [00:08<00:09, 45.43it/s, loss=0.177288]"
     ]
    },
    {
     "name": "stderr",
     "output_type": "stream",
     "text": [
      "\r",
      " 58%|█████▊    | 578/1000 [00:08<00:09, 45.43it/s, loss=0.177289]"
     ]
    },
    {
     "name": "stderr",
     "output_type": "stream",
     "text": [
      "\r",
      " 58%|█████▊    | 578/1000 [00:08<00:09, 45.43it/s, loss=0.177289]"
     ]
    },
    {
     "name": "stderr",
     "output_type": "stream",
     "text": [
      "\r",
      " 58%|█████▊    | 578/1000 [00:08<00:09, 45.43it/s, loss=0.177288]"
     ]
    },
    {
     "name": "stderr",
     "output_type": "stream",
     "text": [
      "\r",
      " 58%|█████▊    | 583/1000 [00:08<00:09, 45.72it/s, loss=0.177288]"
     ]
    },
    {
     "name": "stderr",
     "output_type": "stream",
     "text": [
      "\r",
      " 58%|█████▊    | 583/1000 [00:08<00:09, 45.72it/s, loss=0.177288]"
     ]
    },
    {
     "name": "stderr",
     "output_type": "stream",
     "text": [
      "\r",
      " 58%|█████▊    | 583/1000 [00:08<00:09, 45.72it/s, loss=0.177289]"
     ]
    },
    {
     "name": "stderr",
     "output_type": "stream",
     "text": [
      "\r",
      " 58%|█████▊    | 583/1000 [00:08<00:09, 45.72it/s, loss=0.177288]"
     ]
    },
    {
     "name": "stderr",
     "output_type": "stream",
     "text": [
      "\r",
      " 58%|█████▊    | 583/1000 [00:08<00:09, 45.72it/s, loss=0.177288]"
     ]
    },
    {
     "name": "stderr",
     "output_type": "stream",
     "text": [
      "\r",
      " 58%|█████▊    | 583/1000 [00:08<00:09, 45.72it/s, loss=0.177289]"
     ]
    },
    {
     "name": "stderr",
     "output_type": "stream",
     "text": [
      "\r",
      " 59%|█████▉    | 588/1000 [00:08<00:09, 45.66it/s, loss=0.177289]"
     ]
    },
    {
     "name": "stderr",
     "output_type": "stream",
     "text": [
      "\r",
      " 59%|█████▉    | 588/1000 [00:08<00:09, 45.66it/s, loss=0.177289]"
     ]
    },
    {
     "name": "stderr",
     "output_type": "stream",
     "text": [
      "\r",
      " 59%|█████▉    | 588/1000 [00:08<00:09, 45.66it/s, loss=0.177288]"
     ]
    },
    {
     "name": "stderr",
     "output_type": "stream",
     "text": [
      "\r",
      " 59%|█████▉    | 588/1000 [00:08<00:09, 45.66it/s, loss=0.177289]"
     ]
    },
    {
     "name": "stderr",
     "output_type": "stream",
     "text": [
      "\r",
      " 59%|█████▉    | 588/1000 [00:08<00:09, 45.66it/s, loss=0.177289]"
     ]
    },
    {
     "name": "stderr",
     "output_type": "stream",
     "text": [
      "\r",
      " 59%|█████▉    | 588/1000 [00:08<00:09, 45.66it/s, loss=0.177288]"
     ]
    },
    {
     "name": "stderr",
     "output_type": "stream",
     "text": [
      "\r",
      " 59%|█████▉    | 593/1000 [00:08<00:09, 45.22it/s, loss=0.177288]"
     ]
    },
    {
     "name": "stderr",
     "output_type": "stream",
     "text": [
      "\r",
      " 59%|█████▉    | 593/1000 [00:08<00:09, 45.22it/s, loss=0.177288]"
     ]
    },
    {
     "name": "stderr",
     "output_type": "stream",
     "text": [
      "\r",
      " 59%|█████▉    | 593/1000 [00:08<00:09, 45.22it/s, loss=0.177290]"
     ]
    },
    {
     "name": "stderr",
     "output_type": "stream",
     "text": [
      "\r",
      " 59%|█████▉    | 593/1000 [00:08<00:09, 45.22it/s, loss=0.177288]"
     ]
    },
    {
     "name": "stderr",
     "output_type": "stream",
     "text": [
      "\r",
      " 59%|█████▉    | 593/1000 [00:08<00:09, 45.22it/s, loss=0.177288]"
     ]
    },
    {
     "name": "stderr",
     "output_type": "stream",
     "text": [
      "\r",
      " 59%|█████▉    | 593/1000 [00:08<00:09, 45.22it/s, loss=0.177289]"
     ]
    },
    {
     "name": "stderr",
     "output_type": "stream",
     "text": [
      "\r",
      " 60%|█████▉    | 598/1000 [00:08<00:08, 44.73it/s, loss=0.177289]"
     ]
    },
    {
     "name": "stderr",
     "output_type": "stream",
     "text": [
      "\r",
      " 60%|█████▉    | 598/1000 [00:08<00:08, 44.73it/s, loss=0.177289]"
     ]
    },
    {
     "name": "stderr",
     "output_type": "stream",
     "text": [
      "\r",
      " 60%|█████▉    | 598/1000 [00:08<00:08, 44.73it/s, loss=0.177288]"
     ]
    },
    {
     "name": "stderr",
     "output_type": "stream",
     "text": [
      "\r",
      " 60%|█████▉    | 598/1000 [00:08<00:08, 44.73it/s, loss=0.177289]"
     ]
    },
    {
     "name": "stderr",
     "output_type": "stream",
     "text": [
      "\r",
      " 60%|█████▉    | 598/1000 [00:08<00:08, 44.73it/s, loss=0.177289]"
     ]
    },
    {
     "name": "stderr",
     "output_type": "stream",
     "text": [
      "\r",
      " 60%|█████▉    | 598/1000 [00:08<00:08, 44.73it/s, loss=0.177288]"
     ]
    },
    {
     "name": "stderr",
     "output_type": "stream",
     "text": [
      "\r",
      " 60%|██████    | 603/1000 [00:08<00:08, 44.20it/s, loss=0.177288]"
     ]
    },
    {
     "name": "stderr",
     "output_type": "stream",
     "text": [
      "\r",
      " 60%|██████    | 603/1000 [00:08<00:08, 44.20it/s, loss=0.177288]"
     ]
    },
    {
     "name": "stderr",
     "output_type": "stream",
     "text": [
      "\r",
      " 60%|██████    | 603/1000 [00:08<00:08, 44.20it/s, loss=0.177288]"
     ]
    },
    {
     "name": "stderr",
     "output_type": "stream",
     "text": [
      "\r",
      " 60%|██████    | 603/1000 [00:08<00:08, 44.20it/s, loss=0.177289]"
     ]
    },
    {
     "name": "stderr",
     "output_type": "stream",
     "text": [
      "\r",
      " 60%|██████    | 603/1000 [00:08<00:08, 44.20it/s, loss=0.177290]"
     ]
    },
    {
     "name": "stderr",
     "output_type": "stream",
     "text": [
      "\r",
      " 60%|██████    | 603/1000 [00:08<00:08, 44.20it/s, loss=0.177288]"
     ]
    },
    {
     "name": "stderr",
     "output_type": "stream",
     "text": [
      "\r",
      " 61%|██████    | 608/1000 [00:08<00:09, 42.79it/s, loss=0.177288]"
     ]
    },
    {
     "name": "stderr",
     "output_type": "stream",
     "text": [
      "\r",
      " 61%|██████    | 608/1000 [00:08<00:09, 42.79it/s, loss=0.177292]"
     ]
    },
    {
     "name": "stderr",
     "output_type": "stream",
     "text": [
      "\r",
      " 61%|██████    | 608/1000 [00:08<00:09, 42.79it/s, loss=0.177290]"
     ]
    },
    {
     "name": "stderr",
     "output_type": "stream",
     "text": [
      "\r",
      " 61%|██████    | 608/1000 [00:08<00:09, 42.79it/s, loss=0.177291]"
     ]
    },
    {
     "name": "stderr",
     "output_type": "stream",
     "text": [
      "\r",
      " 61%|██████    | 608/1000 [00:08<00:09, 42.79it/s, loss=0.177293]"
     ]
    },
    {
     "name": "stderr",
     "output_type": "stream",
     "text": [
      "\r",
      " 61%|██████    | 608/1000 [00:08<00:09, 42.79it/s, loss=0.177288]"
     ]
    },
    {
     "name": "stderr",
     "output_type": "stream",
     "text": [
      "\r",
      " 61%|██████▏   | 613/1000 [00:08<00:08, 43.10it/s, loss=0.177288]"
     ]
    },
    {
     "name": "stderr",
     "output_type": "stream",
     "text": [
      "\r",
      " 61%|██████▏   | 613/1000 [00:08<00:08, 43.10it/s, loss=0.177290]"
     ]
    },
    {
     "name": "stderr",
     "output_type": "stream",
     "text": [
      "\r",
      " 61%|██████▏   | 613/1000 [00:08<00:08, 43.10it/s, loss=0.177290]"
     ]
    },
    {
     "name": "stderr",
     "output_type": "stream",
     "text": [
      "\r",
      " 61%|██████▏   | 613/1000 [00:08<00:08, 43.10it/s, loss=0.177289]"
     ]
    },
    {
     "name": "stderr",
     "output_type": "stream",
     "text": [
      "\r",
      " 61%|██████▏   | 613/1000 [00:08<00:08, 43.10it/s, loss=0.177294]"
     ]
    },
    {
     "name": "stderr",
     "output_type": "stream",
     "text": [
      "\r",
      " 61%|██████▏   | 613/1000 [00:08<00:08, 43.10it/s, loss=0.177291]"
     ]
    },
    {
     "name": "stderr",
     "output_type": "stream",
     "text": [
      "\r",
      " 62%|██████▏   | 618/1000 [00:08<00:08, 42.89it/s, loss=0.177291]"
     ]
    },
    {
     "name": "stderr",
     "output_type": "stream",
     "text": [
      "\r",
      " 62%|██████▏   | 618/1000 [00:08<00:08, 42.89it/s, loss=0.177289]"
     ]
    },
    {
     "name": "stderr",
     "output_type": "stream",
     "text": [
      "\r",
      " 62%|██████▏   | 618/1000 [00:08<00:08, 42.89it/s, loss=0.177293]"
     ]
    },
    {
     "name": "stderr",
     "output_type": "stream",
     "text": [
      "\r",
      " 62%|██████▏   | 618/1000 [00:08<00:08, 42.89it/s, loss=0.177289]"
     ]
    },
    {
     "name": "stderr",
     "output_type": "stream",
     "text": [
      "\r",
      " 62%|██████▏   | 618/1000 [00:08<00:08, 42.89it/s, loss=0.177290]"
     ]
    },
    {
     "name": "stderr",
     "output_type": "stream",
     "text": [
      "\r",
      " 62%|██████▏   | 618/1000 [00:09<00:08, 42.89it/s, loss=0.177289]"
     ]
    },
    {
     "name": "stderr",
     "output_type": "stream",
     "text": [
      "\r",
      " 62%|██████▏   | 623/1000 [00:09<00:08, 42.61it/s, loss=0.177289]"
     ]
    },
    {
     "name": "stderr",
     "output_type": "stream",
     "text": [
      "\r",
      " 62%|██████▏   | 623/1000 [00:09<00:08, 42.61it/s, loss=0.177288]"
     ]
    },
    {
     "name": "stderr",
     "output_type": "stream",
     "text": [
      "\r",
      " 62%|██████▏   | 623/1000 [00:09<00:08, 42.61it/s, loss=0.177288]"
     ]
    },
    {
     "name": "stderr",
     "output_type": "stream",
     "text": [
      "\r",
      " 62%|██████▏   | 623/1000 [00:09<00:08, 42.61it/s, loss=0.177289]"
     ]
    },
    {
     "name": "stderr",
     "output_type": "stream",
     "text": [
      "\r",
      " 62%|██████▏   | 623/1000 [00:09<00:08, 42.61it/s, loss=0.177290]"
     ]
    },
    {
     "name": "stderr",
     "output_type": "stream",
     "text": [
      "\r",
      " 62%|██████▏   | 623/1000 [00:09<00:08, 42.61it/s, loss=0.177289]"
     ]
    },
    {
     "name": "stderr",
     "output_type": "stream",
     "text": [
      "\r",
      " 63%|██████▎   | 628/1000 [00:09<00:08, 42.15it/s, loss=0.177289]"
     ]
    },
    {
     "name": "stderr",
     "output_type": "stream",
     "text": [
      "\r",
      " 63%|██████▎   | 628/1000 [00:09<00:08, 42.15it/s, loss=0.177293]"
     ]
    },
    {
     "name": "stderr",
     "output_type": "stream",
     "text": [
      "\r",
      " 63%|██████▎   | 628/1000 [00:09<00:08, 42.15it/s, loss=0.177289]"
     ]
    },
    {
     "name": "stderr",
     "output_type": "stream",
     "text": [
      "\r",
      " 63%|██████▎   | 628/1000 [00:09<00:08, 42.15it/s, loss=0.177290]"
     ]
    },
    {
     "name": "stderr",
     "output_type": "stream",
     "text": [
      "\r",
      " 63%|██████▎   | 628/1000 [00:09<00:08, 42.15it/s, loss=0.177294]"
     ]
    },
    {
     "name": "stderr",
     "output_type": "stream",
     "text": [
      "\r",
      " 63%|██████▎   | 628/1000 [00:09<00:08, 42.15it/s, loss=0.177289]"
     ]
    },
    {
     "name": "stderr",
     "output_type": "stream",
     "text": [
      "\r",
      " 63%|██████▎   | 633/1000 [00:09<00:08, 42.34it/s, loss=0.177289]"
     ]
    },
    {
     "name": "stderr",
     "output_type": "stream",
     "text": [
      "\r",
      " 63%|██████▎   | 633/1000 [00:09<00:08, 42.34it/s, loss=0.177290]"
     ]
    },
    {
     "name": "stderr",
     "output_type": "stream",
     "text": [
      "\r",
      " 63%|██████▎   | 633/1000 [00:09<00:08, 42.34it/s, loss=0.177291]"
     ]
    },
    {
     "name": "stderr",
     "output_type": "stream",
     "text": [
      "\r",
      " 63%|██████▎   | 633/1000 [00:09<00:08, 42.34it/s, loss=0.177288]"
     ]
    },
    {
     "name": "stderr",
     "output_type": "stream",
     "text": [
      "\r",
      " 63%|██████▎   | 633/1000 [00:09<00:08, 42.34it/s, loss=0.177293]"
     ]
    },
    {
     "name": "stderr",
     "output_type": "stream",
     "text": [
      "\r",
      " 63%|██████▎   | 633/1000 [00:09<00:08, 42.34it/s, loss=0.177292]"
     ]
    },
    {
     "name": "stderr",
     "output_type": "stream",
     "text": [
      "\r",
      " 64%|██████▍   | 638/1000 [00:09<00:08, 42.51it/s, loss=0.177292]"
     ]
    },
    {
     "name": "stderr",
     "output_type": "stream",
     "text": [
      "\r",
      " 64%|██████▍   | 638/1000 [00:09<00:08, 42.51it/s, loss=0.177289]"
     ]
    },
    {
     "name": "stderr",
     "output_type": "stream",
     "text": [
      "\r",
      " 64%|██████▍   | 638/1000 [00:09<00:08, 42.51it/s, loss=0.177292]"
     ]
    },
    {
     "name": "stderr",
     "output_type": "stream",
     "text": [
      "\r",
      " 64%|██████▍   | 638/1000 [00:09<00:08, 42.51it/s, loss=0.177288]"
     ]
    },
    {
     "name": "stderr",
     "output_type": "stream",
     "text": [
      "\r",
      " 64%|██████▍   | 638/1000 [00:09<00:08, 42.51it/s, loss=0.177290]"
     ]
    },
    {
     "name": "stderr",
     "output_type": "stream",
     "text": [
      "\r",
      " 64%|██████▍   | 638/1000 [00:09<00:08, 42.51it/s, loss=0.177291]"
     ]
    },
    {
     "name": "stderr",
     "output_type": "stream",
     "text": [
      "\r",
      " 64%|██████▍   | 643/1000 [00:09<00:08, 43.26it/s, loss=0.177291]"
     ]
    },
    {
     "name": "stderr",
     "output_type": "stream",
     "text": [
      "\r",
      " 64%|██████▍   | 643/1000 [00:09<00:08, 43.26it/s, loss=0.177288]"
     ]
    },
    {
     "name": "stderr",
     "output_type": "stream",
     "text": [
      "\r",
      " 64%|██████▍   | 643/1000 [00:09<00:08, 43.26it/s, loss=0.177291]"
     ]
    },
    {
     "name": "stderr",
     "output_type": "stream",
     "text": [
      "\r",
      " 64%|██████▍   | 643/1000 [00:09<00:08, 43.26it/s, loss=0.177290]"
     ]
    },
    {
     "name": "stderr",
     "output_type": "stream",
     "text": [
      "\r",
      " 64%|██████▍   | 643/1000 [00:09<00:08, 43.26it/s, loss=0.177288]"
     ]
    },
    {
     "name": "stderr",
     "output_type": "stream",
     "text": [
      "\r",
      " 64%|██████▍   | 643/1000 [00:09<00:08, 43.26it/s, loss=0.177292]"
     ]
    },
    {
     "name": "stderr",
     "output_type": "stream",
     "text": [
      "\r",
      " 65%|██████▍   | 648/1000 [00:09<00:08, 43.80it/s, loss=0.177292]"
     ]
    },
    {
     "name": "stderr",
     "output_type": "stream",
     "text": [
      "\r",
      " 65%|██████▍   | 648/1000 [00:09<00:08, 43.80it/s, loss=0.177290]"
     ]
    },
    {
     "name": "stderr",
     "output_type": "stream",
     "text": [
      "\r",
      " 65%|██████▍   | 648/1000 [00:09<00:08, 43.80it/s, loss=0.177291]"
     ]
    },
    {
     "name": "stderr",
     "output_type": "stream",
     "text": [
      "\r",
      " 65%|██████▍   | 648/1000 [00:09<00:08, 43.80it/s, loss=0.177293]"
     ]
    },
    {
     "name": "stderr",
     "output_type": "stream",
     "text": [
      "\r",
      " 65%|██████▍   | 648/1000 [00:09<00:08, 43.80it/s, loss=0.177288]"
     ]
    },
    {
     "name": "stderr",
     "output_type": "stream",
     "text": [
      "\r",
      " 65%|██████▍   | 648/1000 [00:09<00:08, 43.80it/s, loss=0.177291]"
     ]
    },
    {
     "name": "stderr",
     "output_type": "stream",
     "text": [
      "\r",
      " 65%|██████▌   | 653/1000 [00:09<00:07, 44.26it/s, loss=0.177291]"
     ]
    },
    {
     "name": "stderr",
     "output_type": "stream",
     "text": [
      "\r",
      " 65%|██████▌   | 653/1000 [00:09<00:07, 44.26it/s, loss=0.177290]"
     ]
    },
    {
     "name": "stderr",
     "output_type": "stream",
     "text": [
      "\r",
      " 65%|██████▌   | 653/1000 [00:09<00:07, 44.26it/s, loss=0.177289]"
     ]
    },
    {
     "name": "stderr",
     "output_type": "stream",
     "text": [
      "\r",
      " 65%|██████▌   | 653/1000 [00:09<00:07, 44.26it/s, loss=0.177294]"
     ]
    },
    {
     "name": "stderr",
     "output_type": "stream",
     "text": [
      "\r",
      " 65%|██████▌   | 653/1000 [00:09<00:07, 44.26it/s, loss=0.177291]"
     ]
    },
    {
     "name": "stderr",
     "output_type": "stream",
     "text": [
      "\r",
      " 65%|██████▌   | 653/1000 [00:09<00:07, 44.26it/s, loss=0.177289]"
     ]
    },
    {
     "name": "stderr",
     "output_type": "stream",
     "text": [
      "\r",
      " 66%|██████▌   | 658/1000 [00:09<00:07, 44.14it/s, loss=0.177289]"
     ]
    },
    {
     "name": "stderr",
     "output_type": "stream",
     "text": [
      "\r",
      " 66%|██████▌   | 658/1000 [00:09<00:07, 44.14it/s, loss=0.177293]"
     ]
    },
    {
     "name": "stderr",
     "output_type": "stream",
     "text": [
      "\r",
      " 66%|██████▌   | 658/1000 [00:09<00:07, 44.14it/s, loss=0.177289]"
     ]
    },
    {
     "name": "stderr",
     "output_type": "stream",
     "text": [
      "\r",
      " 66%|██████▌   | 658/1000 [00:09<00:07, 44.14it/s, loss=0.177290]"
     ]
    },
    {
     "name": "stderr",
     "output_type": "stream",
     "text": [
      "\r",
      " 66%|██████▌   | 658/1000 [00:09<00:07, 44.14it/s, loss=0.177289]"
     ]
    },
    {
     "name": "stderr",
     "output_type": "stream",
     "text": [
      "\r",
      " 66%|██████▌   | 658/1000 [00:09<00:07, 44.14it/s, loss=0.177288]"
     ]
    },
    {
     "name": "stderr",
     "output_type": "stream",
     "text": [
      "\r",
      " 66%|██████▋   | 663/1000 [00:09<00:07, 44.53it/s, loss=0.177288]"
     ]
    },
    {
     "name": "stderr",
     "output_type": "stream",
     "text": [
      "\r",
      " 66%|██████▋   | 663/1000 [00:09<00:07, 44.53it/s, loss=0.177288]"
     ]
    },
    {
     "name": "stderr",
     "output_type": "stream",
     "text": [
      "\r",
      " 66%|██████▋   | 663/1000 [00:09<00:07, 44.53it/s, loss=0.177289]"
     ]
    },
    {
     "name": "stderr",
     "output_type": "stream",
     "text": [
      "\r",
      " 66%|██████▋   | 663/1000 [00:09<00:07, 44.53it/s, loss=0.177290]"
     ]
    },
    {
     "name": "stderr",
     "output_type": "stream",
     "text": [
      "\r",
      " 66%|██████▋   | 663/1000 [00:10<00:07, 44.53it/s, loss=0.177289]"
     ]
    },
    {
     "name": "stderr",
     "output_type": "stream",
     "text": [
      "\r",
      " 66%|██████▋   | 663/1000 [00:10<00:07, 44.53it/s, loss=0.177293]"
     ]
    },
    {
     "name": "stderr",
     "output_type": "stream",
     "text": [
      "\r",
      " 67%|██████▋   | 668/1000 [00:10<00:07, 44.89it/s, loss=0.177293]"
     ]
    },
    {
     "name": "stderr",
     "output_type": "stream",
     "text": [
      "\r",
      " 67%|██████▋   | 668/1000 [00:10<00:07, 44.89it/s, loss=0.177289]"
     ]
    },
    {
     "name": "stderr",
     "output_type": "stream",
     "text": [
      "\r",
      " 67%|██████▋   | 668/1000 [00:10<00:07, 44.89it/s, loss=0.177291]"
     ]
    },
    {
     "name": "stderr",
     "output_type": "stream",
     "text": [
      "\r",
      " 67%|██████▋   | 668/1000 [00:10<00:07, 44.89it/s, loss=0.177295]"
     ]
    },
    {
     "name": "stderr",
     "output_type": "stream",
     "text": [
      "\r",
      " 67%|██████▋   | 668/1000 [00:10<00:07, 44.89it/s, loss=0.177289]"
     ]
    },
    {
     "name": "stderr",
     "output_type": "stream",
     "text": [
      "\r",
      " 67%|██████▋   | 668/1000 [00:10<00:07, 44.89it/s, loss=0.177290]"
     ]
    },
    {
     "name": "stderr",
     "output_type": "stream",
     "text": [
      "\r",
      " 67%|██████▋   | 673/1000 [00:10<00:07, 45.07it/s, loss=0.177290]"
     ]
    },
    {
     "name": "stderr",
     "output_type": "stream",
     "text": [
      "\r",
      " 67%|██████▋   | 673/1000 [00:10<00:07, 45.07it/s, loss=0.177291]"
     ]
    },
    {
     "name": "stderr",
     "output_type": "stream",
     "text": [
      "\r",
      " 67%|██████▋   | 673/1000 [00:10<00:07, 45.07it/s, loss=0.177288]"
     ]
    },
    {
     "name": "stderr",
     "output_type": "stream",
     "text": [
      "\r",
      " 67%|██████▋   | 673/1000 [00:10<00:07, 45.07it/s, loss=0.177293]"
     ]
    },
    {
     "name": "stderr",
     "output_type": "stream",
     "text": [
      "\r",
      " 67%|██████▋   | 673/1000 [00:10<00:07, 45.07it/s, loss=0.177292]"
     ]
    },
    {
     "name": "stderr",
     "output_type": "stream",
     "text": [
      "\r",
      " 67%|██████▋   | 673/1000 [00:10<00:07, 45.07it/s, loss=0.177290]"
     ]
    },
    {
     "name": "stderr",
     "output_type": "stream",
     "text": [
      "\r",
      " 68%|██████▊   | 678/1000 [00:10<00:07, 45.51it/s, loss=0.177290]"
     ]
    },
    {
     "name": "stderr",
     "output_type": "stream",
     "text": [
      "\r",
      " 68%|██████▊   | 678/1000 [00:10<00:07, 45.51it/s, loss=0.177292]"
     ]
    },
    {
     "name": "stderr",
     "output_type": "stream",
     "text": [
      "\r",
      " 68%|██████▊   | 678/1000 [00:10<00:07, 45.51it/s, loss=0.177288]"
     ]
    },
    {
     "name": "stderr",
     "output_type": "stream",
     "text": [
      "\r",
      " 68%|██████▊   | 678/1000 [00:10<00:07, 45.51it/s, loss=0.177290]"
     ]
    },
    {
     "name": "stderr",
     "output_type": "stream",
     "text": [
      "\r",
      " 68%|██████▊   | 678/1000 [00:10<00:07, 45.51it/s, loss=0.177291]"
     ]
    },
    {
     "name": "stderr",
     "output_type": "stream",
     "text": [
      "\r",
      " 68%|██████▊   | 678/1000 [00:10<00:07, 45.51it/s, loss=0.177288]"
     ]
    },
    {
     "name": "stderr",
     "output_type": "stream",
     "text": [
      "\r",
      " 68%|██████▊   | 683/1000 [00:10<00:06, 45.57it/s, loss=0.177288]"
     ]
    },
    {
     "name": "stderr",
     "output_type": "stream",
     "text": [
      "\r",
      " 68%|██████▊   | 683/1000 [00:10<00:06, 45.57it/s, loss=0.177291]"
     ]
    },
    {
     "name": "stderr",
     "output_type": "stream",
     "text": [
      "\r",
      " 68%|██████▊   | 683/1000 [00:10<00:06, 45.57it/s, loss=0.177290]"
     ]
    },
    {
     "name": "stderr",
     "output_type": "stream",
     "text": [
      "\r",
      " 68%|██████▊   | 683/1000 [00:10<00:06, 45.57it/s, loss=0.177288]"
     ]
    },
    {
     "name": "stderr",
     "output_type": "stream",
     "text": [
      "\r",
      " 68%|██████▊   | 683/1000 [00:10<00:06, 45.57it/s, loss=0.177292]"
     ]
    },
    {
     "name": "stderr",
     "output_type": "stream",
     "text": [
      "\r",
      " 68%|██████▊   | 683/1000 [00:10<00:06, 45.57it/s, loss=0.177290]"
     ]
    },
    {
     "name": "stderr",
     "output_type": "stream",
     "text": [
      "\r",
      " 69%|██████▉   | 688/1000 [00:10<00:06, 45.64it/s, loss=0.177290]"
     ]
    },
    {
     "name": "stderr",
     "output_type": "stream",
     "text": [
      "\r",
      " 69%|██████▉   | 688/1000 [00:10<00:06, 45.64it/s, loss=0.177289]"
     ]
    },
    {
     "name": "stderr",
     "output_type": "stream",
     "text": [
      "\r",
      " 69%|██████▉   | 688/1000 [00:10<00:06, 45.64it/s, loss=0.177293]"
     ]
    },
    {
     "name": "stderr",
     "output_type": "stream",
     "text": [
      "\r",
      " 69%|██████▉   | 688/1000 [00:10<00:06, 45.64it/s, loss=0.177289]"
     ]
    },
    {
     "name": "stderr",
     "output_type": "stream",
     "text": [
      "\r",
      " 69%|██████▉   | 688/1000 [00:10<00:06, 45.64it/s, loss=0.177291]"
     ]
    },
    {
     "name": "stderr",
     "output_type": "stream",
     "text": [
      "\r",
      " 69%|██████▉   | 688/1000 [00:10<00:06, 45.64it/s, loss=0.177295]"
     ]
    },
    {
     "name": "stderr",
     "output_type": "stream",
     "text": [
      "\r",
      " 69%|██████▉   | 693/1000 [00:10<00:06, 45.32it/s, loss=0.177295]"
     ]
    },
    {
     "name": "stderr",
     "output_type": "stream",
     "text": [
      "\r",
      " 69%|██████▉   | 693/1000 [00:10<00:06, 45.32it/s, loss=0.177289]"
     ]
    },
    {
     "name": "stderr",
     "output_type": "stream",
     "text": [
      "\r",
      " 69%|██████▉   | 693/1000 [00:10<00:06, 45.32it/s, loss=0.177290]"
     ]
    },
    {
     "name": "stderr",
     "output_type": "stream",
     "text": [
      "\r",
      " 69%|██████▉   | 693/1000 [00:10<00:06, 45.32it/s, loss=0.177296]"
     ]
    },
    {
     "name": "stderr",
     "output_type": "stream",
     "text": [
      "\r",
      " 69%|██████▉   | 693/1000 [00:10<00:06, 45.32it/s, loss=0.177289]"
     ]
    },
    {
     "name": "stderr",
     "output_type": "stream",
     "text": [
      "\r",
      " 69%|██████▉   | 693/1000 [00:10<00:06, 45.32it/s, loss=0.177290]"
     ]
    },
    {
     "name": "stderr",
     "output_type": "stream",
     "text": [
      "\r",
      " 70%|██████▉   | 698/1000 [00:10<00:06, 45.16it/s, loss=0.177290]"
     ]
    },
    {
     "name": "stderr",
     "output_type": "stream",
     "text": [
      "\r",
      " 70%|██████▉   | 698/1000 [00:10<00:06, 45.16it/s, loss=0.177289]"
     ]
    },
    {
     "name": "stderr",
     "output_type": "stream",
     "text": [
      "\r",
      " 70%|██████▉   | 698/1000 [00:10<00:06, 45.16it/s, loss=0.177288]"
     ]
    },
    {
     "name": "stderr",
     "output_type": "stream",
     "text": [
      "\r",
      " 70%|██████▉   | 698/1000 [00:10<00:06, 45.16it/s, loss=0.177289]"
     ]
    },
    {
     "name": "stderr",
     "output_type": "stream",
     "text": [
      "\r",
      " 70%|██████▉   | 698/1000 [00:10<00:06, 45.16it/s, loss=0.177289]"
     ]
    },
    {
     "name": "stderr",
     "output_type": "stream",
     "text": [
      "\r",
      " 70%|██████▉   | 698/1000 [00:10<00:06, 45.16it/s, loss=0.177288]"
     ]
    },
    {
     "name": "stderr",
     "output_type": "stream",
     "text": [
      "\r",
      " 70%|███████   | 703/1000 [00:10<00:06, 44.78it/s, loss=0.177288]"
     ]
    },
    {
     "name": "stderr",
     "output_type": "stream",
     "text": [
      "\r",
      " 70%|███████   | 703/1000 [00:10<00:06, 44.78it/s, loss=0.177289]"
     ]
    },
    {
     "name": "stderr",
     "output_type": "stream",
     "text": [
      "\r",
      " 70%|███████   | 703/1000 [00:10<00:06, 44.78it/s, loss=0.177290]"
     ]
    },
    {
     "name": "stderr",
     "output_type": "stream",
     "text": [
      "\r",
      " 70%|███████   | 703/1000 [00:10<00:06, 44.78it/s, loss=0.177288]"
     ]
    },
    {
     "name": "stderr",
     "output_type": "stream",
     "text": [
      "\r",
      " 70%|███████   | 703/1000 [00:10<00:06, 44.78it/s, loss=0.177288]"
     ]
    },
    {
     "name": "stderr",
     "output_type": "stream",
     "text": [
      "\r",
      " 70%|███████   | 703/1000 [00:10<00:06, 44.78it/s, loss=0.177290]"
     ]
    },
    {
     "name": "stderr",
     "output_type": "stream",
     "text": [
      "\r",
      " 71%|███████   | 708/1000 [00:10<00:06, 44.97it/s, loss=0.177290]"
     ]
    },
    {
     "name": "stderr",
     "output_type": "stream",
     "text": [
      "\r",
      " 71%|███████   | 708/1000 [00:10<00:06, 44.97it/s, loss=0.177289]"
     ]
    },
    {
     "name": "stderr",
     "output_type": "stream",
     "text": [
      "\r",
      " 71%|███████   | 708/1000 [00:10<00:06, 44.97it/s, loss=0.177288]"
     ]
    },
    {
     "name": "stderr",
     "output_type": "stream",
     "text": [
      "\r",
      " 71%|███████   | 708/1000 [00:10<00:06, 44.97it/s, loss=0.177289]"
     ]
    },
    {
     "name": "stderr",
     "output_type": "stream",
     "text": [
      "\r",
      " 71%|███████   | 708/1000 [00:10<00:06, 44.97it/s, loss=0.177289]"
     ]
    },
    {
     "name": "stderr",
     "output_type": "stream",
     "text": [
      "\r",
      " 71%|███████   | 708/1000 [00:11<00:06, 44.97it/s, loss=0.177288]"
     ]
    },
    {
     "name": "stderr",
     "output_type": "stream",
     "text": [
      "\r",
      " 71%|███████▏  | 713/1000 [00:11<00:06, 45.46it/s, loss=0.177288]"
     ]
    },
    {
     "name": "stderr",
     "output_type": "stream",
     "text": [
      "\r",
      " 71%|███████▏  | 713/1000 [00:11<00:06, 45.46it/s, loss=0.177289]"
     ]
    },
    {
     "name": "stderr",
     "output_type": "stream",
     "text": [
      "\r",
      " 71%|███████▏  | 713/1000 [00:11<00:06, 45.46it/s, loss=0.177290]"
     ]
    },
    {
     "name": "stderr",
     "output_type": "stream",
     "text": [
      "\r",
      " 71%|███████▏  | 713/1000 [00:11<00:06, 45.46it/s, loss=0.177288]"
     ]
    },
    {
     "name": "stderr",
     "output_type": "stream",
     "text": [
      "\r",
      " 71%|███████▏  | 713/1000 [00:11<00:06, 45.46it/s, loss=0.177288]"
     ]
    },
    {
     "name": "stderr",
     "output_type": "stream",
     "text": [
      "\r",
      " 71%|███████▏  | 713/1000 [00:11<00:06, 45.46it/s, loss=0.177289]"
     ]
    },
    {
     "name": "stderr",
     "output_type": "stream",
     "text": [
      "\r",
      " 72%|███████▏  | 718/1000 [00:11<00:06, 45.67it/s, loss=0.177289]"
     ]
    },
    {
     "name": "stderr",
     "output_type": "stream",
     "text": [
      "\r",
      " 72%|███████▏  | 718/1000 [00:11<00:06, 45.67it/s, loss=0.177289]"
     ]
    },
    {
     "name": "stderr",
     "output_type": "stream",
     "text": [
      "\r",
      " 72%|███████▏  | 718/1000 [00:11<00:06, 45.67it/s, loss=0.177288]"
     ]
    },
    {
     "name": "stderr",
     "output_type": "stream",
     "text": [
      "\r",
      " 72%|███████▏  | 718/1000 [00:11<00:06, 45.67it/s, loss=0.177289]"
     ]
    },
    {
     "name": "stderr",
     "output_type": "stream",
     "text": [
      "\r",
      " 72%|███████▏  | 718/1000 [00:11<00:06, 45.67it/s, loss=0.177289]"
     ]
    },
    {
     "name": "stderr",
     "output_type": "stream",
     "text": [
      "\r",
      " 72%|███████▏  | 718/1000 [00:11<00:06, 45.67it/s, loss=0.177288]"
     ]
    },
    {
     "name": "stderr",
     "output_type": "stream",
     "text": [
      "\r",
      " 72%|███████▏  | 723/1000 [00:11<00:06, 45.65it/s, loss=0.177288]"
     ]
    },
    {
     "name": "stderr",
     "output_type": "stream",
     "text": [
      "\r",
      " 72%|███████▏  | 723/1000 [00:11<00:06, 45.65it/s, loss=0.177289]"
     ]
    },
    {
     "name": "stderr",
     "output_type": "stream",
     "text": [
      "\r",
      " 72%|███████▏  | 723/1000 [00:11<00:06, 45.65it/s, loss=0.177290]"
     ]
    },
    {
     "name": "stderr",
     "output_type": "stream",
     "text": [
      "\r",
      " 72%|███████▏  | 723/1000 [00:11<00:06, 45.65it/s, loss=0.177289]"
     ]
    },
    {
     "name": "stderr",
     "output_type": "stream",
     "text": [
      "\r",
      " 72%|███████▏  | 723/1000 [00:11<00:06, 45.65it/s, loss=0.177288]"
     ]
    },
    {
     "name": "stderr",
     "output_type": "stream",
     "text": [
      "\r",
      " 72%|███████▏  | 723/1000 [00:11<00:06, 45.65it/s, loss=0.177288]"
     ]
    },
    {
     "name": "stderr",
     "output_type": "stream",
     "text": [
      "\r",
      " 73%|███████▎  | 728/1000 [00:11<00:06, 45.27it/s, loss=0.177288]"
     ]
    },
    {
     "name": "stderr",
     "output_type": "stream",
     "text": [
      "\r",
      " 73%|███████▎  | 728/1000 [00:11<00:06, 45.27it/s, loss=0.177289]"
     ]
    },
    {
     "name": "stderr",
     "output_type": "stream",
     "text": [
      "\r",
      " 73%|███████▎  | 728/1000 [00:11<00:06, 45.27it/s, loss=0.177290]"
     ]
    },
    {
     "name": "stderr",
     "output_type": "stream",
     "text": [
      "\r",
      " 73%|███████▎  | 728/1000 [00:11<00:06, 45.27it/s, loss=0.177289]"
     ]
    },
    {
     "name": "stderr",
     "output_type": "stream",
     "text": [
      "\r",
      " 73%|███████▎  | 728/1000 [00:11<00:06, 45.27it/s, loss=0.177288]"
     ]
    },
    {
     "name": "stderr",
     "output_type": "stream",
     "text": [
      "\r",
      " 73%|███████▎  | 728/1000 [00:11<00:06, 45.27it/s, loss=0.177289]"
     ]
    },
    {
     "name": "stderr",
     "output_type": "stream",
     "text": [
      "\r",
      " 73%|███████▎  | 733/1000 [00:11<00:05, 44.92it/s, loss=0.177289]"
     ]
    },
    {
     "name": "stderr",
     "output_type": "stream",
     "text": [
      "\r",
      " 73%|███████▎  | 733/1000 [00:11<00:05, 44.92it/s, loss=0.177289]"
     ]
    },
    {
     "name": "stderr",
     "output_type": "stream",
     "text": [
      "\r",
      " 73%|███████▎  | 733/1000 [00:11<00:05, 44.92it/s, loss=0.177288]"
     ]
    },
    {
     "name": "stderr",
     "output_type": "stream",
     "text": [
      "\r",
      " 73%|███████▎  | 733/1000 [00:11<00:05, 44.92it/s, loss=0.177289]"
     ]
    },
    {
     "name": "stderr",
     "output_type": "stream",
     "text": [
      "\r",
      " 73%|███████▎  | 733/1000 [00:11<00:05, 44.92it/s, loss=0.177290]"
     ]
    },
    {
     "name": "stderr",
     "output_type": "stream",
     "text": [
      "\r",
      " 73%|███████▎  | 733/1000 [00:11<00:05, 44.92it/s, loss=0.177288]"
     ]
    },
    {
     "name": "stderr",
     "output_type": "stream",
     "text": [
      "\r",
      " 74%|███████▍  | 738/1000 [00:11<00:05, 44.52it/s, loss=0.177288]"
     ]
    },
    {
     "name": "stderr",
     "output_type": "stream",
     "text": [
      "\r",
      " 74%|███████▍  | 738/1000 [00:11<00:05, 44.52it/s, loss=0.177288]"
     ]
    },
    {
     "name": "stderr",
     "output_type": "stream",
     "text": [
      "\r",
      " 74%|███████▍  | 738/1000 [00:11<00:05, 44.52it/s, loss=0.177290]"
     ]
    },
    {
     "name": "stderr",
     "output_type": "stream",
     "text": [
      "\r",
      " 74%|███████▍  | 738/1000 [00:11<00:05, 44.52it/s, loss=0.177289]"
     ]
    },
    {
     "name": "stderr",
     "output_type": "stream",
     "text": [
      "\r",
      " 74%|███████▍  | 738/1000 [00:11<00:05, 44.52it/s, loss=0.177288]"
     ]
    },
    {
     "name": "stderr",
     "output_type": "stream",
     "text": [
      "\r",
      " 74%|███████▍  | 738/1000 [00:11<00:05, 44.52it/s, loss=0.177288]"
     ]
    },
    {
     "name": "stderr",
     "output_type": "stream",
     "text": [
      "\r",
      " 74%|███████▍  | 743/1000 [00:11<00:05, 43.67it/s, loss=0.177288]"
     ]
    },
    {
     "name": "stderr",
     "output_type": "stream",
     "text": [
      "\r",
      " 74%|███████▍  | 743/1000 [00:11<00:05, 43.67it/s, loss=0.177289]"
     ]
    },
    {
     "name": "stderr",
     "output_type": "stream",
     "text": [
      "\r",
      " 74%|███████▍  | 743/1000 [00:11<00:05, 43.67it/s, loss=0.177290]"
     ]
    },
    {
     "name": "stderr",
     "output_type": "stream",
     "text": [
      "\r",
      " 74%|███████▍  | 743/1000 [00:11<00:05, 43.67it/s, loss=0.177289]"
     ]
    },
    {
     "name": "stderr",
     "output_type": "stream",
     "text": [
      "\r",
      " 74%|███████▍  | 743/1000 [00:11<00:05, 43.67it/s, loss=0.177294]"
     ]
    },
    {
     "name": "stderr",
     "output_type": "stream",
     "text": [
      "\r",
      " 74%|███████▍  | 743/1000 [00:11<00:05, 43.67it/s, loss=0.177293]"
     ]
    },
    {
     "name": "stderr",
     "output_type": "stream",
     "text": [
      "\r",
      " 75%|███████▍  | 748/1000 [00:11<00:05, 43.12it/s, loss=0.177293]"
     ]
    },
    {
     "name": "stderr",
     "output_type": "stream",
     "text": [
      "\r",
      " 75%|███████▍  | 748/1000 [00:11<00:05, 43.12it/s, loss=0.177289]"
     ]
    },
    {
     "name": "stderr",
     "output_type": "stream",
     "text": [
      "\r",
      " 75%|███████▍  | 748/1000 [00:11<00:05, 43.12it/s, loss=0.177290]"
     ]
    },
    {
     "name": "stderr",
     "output_type": "stream",
     "text": [
      "\r",
      " 75%|███████▍  | 748/1000 [00:11<00:05, 43.12it/s, loss=0.177292]"
     ]
    },
    {
     "name": "stderr",
     "output_type": "stream",
     "text": [
      "\r",
      " 75%|███████▍  | 748/1000 [00:11<00:05, 43.12it/s, loss=0.177288]"
     ]
    },
    {
     "name": "stderr",
     "output_type": "stream",
     "text": [
      "\r",
      " 75%|███████▍  | 748/1000 [00:11<00:05, 43.12it/s, loss=0.177291]"
     ]
    },
    {
     "name": "stderr",
     "output_type": "stream",
     "text": [
      "\r",
      " 75%|███████▌  | 753/1000 [00:11<00:05, 43.46it/s, loss=0.177291]"
     ]
    },
    {
     "name": "stderr",
     "output_type": "stream",
     "text": [
      "\r",
      " 75%|███████▌  | 753/1000 [00:11<00:05, 43.46it/s, loss=0.177291]"
     ]
    },
    {
     "name": "stderr",
     "output_type": "stream",
     "text": [
      "\r",
      " 75%|███████▌  | 753/1000 [00:11<00:05, 43.46it/s, loss=0.177288]"
     ]
    },
    {
     "name": "stderr",
     "output_type": "stream",
     "text": [
      "\r",
      " 75%|███████▌  | 753/1000 [00:11<00:05, 43.46it/s, loss=0.177292]"
     ]
    },
    {
     "name": "stderr",
     "output_type": "stream",
     "text": [
      "\r",
      " 75%|███████▌  | 753/1000 [00:12<00:05, 43.46it/s, loss=0.177290]"
     ]
    },
    {
     "name": "stderr",
     "output_type": "stream",
     "text": [
      "\r",
      " 75%|███████▌  | 753/1000 [00:12<00:05, 43.46it/s, loss=0.177288]"
     ]
    },
    {
     "name": "stderr",
     "output_type": "stream",
     "text": [
      "\r",
      " 76%|███████▌  | 758/1000 [00:12<00:05, 42.93it/s, loss=0.177288]"
     ]
    },
    {
     "name": "stderr",
     "output_type": "stream",
     "text": [
      "\r",
      " 76%|███████▌  | 758/1000 [00:12<00:05, 42.93it/s, loss=0.177289]"
     ]
    },
    {
     "name": "stderr",
     "output_type": "stream",
     "text": [
      "\r",
      " 76%|███████▌  | 758/1000 [00:12<00:05, 42.93it/s, loss=0.177290]"
     ]
    },
    {
     "name": "stderr",
     "output_type": "stream",
     "text": [
      "\r",
      " 76%|███████▌  | 758/1000 [00:12<00:05, 42.93it/s, loss=0.177289]"
     ]
    },
    {
     "name": "stderr",
     "output_type": "stream",
     "text": [
      "\r",
      " 76%|███████▌  | 758/1000 [00:12<00:05, 42.93it/s, loss=0.177295]"
     ]
    },
    {
     "name": "stderr",
     "output_type": "stream",
     "text": [
      "\r",
      " 76%|███████▌  | 758/1000 [00:12<00:05, 42.93it/s, loss=0.177293]"
     ]
    },
    {
     "name": "stderr",
     "output_type": "stream",
     "text": [
      "\r",
      " 76%|███████▋  | 763/1000 [00:12<00:05, 43.14it/s, loss=0.177293]"
     ]
    },
    {
     "name": "stderr",
     "output_type": "stream",
     "text": [
      "\r",
      " 76%|███████▋  | 763/1000 [00:12<00:05, 43.14it/s, loss=0.177289]"
     ]
    },
    {
     "name": "stderr",
     "output_type": "stream",
     "text": [
      "\r",
      " 76%|███████▋  | 763/1000 [00:12<00:05, 43.14it/s, loss=0.177290]"
     ]
    },
    {
     "name": "stderr",
     "output_type": "stream",
     "text": [
      "\r",
      " 76%|███████▋  | 763/1000 [00:12<00:05, 43.14it/s, loss=0.177299]"
     ]
    },
    {
     "name": "stderr",
     "output_type": "stream",
     "text": [
      "\r",
      " 76%|███████▋  | 763/1000 [00:12<00:05, 43.14it/s, loss=0.177295]"
     ]
    },
    {
     "name": "stderr",
     "output_type": "stream",
     "text": [
      "\r",
      " 76%|███████▋  | 763/1000 [00:12<00:05, 43.14it/s, loss=0.177288]"
     ]
    },
    {
     "name": "stderr",
     "output_type": "stream",
     "text": [
      "\r",
      " 77%|███████▋  | 768/1000 [00:12<00:05, 43.52it/s, loss=0.177288]"
     ]
    },
    {
     "name": "stderr",
     "output_type": "stream",
     "text": [
      "\r",
      " 77%|███████▋  | 768/1000 [00:12<00:05, 43.52it/s, loss=0.177291]"
     ]
    },
    {
     "name": "stderr",
     "output_type": "stream",
     "text": [
      "\r",
      " 77%|███████▋  | 768/1000 [00:12<00:05, 43.52it/s, loss=0.177291]"
     ]
    },
    {
     "name": "stderr",
     "output_type": "stream",
     "text": [
      "\r",
      " 77%|███████▋  | 768/1000 [00:12<00:05, 43.52it/s, loss=0.177289]"
     ]
    },
    {
     "name": "stderr",
     "output_type": "stream",
     "text": [
      "\r",
      " 77%|███████▋  | 768/1000 [00:12<00:05, 43.52it/s, loss=0.177288]"
     ]
    },
    {
     "name": "stderr",
     "output_type": "stream",
     "text": [
      "\r",
      " 77%|███████▋  | 768/1000 [00:12<00:05, 43.52it/s, loss=0.177288]"
     ]
    },
    {
     "name": "stderr",
     "output_type": "stream",
     "text": [
      "\r",
      " 77%|███████▋  | 773/1000 [00:12<00:05, 44.34it/s, loss=0.177288]"
     ]
    },
    {
     "name": "stderr",
     "output_type": "stream",
     "text": [
      "\r",
      " 77%|███████▋  | 773/1000 [00:12<00:05, 44.34it/s, loss=0.177288]"
     ]
    },
    {
     "name": "stderr",
     "output_type": "stream",
     "text": [
      "\r",
      " 77%|███████▋  | 773/1000 [00:12<00:05, 44.34it/s, loss=0.177289]"
     ]
    },
    {
     "name": "stderr",
     "output_type": "stream",
     "text": [
      "\r",
      " 77%|███████▋  | 773/1000 [00:12<00:05, 44.34it/s, loss=0.177289]"
     ]
    },
    {
     "name": "stderr",
     "output_type": "stream",
     "text": [
      "\r",
      " 77%|███████▋  | 773/1000 [00:12<00:05, 44.34it/s, loss=0.177288]"
     ]
    },
    {
     "name": "stderr",
     "output_type": "stream",
     "text": [
      "\r",
      " 77%|███████▋  | 773/1000 [00:12<00:05, 44.34it/s, loss=0.177289]"
     ]
    },
    {
     "name": "stderr",
     "output_type": "stream",
     "text": [
      "\r",
      " 78%|███████▊  | 778/1000 [00:12<00:04, 44.96it/s, loss=0.177289]"
     ]
    },
    {
     "name": "stderr",
     "output_type": "stream",
     "text": [
      "\r",
      " 78%|███████▊  | 778/1000 [00:12<00:04, 44.96it/s, loss=0.177290]"
     ]
    },
    {
     "name": "stderr",
     "output_type": "stream",
     "text": [
      "\r",
      " 78%|███████▊  | 778/1000 [00:12<00:04, 44.96it/s, loss=0.177288]"
     ]
    },
    {
     "name": "stderr",
     "output_type": "stream",
     "text": [
      "\r",
      " 78%|███████▊  | 778/1000 [00:12<00:04, 44.96it/s, loss=0.177289]"
     ]
    },
    {
     "name": "stderr",
     "output_type": "stream",
     "text": [
      "\r",
      " 78%|███████▊  | 778/1000 [00:12<00:04, 44.96it/s, loss=0.177290]"
     ]
    },
    {
     "name": "stderr",
     "output_type": "stream",
     "text": [
      "\r",
      " 78%|███████▊  | 778/1000 [00:12<00:04, 44.96it/s, loss=0.177289]"
     ]
    },
    {
     "name": "stderr",
     "output_type": "stream",
     "text": [
      "\r",
      " 78%|███████▊  | 783/1000 [00:12<00:04, 45.14it/s, loss=0.177289]"
     ]
    },
    {
     "name": "stderr",
     "output_type": "stream",
     "text": [
      "\r",
      " 78%|███████▊  | 783/1000 [00:12<00:04, 45.14it/s, loss=0.177288]"
     ]
    },
    {
     "name": "stderr",
     "output_type": "stream",
     "text": [
      "\r",
      " 78%|███████▊  | 783/1000 [00:12<00:04, 45.14it/s, loss=0.177288]"
     ]
    },
    {
     "name": "stderr",
     "output_type": "stream",
     "text": [
      "\r",
      " 78%|███████▊  | 783/1000 [00:12<00:04, 45.14it/s, loss=0.177289]"
     ]
    },
    {
     "name": "stderr",
     "output_type": "stream",
     "text": [
      "\r",
      " 78%|███████▊  | 783/1000 [00:12<00:04, 45.14it/s, loss=0.177290]"
     ]
    },
    {
     "name": "stderr",
     "output_type": "stream",
     "text": [
      "\r",
      " 78%|███████▊  | 783/1000 [00:12<00:04, 45.14it/s, loss=0.177292]"
     ]
    },
    {
     "name": "stderr",
     "output_type": "stream",
     "text": [
      "\r",
      " 79%|███████▉  | 788/1000 [00:12<00:04, 44.12it/s, loss=0.177292]"
     ]
    },
    {
     "name": "stderr",
     "output_type": "stream",
     "text": [
      "\r",
      " 79%|███████▉  | 788/1000 [00:12<00:04, 44.12it/s, loss=0.177288]"
     ]
    },
    {
     "name": "stderr",
     "output_type": "stream",
     "text": [
      "\r",
      " 79%|███████▉  | 788/1000 [00:12<00:04, 44.12it/s, loss=0.177294]"
     ]
    },
    {
     "name": "stderr",
     "output_type": "stream",
     "text": [
      "\r",
      " 79%|███████▉  | 788/1000 [00:12<00:04, 44.12it/s, loss=0.177301]"
     ]
    },
    {
     "name": "stderr",
     "output_type": "stream",
     "text": [
      "\r",
      " 79%|███████▉  | 788/1000 [00:12<00:04, 44.12it/s, loss=0.177290]"
     ]
    },
    {
     "name": "stderr",
     "output_type": "stream",
     "text": [
      "\r",
      " 79%|███████▉  | 788/1000 [00:12<00:04, 44.12it/s, loss=0.177289]"
     ]
    },
    {
     "name": "stderr",
     "output_type": "stream",
     "text": [
      "\r",
      " 79%|███████▉  | 793/1000 [00:12<00:04, 43.42it/s, loss=0.177289]"
     ]
    },
    {
     "name": "stderr",
     "output_type": "stream",
     "text": [
      "\r",
      " 79%|███████▉  | 793/1000 [00:12<00:04, 43.42it/s, loss=0.177294]"
     ]
    },
    {
     "name": "stderr",
     "output_type": "stream",
     "text": [
      "\r",
      " 79%|███████▉  | 793/1000 [00:12<00:04, 43.42it/s, loss=0.177294]"
     ]
    },
    {
     "name": "stderr",
     "output_type": "stream",
     "text": [
      "\r",
      " 79%|███████▉  | 793/1000 [00:12<00:04, 43.42it/s, loss=0.177289]"
     ]
    },
    {
     "name": "stderr",
     "output_type": "stream",
     "text": [
      "\r",
      " 79%|███████▉  | 793/1000 [00:12<00:04, 43.42it/s, loss=0.177290]"
     ]
    },
    {
     "name": "stderr",
     "output_type": "stream",
     "text": [
      "\r",
      " 79%|███████▉  | 793/1000 [00:12<00:04, 43.42it/s, loss=0.177293]"
     ]
    },
    {
     "name": "stderr",
     "output_type": "stream",
     "text": [
      "\r",
      " 80%|███████▉  | 798/1000 [00:12<00:04, 43.55it/s, loss=0.177293]"
     ]
    },
    {
     "name": "stderr",
     "output_type": "stream",
     "text": [
      "\r",
      " 80%|███████▉  | 798/1000 [00:12<00:04, 43.55it/s, loss=0.177290]"
     ]
    },
    {
     "name": "stderr",
     "output_type": "stream",
     "text": [
      "\r",
      " 80%|███████▉  | 798/1000 [00:12<00:04, 43.55it/s, loss=0.177291]"
     ]
    },
    {
     "name": "stderr",
     "output_type": "stream",
     "text": [
      "\r",
      " 80%|███████▉  | 798/1000 [00:13<00:04, 43.55it/s, loss=0.177299]"
     ]
    },
    {
     "name": "stderr",
     "output_type": "stream",
     "text": [
      "\r",
      " 80%|███████▉  | 798/1000 [00:13<00:04, 43.55it/s, loss=0.177296]"
     ]
    },
    {
     "name": "stderr",
     "output_type": "stream",
     "text": [
      "\r",
      " 80%|███████▉  | 798/1000 [00:13<00:04, 43.55it/s, loss=0.177288]"
     ]
    },
    {
     "name": "stderr",
     "output_type": "stream",
     "text": [
      "\r",
      " 80%|████████  | 803/1000 [00:13<00:04, 44.08it/s, loss=0.177288]"
     ]
    },
    {
     "name": "stderr",
     "output_type": "stream",
     "text": [
      "\r",
      " 80%|████████  | 803/1000 [00:13<00:04, 44.08it/s, loss=0.177297]"
     ]
    },
    {
     "name": "stderr",
     "output_type": "stream",
     "text": [
      "\r",
      " 80%|████████  | 803/1000 [00:13<00:04, 44.08it/s, loss=0.177298]"
     ]
    },
    {
     "name": "stderr",
     "output_type": "stream",
     "text": [
      "\r",
      " 80%|████████  | 803/1000 [00:13<00:04, 44.08it/s, loss=0.177289]"
     ]
    },
    {
     "name": "stderr",
     "output_type": "stream",
     "text": [
      "\r",
      " 80%|████████  | 803/1000 [00:13<00:04, 44.08it/s, loss=0.177290]"
     ]
    },
    {
     "name": "stderr",
     "output_type": "stream",
     "text": [
      "\r",
      " 80%|████████  | 803/1000 [00:13<00:04, 44.08it/s, loss=0.177299]"
     ]
    },
    {
     "name": "stderr",
     "output_type": "stream",
     "text": [
      "\r",
      " 81%|████████  | 808/1000 [00:13<00:04, 44.20it/s, loss=0.177299]"
     ]
    },
    {
     "name": "stderr",
     "output_type": "stream",
     "text": [
      "\r",
      " 81%|████████  | 808/1000 [00:13<00:04, 44.20it/s, loss=0.177298]"
     ]
    },
    {
     "name": "stderr",
     "output_type": "stream",
     "text": [
      "\r",
      " 81%|████████  | 808/1000 [00:13<00:04, 44.20it/s, loss=0.177288]"
     ]
    },
    {
     "name": "stderr",
     "output_type": "stream",
     "text": [
      "\r",
      " 81%|████████  | 808/1000 [00:13<00:04, 44.20it/s, loss=0.177300]"
     ]
    },
    {
     "name": "stderr",
     "output_type": "stream",
     "text": [
      "\r",
      " 81%|████████  | 808/1000 [00:13<00:04, 44.20it/s, loss=0.177306]"
     ]
    },
    {
     "name": "stderr",
     "output_type": "stream",
     "text": [
      "\r",
      " 81%|████████  | 808/1000 [00:13<00:04, 44.20it/s, loss=0.177292]"
     ]
    },
    {
     "name": "stderr",
     "output_type": "stream",
     "text": [
      "\r",
      " 81%|████████▏ | 813/1000 [00:13<00:04, 44.41it/s, loss=0.177292]"
     ]
    },
    {
     "name": "stderr",
     "output_type": "stream",
     "text": [
      "\r",
      " 81%|████████▏ | 813/1000 [00:13<00:04, 44.41it/s, loss=0.177294]"
     ]
    },
    {
     "name": "stderr",
     "output_type": "stream",
     "text": [
      "\r",
      " 81%|████████▏ | 813/1000 [00:13<00:04, 44.41it/s, loss=0.177315]"
     ]
    },
    {
     "name": "stderr",
     "output_type": "stream",
     "text": [
      "\r",
      " 81%|████████▏ | 813/1000 [00:13<00:04, 44.41it/s, loss=0.177302]"
     ]
    },
    {
     "name": "stderr",
     "output_type": "stream",
     "text": [
      "\r",
      " 81%|████████▏ | 813/1000 [00:13<00:04, 44.41it/s, loss=0.177288]"
     ]
    },
    {
     "name": "stderr",
     "output_type": "stream",
     "text": [
      "\r",
      " 81%|████████▏ | 813/1000 [00:13<00:04, 44.41it/s, loss=0.177300]"
     ]
    },
    {
     "name": "stderr",
     "output_type": "stream",
     "text": [
      "\r",
      " 82%|████████▏ | 818/1000 [00:13<00:04, 44.21it/s, loss=0.177300]"
     ]
    },
    {
     "name": "stderr",
     "output_type": "stream",
     "text": [
      "\r",
      " 82%|████████▏ | 818/1000 [00:13<00:04, 44.21it/s, loss=0.177304]"
     ]
    },
    {
     "name": "stderr",
     "output_type": "stream",
     "text": [
      "\r",
      " 82%|████████▏ | 818/1000 [00:13<00:04, 44.21it/s, loss=0.177290]"
     ]
    },
    {
     "name": "stderr",
     "output_type": "stream",
     "text": [
      "\r",
      " 82%|████████▏ | 818/1000 [00:13<00:04, 44.21it/s, loss=0.177298]"
     ]
    },
    {
     "name": "stderr",
     "output_type": "stream",
     "text": [
      "\r",
      " 82%|████████▏ | 818/1000 [00:13<00:04, 44.21it/s, loss=0.177319]"
     ]
    },
    {
     "name": "stderr",
     "output_type": "stream",
     "text": [
      "\r",
      " 82%|████████▏ | 818/1000 [00:13<00:04, 44.21it/s, loss=0.177301]"
     ]
    },
    {
     "name": "stderr",
     "output_type": "stream",
     "text": [
      "\r",
      " 82%|████████▏ | 823/1000 [00:13<00:04, 43.75it/s, loss=0.177301]"
     ]
    },
    {
     "name": "stderr",
     "output_type": "stream",
     "text": [
      "\r",
      " 82%|████████▏ | 823/1000 [00:13<00:04, 43.75it/s, loss=0.177290]"
     ]
    },
    {
     "name": "stderr",
     "output_type": "stream",
     "text": [
      "\r",
      " 82%|████████▏ | 823/1000 [00:13<00:04, 43.75it/s, loss=0.177322]"
     ]
    },
    {
     "name": "stderr",
     "output_type": "stream",
     "text": [
      "\r",
      " 82%|████████▏ | 823/1000 [00:13<00:04, 43.75it/s, loss=0.177325]"
     ]
    },
    {
     "name": "stderr",
     "output_type": "stream",
     "text": [
      "\r",
      " 82%|████████▏ | 823/1000 [00:13<00:04, 43.75it/s, loss=0.177291]"
     ]
    },
    {
     "name": "stderr",
     "output_type": "stream",
     "text": [
      "\r",
      " 82%|████████▏ | 823/1000 [00:13<00:04, 43.75it/s, loss=0.177299]"
     ]
    },
    {
     "name": "stderr",
     "output_type": "stream",
     "text": [
      "\r",
      " 83%|████████▎ | 828/1000 [00:13<00:03, 43.51it/s, loss=0.177299]"
     ]
    },
    {
     "name": "stderr",
     "output_type": "stream",
     "text": [
      "\r",
      " 83%|████████▎ | 828/1000 [00:13<00:03, 43.51it/s, loss=0.177321]"
     ]
    },
    {
     "name": "stderr",
     "output_type": "stream",
     "text": [
      "\r",
      " 83%|████████▎ | 828/1000 [00:13<00:03, 43.51it/s, loss=0.177299]"
     ]
    },
    {
     "name": "stderr",
     "output_type": "stream",
     "text": [
      "\r",
      " 83%|████████▎ | 828/1000 [00:13<00:03, 43.51it/s, loss=0.177289]"
     ]
    },
    {
     "name": "stderr",
     "output_type": "stream",
     "text": [
      "\r",
      " 83%|████████▎ | 828/1000 [00:13<00:03, 43.51it/s, loss=0.177304]"
     ]
    },
    {
     "name": "stderr",
     "output_type": "stream",
     "text": [
      "\r",
      " 83%|████████▎ | 828/1000 [00:13<00:03, 43.51it/s, loss=0.177312]"
     ]
    },
    {
     "name": "stderr",
     "output_type": "stream",
     "text": [
      "\r",
      " 83%|████████▎ | 833/1000 [00:13<00:03, 43.74it/s, loss=0.177312]"
     ]
    },
    {
     "name": "stderr",
     "output_type": "stream",
     "text": [
      "\r",
      " 83%|████████▎ | 833/1000 [00:13<00:03, 43.74it/s, loss=0.177297]"
     ]
    },
    {
     "name": "stderr",
     "output_type": "stream",
     "text": [
      "\r",
      " 83%|████████▎ | 833/1000 [00:13<00:03, 43.74it/s, loss=0.177289]"
     ]
    },
    {
     "name": "stderr",
     "output_type": "stream",
     "text": [
      "\r",
      " 83%|████████▎ | 833/1000 [00:13<00:03, 43.74it/s, loss=0.177302]"
     ]
    },
    {
     "name": "stderr",
     "output_type": "stream",
     "text": [
      "\r",
      " 83%|████████▎ | 833/1000 [00:13<00:03, 43.74it/s, loss=0.177305]"
     ]
    },
    {
     "name": "stderr",
     "output_type": "stream",
     "text": [
      "\r",
      " 83%|████████▎ | 833/1000 [00:13<00:03, 43.74it/s, loss=0.177293]"
     ]
    },
    {
     "name": "stderr",
     "output_type": "stream",
     "text": [
      "\r",
      " 84%|████████▍ | 838/1000 [00:13<00:03, 43.06it/s, loss=0.177293]"
     ]
    },
    {
     "name": "stderr",
     "output_type": "stream",
     "text": [
      "\r",
      " 84%|████████▍ | 838/1000 [00:13<00:03, 43.06it/s, loss=0.177290]"
     ]
    },
    {
     "name": "stderr",
     "output_type": "stream",
     "text": [
      "\r",
      " 84%|████████▍ | 838/1000 [00:13<00:03, 43.06it/s, loss=0.177294]"
     ]
    },
    {
     "name": "stderr",
     "output_type": "stream",
     "text": [
      "\r",
      " 84%|████████▍ | 838/1000 [00:13<00:03, 43.06it/s, loss=0.177294]"
     ]
    },
    {
     "name": "stderr",
     "output_type": "stream",
     "text": [
      "\r",
      " 84%|████████▍ | 838/1000 [00:13<00:03, 43.06it/s, loss=0.177290]"
     ]
    },
    {
     "name": "stderr",
     "output_type": "stream",
     "text": [
      "\r",
      " 84%|████████▍ | 838/1000 [00:13<00:03, 43.06it/s, loss=0.177289]"
     ]
    },
    {
     "name": "stderr",
     "output_type": "stream",
     "text": [
      "\r",
      " 84%|████████▍ | 843/1000 [00:13<00:03, 42.53it/s, loss=0.177289]"
     ]
    },
    {
     "name": "stderr",
     "output_type": "stream",
     "text": [
      "\r",
      " 84%|████████▍ | 843/1000 [00:14<00:03, 42.53it/s, loss=0.177288]"
     ]
    },
    {
     "name": "stderr",
     "output_type": "stream",
     "text": [
      "\r",
      " 84%|████████▍ | 843/1000 [00:14<00:03, 42.53it/s, loss=0.177289]"
     ]
    },
    {
     "name": "stderr",
     "output_type": "stream",
     "text": [
      "\r",
      " 84%|████████▍ | 843/1000 [00:14<00:03, 42.53it/s, loss=0.177289]"
     ]
    },
    {
     "name": "stderr",
     "output_type": "stream",
     "text": [
      "\r",
      " 84%|████████▍ | 843/1000 [00:14<00:03, 42.53it/s, loss=0.177288]"
     ]
    },
    {
     "name": "stderr",
     "output_type": "stream",
     "text": [
      "\r",
      " 84%|████████▍ | 843/1000 [00:14<00:03, 42.53it/s, loss=0.177289]"
     ]
    },
    {
     "name": "stderr",
     "output_type": "stream",
     "text": [
      "\r",
      " 85%|████████▍ | 848/1000 [00:14<00:03, 42.98it/s, loss=0.177289]"
     ]
    },
    {
     "name": "stderr",
     "output_type": "stream",
     "text": [
      "\r",
      " 85%|████████▍ | 848/1000 [00:14<00:03, 42.98it/s, loss=0.177290]"
     ]
    },
    {
     "name": "stderr",
     "output_type": "stream",
     "text": [
      "\r",
      " 85%|████████▍ | 848/1000 [00:14<00:03, 42.98it/s, loss=0.177289]"
     ]
    },
    {
     "name": "stderr",
     "output_type": "stream",
     "text": [
      "\r",
      " 85%|████████▍ | 848/1000 [00:14<00:03, 42.98it/s, loss=0.177288]"
     ]
    },
    {
     "name": "stderr",
     "output_type": "stream",
     "text": [
      "\r",
      " 85%|████████▍ | 848/1000 [00:14<00:03, 42.98it/s, loss=0.177288]"
     ]
    },
    {
     "name": "stderr",
     "output_type": "stream",
     "text": [
      "\r",
      " 85%|████████▍ | 848/1000 [00:14<00:03, 42.98it/s, loss=0.177289]"
     ]
    },
    {
     "name": "stderr",
     "output_type": "stream",
     "text": [
      "\r",
      " 85%|████████▌ | 853/1000 [00:14<00:03, 43.72it/s, loss=0.177289]"
     ]
    },
    {
     "name": "stderr",
     "output_type": "stream",
     "text": [
      "\r",
      " 85%|████████▌ | 853/1000 [00:14<00:03, 43.72it/s, loss=0.177291]"
     ]
    },
    {
     "name": "stderr",
     "output_type": "stream",
     "text": [
      "\r",
      " 85%|████████▌ | 853/1000 [00:14<00:03, 43.72it/s, loss=0.177292]"
     ]
    },
    {
     "name": "stderr",
     "output_type": "stream",
     "text": [
      "\r",
      " 85%|████████▌ | 853/1000 [00:14<00:03, 43.72it/s, loss=0.177289]"
     ]
    },
    {
     "name": "stderr",
     "output_type": "stream",
     "text": [
      "\r",
      " 85%|████████▌ | 853/1000 [00:14<00:03, 43.72it/s, loss=0.177288]"
     ]
    },
    {
     "name": "stderr",
     "output_type": "stream",
     "text": [
      "\r",
      " 85%|████████▌ | 853/1000 [00:14<00:03, 43.72it/s, loss=0.177289]"
     ]
    },
    {
     "name": "stderr",
     "output_type": "stream",
     "text": [
      "\r",
      " 86%|████████▌ | 858/1000 [00:14<00:03, 44.07it/s, loss=0.177289]"
     ]
    },
    {
     "name": "stderr",
     "output_type": "stream",
     "text": [
      "\r",
      " 86%|████████▌ | 858/1000 [00:14<00:03, 44.07it/s, loss=0.177291]"
     ]
    },
    {
     "name": "stderr",
     "output_type": "stream",
     "text": [
      "\r",
      " 86%|████████▌ | 858/1000 [00:14<00:03, 44.07it/s, loss=0.177292]"
     ]
    },
    {
     "name": "stderr",
     "output_type": "stream",
     "text": [
      "\r",
      " 86%|████████▌ | 858/1000 [00:14<00:03, 44.07it/s, loss=0.177289]"
     ]
    },
    {
     "name": "stderr",
     "output_type": "stream",
     "text": [
      "\r",
      " 86%|████████▌ | 858/1000 [00:14<00:03, 44.07it/s, loss=0.177288]"
     ]
    },
    {
     "name": "stderr",
     "output_type": "stream",
     "text": [
      "\r",
      " 86%|████████▌ | 858/1000 [00:14<00:03, 44.07it/s, loss=0.177289]"
     ]
    },
    {
     "name": "stderr",
     "output_type": "stream",
     "text": [
      "\r",
      " 86%|████████▋ | 863/1000 [00:14<00:03, 43.72it/s, loss=0.177289]"
     ]
    },
    {
     "name": "stderr",
     "output_type": "stream",
     "text": [
      "\r",
      " 86%|████████▋ | 863/1000 [00:14<00:03, 43.72it/s, loss=0.177291]"
     ]
    },
    {
     "name": "stderr",
     "output_type": "stream",
     "text": [
      "\r",
      " 86%|████████▋ | 863/1000 [00:14<00:03, 43.72it/s, loss=0.177292]"
     ]
    },
    {
     "name": "stderr",
     "output_type": "stream",
     "text": [
      "\r",
      " 86%|████████▋ | 863/1000 [00:14<00:03, 43.72it/s, loss=0.177289]"
     ]
    },
    {
     "name": "stderr",
     "output_type": "stream",
     "text": [
      "\r",
      " 86%|████████▋ | 863/1000 [00:14<00:03, 43.72it/s, loss=0.177288]"
     ]
    },
    {
     "name": "stderr",
     "output_type": "stream",
     "text": [
      "\r",
      " 86%|████████▋ | 863/1000 [00:14<00:03, 43.72it/s, loss=0.177289]"
     ]
    },
    {
     "name": "stderr",
     "output_type": "stream",
     "text": [
      "\r",
      " 87%|████████▋ | 868/1000 [00:14<00:02, 44.09it/s, loss=0.177289]"
     ]
    },
    {
     "name": "stderr",
     "output_type": "stream",
     "text": [
      "\r",
      " 87%|████████▋ | 868/1000 [00:14<00:02, 44.09it/s, loss=0.177291]"
     ]
    },
    {
     "name": "stderr",
     "output_type": "stream",
     "text": [
      "\r",
      " 87%|████████▋ | 868/1000 [00:14<00:02, 44.09it/s, loss=0.177292]"
     ]
    },
    {
     "name": "stderr",
     "output_type": "stream",
     "text": [
      "\r",
      " 87%|████████▋ | 868/1000 [00:14<00:02, 44.09it/s, loss=0.177289]"
     ]
    },
    {
     "name": "stderr",
     "output_type": "stream",
     "text": [
      "\r",
      " 87%|████████▋ | 868/1000 [00:14<00:02, 44.09it/s, loss=0.177288]"
     ]
    },
    {
     "name": "stderr",
     "output_type": "stream",
     "text": [
      "\r",
      " 87%|████████▋ | 868/1000 [00:14<00:02, 44.09it/s, loss=0.177289]"
     ]
    },
    {
     "name": "stderr",
     "output_type": "stream",
     "text": [
      "\r",
      " 87%|████████▋ | 873/1000 [00:14<00:02, 44.02it/s, loss=0.177289]"
     ]
    },
    {
     "name": "stderr",
     "output_type": "stream",
     "text": [
      "\r",
      " 87%|████████▋ | 873/1000 [00:14<00:02, 44.02it/s, loss=0.177291]"
     ]
    },
    {
     "name": "stderr",
     "output_type": "stream",
     "text": [
      "\r",
      " 87%|████████▋ | 873/1000 [00:14<00:02, 44.02it/s, loss=0.177292]"
     ]
    },
    {
     "name": "stderr",
     "output_type": "stream",
     "text": [
      "\r",
      " 87%|████████▋ | 873/1000 [00:14<00:02, 44.02it/s, loss=0.177289]"
     ]
    },
    {
     "name": "stderr",
     "output_type": "stream",
     "text": [
      "\r",
      " 87%|████████▋ | 873/1000 [00:14<00:02, 44.02it/s, loss=0.177288]"
     ]
    },
    {
     "name": "stderr",
     "output_type": "stream",
     "text": [
      "\r",
      " 87%|████████▋ | 873/1000 [00:14<00:02, 44.02it/s, loss=0.177289]"
     ]
    },
    {
     "name": "stderr",
     "output_type": "stream",
     "text": [
      "\r",
      " 88%|████████▊ | 878/1000 [00:14<00:02, 43.60it/s, loss=0.177289]"
     ]
    },
    {
     "name": "stderr",
     "output_type": "stream",
     "text": [
      "\r",
      " 88%|████████▊ | 878/1000 [00:14<00:02, 43.60it/s, loss=0.177291]"
     ]
    },
    {
     "name": "stderr",
     "output_type": "stream",
     "text": [
      "\r",
      " 88%|████████▊ | 878/1000 [00:14<00:02, 43.60it/s, loss=0.177292]"
     ]
    },
    {
     "name": "stderr",
     "output_type": "stream",
     "text": [
      "\r",
      " 88%|████████▊ | 878/1000 [00:14<00:02, 43.60it/s, loss=0.177289]"
     ]
    },
    {
     "name": "stderr",
     "output_type": "stream",
     "text": [
      "\r",
      " 88%|████████▊ | 878/1000 [00:14<00:02, 43.60it/s, loss=0.177288]"
     ]
    },
    {
     "name": "stderr",
     "output_type": "stream",
     "text": [
      "\r",
      " 88%|████████▊ | 878/1000 [00:14<00:02, 43.60it/s, loss=0.177289]"
     ]
    },
    {
     "name": "stderr",
     "output_type": "stream",
     "text": [
      "\r",
      " 88%|████████▊ | 883/1000 [00:14<00:02, 42.44it/s, loss=0.177289]"
     ]
    },
    {
     "name": "stderr",
     "output_type": "stream",
     "text": [
      "\r",
      " 88%|████████▊ | 883/1000 [00:14<00:02, 42.44it/s, loss=0.177291]"
     ]
    },
    {
     "name": "stderr",
     "output_type": "stream",
     "text": [
      "\r",
      " 88%|████████▊ | 883/1000 [00:14<00:02, 42.44it/s, loss=0.177292]"
     ]
    },
    {
     "name": "stderr",
     "output_type": "stream",
     "text": [
      "\r",
      " 88%|████████▊ | 883/1000 [00:14<00:02, 42.44it/s, loss=0.177289]"
     ]
    },
    {
     "name": "stderr",
     "output_type": "stream",
     "text": [
      "\r",
      " 88%|████████▊ | 883/1000 [00:14<00:02, 42.44it/s, loss=0.177288]"
     ]
    },
    {
     "name": "stderr",
     "output_type": "stream",
     "text": [
      "\r",
      " 88%|████████▊ | 883/1000 [00:15<00:02, 42.44it/s, loss=0.177289]"
     ]
    },
    {
     "name": "stderr",
     "output_type": "stream",
     "text": [
      "\r",
      " 89%|████████▉ | 888/1000 [00:15<00:02, 42.60it/s, loss=0.177289]"
     ]
    },
    {
     "name": "stderr",
     "output_type": "stream",
     "text": [
      "\r",
      " 89%|████████▉ | 888/1000 [00:15<00:02, 42.60it/s, loss=0.177291]"
     ]
    },
    {
     "name": "stderr",
     "output_type": "stream",
     "text": [
      "\r",
      " 89%|████████▉ | 888/1000 [00:15<00:02, 42.60it/s, loss=0.177292]"
     ]
    },
    {
     "name": "stderr",
     "output_type": "stream",
     "text": [
      "\r",
      " 89%|████████▉ | 888/1000 [00:15<00:02, 42.60it/s, loss=0.177289]"
     ]
    },
    {
     "name": "stderr",
     "output_type": "stream",
     "text": [
      "\r",
      " 89%|████████▉ | 888/1000 [00:15<00:02, 42.60it/s, loss=0.177288]"
     ]
    },
    {
     "name": "stderr",
     "output_type": "stream",
     "text": [
      "\r",
      " 89%|████████▉ | 888/1000 [00:15<00:02, 42.60it/s, loss=0.177289]"
     ]
    },
    {
     "name": "stderr",
     "output_type": "stream",
     "text": [
      "\r",
      " 89%|████████▉ | 893/1000 [00:15<00:02, 43.04it/s, loss=0.177289]"
     ]
    },
    {
     "name": "stderr",
     "output_type": "stream",
     "text": [
      "\r",
      " 89%|████████▉ | 893/1000 [00:15<00:02, 43.04it/s, loss=0.177291]"
     ]
    },
    {
     "name": "stderr",
     "output_type": "stream",
     "text": [
      "\r",
      " 89%|████████▉ | 893/1000 [00:15<00:02, 43.04it/s, loss=0.177292]"
     ]
    },
    {
     "name": "stderr",
     "output_type": "stream",
     "text": [
      "\r",
      " 89%|████████▉ | 893/1000 [00:15<00:02, 43.04it/s, loss=0.177289]"
     ]
    },
    {
     "name": "stderr",
     "output_type": "stream",
     "text": [
      "\r",
      " 89%|████████▉ | 893/1000 [00:15<00:02, 43.04it/s, loss=0.177288]"
     ]
    },
    {
     "name": "stderr",
     "output_type": "stream",
     "text": [
      "\r",
      " 89%|████████▉ | 893/1000 [00:15<00:02, 43.04it/s, loss=0.177289]"
     ]
    },
    {
     "name": "stderr",
     "output_type": "stream",
     "text": [
      "\r",
      " 90%|████████▉ | 898/1000 [00:15<00:02, 43.61it/s, loss=0.177289]"
     ]
    },
    {
     "name": "stderr",
     "output_type": "stream",
     "text": [
      "\r",
      " 90%|████████▉ | 898/1000 [00:15<00:02, 43.61it/s, loss=0.177291]"
     ]
    },
    {
     "name": "stderr",
     "output_type": "stream",
     "text": [
      "\r",
      " 90%|████████▉ | 898/1000 [00:15<00:02, 43.61it/s, loss=0.177292]"
     ]
    },
    {
     "name": "stderr",
     "output_type": "stream",
     "text": [
      "\r",
      " 90%|████████▉ | 898/1000 [00:15<00:02, 43.61it/s, loss=0.177289]"
     ]
    },
    {
     "name": "stderr",
     "output_type": "stream",
     "text": [
      "\r",
      " 90%|████████▉ | 898/1000 [00:15<00:02, 43.61it/s, loss=0.177288]"
     ]
    },
    {
     "name": "stderr",
     "output_type": "stream",
     "text": [
      "\r",
      " 90%|████████▉ | 898/1000 [00:15<00:02, 43.61it/s, loss=0.177289]"
     ]
    },
    {
     "name": "stderr",
     "output_type": "stream",
     "text": [
      "\r",
      " 90%|█████████ | 903/1000 [00:15<00:02, 44.15it/s, loss=0.177289]"
     ]
    },
    {
     "name": "stderr",
     "output_type": "stream",
     "text": [
      "\r",
      " 90%|█████████ | 903/1000 [00:15<00:02, 44.15it/s, loss=0.177291]"
     ]
    },
    {
     "name": "stderr",
     "output_type": "stream",
     "text": [
      "\r",
      " 90%|█████████ | 903/1000 [00:15<00:02, 44.15it/s, loss=0.177292]"
     ]
    },
    {
     "name": "stderr",
     "output_type": "stream",
     "text": [
      "\r",
      " 90%|█████████ | 903/1000 [00:15<00:02, 44.15it/s, loss=0.177289]"
     ]
    },
    {
     "name": "stderr",
     "output_type": "stream",
     "text": [
      "\r",
      " 90%|█████████ | 903/1000 [00:15<00:02, 44.15it/s, loss=0.177288]"
     ]
    },
    {
     "name": "stderr",
     "output_type": "stream",
     "text": [
      "\r",
      " 90%|█████████ | 903/1000 [00:15<00:02, 44.15it/s, loss=0.177289]"
     ]
    },
    {
     "name": "stderr",
     "output_type": "stream",
     "text": [
      "\r",
      " 91%|█████████ | 908/1000 [00:15<00:02, 44.60it/s, loss=0.177289]"
     ]
    },
    {
     "name": "stderr",
     "output_type": "stream",
     "text": [
      "\r",
      " 91%|█████████ | 908/1000 [00:15<00:02, 44.60it/s, loss=0.177292]"
     ]
    },
    {
     "name": "stderr",
     "output_type": "stream",
     "text": [
      "\r",
      " 91%|█████████ | 908/1000 [00:15<00:02, 44.60it/s, loss=0.177292]"
     ]
    },
    {
     "name": "stderr",
     "output_type": "stream",
     "text": [
      "\r",
      " 91%|█████████ | 908/1000 [00:15<00:02, 44.60it/s, loss=0.177289]"
     ]
    },
    {
     "name": "stderr",
     "output_type": "stream",
     "text": [
      "\r",
      " 91%|█████████ | 908/1000 [00:15<00:02, 44.60it/s, loss=0.177288]"
     ]
    },
    {
     "name": "stderr",
     "output_type": "stream",
     "text": [
      "\r",
      " 91%|█████████ | 908/1000 [00:15<00:02, 44.60it/s, loss=0.177289]"
     ]
    },
    {
     "name": "stderr",
     "output_type": "stream",
     "text": [
      "\r",
      " 91%|█████████▏| 913/1000 [00:15<00:01, 44.72it/s, loss=0.177289]"
     ]
    },
    {
     "name": "stderr",
     "output_type": "stream",
     "text": [
      "\r",
      " 91%|█████████▏| 913/1000 [00:15<00:01, 44.72it/s, loss=0.177292]"
     ]
    },
    {
     "name": "stderr",
     "output_type": "stream",
     "text": [
      "\r",
      " 91%|█████████▏| 913/1000 [00:15<00:01, 44.72it/s, loss=0.177292]"
     ]
    },
    {
     "name": "stderr",
     "output_type": "stream",
     "text": [
      "\r",
      " 91%|█████████▏| 913/1000 [00:15<00:01, 44.72it/s, loss=0.177289]"
     ]
    },
    {
     "name": "stderr",
     "output_type": "stream",
     "text": [
      "\r",
      " 91%|█████████▏| 913/1000 [00:15<00:01, 44.72it/s, loss=0.177288]"
     ]
    },
    {
     "name": "stderr",
     "output_type": "stream",
     "text": [
      "\r",
      " 91%|█████████▏| 913/1000 [00:15<00:01, 44.72it/s, loss=0.177289]"
     ]
    },
    {
     "name": "stderr",
     "output_type": "stream",
     "text": [
      "\r",
      " 92%|█████████▏| 918/1000 [00:15<00:01, 44.63it/s, loss=0.177289]"
     ]
    },
    {
     "name": "stderr",
     "output_type": "stream",
     "text": [
      "\r",
      " 92%|█████████▏| 918/1000 [00:15<00:01, 44.63it/s, loss=0.177292]"
     ]
    },
    {
     "name": "stderr",
     "output_type": "stream",
     "text": [
      "\r",
      " 92%|█████████▏| 918/1000 [00:15<00:01, 44.63it/s, loss=0.177292]"
     ]
    },
    {
     "name": "stderr",
     "output_type": "stream",
     "text": [
      "\r",
      " 92%|█████████▏| 918/1000 [00:15<00:01, 44.63it/s, loss=0.177289]"
     ]
    },
    {
     "name": "stderr",
     "output_type": "stream",
     "text": [
      "\r",
      " 92%|█████████▏| 918/1000 [00:15<00:01, 44.63it/s, loss=0.177288]"
     ]
    },
    {
     "name": "stderr",
     "output_type": "stream",
     "text": [
      "\r",
      " 92%|█████████▏| 918/1000 [00:15<00:01, 44.63it/s, loss=0.177289]"
     ]
    },
    {
     "name": "stderr",
     "output_type": "stream",
     "text": [
      "\r",
      " 92%|█████████▏| 923/1000 [00:15<00:01, 44.47it/s, loss=0.177289]"
     ]
    },
    {
     "name": "stderr",
     "output_type": "stream",
     "text": [
      "\r",
      " 92%|█████████▏| 923/1000 [00:15<00:01, 44.47it/s, loss=0.177292]"
     ]
    },
    {
     "name": "stderr",
     "output_type": "stream",
     "text": [
      "\r",
      " 92%|█████████▏| 923/1000 [00:15<00:01, 44.47it/s, loss=0.177292]"
     ]
    },
    {
     "name": "stderr",
     "output_type": "stream",
     "text": [
      "\r",
      " 92%|█████████▏| 923/1000 [00:15<00:01, 44.47it/s, loss=0.177289]"
     ]
    },
    {
     "name": "stderr",
     "output_type": "stream",
     "text": [
      "\r",
      " 92%|█████████▏| 923/1000 [00:15<00:01, 44.47it/s, loss=0.177288]"
     ]
    },
    {
     "name": "stderr",
     "output_type": "stream",
     "text": [
      "\r",
      " 92%|█████████▏| 923/1000 [00:15<00:01, 44.47it/s, loss=0.177289]"
     ]
    },
    {
     "name": "stderr",
     "output_type": "stream",
     "text": [
      "\r",
      " 93%|█████████▎| 928/1000 [00:15<00:01, 44.02it/s, loss=0.177289]"
     ]
    },
    {
     "name": "stderr",
     "output_type": "stream",
     "text": [
      "\r",
      " 93%|█████████▎| 928/1000 [00:15<00:01, 44.02it/s, loss=0.177292]"
     ]
    },
    {
     "name": "stderr",
     "output_type": "stream",
     "text": [
      "\r",
      " 93%|█████████▎| 928/1000 [00:15<00:01, 44.02it/s, loss=0.177292]"
     ]
    },
    {
     "name": "stderr",
     "output_type": "stream",
     "text": [
      "\r",
      " 93%|█████████▎| 928/1000 [00:15<00:01, 44.02it/s, loss=0.177289]"
     ]
    },
    {
     "name": "stderr",
     "output_type": "stream",
     "text": [
      "\r",
      " 93%|█████████▎| 928/1000 [00:16<00:01, 44.02it/s, loss=0.177288]"
     ]
    },
    {
     "name": "stderr",
     "output_type": "stream",
     "text": [
      "\r",
      " 93%|█████████▎| 928/1000 [00:16<00:01, 44.02it/s, loss=0.177289]"
     ]
    },
    {
     "name": "stderr",
     "output_type": "stream",
     "text": [
      "\r",
      " 93%|█████████▎| 933/1000 [00:16<00:01, 44.16it/s, loss=0.177289]"
     ]
    },
    {
     "name": "stderr",
     "output_type": "stream",
     "text": [
      "\r",
      " 93%|█████████▎| 933/1000 [00:16<00:01, 44.16it/s, loss=0.177292]"
     ]
    },
    {
     "name": "stderr",
     "output_type": "stream",
     "text": [
      "\r",
      " 93%|█████████▎| 933/1000 [00:16<00:01, 44.16it/s, loss=0.177292]"
     ]
    },
    {
     "name": "stderr",
     "output_type": "stream",
     "text": [
      "\r",
      " 93%|█████████▎| 933/1000 [00:16<00:01, 44.16it/s, loss=0.177289]"
     ]
    },
    {
     "name": "stderr",
     "output_type": "stream",
     "text": [
      "\r",
      " 93%|█████████▎| 933/1000 [00:16<00:01, 44.16it/s, loss=0.177288]"
     ]
    },
    {
     "name": "stderr",
     "output_type": "stream",
     "text": [
      "\r",
      " 93%|█████████▎| 933/1000 [00:16<00:01, 44.16it/s, loss=0.177289]"
     ]
    },
    {
     "name": "stderr",
     "output_type": "stream",
     "text": [
      "\r",
      " 94%|█████████▍| 938/1000 [00:16<00:01, 43.77it/s, loss=0.177289]"
     ]
    },
    {
     "name": "stderr",
     "output_type": "stream",
     "text": [
      "\r",
      " 94%|█████████▍| 938/1000 [00:16<00:01, 43.77it/s, loss=0.177292]"
     ]
    },
    {
     "name": "stderr",
     "output_type": "stream",
     "text": [
      "\r",
      " 94%|█████████▍| 938/1000 [00:16<00:01, 43.77it/s, loss=0.177292]"
     ]
    },
    {
     "name": "stderr",
     "output_type": "stream",
     "text": [
      "\r",
      " 94%|█████████▍| 938/1000 [00:16<00:01, 43.77it/s, loss=0.177289]"
     ]
    },
    {
     "name": "stderr",
     "output_type": "stream",
     "text": [
      "\r",
      " 94%|█████████▍| 938/1000 [00:16<00:01, 43.77it/s, loss=0.177288]"
     ]
    },
    {
     "name": "stderr",
     "output_type": "stream",
     "text": [
      "\r",
      " 94%|█████████▍| 938/1000 [00:16<00:01, 43.77it/s, loss=0.177289]"
     ]
    },
    {
     "name": "stderr",
     "output_type": "stream",
     "text": [
      "\r",
      " 94%|█████████▍| 943/1000 [00:16<00:01, 43.70it/s, loss=0.177289]"
     ]
    },
    {
     "name": "stderr",
     "output_type": "stream",
     "text": [
      "\r",
      " 94%|█████████▍| 943/1000 [00:16<00:01, 43.70it/s, loss=0.177292]"
     ]
    },
    {
     "name": "stderr",
     "output_type": "stream",
     "text": [
      "\r",
      " 94%|█████████▍| 943/1000 [00:16<00:01, 43.70it/s, loss=0.177292]"
     ]
    },
    {
     "name": "stderr",
     "output_type": "stream",
     "text": [
      "\r",
      " 94%|█████████▍| 943/1000 [00:16<00:01, 43.70it/s, loss=0.177289]"
     ]
    },
    {
     "name": "stderr",
     "output_type": "stream",
     "text": [
      "\r",
      " 94%|█████████▍| 943/1000 [00:16<00:01, 43.70it/s, loss=0.177288]"
     ]
    },
    {
     "name": "stderr",
     "output_type": "stream",
     "text": [
      "\r",
      " 94%|█████████▍| 943/1000 [00:16<00:01, 43.70it/s, loss=0.177289]"
     ]
    },
    {
     "name": "stderr",
     "output_type": "stream",
     "text": [
      "\r",
      " 95%|█████████▍| 948/1000 [00:16<00:01, 43.72it/s, loss=0.177289]"
     ]
    },
    {
     "name": "stderr",
     "output_type": "stream",
     "text": [
      "\r",
      " 95%|█████████▍| 948/1000 [00:16<00:01, 43.72it/s, loss=0.177292]"
     ]
    },
    {
     "name": "stderr",
     "output_type": "stream",
     "text": [
      "\r",
      " 95%|█████████▍| 948/1000 [00:16<00:01, 43.72it/s, loss=0.177292]"
     ]
    },
    {
     "name": "stderr",
     "output_type": "stream",
     "text": [
      "\r",
      " 95%|█████████▍| 948/1000 [00:16<00:01, 43.72it/s, loss=0.177289]"
     ]
    },
    {
     "name": "stderr",
     "output_type": "stream",
     "text": [
      "\r",
      " 95%|█████████▍| 948/1000 [00:16<00:01, 43.72it/s, loss=0.177288]"
     ]
    },
    {
     "name": "stderr",
     "output_type": "stream",
     "text": [
      "\r",
      " 95%|█████████▍| 948/1000 [00:16<00:01, 43.72it/s, loss=0.177289]"
     ]
    },
    {
     "name": "stderr",
     "output_type": "stream",
     "text": [
      "\r",
      " 95%|█████████▌| 953/1000 [00:16<00:01, 43.80it/s, loss=0.177289]"
     ]
    },
    {
     "name": "stderr",
     "output_type": "stream",
     "text": [
      "\r",
      " 95%|█████████▌| 953/1000 [00:16<00:01, 43.80it/s, loss=0.177292]"
     ]
    },
    {
     "name": "stderr",
     "output_type": "stream",
     "text": [
      "\r",
      " 95%|█████████▌| 953/1000 [00:16<00:01, 43.80it/s, loss=0.177292]"
     ]
    },
    {
     "name": "stderr",
     "output_type": "stream",
     "text": [
      "\r",
      " 95%|█████████▌| 953/1000 [00:16<00:01, 43.80it/s, loss=0.177289]"
     ]
    },
    {
     "name": "stderr",
     "output_type": "stream",
     "text": [
      "\r",
      " 95%|█████████▌| 953/1000 [00:16<00:01, 43.80it/s, loss=0.177288]"
     ]
    },
    {
     "name": "stderr",
     "output_type": "stream",
     "text": [
      "\r",
      " 95%|█████████▌| 953/1000 [00:16<00:01, 43.80it/s, loss=0.177289]"
     ]
    },
    {
     "name": "stderr",
     "output_type": "stream",
     "text": [
      "\r",
      " 96%|█████████▌| 958/1000 [00:16<00:00, 43.59it/s, loss=0.177289]"
     ]
    },
    {
     "name": "stderr",
     "output_type": "stream",
     "text": [
      "\r",
      " 96%|█████████▌| 958/1000 [00:16<00:00, 43.59it/s, loss=0.177292]"
     ]
    },
    {
     "name": "stderr",
     "output_type": "stream",
     "text": [
      "\r",
      " 96%|█████████▌| 958/1000 [00:16<00:00, 43.59it/s, loss=0.177292]"
     ]
    },
    {
     "name": "stderr",
     "output_type": "stream",
     "text": [
      "\r",
      " 96%|█████████▌| 958/1000 [00:16<00:00, 43.59it/s, loss=0.177289]"
     ]
    },
    {
     "name": "stderr",
     "output_type": "stream",
     "text": [
      "\r",
      " 96%|█████████▌| 958/1000 [00:16<00:00, 43.59it/s, loss=0.177288]"
     ]
    },
    {
     "name": "stderr",
     "output_type": "stream",
     "text": [
      "\r",
      " 96%|█████████▌| 958/1000 [00:16<00:00, 43.59it/s, loss=0.177289]"
     ]
    },
    {
     "name": "stderr",
     "output_type": "stream",
     "text": [
      "\r",
      " 96%|█████████▋| 963/1000 [00:16<00:00, 43.13it/s, loss=0.177289]"
     ]
    },
    {
     "name": "stderr",
     "output_type": "stream",
     "text": [
      "\r",
      " 96%|█████████▋| 963/1000 [00:16<00:00, 43.13it/s, loss=0.177292]"
     ]
    },
    {
     "name": "stderr",
     "output_type": "stream",
     "text": [
      "\r",
      " 96%|█████████▋| 963/1000 [00:16<00:00, 43.13it/s, loss=0.177292]"
     ]
    },
    {
     "name": "stderr",
     "output_type": "stream",
     "text": [
      "\r",
      " 96%|█████████▋| 963/1000 [00:16<00:00, 43.13it/s, loss=0.177289]"
     ]
    },
    {
     "name": "stderr",
     "output_type": "stream",
     "text": [
      "\r",
      " 96%|█████████▋| 963/1000 [00:16<00:00, 43.13it/s, loss=0.177288]"
     ]
    },
    {
     "name": "stderr",
     "output_type": "stream",
     "text": [
      "\r",
      " 96%|█████████▋| 963/1000 [00:16<00:00, 43.13it/s, loss=0.177289]"
     ]
    },
    {
     "name": "stderr",
     "output_type": "stream",
     "text": [
      "\r",
      " 97%|█████████▋| 968/1000 [00:16<00:00, 42.96it/s, loss=0.177289]"
     ]
    },
    {
     "name": "stderr",
     "output_type": "stream",
     "text": [
      "\r",
      " 97%|█████████▋| 968/1000 [00:16<00:00, 42.96it/s, loss=0.177292]"
     ]
    },
    {
     "name": "stderr",
     "output_type": "stream",
     "text": [
      "\r",
      " 97%|█████████▋| 968/1000 [00:16<00:00, 42.96it/s, loss=0.177292]"
     ]
    },
    {
     "name": "stderr",
     "output_type": "stream",
     "text": [
      "\r",
      " 97%|█████████▋| 968/1000 [00:16<00:00, 42.96it/s, loss=0.177289]"
     ]
    },
    {
     "name": "stderr",
     "output_type": "stream",
     "text": [
      "\r",
      " 97%|█████████▋| 968/1000 [00:16<00:00, 42.96it/s, loss=0.177288]"
     ]
    },
    {
     "name": "stderr",
     "output_type": "stream",
     "text": [
      "\r",
      " 97%|█████████▋| 968/1000 [00:16<00:00, 42.96it/s, loss=0.177289]"
     ]
    },
    {
     "name": "stderr",
     "output_type": "stream",
     "text": [
      "\r",
      " 97%|█████████▋| 973/1000 [00:16<00:00, 42.86it/s, loss=0.177289]"
     ]
    },
    {
     "name": "stderr",
     "output_type": "stream",
     "text": [
      "\r",
      " 97%|█████████▋| 973/1000 [00:16<00:00, 42.86it/s, loss=0.177292]"
     ]
    },
    {
     "name": "stderr",
     "output_type": "stream",
     "text": [
      "\r",
      " 97%|█████████▋| 973/1000 [00:17<00:00, 42.86it/s, loss=0.177292]"
     ]
    },
    {
     "name": "stderr",
     "output_type": "stream",
     "text": [
      "\r",
      " 97%|█████████▋| 973/1000 [00:17<00:00, 42.86it/s, loss=0.177289]"
     ]
    },
    {
     "name": "stderr",
     "output_type": "stream",
     "text": [
      "\r",
      " 97%|█████████▋| 973/1000 [00:17<00:00, 42.86it/s, loss=0.177288]"
     ]
    },
    {
     "name": "stderr",
     "output_type": "stream",
     "text": [
      "\r",
      " 97%|█████████▋| 973/1000 [00:17<00:00, 42.86it/s, loss=0.177289]"
     ]
    },
    {
     "name": "stderr",
     "output_type": "stream",
     "text": [
      "\r",
      " 98%|█████████▊| 978/1000 [00:17<00:00, 42.56it/s, loss=0.177289]"
     ]
    },
    {
     "name": "stderr",
     "output_type": "stream",
     "text": [
      "\r",
      " 98%|█████████▊| 978/1000 [00:17<00:00, 42.56it/s, loss=0.177292]"
     ]
    },
    {
     "name": "stderr",
     "output_type": "stream",
     "text": [
      "\r",
      " 98%|█████████▊| 978/1000 [00:17<00:00, 42.56it/s, loss=0.177292]"
     ]
    },
    {
     "name": "stderr",
     "output_type": "stream",
     "text": [
      "\r",
      " 98%|█████████▊| 978/1000 [00:17<00:00, 42.56it/s, loss=0.177289]"
     ]
    },
    {
     "name": "stderr",
     "output_type": "stream",
     "text": [
      "\r",
      " 98%|█████████▊| 978/1000 [00:17<00:00, 42.56it/s, loss=0.177288]"
     ]
    },
    {
     "name": "stderr",
     "output_type": "stream",
     "text": [
      "\r",
      " 98%|█████████▊| 978/1000 [00:17<00:00, 42.56it/s, loss=0.177289]"
     ]
    },
    {
     "name": "stderr",
     "output_type": "stream",
     "text": [
      "\r",
      " 98%|█████████▊| 983/1000 [00:17<00:00, 42.70it/s, loss=0.177289]"
     ]
    },
    {
     "name": "stderr",
     "output_type": "stream",
     "text": [
      "\r",
      " 98%|█████████▊| 983/1000 [00:17<00:00, 42.70it/s, loss=0.177292]"
     ]
    },
    {
     "name": "stderr",
     "output_type": "stream",
     "text": [
      "\r",
      " 98%|█████████▊| 983/1000 [00:17<00:00, 42.70it/s, loss=0.177292]"
     ]
    },
    {
     "name": "stderr",
     "output_type": "stream",
     "text": [
      "\r",
      " 98%|█████████▊| 983/1000 [00:17<00:00, 42.70it/s, loss=0.177289]"
     ]
    },
    {
     "name": "stderr",
     "output_type": "stream",
     "text": [
      "\r",
      " 98%|█████████▊| 983/1000 [00:17<00:00, 42.70it/s, loss=0.177288]"
     ]
    },
    {
     "name": "stderr",
     "output_type": "stream",
     "text": [
      "\r",
      " 98%|█████████▊| 983/1000 [00:17<00:00, 42.70it/s, loss=0.177289]"
     ]
    },
    {
     "name": "stderr",
     "output_type": "stream",
     "text": [
      "\r",
      " 99%|█████████▉| 988/1000 [00:17<00:00, 42.17it/s, loss=0.177289]"
     ]
    },
    {
     "name": "stderr",
     "output_type": "stream",
     "text": [
      "\r",
      " 99%|█████████▉| 988/1000 [00:17<00:00, 42.17it/s, loss=0.177292]"
     ]
    },
    {
     "name": "stderr",
     "output_type": "stream",
     "text": [
      "\r",
      " 99%|█████████▉| 988/1000 [00:17<00:00, 42.17it/s, loss=0.177292]"
     ]
    },
    {
     "name": "stderr",
     "output_type": "stream",
     "text": [
      "\r",
      " 99%|█████████▉| 988/1000 [00:17<00:00, 42.17it/s, loss=0.177289]"
     ]
    },
    {
     "name": "stderr",
     "output_type": "stream",
     "text": [
      "\r",
      " 99%|█████████▉| 988/1000 [00:17<00:00, 42.17it/s, loss=0.177288]"
     ]
    },
    {
     "name": "stderr",
     "output_type": "stream",
     "text": [
      "\r",
      " 99%|█████████▉| 988/1000 [00:17<00:00, 42.17it/s, loss=0.177289]"
     ]
    },
    {
     "name": "stderr",
     "output_type": "stream",
     "text": [
      "\r",
      " 99%|█████████▉| 993/1000 [00:17<00:00, 41.77it/s, loss=0.177289]"
     ]
    },
    {
     "name": "stderr",
     "output_type": "stream",
     "text": [
      "\r",
      " 99%|█████████▉| 993/1000 [00:17<00:00, 41.77it/s, loss=0.177292]"
     ]
    },
    {
     "name": "stderr",
     "output_type": "stream",
     "text": [
      "\r",
      " 99%|█████████▉| 993/1000 [00:17<00:00, 41.77it/s, loss=0.177292]"
     ]
    },
    {
     "name": "stderr",
     "output_type": "stream",
     "text": [
      "\r",
      " 99%|█████████▉| 993/1000 [00:17<00:00, 41.77it/s, loss=0.177289]"
     ]
    },
    {
     "name": "stderr",
     "output_type": "stream",
     "text": [
      "\r",
      " 99%|█████████▉| 993/1000 [00:17<00:00, 41.77it/s, loss=0.177288]"
     ]
    },
    {
     "name": "stderr",
     "output_type": "stream",
     "text": [
      "\r",
      " 99%|█████████▉| 993/1000 [00:17<00:00, 41.77it/s, loss=0.177289]"
     ]
    },
    {
     "name": "stderr",
     "output_type": "stream",
     "text": [
      "\r",
      "100%|█████████▉| 998/1000 [00:17<00:00, 41.75it/s, loss=0.177289]"
     ]
    },
    {
     "name": "stderr",
     "output_type": "stream",
     "text": [
      "\r",
      "100%|█████████▉| 998/1000 [00:17<00:00, 41.75it/s, loss=0.177292]"
     ]
    },
    {
     "name": "stderr",
     "output_type": "stream",
     "text": [
      "\r",
      "100%|█████████▉| 998/1000 [00:17<00:00, 41.75it/s, loss=0.177292]"
     ]
    },
    {
     "name": "stderr",
     "output_type": "stream",
     "text": [
      "\r",
      "100%|██████████| 1000/1000 [00:17<00:00, 56.79it/s, loss=0.177292]"
     ]
    },
    {
     "name": "stderr",
     "output_type": "stream",
     "text": [
      "\n"
     ]
    }
   ],
   "source": [
    "range_ = tqdm.trange(1000)\n",
    "for step in range_:\n",
    "    lossvalue, optim_state = train_step(step, optim_state)\n",
    "    range_.set_postfix(loss=f\"{lossvalue:.6f}\")"
   ]
  },
  {
   "cell_type": "code",
   "execution_count": 51,
   "id": "3c684fa0-8889-40f1-9da4-12b1310ecee1",
   "metadata": {
    "execution": {
     "iopub.execute_input": "2022-03-01T18:44:07.949084Z",
     "iopub.status.busy": "2022-03-01T18:44:07.948517Z",
     "iopub.status.idle": "2022-03-01T18:44:07.954078Z",
     "shell.execute_reply": "2022-03-01T18:44:07.953497Z"
    }
   },
   "outputs": [
    {
     "data": {
      "text/plain": [
       "(0.29557, 0.01217, 0.11, 0.48, 1.2, 5.0)"
      ]
     },
     "execution_count": 51,
     "metadata": {},
     "output_type": "execute_result"
    }
   ],
   "source": [
    "coupling0_fit, dn_fit, dn1_fit, dn2_fit, dk1_fit, dk2_fit = optim_params(optim_state)\n",
    "coupling0_fit, dn_fit, dn1_fit, dn2_fit, dk1_fit, dk2_fit"
   ]
  },
  {
   "cell_type": "code",
   "execution_count": 52,
   "id": "053b28f3-e2fe-4f48-9eb7-49faf4040f0b",
   "metadata": {
    "execution": {
     "iopub.execute_input": "2022-03-01T18:44:07.957049Z",
     "iopub.status.busy": "2022-03-01T18:44:07.956497Z",
     "iopub.status.idle": "2022-03-01T18:44:08.145044Z",
     "shell.execute_reply": "2022-03-01T18:44:08.144473Z"
    }
   },
   "outputs": [
    {
     "data": {
      "text/plain": [
       "<matplotlib.legend.Legend at 0x7f8a843acee0>"
      ]
     },
     "execution_count": 52,
     "metadata": {},
     "output_type": "execute_result"
    },
    {
     "data": {
      "image/png": "[encoded data removed]",
      "text/plain": [
       "<Figure size 432x288 with 1 Axes>"
      ]
     },
     "metadata": {
      "needs_background": "light"
     },
     "output_type": "display_data"
    }
   ],
   "source": [
    "wl = jnp.linspace(1.5, 1.60, 1000)\n",
    "coupler_fdtd = gs.read.sdict_from_csv(filepath=gf.config.sparameters_path / 'coupler' / 'coupler_G224n_L20_S220.csv',wl=wl, xkey='wavelength_nm', prefix='S', xunits=1e-3)\n",
    "S = coupler_fdtd\n",
    "T_fdtd = abs(S['o1', 'o3'])**2\n",
    "S = gf.simulation.sax.models.coupler(dn=dn_fit,\n",
    "                                     length=20,\n",
    "                                     coupling0=coupling0_fit,\n",
    "                                     dn1=dn1_fit,\n",
    "                                     dn2=dn2_fit,\n",
    "                                     dk1=dk1_fit,\n",
    "                                     dk2=dk2_fit,\n",
    "                                     wl=wl)\n",
    "T_model = abs(S['o1', 'o4'])**2\n",
    "K_model = abs(S['o1', 'o3'])**2\n",
    "\n",
    "plt.plot(wl, T_fdtd, label='fdtd', c='b')\n",
    "plt.plot(wl, T_model, label='fit', c='b', ls='-.')\n",
    "plt.plot(wl, K_fdtd, label='fdtd', c='r')\n",
    "plt.plot(wl, K_model, label='fit', c='r', ls='-.')\n",
    "plt.legend()"
   ]
  },
  {
   "cell_type": "markdown",
   "id": "6583050a-c292-4503-a16b-89209b895f42",
   "metadata": {},
   "source": [
    "As you can see trying to fit many parameters do not give you a better fit,\n",
    "\n",
    "you have to make sure you fit the right parameters, in this case `dn1`"
   ]
  },
  {
   "cell_type": "code",
   "execution_count": 53,
   "id": "41365d0e-f920-4867-8237-b64445e447d2",
   "metadata": {
    "execution": {
     "iopub.execute_input": "2022-03-01T18:44:08.148531Z",
     "iopub.status.busy": "2022-03-01T18:44:08.148150Z",
     "iopub.status.idle": "2022-03-01T18:44:08.343348Z",
     "shell.execute_reply": "2022-03-01T18:44:08.342793Z"
    }
   },
   "outputs": [
    {
     "data": {
      "text/plain": [
       "<matplotlib.legend.Legend at 0x7f8a84324b80>"
      ]
     },
     "execution_count": 53,
     "metadata": {},
     "output_type": "execute_result"
    },
    {
     "data": {
      "image/png": "[encoded data removed]",
      "text/plain": [
       "<Figure size 432x288 with 1 Axes>"
      ]
     },
     "metadata": {
      "needs_background": "light"
     },
     "output_type": "display_data"
    }
   ],
   "source": [
    "wl = jnp.linspace(1.50, 1.60, 1000)\n",
    "S = gf.simulation.sax.models.coupler(dn=dn_fit,\n",
    "                                     length=20,\n",
    "                                     coupling0=coupling0_fit,\n",
    "                                     dn1=dn1_fit-0.045,\n",
    "                                     dn2=dn2_fit,\n",
    "                                     dk1=dk1_fit,\n",
    "                                     dk2=dk2_fit,\n",
    "                                     wl=wl)\n",
    "T_model = abs(S['o1', 'o4'])**2\n",
    "K_model = abs(S['o1', 'o3'])**2\n",
    "\n",
    "plt.plot(wl, T_fdtd, label='fdtd', c='b')\n",
    "plt.plot(wl, T_model, label='fit', c='b', ls='-.')\n",
    "plt.plot(wl, K_fdtd, label='fdtd', c='r')\n",
    "plt.plot(wl, K_model, label='fit', c='r', ls='-.')\n",
    "plt.legend()"
   ]
  },
  {
   "cell_type": "code",
   "execution_count": 54,
   "id": "f06d3cb2-8a78-47ae-a28d-ea051fc34978",
   "metadata": {
    "execution": {
     "iopub.execute_input": "2022-03-01T18:44:08.346819Z",
     "iopub.status.busy": "2022-03-01T18:44:08.346393Z",
     "iopub.status.idle": "2022-03-01T18:44:09.339681Z",
     "shell.execute_reply": "2022-03-01T18:44:09.339042Z"
    }
   },
   "outputs": [
    {
     "name": "stderr",
     "output_type": "stream",
     "text": [
      "\r",
      "  0%|          | 0/300 [00:00<?, ?it/s]"
     ]
    },
    {
     "name": "stderr",
     "output_type": "stream",
     "text": [
      "\r",
      "  0%|          | 0/300 [00:00<?, ?it/s, loss=0.177414]"
     ]
    },
    {
     "name": "stderr",
     "output_type": "stream",
     "text": [
      "\r",
      "  0%|          | 1/300 [00:00<01:14,  4.03it/s, loss=0.177414]"
     ]
    },
    {
     "name": "stderr",
     "output_type": "stream",
     "text": [
      "\r",
      "  0%|          | 1/300 [00:00<01:14,  4.03it/s, loss=0.177414]"
     ]
    },
    {
     "name": "stderr",
     "output_type": "stream",
     "text": [
      "\r",
      "  1%|          | 2/300 [00:00<01:13,  4.08it/s, loss=0.177414]"
     ]
    },
    {
     "name": "stderr",
     "output_type": "stream",
     "text": [
      "\r",
      "  1%|          | 2/300 [00:00<01:13,  4.08it/s, loss=0.177414]"
     ]
    },
    {
     "name": "stderr",
     "output_type": "stream",
     "text": [
      "\r",
      "  1%|          | 2/300 [00:00<01:13,  4.08it/s, loss=0.177414]"
     ]
    },
    {
     "name": "stderr",
     "output_type": "stream",
     "text": [
      "\r",
      "  1%|          | 2/300 [00:00<01:13,  4.08it/s, loss=0.177414]"
     ]
    },
    {
     "name": "stderr",
     "output_type": "stream",
     "text": [
      "\r",
      "  1%|          | 2/300 [00:00<01:13,  4.08it/s, loss=0.177414]"
     ]
    },
    {
     "name": "stderr",
     "output_type": "stream",
     "text": [
      "\r",
      "  1%|          | 2/300 [00:00<01:13,  4.08it/s, loss=0.177414]"
     ]
    },
    {
     "name": "stderr",
     "output_type": "stream",
     "text": [
      "\r",
      "  1%|          | 2/300 [00:00<01:13,  4.08it/s, loss=0.177414]"
     ]
    },
    {
     "name": "stderr",
     "output_type": "stream",
     "text": [
      "\r",
      "  1%|          | 2/300 [00:00<01:13,  4.08it/s, loss=0.177414]"
     ]
    },
    {
     "name": "stderr",
     "output_type": "stream",
     "text": [
      "\r",
      "  1%|          | 2/300 [00:00<01:13,  4.08it/s, loss=0.177414]"
     ]
    },
    {
     "name": "stderr",
     "output_type": "stream",
     "text": [
      "\r",
      "  1%|          | 2/300 [00:00<01:13,  4.08it/s, loss=0.177414]"
     ]
    },
    {
     "name": "stderr",
     "output_type": "stream",
     "text": [
      "\r",
      "  1%|          | 2/300 [00:00<01:13,  4.08it/s, loss=0.177414]"
     ]
    },
    {
     "name": "stderr",
     "output_type": "stream",
     "text": [
      "\r",
      "  1%|          | 2/300 [00:00<01:13,  4.08it/s, loss=0.177414]"
     ]
    },
    {
     "name": "stderr",
     "output_type": "stream",
     "text": [
      "\r",
      "  1%|          | 2/300 [00:00<01:13,  4.08it/s, loss=0.177414]"
     ]
    },
    {
     "name": "stderr",
     "output_type": "stream",
     "text": [
      "\r",
      "  1%|          | 2/300 [00:00<01:13,  4.08it/s, loss=0.177414]"
     ]
    },
    {
     "name": "stderr",
     "output_type": "stream",
     "text": [
      "\r",
      "  1%|          | 2/300 [00:00<01:13,  4.08it/s, loss=0.177414]"
     ]
    },
    {
     "name": "stderr",
     "output_type": "stream",
     "text": [
      "\r",
      "  1%|          | 2/300 [00:00<01:13,  4.08it/s, loss=0.177414]"
     ]
    },
    {
     "name": "stderr",
     "output_type": "stream",
     "text": [
      "\r",
      "  1%|          | 2/300 [00:00<01:13,  4.08it/s, loss=0.177414]"
     ]
    },
    {
     "name": "stderr",
     "output_type": "stream",
     "text": [
      "\r",
      "  1%|          | 2/300 [00:00<01:13,  4.08it/s, loss=0.177414]"
     ]
    },
    {
     "name": "stderr",
     "output_type": "stream",
     "text": [
      "\r",
      "  1%|          | 2/300 [00:00<01:13,  4.08it/s, loss=0.177414]"
     ]
    },
    {
     "name": "stderr",
     "output_type": "stream",
     "text": [
      "\r",
      "  1%|          | 2/300 [00:00<01:13,  4.08it/s, loss=0.177414]"
     ]
    },
    {
     "name": "stderr",
     "output_type": "stream",
     "text": [
      "\r",
      "  1%|          | 2/300 [00:00<01:13,  4.08it/s, loss=0.177414]"
     ]
    },
    {
     "name": "stderr",
     "output_type": "stream",
     "text": [
      "\r",
      "  1%|          | 2/300 [00:00<01:13,  4.08it/s, loss=0.177414]"
     ]
    },
    {
     "name": "stderr",
     "output_type": "stream",
     "text": [
      "\r",
      "  1%|          | 2/300 [00:00<01:13,  4.08it/s, loss=0.177414]"
     ]
    },
    {
     "name": "stderr",
     "output_type": "stream",
     "text": [
      "\r",
      "  1%|          | 2/300 [00:00<01:13,  4.08it/s, loss=0.177414]"
     ]
    },
    {
     "name": "stderr",
     "output_type": "stream",
     "text": [
      "\r",
      "  1%|          | 2/300 [00:00<01:13,  4.08it/s, loss=0.177414]"
     ]
    },
    {
     "name": "stderr",
     "output_type": "stream",
     "text": [
      "\r",
      "  1%|          | 2/300 [00:00<01:13,  4.08it/s, loss=0.177414]"
     ]
    },
    {
     "name": "stderr",
     "output_type": "stream",
     "text": [
      "\r",
      "  1%|          | 2/300 [00:00<01:13,  4.08it/s, loss=0.177414]"
     ]
    },
    {
     "name": "stderr",
     "output_type": "stream",
     "text": [
      "\r",
      "  1%|          | 2/300 [00:00<01:13,  4.08it/s, loss=0.177414]"
     ]
    },
    {
     "name": "stderr",
     "output_type": "stream",
     "text": [
      "\r",
      "  1%|          | 2/300 [00:00<01:13,  4.08it/s, loss=0.177414]"
     ]
    },
    {
     "name": "stderr",
     "output_type": "stream",
     "text": [
      "\r",
      "  1%|          | 2/300 [00:00<01:13,  4.08it/s, loss=0.177414]"
     ]
    },
    {
     "name": "stderr",
     "output_type": "stream",
     "text": [
      "\r",
      "  1%|          | 2/300 [00:00<01:13,  4.08it/s, loss=0.177414]"
     ]
    },
    {
     "name": "stderr",
     "output_type": "stream",
     "text": [
      "\r",
      "  1%|          | 2/300 [00:00<01:13,  4.08it/s, loss=0.177414]"
     ]
    },
    {
     "name": "stderr",
     "output_type": "stream",
     "text": [
      "\r",
      "  1%|          | 2/300 [00:00<01:13,  4.08it/s, loss=0.177414]"
     ]
    },
    {
     "name": "stderr",
     "output_type": "stream",
     "text": [
      "\r",
      "  1%|          | 2/300 [00:00<01:13,  4.08it/s, loss=0.177414]"
     ]
    },
    {
     "name": "stderr",
     "output_type": "stream",
     "text": [
      "\r",
      "  1%|          | 2/300 [00:00<01:13,  4.08it/s, loss=0.177414]"
     ]
    },
    {
     "name": "stderr",
     "output_type": "stream",
     "text": [
      "\r",
      "  1%|          | 2/300 [00:00<01:13,  4.08it/s, loss=0.177414]"
     ]
    },
    {
     "name": "stderr",
     "output_type": "stream",
     "text": [
      "\r",
      "  1%|          | 2/300 [00:00<01:13,  4.08it/s, loss=0.177414]"
     ]
    },
    {
     "name": "stderr",
     "output_type": "stream",
     "text": [
      "\r",
      "  1%|          | 2/300 [00:00<01:13,  4.08it/s, loss=0.177414]"
     ]
    },
    {
     "name": "stderr",
     "output_type": "stream",
     "text": [
      "\r",
      "  1%|          | 2/300 [00:00<01:13,  4.08it/s, loss=0.177414]"
     ]
    },
    {
     "name": "stderr",
     "output_type": "stream",
     "text": [
      "\r",
      "  1%|          | 2/300 [00:00<01:13,  4.08it/s, loss=0.177414]"
     ]
    },
    {
     "name": "stderr",
     "output_type": "stream",
     "text": [
      "\r",
      "  1%|          | 2/300 [00:00<01:13,  4.08it/s, loss=0.177414]"
     ]
    },
    {
     "name": "stderr",
     "output_type": "stream",
     "text": [
      "\r",
      "  1%|          | 2/300 [00:00<01:13,  4.08it/s, loss=0.177414]"
     ]
    },
    {
     "name": "stderr",
     "output_type": "stream",
     "text": [
      "\r",
      "  1%|          | 2/300 [00:00<01:13,  4.08it/s, loss=0.177414]"
     ]
    },
    {
     "name": "stderr",
     "output_type": "stream",
     "text": [
      "\r",
      "  1%|          | 2/300 [00:00<01:13,  4.08it/s, loss=0.177414]"
     ]
    },
    {
     "name": "stderr",
     "output_type": "stream",
     "text": [
      "\r",
      "  1%|          | 2/300 [00:00<01:13,  4.08it/s, loss=0.177414]"
     ]
    },
    {
     "name": "stderr",
     "output_type": "stream",
     "text": [
      "\r",
      "  1%|          | 2/300 [00:00<01:13,  4.08it/s, loss=0.177414]"
     ]
    },
    {
     "name": "stderr",
     "output_type": "stream",
     "text": [
      "\r",
      "  1%|          | 2/300 [00:00<01:13,  4.08it/s, loss=0.177414]"
     ]
    },
    {
     "name": "stderr",
     "output_type": "stream",
     "text": [
      "\r",
      "  1%|          | 2/300 [00:00<01:13,  4.08it/s, loss=0.177414]"
     ]
    },
    {
     "name": "stderr",
     "output_type": "stream",
     "text": [
      "\r",
      "  1%|          | 2/300 [00:00<01:13,  4.08it/s, loss=0.177414]"
     ]
    },
    {
     "name": "stderr",
     "output_type": "stream",
     "text": [
      "\r",
      "  1%|          | 2/300 [00:00<01:13,  4.08it/s, loss=0.177414]"
     ]
    },
    {
     "name": "stderr",
     "output_type": "stream",
     "text": [
      "\r",
      "  1%|          | 2/300 [00:00<01:13,  4.08it/s, loss=0.177414]"
     ]
    },
    {
     "name": "stderr",
     "output_type": "stream",
     "text": [
      "\r",
      "  1%|          | 2/300 [00:00<01:13,  4.08it/s, loss=0.177414]"
     ]
    },
    {
     "name": "stderr",
     "output_type": "stream",
     "text": [
      "\r",
      "  1%|          | 2/300 [00:00<01:13,  4.08it/s, loss=0.177414]"
     ]
    },
    {
     "name": "stderr",
     "output_type": "stream",
     "text": [
      "\r",
      "  1%|          | 2/300 [00:00<01:13,  4.08it/s, loss=0.177414]"
     ]
    },
    {
     "name": "stderr",
     "output_type": "stream",
     "text": [
      "\r",
      "  1%|          | 2/300 [00:00<01:13,  4.08it/s, loss=0.177414]"
     ]
    },
    {
     "name": "stderr",
     "output_type": "stream",
     "text": [
      "\r",
      "  1%|          | 2/300 [00:00<01:13,  4.08it/s, loss=0.177414]"
     ]
    },
    {
     "name": "stderr",
     "output_type": "stream",
     "text": [
      "\r",
      "  1%|          | 2/300 [00:00<01:13,  4.08it/s, loss=0.177414]"
     ]
    },
    {
     "name": "stderr",
     "output_type": "stream",
     "text": [
      "\r",
      " 19%|█▉        | 58/300 [00:00<00:01, 145.89it/s, loss=0.177414]"
     ]
    },
    {
     "name": "stderr",
     "output_type": "stream",
     "text": [
      "\r",
      " 19%|█▉        | 58/300 [00:00<00:01, 145.89it/s, loss=0.177414]"
     ]
    },
    {
     "name": "stderr",
     "output_type": "stream",
     "text": [
      "\r",
      " 19%|█▉        | 58/300 [00:00<00:01, 145.89it/s, loss=0.177414]"
     ]
    },
    {
     "name": "stderr",
     "output_type": "stream",
     "text": [
      "\r",
      " 19%|█▉        | 58/300 [00:00<00:01, 145.89it/s, loss=0.177414]"
     ]
    },
    {
     "name": "stderr",
     "output_type": "stream",
     "text": [
      "\r",
      " 19%|█▉        | 58/300 [00:00<00:01, 145.89it/s, loss=0.177414]"
     ]
    },
    {
     "name": "stderr",
     "output_type": "stream",
     "text": [
      "\r",
      " 19%|█▉        | 58/300 [00:00<00:01, 145.89it/s, loss=0.177414]"
     ]
    },
    {
     "name": "stderr",
     "output_type": "stream",
     "text": [
      "\r",
      " 19%|█▉        | 58/300 [00:00<00:01, 145.89it/s, loss=0.177414]"
     ]
    },
    {
     "name": "stderr",
     "output_type": "stream",
     "text": [
      "\r",
      " 19%|█▉        | 58/300 [00:00<00:01, 145.89it/s, loss=0.177414]"
     ]
    },
    {
     "name": "stderr",
     "output_type": "stream",
     "text": [
      "\r",
      " 19%|█▉        | 58/300 [00:00<00:01, 145.89it/s, loss=0.177414]"
     ]
    },
    {
     "name": "stderr",
     "output_type": "stream",
     "text": [
      "\r",
      " 19%|█▉        | 58/300 [00:00<00:01, 145.89it/s, loss=0.177414]"
     ]
    },
    {
     "name": "stderr",
     "output_type": "stream",
     "text": [
      "\r",
      " 19%|█▉        | 58/300 [00:00<00:01, 145.89it/s, loss=0.177414]"
     ]
    },
    {
     "name": "stderr",
     "output_type": "stream",
     "text": [
      "\r",
      " 19%|█▉        | 58/300 [00:00<00:01, 145.89it/s, loss=0.177414]"
     ]
    },
    {
     "name": "stderr",
     "output_type": "stream",
     "text": [
      "\r",
      " 19%|█▉        | 58/300 [00:00<00:01, 145.89it/s, loss=0.177414]"
     ]
    },
    {
     "name": "stderr",
     "output_type": "stream",
     "text": [
      "\r",
      " 19%|█▉        | 58/300 [00:00<00:01, 145.89it/s, loss=0.177414]"
     ]
    },
    {
     "name": "stderr",
     "output_type": "stream",
     "text": [
      "\r",
      " 19%|█▉        | 58/300 [00:00<00:01, 145.89it/s, loss=0.177414]"
     ]
    },
    {
     "name": "stderr",
     "output_type": "stream",
     "text": [
      "\r",
      " 19%|█▉        | 58/300 [00:00<00:01, 145.89it/s, loss=0.177414]"
     ]
    },
    {
     "name": "stderr",
     "output_type": "stream",
     "text": [
      "\r",
      " 19%|█▉        | 58/300 [00:00<00:01, 145.89it/s, loss=0.177414]"
     ]
    },
    {
     "name": "stderr",
     "output_type": "stream",
     "text": [
      "\r",
      " 19%|█▉        | 58/300 [00:00<00:01, 145.89it/s, loss=0.177414]"
     ]
    },
    {
     "name": "stderr",
     "output_type": "stream",
     "text": [
      "\r",
      " 19%|█▉        | 58/300 [00:00<00:01, 145.89it/s, loss=0.177414]"
     ]
    },
    {
     "name": "stderr",
     "output_type": "stream",
     "text": [
      "\r",
      " 19%|█▉        | 58/300 [00:00<00:01, 145.89it/s, loss=0.177414]"
     ]
    },
    {
     "name": "stderr",
     "output_type": "stream",
     "text": [
      "\r",
      " 19%|█▉        | 58/300 [00:00<00:01, 145.89it/s, loss=0.177414]"
     ]
    },
    {
     "name": "stderr",
     "output_type": "stream",
     "text": [
      "\r",
      " 19%|█▉        | 58/300 [00:00<00:01, 145.89it/s, loss=0.177414]"
     ]
    },
    {
     "name": "stderr",
     "output_type": "stream",
     "text": [
      "\r",
      " 19%|█▉        | 58/300 [00:00<00:01, 145.89it/s, loss=0.177414]"
     ]
    },
    {
     "name": "stderr",
     "output_type": "stream",
     "text": [
      "\r",
      " 19%|█▉        | 58/300 [00:00<00:01, 145.89it/s, loss=0.177414]"
     ]
    },
    {
     "name": "stderr",
     "output_type": "stream",
     "text": [
      "\r",
      " 19%|█▉        | 58/300 [00:00<00:01, 145.89it/s, loss=0.177414]"
     ]
    },
    {
     "name": "stderr",
     "output_type": "stream",
     "text": [
      "\r",
      " 19%|█▉        | 58/300 [00:00<00:01, 145.89it/s, loss=0.177414]"
     ]
    },
    {
     "name": "stderr",
     "output_type": "stream",
     "text": [
      "\r",
      " 19%|█▉        | 58/300 [00:00<00:01, 145.89it/s, loss=0.177414]"
     ]
    },
    {
     "name": "stderr",
     "output_type": "stream",
     "text": [
      "\r",
      " 19%|█▉        | 58/300 [00:00<00:01, 145.89it/s, loss=0.177414]"
     ]
    },
    {
     "name": "stderr",
     "output_type": "stream",
     "text": [
      "\r",
      " 19%|█▉        | 58/300 [00:00<00:01, 145.89it/s, loss=0.177414]"
     ]
    },
    {
     "name": "stderr",
     "output_type": "stream",
     "text": [
      "\r",
      " 19%|█▉        | 58/300 [00:00<00:01, 145.89it/s, loss=0.177414]"
     ]
    },
    {
     "name": "stderr",
     "output_type": "stream",
     "text": [
      "\r",
      " 19%|█▉        | 58/300 [00:00<00:01, 145.89it/s, loss=0.177414]"
     ]
    },
    {
     "name": "stderr",
     "output_type": "stream",
     "text": [
      "\r",
      " 19%|█▉        | 58/300 [00:00<00:01, 145.89it/s, loss=0.177414]"
     ]
    },
    {
     "name": "stderr",
     "output_type": "stream",
     "text": [
      "\r",
      " 19%|█▉        | 58/300 [00:00<00:01, 145.89it/s, loss=0.177414]"
     ]
    },
    {
     "name": "stderr",
     "output_type": "stream",
     "text": [
      "\r",
      " 19%|█▉        | 58/300 [00:00<00:01, 145.89it/s, loss=0.177414]"
     ]
    },
    {
     "name": "stderr",
     "output_type": "stream",
     "text": [
      "\r",
      " 19%|█▉        | 58/300 [00:00<00:01, 145.89it/s, loss=0.177414]"
     ]
    },
    {
     "name": "stderr",
     "output_type": "stream",
     "text": [
      "\r",
      " 19%|█▉        | 58/300 [00:00<00:01, 145.89it/s, loss=0.177414]"
     ]
    },
    {
     "name": "stderr",
     "output_type": "stream",
     "text": [
      "\r",
      " 19%|█▉        | 58/300 [00:00<00:01, 145.89it/s, loss=0.177414]"
     ]
    },
    {
     "name": "stderr",
     "output_type": "stream",
     "text": [
      "\r",
      " 19%|█▉        | 58/300 [00:00<00:01, 145.89it/s, loss=0.177414]"
     ]
    },
    {
     "name": "stderr",
     "output_type": "stream",
     "text": [
      "\r",
      " 19%|█▉        | 58/300 [00:00<00:01, 145.89it/s, loss=0.177414]"
     ]
    },
    {
     "name": "stderr",
     "output_type": "stream",
     "text": [
      "\r",
      " 19%|█▉        | 58/300 [00:00<00:01, 145.89it/s, loss=0.177414]"
     ]
    },
    {
     "name": "stderr",
     "output_type": "stream",
     "text": [
      "\r",
      " 19%|█▉        | 58/300 [00:00<00:01, 145.89it/s, loss=0.177414]"
     ]
    },
    {
     "name": "stderr",
     "output_type": "stream",
     "text": [
      "\r",
      " 19%|█▉        | 58/300 [00:00<00:01, 145.89it/s, loss=0.177414]"
     ]
    },
    {
     "name": "stderr",
     "output_type": "stream",
     "text": [
      "\r",
      " 19%|█▉        | 58/300 [00:00<00:01, 145.89it/s, loss=0.177414]"
     ]
    },
    {
     "name": "stderr",
     "output_type": "stream",
     "text": [
      "\r",
      " 19%|█▉        | 58/300 [00:00<00:01, 145.89it/s, loss=0.177414]"
     ]
    },
    {
     "name": "stderr",
     "output_type": "stream",
     "text": [
      "\r",
      " 19%|█▉        | 58/300 [00:00<00:01, 145.89it/s, loss=0.177414]"
     ]
    },
    {
     "name": "stderr",
     "output_type": "stream",
     "text": [
      "\r",
      " 19%|█▉        | 58/300 [00:00<00:01, 145.89it/s, loss=0.177414]"
     ]
    },
    {
     "name": "stderr",
     "output_type": "stream",
     "text": [
      "\r",
      " 19%|█▉        | 58/300 [00:00<00:01, 145.89it/s, loss=0.177414]"
     ]
    },
    {
     "name": "stderr",
     "output_type": "stream",
     "text": [
      "\r",
      " 19%|█▉        | 58/300 [00:00<00:01, 145.89it/s, loss=0.177414]"
     ]
    },
    {
     "name": "stderr",
     "output_type": "stream",
     "text": [
      "\r",
      " 19%|█▉        | 58/300 [00:00<00:01, 145.89it/s, loss=0.177414]"
     ]
    },
    {
     "name": "stderr",
     "output_type": "stream",
     "text": [
      "\r",
      " 19%|█▉        | 58/300 [00:00<00:01, 145.89it/s, loss=0.177414]"
     ]
    },
    {
     "name": "stderr",
     "output_type": "stream",
     "text": [
      "\r",
      " 19%|█▉        | 58/300 [00:00<00:01, 145.89it/s, loss=0.177414]"
     ]
    },
    {
     "name": "stderr",
     "output_type": "stream",
     "text": [
      "\r",
      " 19%|█▉        | 58/300 [00:00<00:01, 145.89it/s, loss=0.177414]"
     ]
    },
    {
     "name": "stderr",
     "output_type": "stream",
     "text": [
      "\r",
      " 19%|█▉        | 58/300 [00:00<00:01, 145.89it/s, loss=0.177414]"
     ]
    },
    {
     "name": "stderr",
     "output_type": "stream",
     "text": [
      "\r",
      " 19%|█▉        | 58/300 [00:00<00:01, 145.89it/s, loss=0.177414]"
     ]
    },
    {
     "name": "stderr",
     "output_type": "stream",
     "text": [
      "\r",
      " 19%|█▉        | 58/300 [00:00<00:01, 145.89it/s, loss=0.177414]"
     ]
    },
    {
     "name": "stderr",
     "output_type": "stream",
     "text": [
      "\r",
      " 19%|█▉        | 58/300 [00:00<00:01, 145.89it/s, loss=0.177414]"
     ]
    },
    {
     "name": "stderr",
     "output_type": "stream",
     "text": [
      "\r",
      " 19%|█▉        | 58/300 [00:00<00:01, 145.89it/s, loss=0.177414]"
     ]
    },
    {
     "name": "stderr",
     "output_type": "stream",
     "text": [
      "\r",
      " 19%|█▉        | 58/300 [00:00<00:01, 145.89it/s, loss=0.177414]"
     ]
    },
    {
     "name": "stderr",
     "output_type": "stream",
     "text": [
      "\r",
      " 19%|█▉        | 58/300 [00:00<00:01, 145.89it/s, loss=0.177414]"
     ]
    },
    {
     "name": "stderr",
     "output_type": "stream",
     "text": [
      "\r",
      " 19%|█▉        | 58/300 [00:00<00:01, 145.89it/s, loss=0.177414]"
     ]
    },
    {
     "name": "stderr",
     "output_type": "stream",
     "text": [
      "\r",
      " 19%|█▉        | 58/300 [00:00<00:01, 145.89it/s, loss=0.177414]"
     ]
    },
    {
     "name": "stderr",
     "output_type": "stream",
     "text": [
      "\r",
      " 19%|█▉        | 58/300 [00:00<00:01, 145.89it/s, loss=0.177414]"
     ]
    },
    {
     "name": "stderr",
     "output_type": "stream",
     "text": [
      "\r",
      " 19%|█▉        | 58/300 [00:00<00:01, 145.89it/s, loss=0.177414]"
     ]
    },
    {
     "name": "stderr",
     "output_type": "stream",
     "text": [
      "\r",
      " 19%|█▉        | 58/300 [00:00<00:01, 145.89it/s, loss=0.177414]"
     ]
    },
    {
     "name": "stderr",
     "output_type": "stream",
     "text": [
      "\r",
      " 40%|████      | 121/300 [00:00<00:00, 274.01it/s, loss=0.177414]"
     ]
    },
    {
     "name": "stderr",
     "output_type": "stream",
     "text": [
      "\r",
      " 40%|████      | 121/300 [00:00<00:00, 274.01it/s, loss=0.177414]"
     ]
    },
    {
     "name": "stderr",
     "output_type": "stream",
     "text": [
      "\r",
      " 40%|████      | 121/300 [00:00<00:00, 274.01it/s, loss=0.177414]"
     ]
    },
    {
     "name": "stderr",
     "output_type": "stream",
     "text": [
      "\r",
      " 40%|████      | 121/300 [00:00<00:00, 274.01it/s, loss=0.177414]"
     ]
    },
    {
     "name": "stderr",
     "output_type": "stream",
     "text": [
      "\r",
      " 40%|████      | 121/300 [00:00<00:00, 274.01it/s, loss=0.177414]"
     ]
    },
    {
     "name": "stderr",
     "output_type": "stream",
     "text": [
      "\r",
      " 40%|████      | 121/300 [00:00<00:00, 274.01it/s, loss=0.177414]"
     ]
    },
    {
     "name": "stderr",
     "output_type": "stream",
     "text": [
      "\r",
      " 40%|████      | 121/300 [00:00<00:00, 274.01it/s, loss=0.177414]"
     ]
    },
    {
     "name": "stderr",
     "output_type": "stream",
     "text": [
      "\r",
      " 40%|████      | 121/300 [00:00<00:00, 274.01it/s, loss=0.177414]"
     ]
    },
    {
     "name": "stderr",
     "output_type": "stream",
     "text": [
      "\r",
      " 40%|████      | 121/300 [00:00<00:00, 274.01it/s, loss=0.177414]"
     ]
    },
    {
     "name": "stderr",
     "output_type": "stream",
     "text": [
      "\r",
      " 40%|████      | 121/300 [00:00<00:00, 274.01it/s, loss=0.177414]"
     ]
    },
    {
     "name": "stderr",
     "output_type": "stream",
     "text": [
      "\r",
      " 40%|████      | 121/300 [00:00<00:00, 274.01it/s, loss=0.177414]"
     ]
    },
    {
     "name": "stderr",
     "output_type": "stream",
     "text": [
      "\r",
      " 40%|████      | 121/300 [00:00<00:00, 274.01it/s, loss=0.177414]"
     ]
    },
    {
     "name": "stderr",
     "output_type": "stream",
     "text": [
      "\r",
      " 40%|████      | 121/300 [00:00<00:00, 274.01it/s, loss=0.177414]"
     ]
    },
    {
     "name": "stderr",
     "output_type": "stream",
     "text": [
      "\r",
      " 40%|████      | 121/300 [00:00<00:00, 274.01it/s, loss=0.177414]"
     ]
    },
    {
     "name": "stderr",
     "output_type": "stream",
     "text": [
      "\r",
      " 40%|████      | 121/300 [00:00<00:00, 274.01it/s, loss=0.177414]"
     ]
    },
    {
     "name": "stderr",
     "output_type": "stream",
     "text": [
      "\r",
      " 40%|████      | 121/300 [00:00<00:00, 274.01it/s, loss=0.177414]"
     ]
    },
    {
     "name": "stderr",
     "output_type": "stream",
     "text": [
      "\r",
      " 40%|████      | 121/300 [00:00<00:00, 274.01it/s, loss=0.177414]"
     ]
    },
    {
     "name": "stderr",
     "output_type": "stream",
     "text": [
      "\r",
      " 40%|████      | 121/300 [00:00<00:00, 274.01it/s, loss=0.177414]"
     ]
    },
    {
     "name": "stderr",
     "output_type": "stream",
     "text": [
      "\r",
      " 40%|████      | 121/300 [00:00<00:00, 274.01it/s, loss=0.177414]"
     ]
    },
    {
     "name": "stderr",
     "output_type": "stream",
     "text": [
      "\r",
      " 40%|████      | 121/300 [00:00<00:00, 274.01it/s, loss=0.177414]"
     ]
    },
    {
     "name": "stderr",
     "output_type": "stream",
     "text": [
      "\r",
      " 40%|████      | 121/300 [00:00<00:00, 274.01it/s, loss=0.177414]"
     ]
    },
    {
     "name": "stderr",
     "output_type": "stream",
     "text": [
      "\r",
      " 40%|████      | 121/300 [00:00<00:00, 274.01it/s, loss=0.177414]"
     ]
    },
    {
     "name": "stderr",
     "output_type": "stream",
     "text": [
      "\r",
      " 40%|████      | 121/300 [00:00<00:00, 274.01it/s, loss=0.177414]"
     ]
    },
    {
     "name": "stderr",
     "output_type": "stream",
     "text": [
      "\r",
      " 40%|████      | 121/300 [00:00<00:00, 274.01it/s, loss=0.177414]"
     ]
    },
    {
     "name": "stderr",
     "output_type": "stream",
     "text": [
      "\r",
      " 40%|████      | 121/300 [00:00<00:00, 274.01it/s, loss=0.177414]"
     ]
    },
    {
     "name": "stderr",
     "output_type": "stream",
     "text": [
      "\r",
      " 40%|████      | 121/300 [00:00<00:00, 274.01it/s, loss=0.177414]"
     ]
    },
    {
     "name": "stderr",
     "output_type": "stream",
     "text": [
      "\r",
      " 40%|████      | 121/300 [00:00<00:00, 274.01it/s, loss=0.177414]"
     ]
    },
    {
     "name": "stderr",
     "output_type": "stream",
     "text": [
      "\r",
      " 40%|████      | 121/300 [00:00<00:00, 274.01it/s, loss=0.177414]"
     ]
    },
    {
     "name": "stderr",
     "output_type": "stream",
     "text": [
      "\r",
      " 40%|████      | 121/300 [00:00<00:00, 274.01it/s, loss=0.177414]"
     ]
    },
    {
     "name": "stderr",
     "output_type": "stream",
     "text": [
      "\r",
      " 40%|████      | 121/300 [00:00<00:00, 274.01it/s, loss=0.177414]"
     ]
    },
    {
     "name": "stderr",
     "output_type": "stream",
     "text": [
      "\r",
      " 40%|████      | 121/300 [00:00<00:00, 274.01it/s, loss=0.177414]"
     ]
    },
    {
     "name": "stderr",
     "output_type": "stream",
     "text": [
      "\r",
      " 40%|████      | 121/300 [00:00<00:00, 274.01it/s, loss=0.177414]"
     ]
    },
    {
     "name": "stderr",
     "output_type": "stream",
     "text": [
      "\r",
      " 40%|████      | 121/300 [00:00<00:00, 274.01it/s, loss=0.177414]"
     ]
    },
    {
     "name": "stderr",
     "output_type": "stream",
     "text": [
      "\r",
      " 40%|████      | 121/300 [00:00<00:00, 274.01it/s, loss=0.177414]"
     ]
    },
    {
     "name": "stderr",
     "output_type": "stream",
     "text": [
      "\r",
      " 40%|████      | 121/300 [00:00<00:00, 274.01it/s, loss=0.177414]"
     ]
    },
    {
     "name": "stderr",
     "output_type": "stream",
     "text": [
      "\r",
      " 40%|████      | 121/300 [00:00<00:00, 274.01it/s, loss=0.177414]"
     ]
    },
    {
     "name": "stderr",
     "output_type": "stream",
     "text": [
      "\r",
      " 40%|████      | 121/300 [00:00<00:00, 274.01it/s, loss=0.177414]"
     ]
    },
    {
     "name": "stderr",
     "output_type": "stream",
     "text": [
      "\r",
      " 40%|████      | 121/300 [00:00<00:00, 274.01it/s, loss=0.177414]"
     ]
    },
    {
     "name": "stderr",
     "output_type": "stream",
     "text": [
      "\r",
      " 40%|████      | 121/300 [00:00<00:00, 274.01it/s, loss=0.177414]"
     ]
    },
    {
     "name": "stderr",
     "output_type": "stream",
     "text": [
      "\r",
      " 40%|████      | 121/300 [00:00<00:00, 274.01it/s, loss=0.177414]"
     ]
    },
    {
     "name": "stderr",
     "output_type": "stream",
     "text": [
      "\r",
      " 40%|████      | 121/300 [00:00<00:00, 274.01it/s, loss=0.177414]"
     ]
    },
    {
     "name": "stderr",
     "output_type": "stream",
     "text": [
      "\r",
      " 40%|████      | 121/300 [00:00<00:00, 274.01it/s, loss=0.177414]"
     ]
    },
    {
     "name": "stderr",
     "output_type": "stream",
     "text": [
      "\r",
      " 40%|████      | 121/300 [00:00<00:00, 274.01it/s, loss=0.177414]"
     ]
    },
    {
     "name": "stderr",
     "output_type": "stream",
     "text": [
      "\r",
      " 40%|████      | 121/300 [00:00<00:00, 274.01it/s, loss=0.177414]"
     ]
    },
    {
     "name": "stderr",
     "output_type": "stream",
     "text": [
      "\r",
      " 40%|████      | 121/300 [00:00<00:00, 274.01it/s, loss=0.177414]"
     ]
    },
    {
     "name": "stderr",
     "output_type": "stream",
     "text": [
      "\r",
      " 40%|████      | 121/300 [00:00<00:00, 274.01it/s, loss=0.177414]"
     ]
    },
    {
     "name": "stderr",
     "output_type": "stream",
     "text": [
      "\r",
      " 40%|████      | 121/300 [00:00<00:00, 274.01it/s, loss=0.177414]"
     ]
    },
    {
     "name": "stderr",
     "output_type": "stream",
     "text": [
      "\r",
      " 40%|████      | 121/300 [00:00<00:00, 274.01it/s, loss=0.177414]"
     ]
    },
    {
     "name": "stderr",
     "output_type": "stream",
     "text": [
      "\r",
      " 40%|████      | 121/300 [00:00<00:00, 274.01it/s, loss=0.177414]"
     ]
    },
    {
     "name": "stderr",
     "output_type": "stream",
     "text": [
      "\r",
      " 40%|████      | 121/300 [00:00<00:00, 274.01it/s, loss=0.177414]"
     ]
    },
    {
     "name": "stderr",
     "output_type": "stream",
     "text": [
      "\r",
      " 40%|████      | 121/300 [00:00<00:00, 274.01it/s, loss=0.177414]"
     ]
    },
    {
     "name": "stderr",
     "output_type": "stream",
     "text": [
      "\r",
      " 40%|████      | 121/300 [00:00<00:00, 274.01it/s, loss=0.177414]"
     ]
    },
    {
     "name": "stderr",
     "output_type": "stream",
     "text": [
      "\r",
      " 40%|████      | 121/300 [00:00<00:00, 274.01it/s, loss=0.177414]"
     ]
    },
    {
     "name": "stderr",
     "output_type": "stream",
     "text": [
      "\r",
      " 40%|████      | 121/300 [00:00<00:00, 274.01it/s, loss=0.177414]"
     ]
    },
    {
     "name": "stderr",
     "output_type": "stream",
     "text": [
      "\r",
      " 40%|████      | 121/300 [00:00<00:00, 274.01it/s, loss=0.177414]"
     ]
    },
    {
     "name": "stderr",
     "output_type": "stream",
     "text": [
      "\r",
      " 40%|████      | 121/300 [00:00<00:00, 274.01it/s, loss=0.177414]"
     ]
    },
    {
     "name": "stderr",
     "output_type": "stream",
     "text": [
      "\r",
      " 40%|████      | 121/300 [00:00<00:00, 274.01it/s, loss=0.177414]"
     ]
    },
    {
     "name": "stderr",
     "output_type": "stream",
     "text": [
      "\r",
      " 40%|████      | 121/300 [00:00<00:00, 274.01it/s, loss=0.177414]"
     ]
    },
    {
     "name": "stderr",
     "output_type": "stream",
     "text": [
      "\r",
      " 40%|████      | 121/300 [00:00<00:00, 274.01it/s, loss=0.177414]"
     ]
    },
    {
     "name": "stderr",
     "output_type": "stream",
     "text": [
      "\r",
      " 40%|████      | 121/300 [00:00<00:00, 274.01it/s, loss=0.177414]"
     ]
    },
    {
     "name": "stderr",
     "output_type": "stream",
     "text": [
      "\r",
      " 40%|████      | 121/300 [00:00<00:00, 274.01it/s, loss=0.177414]"
     ]
    },
    {
     "name": "stderr",
     "output_type": "stream",
     "text": [
      "\r",
      " 40%|████      | 121/300 [00:00<00:00, 274.01it/s, loss=0.177414]"
     ]
    },
    {
     "name": "stderr",
     "output_type": "stream",
     "text": [
      "\r",
      " 40%|████      | 121/300 [00:00<00:00, 274.01it/s, loss=0.177414]"
     ]
    },
    {
     "name": "stderr",
     "output_type": "stream",
     "text": [
      "\r",
      " 40%|████      | 121/300 [00:00<00:00, 274.01it/s, loss=0.177414]"
     ]
    },
    {
     "name": "stderr",
     "output_type": "stream",
     "text": [
      "\r",
      " 40%|████      | 121/300 [00:00<00:00, 274.01it/s, loss=0.177414]"
     ]
    },
    {
     "name": "stderr",
     "output_type": "stream",
     "text": [
      "\r",
      " 62%|██████▏   | 185/300 [00:00<00:00, 374.53it/s, loss=0.177414]"
     ]
    },
    {
     "name": "stderr",
     "output_type": "stream",
     "text": [
      "\r",
      " 62%|██████▏   | 185/300 [00:00<00:00, 374.53it/s, loss=0.177414]"
     ]
    },
    {
     "name": "stderr",
     "output_type": "stream",
     "text": [
      "\r",
      " 62%|██████▏   | 185/300 [00:00<00:00, 374.53it/s, loss=0.177414]"
     ]
    },
    {
     "name": "stderr",
     "output_type": "stream",
     "text": [
      "\r",
      " 62%|██████▏   | 185/300 [00:00<00:00, 374.53it/s, loss=0.177414]"
     ]
    },
    {
     "name": "stderr",
     "output_type": "stream",
     "text": [
      "\r",
      " 62%|██████▏   | 185/300 [00:00<00:00, 374.53it/s, loss=0.177414]"
     ]
    },
    {
     "name": "stderr",
     "output_type": "stream",
     "text": [
      "\r",
      " 62%|██████▏   | 185/300 [00:00<00:00, 374.53it/s, loss=0.177414]"
     ]
    },
    {
     "name": "stderr",
     "output_type": "stream",
     "text": [
      "\r",
      " 62%|██████▏   | 185/300 [00:00<00:00, 374.53it/s, loss=0.177414]"
     ]
    },
    {
     "name": "stderr",
     "output_type": "stream",
     "text": [
      "\r",
      " 62%|██████▏   | 185/300 [00:00<00:00, 374.53it/s, loss=0.177414]"
     ]
    },
    {
     "name": "stderr",
     "output_type": "stream",
     "text": [
      "\r",
      " 62%|██████▏   | 185/300 [00:00<00:00, 374.53it/s, loss=0.177414]"
     ]
    },
    {
     "name": "stderr",
     "output_type": "stream",
     "text": [
      "\r",
      " 62%|██████▏   | 185/300 [00:00<00:00, 374.53it/s, loss=0.177414]"
     ]
    },
    {
     "name": "stderr",
     "output_type": "stream",
     "text": [
      "\r",
      " 62%|██████▏   | 185/300 [00:00<00:00, 374.53it/s, loss=0.177414]"
     ]
    },
    {
     "name": "stderr",
     "output_type": "stream",
     "text": [
      "\r",
      " 62%|██████▏   | 185/300 [00:00<00:00, 374.53it/s, loss=0.177414]"
     ]
    },
    {
     "name": "stderr",
     "output_type": "stream",
     "text": [
      "\r",
      " 62%|██████▏   | 185/300 [00:00<00:00, 374.53it/s, loss=0.177414]"
     ]
    },
    {
     "name": "stderr",
     "output_type": "stream",
     "text": [
      "\r",
      " 62%|██████▏   | 185/300 [00:00<00:00, 374.53it/s, loss=0.177414]"
     ]
    },
    {
     "name": "stderr",
     "output_type": "stream",
     "text": [
      "\r",
      " 62%|██████▏   | 185/300 [00:00<00:00, 374.53it/s, loss=0.177414]"
     ]
    },
    {
     "name": "stderr",
     "output_type": "stream",
     "text": [
      "\r",
      " 62%|██████▏   | 185/300 [00:00<00:00, 374.53it/s, loss=0.177414]"
     ]
    },
    {
     "name": "stderr",
     "output_type": "stream",
     "text": [
      "\r",
      " 62%|██████▏   | 185/300 [00:00<00:00, 374.53it/s, loss=0.177414]"
     ]
    },
    {
     "name": "stderr",
     "output_type": "stream",
     "text": [
      "\r",
      " 62%|██████▏   | 185/300 [00:00<00:00, 374.53it/s, loss=0.177414]"
     ]
    },
    {
     "name": "stderr",
     "output_type": "stream",
     "text": [
      "\r",
      " 62%|██████▏   | 185/300 [00:00<00:00, 374.53it/s, loss=0.177414]"
     ]
    },
    {
     "name": "stderr",
     "output_type": "stream",
     "text": [
      "\r",
      " 62%|██████▏   | 185/300 [00:00<00:00, 374.53it/s, loss=0.177414]"
     ]
    },
    {
     "name": "stderr",
     "output_type": "stream",
     "text": [
      "\r",
      " 62%|██████▏   | 185/300 [00:00<00:00, 374.53it/s, loss=0.177414]"
     ]
    },
    {
     "name": "stderr",
     "output_type": "stream",
     "text": [
      "\r",
      " 62%|██████▏   | 185/300 [00:00<00:00, 374.53it/s, loss=0.177414]"
     ]
    },
    {
     "name": "stderr",
     "output_type": "stream",
     "text": [
      "\r",
      " 62%|██████▏   | 185/300 [00:00<00:00, 374.53it/s, loss=0.177414]"
     ]
    },
    {
     "name": "stderr",
     "output_type": "stream",
     "text": [
      "\r",
      " 62%|██████▏   | 185/300 [00:00<00:00, 374.53it/s, loss=0.177414]"
     ]
    },
    {
     "name": "stderr",
     "output_type": "stream",
     "text": [
      "\r",
      " 62%|██████▏   | 185/300 [00:00<00:00, 374.53it/s, loss=0.177414]"
     ]
    },
    {
     "name": "stderr",
     "output_type": "stream",
     "text": [
      "\r",
      " 62%|██████▏   | 185/300 [00:00<00:00, 374.53it/s, loss=0.177414]"
     ]
    },
    {
     "name": "stderr",
     "output_type": "stream",
     "text": [
      "\r",
      " 62%|██████▏   | 185/300 [00:00<00:00, 374.53it/s, loss=0.177414]"
     ]
    },
    {
     "name": "stderr",
     "output_type": "stream",
     "text": [
      "\r",
      " 62%|██████▏   | 185/300 [00:00<00:00, 374.53it/s, loss=0.177414]"
     ]
    },
    {
     "name": "stderr",
     "output_type": "stream",
     "text": [
      "\r",
      " 62%|██████▏   | 185/300 [00:00<00:00, 374.53it/s, loss=0.177414]"
     ]
    },
    {
     "name": "stderr",
     "output_type": "stream",
     "text": [
      "\r",
      " 62%|██████▏   | 185/300 [00:00<00:00, 374.53it/s, loss=0.177414]"
     ]
    },
    {
     "name": "stderr",
     "output_type": "stream",
     "text": [
      "\r",
      " 62%|██████▏   | 185/300 [00:00<00:00, 374.53it/s, loss=0.177414]"
     ]
    },
    {
     "name": "stderr",
     "output_type": "stream",
     "text": [
      "\r",
      " 62%|██████▏   | 185/300 [00:00<00:00, 374.53it/s, loss=0.177414]"
     ]
    },
    {
     "name": "stderr",
     "output_type": "stream",
     "text": [
      "\r",
      " 62%|██████▏   | 185/300 [00:00<00:00, 374.53it/s, loss=0.177414]"
     ]
    },
    {
     "name": "stderr",
     "output_type": "stream",
     "text": [
      "\r",
      " 62%|██████▏   | 185/300 [00:00<00:00, 374.53it/s, loss=0.177414]"
     ]
    },
    {
     "name": "stderr",
     "output_type": "stream",
     "text": [
      "\r",
      " 62%|██████▏   | 185/300 [00:00<00:00, 374.53it/s, loss=0.177414]"
     ]
    },
    {
     "name": "stderr",
     "output_type": "stream",
     "text": [
      "\r",
      " 62%|██████▏   | 185/300 [00:00<00:00, 374.53it/s, loss=0.177414]"
     ]
    },
    {
     "name": "stderr",
     "output_type": "stream",
     "text": [
      "\r",
      " 62%|██████▏   | 185/300 [00:00<00:00, 374.53it/s, loss=0.177414]"
     ]
    },
    {
     "name": "stderr",
     "output_type": "stream",
     "text": [
      "\r",
      " 62%|██████▏   | 185/300 [00:00<00:00, 374.53it/s, loss=0.177414]"
     ]
    },
    {
     "name": "stderr",
     "output_type": "stream",
     "text": [
      "\r",
      " 62%|██████▏   | 185/300 [00:00<00:00, 374.53it/s, loss=0.177414]"
     ]
    },
    {
     "name": "stderr",
     "output_type": "stream",
     "text": [
      "\r",
      " 62%|██████▏   | 185/300 [00:00<00:00, 374.53it/s, loss=0.177414]"
     ]
    },
    {
     "name": "stderr",
     "output_type": "stream",
     "text": [
      "\r",
      " 62%|██████▏   | 185/300 [00:00<00:00, 374.53it/s, loss=0.177414]"
     ]
    },
    {
     "name": "stderr",
     "output_type": "stream",
     "text": [
      "\r",
      " 62%|██████▏   | 185/300 [00:00<00:00, 374.53it/s, loss=0.177414]"
     ]
    },
    {
     "name": "stderr",
     "output_type": "stream",
     "text": [
      "\r",
      " 62%|██████▏   | 185/300 [00:00<00:00, 374.53it/s, loss=0.177414]"
     ]
    },
    {
     "name": "stderr",
     "output_type": "stream",
     "text": [
      "\r",
      " 62%|██████▏   | 185/300 [00:00<00:00, 374.53it/s, loss=0.177414]"
     ]
    },
    {
     "name": "stderr",
     "output_type": "stream",
     "text": [
      "\r",
      " 62%|██████▏   | 185/300 [00:00<00:00, 374.53it/s, loss=0.177414]"
     ]
    },
    {
     "name": "stderr",
     "output_type": "stream",
     "text": [
      "\r",
      " 62%|██████▏   | 185/300 [00:00<00:00, 374.53it/s, loss=0.177414]"
     ]
    },
    {
     "name": "stderr",
     "output_type": "stream",
     "text": [
      "\r",
      " 62%|██████▏   | 185/300 [00:00<00:00, 374.53it/s, loss=0.177414]"
     ]
    },
    {
     "name": "stderr",
     "output_type": "stream",
     "text": [
      "\r",
      " 62%|██████▏   | 185/300 [00:00<00:00, 374.53it/s, loss=0.177414]"
     ]
    },
    {
     "name": "stderr",
     "output_type": "stream",
     "text": [
      "\r",
      " 62%|██████▏   | 185/300 [00:00<00:00, 374.53it/s, loss=0.177414]"
     ]
    },
    {
     "name": "stderr",
     "output_type": "stream",
     "text": [
      "\r",
      " 62%|██████▏   | 185/300 [00:00<00:00, 374.53it/s, loss=0.177414]"
     ]
    },
    {
     "name": "stderr",
     "output_type": "stream",
     "text": [
      "\r",
      " 62%|██████▏   | 185/300 [00:00<00:00, 374.53it/s, loss=0.177414]"
     ]
    },
    {
     "name": "stderr",
     "output_type": "stream",
     "text": [
      "\r",
      " 62%|██████▏   | 185/300 [00:00<00:00, 374.53it/s, loss=0.177414]"
     ]
    },
    {
     "name": "stderr",
     "output_type": "stream",
     "text": [
      "\r",
      " 62%|██████▏   | 185/300 [00:00<00:00, 374.53it/s, loss=0.177414]"
     ]
    },
    {
     "name": "stderr",
     "output_type": "stream",
     "text": [
      "\r",
      " 62%|██████▏   | 185/300 [00:00<00:00, 374.53it/s, loss=0.177414]"
     ]
    },
    {
     "name": "stderr",
     "output_type": "stream",
     "text": [
      "\r",
      " 62%|██████▏   | 185/300 [00:00<00:00, 374.53it/s, loss=0.177414]"
     ]
    },
    {
     "name": "stderr",
     "output_type": "stream",
     "text": [
      "\r",
      " 62%|██████▏   | 185/300 [00:00<00:00, 374.53it/s, loss=0.177414]"
     ]
    },
    {
     "name": "stderr",
     "output_type": "stream",
     "text": [
      "\r",
      " 62%|██████▏   | 185/300 [00:00<00:00, 374.53it/s, loss=0.177414]"
     ]
    },
    {
     "name": "stderr",
     "output_type": "stream",
     "text": [
      "\r",
      " 62%|██████▏   | 185/300 [00:00<00:00, 374.53it/s, loss=0.177414]"
     ]
    },
    {
     "name": "stderr",
     "output_type": "stream",
     "text": [
      "\r",
      " 62%|██████▏   | 185/300 [00:00<00:00, 374.53it/s, loss=0.177414]"
     ]
    },
    {
     "name": "stderr",
     "output_type": "stream",
     "text": [
      "\r",
      " 62%|██████▏   | 185/300 [00:00<00:00, 374.53it/s, loss=0.177414]"
     ]
    },
    {
     "name": "stderr",
     "output_type": "stream",
     "text": [
      "\r",
      " 62%|██████▏   | 185/300 [00:00<00:00, 374.53it/s, loss=0.177414]"
     ]
    },
    {
     "name": "stderr",
     "output_type": "stream",
     "text": [
      "\r",
      " 62%|██████▏   | 185/300 [00:00<00:00, 374.53it/s, loss=0.177414]"
     ]
    },
    {
     "name": "stderr",
     "output_type": "stream",
     "text": [
      "\r",
      " 62%|██████▏   | 185/300 [00:00<00:00, 374.53it/s, loss=0.177414]"
     ]
    },
    {
     "name": "stderr",
     "output_type": "stream",
     "text": [
      "\r",
      " 62%|██████▏   | 185/300 [00:00<00:00, 374.53it/s, loss=0.177414]"
     ]
    },
    {
     "name": "stderr",
     "output_type": "stream",
     "text": [
      "\r",
      " 62%|██████▏   | 185/300 [00:00<00:00, 374.53it/s, loss=0.177414]"
     ]
    },
    {
     "name": "stderr",
     "output_type": "stream",
     "text": [
      "\r",
      " 83%|████████▎ | 249/300 [00:00<00:00, 448.03it/s, loss=0.177414]"
     ]
    },
    {
     "name": "stderr",
     "output_type": "stream",
     "text": [
      "\r",
      " 83%|████████▎ | 249/300 [00:00<00:00, 448.03it/s, loss=0.177414]"
     ]
    },
    {
     "name": "stderr",
     "output_type": "stream",
     "text": [
      "\r",
      " 83%|████████▎ | 249/300 [00:00<00:00, 448.03it/s, loss=0.177414]"
     ]
    },
    {
     "name": "stderr",
     "output_type": "stream",
     "text": [
      "\r",
      " 83%|████████▎ | 249/300 [00:00<00:00, 448.03it/s, loss=0.177414]"
     ]
    },
    {
     "name": "stderr",
     "output_type": "stream",
     "text": [
      "\r",
      " 83%|████████▎ | 249/300 [00:00<00:00, 448.03it/s, loss=0.177414]"
     ]
    },
    {
     "name": "stderr",
     "output_type": "stream",
     "text": [
      "\r",
      " 83%|████████▎ | 249/300 [00:00<00:00, 448.03it/s, loss=0.177414]"
     ]
    },
    {
     "name": "stderr",
     "output_type": "stream",
     "text": [
      "\r",
      " 83%|████████▎ | 249/300 [00:00<00:00, 448.03it/s, loss=0.177414]"
     ]
    },
    {
     "name": "stderr",
     "output_type": "stream",
     "text": [
      "\r",
      " 83%|████████▎ | 249/300 [00:00<00:00, 448.03it/s, loss=0.177414]"
     ]
    },
    {
     "name": "stderr",
     "output_type": "stream",
     "text": [
      "\r",
      " 83%|████████▎ | 249/300 [00:00<00:00, 448.03it/s, loss=0.177414]"
     ]
    },
    {
     "name": "stderr",
     "output_type": "stream",
     "text": [
      "\r",
      " 83%|████████▎ | 249/300 [00:00<00:00, 448.03it/s, loss=0.177414]"
     ]
    },
    {
     "name": "stderr",
     "output_type": "stream",
     "text": [
      "\r",
      " 83%|████████▎ | 249/300 [00:00<00:00, 448.03it/s, loss=0.177414]"
     ]
    },
    {
     "name": "stderr",
     "output_type": "stream",
     "text": [
      "\r",
      " 83%|████████▎ | 249/300 [00:00<00:00, 448.03it/s, loss=0.177414]"
     ]
    },
    {
     "name": "stderr",
     "output_type": "stream",
     "text": [
      "\r",
      " 83%|████████▎ | 249/300 [00:00<00:00, 448.03it/s, loss=0.177414]"
     ]
    },
    {
     "name": "stderr",
     "output_type": "stream",
     "text": [
      "\r",
      " 83%|████████▎ | 249/300 [00:00<00:00, 448.03it/s, loss=0.177414]"
     ]
    },
    {
     "name": "stderr",
     "output_type": "stream",
     "text": [
      "\r",
      " 83%|████████▎ | 249/300 [00:00<00:00, 448.03it/s, loss=0.177414]"
     ]
    },
    {
     "name": "stderr",
     "output_type": "stream",
     "text": [
      "\r",
      " 83%|████████▎ | 249/300 [00:00<00:00, 448.03it/s, loss=0.177414]"
     ]
    },
    {
     "name": "stderr",
     "output_type": "stream",
     "text": [
      "\r",
      " 83%|████████▎ | 249/300 [00:00<00:00, 448.03it/s, loss=0.177414]"
     ]
    },
    {
     "name": "stderr",
     "output_type": "stream",
     "text": [
      "\r",
      " 83%|████████▎ | 249/300 [00:00<00:00, 448.03it/s, loss=0.177414]"
     ]
    },
    {
     "name": "stderr",
     "output_type": "stream",
     "text": [
      "\r",
      " 83%|████████▎ | 249/300 [00:00<00:00, 448.03it/s, loss=0.177414]"
     ]
    },
    {
     "name": "stderr",
     "output_type": "stream",
     "text": [
      "\r",
      " 83%|████████▎ | 249/300 [00:00<00:00, 448.03it/s, loss=0.177414]"
     ]
    },
    {
     "name": "stderr",
     "output_type": "stream",
     "text": [
      "\r",
      " 83%|████████▎ | 249/300 [00:00<00:00, 448.03it/s, loss=0.177414]"
     ]
    },
    {
     "name": "stderr",
     "output_type": "stream",
     "text": [
      "\r",
      " 83%|████████▎ | 249/300 [00:00<00:00, 448.03it/s, loss=0.177414]"
     ]
    },
    {
     "name": "stderr",
     "output_type": "stream",
     "text": [
      "\r",
      " 83%|████████▎ | 249/300 [00:00<00:00, 448.03it/s, loss=0.177414]"
     ]
    },
    {
     "name": "stderr",
     "output_type": "stream",
     "text": [
      "\r",
      " 83%|████████▎ | 249/300 [00:00<00:00, 448.03it/s, loss=0.177414]"
     ]
    },
    {
     "name": "stderr",
     "output_type": "stream",
     "text": [
      "\r",
      " 83%|████████▎ | 249/300 [00:00<00:00, 448.03it/s, loss=0.177414]"
     ]
    },
    {
     "name": "stderr",
     "output_type": "stream",
     "text": [
      "\r",
      " 83%|████████▎ | 249/300 [00:00<00:00, 448.03it/s, loss=0.177414]"
     ]
    },
    {
     "name": "stderr",
     "output_type": "stream",
     "text": [
      "\r",
      " 83%|████████▎ | 249/300 [00:00<00:00, 448.03it/s, loss=0.177414]"
     ]
    },
    {
     "name": "stderr",
     "output_type": "stream",
     "text": [
      "\r",
      " 83%|████████▎ | 249/300 [00:00<00:00, 448.03it/s, loss=0.177414]"
     ]
    },
    {
     "name": "stderr",
     "output_type": "stream",
     "text": [
      "\r",
      " 83%|████████▎ | 249/300 [00:00<00:00, 448.03it/s, loss=0.177414]"
     ]
    },
    {
     "name": "stderr",
     "output_type": "stream",
     "text": [
      "\r",
      " 83%|████████▎ | 249/300 [00:00<00:00, 448.03it/s, loss=0.177414]"
     ]
    },
    {
     "name": "stderr",
     "output_type": "stream",
     "text": [
      "\r",
      " 83%|████████▎ | 249/300 [00:00<00:00, 448.03it/s, loss=0.177414]"
     ]
    },
    {
     "name": "stderr",
     "output_type": "stream",
     "text": [
      "\r",
      " 83%|████████▎ | 249/300 [00:00<00:00, 448.03it/s, loss=0.177414]"
     ]
    },
    {
     "name": "stderr",
     "output_type": "stream",
     "text": [
      "\r",
      " 83%|████████▎ | 249/300 [00:00<00:00, 448.03it/s, loss=0.177414]"
     ]
    },
    {
     "name": "stderr",
     "output_type": "stream",
     "text": [
      "\r",
      " 83%|████████▎ | 249/300 [00:00<00:00, 448.03it/s, loss=0.177414]"
     ]
    },
    {
     "name": "stderr",
     "output_type": "stream",
     "text": [
      "\r",
      " 83%|████████▎ | 249/300 [00:00<00:00, 448.03it/s, loss=0.177414]"
     ]
    },
    {
     "name": "stderr",
     "output_type": "stream",
     "text": [
      "\r",
      " 83%|████████▎ | 249/300 [00:00<00:00, 448.03it/s, loss=0.177414]"
     ]
    },
    {
     "name": "stderr",
     "output_type": "stream",
     "text": [
      "\r",
      " 83%|████████▎ | 249/300 [00:00<00:00, 448.03it/s, loss=0.177414]"
     ]
    },
    {
     "name": "stderr",
     "output_type": "stream",
     "text": [
      "\r",
      " 83%|████████▎ | 249/300 [00:00<00:00, 448.03it/s, loss=0.177414]"
     ]
    },
    {
     "name": "stderr",
     "output_type": "stream",
     "text": [
      "\r",
      " 83%|████████▎ | 249/300 [00:00<00:00, 448.03it/s, loss=0.177414]"
     ]
    },
    {
     "name": "stderr",
     "output_type": "stream",
     "text": [
      "\r",
      " 83%|████████▎ | 249/300 [00:00<00:00, 448.03it/s, loss=0.177414]"
     ]
    },
    {
     "name": "stderr",
     "output_type": "stream",
     "text": [
      "\r",
      " 83%|████████▎ | 249/300 [00:00<00:00, 448.03it/s, loss=0.177414]"
     ]
    },
    {
     "name": "stderr",
     "output_type": "stream",
     "text": [
      "\r",
      " 83%|████████▎ | 249/300 [00:00<00:00, 448.03it/s, loss=0.177414]"
     ]
    },
    {
     "name": "stderr",
     "output_type": "stream",
     "text": [
      "\r",
      " 83%|████████▎ | 249/300 [00:00<00:00, 448.03it/s, loss=0.177414]"
     ]
    },
    {
     "name": "stderr",
     "output_type": "stream",
     "text": [
      "\r",
      " 83%|████████▎ | 249/300 [00:00<00:00, 448.03it/s, loss=0.177414]"
     ]
    },
    {
     "name": "stderr",
     "output_type": "stream",
     "text": [
      "\r",
      " 83%|████████▎ | 249/300 [00:00<00:00, 448.03it/s, loss=0.177414]"
     ]
    },
    {
     "name": "stderr",
     "output_type": "stream",
     "text": [
      "\r",
      " 83%|████████▎ | 249/300 [00:00<00:00, 448.03it/s, loss=0.177414]"
     ]
    },
    {
     "name": "stderr",
     "output_type": "stream",
     "text": [
      "\r",
      " 83%|████████▎ | 249/300 [00:00<00:00, 448.03it/s, loss=0.177414]"
     ]
    },
    {
     "name": "stderr",
     "output_type": "stream",
     "text": [
      "\r",
      " 83%|████████▎ | 249/300 [00:00<00:00, 448.03it/s, loss=0.177414]"
     ]
    },
    {
     "name": "stderr",
     "output_type": "stream",
     "text": [
      "\r",
      " 83%|████████▎ | 249/300 [00:00<00:00, 448.03it/s, loss=0.177414]"
     ]
    },
    {
     "name": "stderr",
     "output_type": "stream",
     "text": [
      "\r",
      " 83%|████████▎ | 249/300 [00:00<00:00, 448.03it/s, loss=0.177414]"
     ]
    },
    {
     "name": "stderr",
     "output_type": "stream",
     "text": [
      "\r",
      " 83%|████████▎ | 249/300 [00:00<00:00, 448.03it/s, loss=0.177414]"
     ]
    },
    {
     "name": "stderr",
     "output_type": "stream",
     "text": [
      "\r",
      " 83%|████████▎ | 249/300 [00:00<00:00, 448.03it/s, loss=0.177414]"
     ]
    },
    {
     "name": "stderr",
     "output_type": "stream",
     "text": [
      "\r",
      "100%|██████████| 300/300 [00:00<00:00, 307.43it/s, loss=0.177414]"
     ]
    },
    {
     "name": "stderr",
     "output_type": "stream",
     "text": [
      "\n"
     ]
    }
   ],
   "source": [
    "dn = dn_fit\n",
    "dn2 = dn2_fit\n",
    "dk1 = dk1_fit\n",
    "dk2 = dk2_fit\n",
    "\n",
    "@jax.jit\n",
    "def loss(dn1):\n",
    "    \"\"\"Returns fit least squares error from a coupler model spectrum\n",
    "    to the FDTD Sparameter spectrum that we want to fit.\n",
    "    \n",
    "    \"\"\"\n",
    "    S = gf.simulation.sax.models.coupler(dn=dn, length=20, coupling0=coupling0, dn1=dn1, dn2=dn2, dk1=dk1, dk2=dk2)\n",
    "    T_model = jnp.abs(S['o1', 'o4'])**2\n",
    "    K_model = jnp.abs(S['o1', 'o3'])**2\n",
    "    return jnp.abs(T_fdtd-T_model).mean() + jnp.abs(K_fdtd-K_model).mean()\n",
    "\n",
    "grad = jax.jit(\n",
    "    jax.grad(\n",
    "        loss,\n",
    "        argnums=0,  # JAX gradient function for the first positional argument, jitted\n",
    "    )\n",
    ")\n",
    "\n",
    "dn1 = 0.11\n",
    "optim_init, optim_update, optim_params = opt.adam(step_size=0.001)\n",
    "optim_state = optim_init(dn1)\n",
    "\n",
    "\n",
    "def train_step(step, optim_state):\n",
    "    settings = optim_params(optim_state)\n",
    "    lossvalue = loss(settings)\n",
    "    gradvalue = grad(settings)\n",
    "    optim_state = optim_update(step, gradvalue, optim_state)\n",
    "    return lossvalue, optim_state\n",
    "\n",
    "range_ = tqdm.trange(300)\n",
    "for step in range_:\n",
    "    lossvalue, optim_state = train_step(step, optim_state)\n",
    "    range_.set_postfix(loss=f\"{lossvalue:.6f}\")"
   ]
  },
  {
   "cell_type": "code",
   "execution_count": 55,
   "id": "175abd0e-e150-4540-8f9e-5c9c8679110b",
   "metadata": {
    "execution": {
     "iopub.execute_input": "2022-03-01T18:44:09.343344Z",
     "iopub.status.busy": "2022-03-01T18:44:09.343009Z",
     "iopub.status.idle": "2022-03-01T18:44:09.347498Z",
     "shell.execute_reply": "2022-03-01T18:44:09.346896Z"
    }
   },
   "outputs": [
    {
     "data": {
      "text/plain": [
       "0.11"
      ]
     },
     "execution_count": 55,
     "metadata": {},
     "output_type": "execute_result"
    }
   ],
   "source": [
    "dn1_fit = optim_params(optim_state)\n",
    "dn1_fit"
   ]
  },
  {
   "cell_type": "code",
   "execution_count": 56,
   "id": "fe79dafe-81ad-429f-ae4f-a556810a7355",
   "metadata": {
    "execution": {
     "iopub.execute_input": "2022-03-01T18:44:09.350801Z",
     "iopub.status.busy": "2022-03-01T18:44:09.350633Z",
     "iopub.status.idle": "2022-03-01T18:44:09.542667Z",
     "shell.execute_reply": "2022-03-01T18:44:09.542067Z"
    }
   },
   "outputs": [
    {
     "data": {
      "text/plain": [
       "<matplotlib.legend.Legend at 0x7f8a8c280fa0>"
      ]
     },
     "execution_count": 56,
     "metadata": {},
     "output_type": "execute_result"
    },
    {
     "data": {
      "image/png": "[encoded data removed]",
      "text/plain": [
       "<Figure size 432x288 with 1 Axes>"
      ]
     },
     "metadata": {
      "needs_background": "light"
     },
     "output_type": "display_data"
    }
   ],
   "source": [
    "wl = jnp.linspace(1.50, 1.60, 1000)\n",
    "S = gf.simulation.sax.models.coupler(dn=dn,\n",
    "                                     length=20,\n",
    "                                     coupling0=coupling0,\n",
    "                                     dn1=dn1_fit,\n",
    "                                     dn2=dn2,\n",
    "                                     dk1=dk1,\n",
    "                                     dk2=dk2,\n",
    "                                     wl=wl)\n",
    "T_model = abs(S['o1', 'o4'])**2\n",
    "K_model = abs(S['o1', 'o3'])**2\n",
    "\n",
    "coupler_fdtd = gs.read.sdict_from_csv(filepath=gf.config.sparameters_path / 'coupler' / 'coupler_G224n_L20_S220.csv', xkey='wavelength_nm', prefix='S', xunits=1e-3, wl=wl)\n",
    "S = coupler_fdtd\n",
    "T_fdtd = abs(S['o1', 'o3'])**2\n",
    "K_fdtd = abs(S['o1', 'o4'])**2\n",
    "\n",
    "plt.plot(wl, T_fdtd, label='fdtd', c='b')\n",
    "plt.plot(wl, T_model, label='fit', c='b', ls='-.')\n",
    "plt.plot(wl, K_fdtd, label='fdtd', c='r')\n",
    "plt.plot(wl, K_model, label='fit', c='r', ls='-.')\n",
    "plt.legend()"
   ]
  },
  {
   "cell_type": "markdown",
   "id": "1a1bd051-0525-48a8-83e5-8568f8bce8ce",
   "metadata": {},
   "source": [
    "## Model fit (linear regression)\n",
    "\n",
    "For a better fit of the coupler we can build a linear regression model of the coupler with `sklearn`"
   ]
  },
  {
   "cell_type": "code",
   "execution_count": 57,
   "id": "f634095b-d1f2-464a-9931-c8d252670eb8",
   "metadata": {
    "execution": {
     "iopub.execute_input": "2022-03-01T18:44:09.546949Z",
     "iopub.status.busy": "2022-03-01T18:44:09.545866Z",
     "iopub.status.idle": "2022-03-01T18:44:09.690429Z",
     "shell.execute_reply": "2022-03-01T18:44:09.689756Z"
    }
   },
   "outputs": [],
   "source": [
    "import sax\n",
    "import gdsfactory as gf\n",
    "import gdsfactory.simulation.sax as gs\n",
    "import jax\n",
    "import jax.numpy as jnp\n",
    "import matplotlib.pyplot as plt\n",
    "from scipy.constants import c\n",
    "from sklearn.linear_model import LinearRegression"
   ]
  },
  {
   "cell_type": "code",
   "execution_count": 58,
   "id": "e5484361-3df6-4e40-a947-60fa265f71a1",
   "metadata": {
    "execution": {
     "iopub.execute_input": "2022-03-01T18:44:09.694295Z",
     "iopub.status.busy": "2022-03-01T18:44:09.693835Z",
     "iopub.status.idle": "2022-03-01T18:44:09.797954Z",
     "shell.execute_reply": "2022-03-01T18:44:09.797246Z"
    }
   },
   "outputs": [],
   "source": [
    "f = jnp.linspace(c / 1.0e-6, c / 2.0e-6, 500) * 1e-12  # THz\n",
    "wl = c / (f * 1e12) * 1e6  # um\n",
    "\n",
    "filepath = gf.config.sparameters_path / \"coupler\" / \"coupler_G224n_L20_S220.csv\"\n",
    "coupler_fdtd = gf.partial(gs.read.sdict_from_csv, filepath, xkey=\"wavelength_nm\", prefix=\"S\", xunits=1e-3)\n",
    "sd = coupler_fdtd(wl=wl)\n",
    "\n",
    "k = sd[\"o1\", \"o3\"]\n",
    "t = sd[\"o1\", \"o4\"]\n",
    "s = t + k\n",
    "a = t - k"
   ]
  },
  {
   "cell_type": "markdown",
   "id": "8cce6788-2af1-4c74-b5f0-4fcb45a8d5ea",
   "metadata": {},
   "source": [
    "Lets fit the symmetric (t+k) and antisymmetric (t-k) transmission\n",
    "\n",
    "### Symmetric"
   ]
  },
  {
   "cell_type": "code",
   "execution_count": 59,
   "id": "1adb28b5-b2ea-496a-b5e3-cf93fab11dcd",
   "metadata": {
    "execution": {
     "iopub.execute_input": "2022-03-01T18:44:09.802385Z",
     "iopub.status.busy": "2022-03-01T18:44:09.801980Z",
     "iopub.status.idle": "2022-03-01T18:44:10.020433Z",
     "shell.execute_reply": "2022-03-01T18:44:10.019944Z"
    }
   },
   "outputs": [
    {
     "name": "stderr",
     "output_type": "stream",
     "text": [
      "WARNING:matplotlib.legend:No artists with labels found to put in legend.  Note that artists whose label start with an underscore are ignored when legend() is called with no argument.\n"
     ]
    },
    {
     "data": {
      "image/png": "[encoded data removed]",
      "text/plain": [
       "<Figure size 432x288 with 1 Axes>"
      ]
     },
     "metadata": {
      "needs_background": "light"
     },
     "output_type": "display_data"
    }
   ],
   "source": [
    "plt.plot(wl, jnp.abs(s))\n",
    "plt.grid(True)\n",
    "plt.xlabel(\"Frequency [THz]\")\n",
    "plt.ylabel(\"Transmission\")\n",
    "plt.title('symmetric (transmission + coupling)')\n",
    "plt.legend()\n",
    "plt.show()"
   ]
  },
  {
   "cell_type": "code",
   "execution_count": 60,
   "id": "70dec0b5-87c9-47a7-9450-a896c23dd7c1",
   "metadata": {
    "execution": {
     "iopub.execute_input": "2022-03-01T18:44:10.023266Z",
     "iopub.status.busy": "2022-03-01T18:44:10.022883Z",
     "iopub.status.idle": "2022-03-01T18:44:10.158806Z",
     "shell.execute_reply": "2022-03-01T18:44:10.158222Z"
    }
   },
   "outputs": [
    {
     "name": "stderr",
     "output_type": "stream",
     "text": [
      "WARNING:matplotlib.legend:No artists with labels found to put in legend.  Note that artists whose label start with an underscore are ignored when legend() is called with no argument.\n"
     ]
    },
    {
     "data": {
      "image/png": "[encoded data removed]",
      "text/plain": [
       "<Figure size 432x288 with 1 Axes>"
      ]
     },
     "metadata": {
      "needs_background": "light"
     },
     "output_type": "display_data"
    }
   ],
   "source": [
    "plt.plot(wl, jnp.abs(a))\n",
    "plt.grid(True)\n",
    "plt.xlabel(\"Frequency [THz]\")\n",
    "plt.ylabel(\"Transmission\")\n",
    "plt.title('anti-symmetric (transmission - coupling)')\n",
    "plt.legend()\n",
    "plt.show()"
   ]
  },
  {
   "cell_type": "code",
   "execution_count": 61,
   "id": "f8934dca-7c86-4946-85b8-277d8b3ab6ba",
   "metadata": {
    "execution": {
     "iopub.execute_input": "2022-03-01T18:44:10.161831Z",
     "iopub.status.busy": "2022-03-01T18:44:10.161634Z",
     "iopub.status.idle": "2022-03-01T18:44:10.425767Z",
     "shell.execute_reply": "2022-03-01T18:44:10.425202Z"
    }
   },
   "outputs": [
    {
     "name": "stderr",
     "output_type": "stream",
     "text": [
      "WARNING:matplotlib.legend:No artists with labels found to put in legend.  Note that artists whose label start with an underscore are ignored when legend() is called with no argument.\n"
     ]
    },
    {
     "data": {
      "image/png": "[encoded data removed]",
      "text/plain": [
       "<Figure size 432x288 with 1 Axes>"
      ]
     },
     "metadata": {
      "needs_background": "light"
     },
     "output_type": "display_data"
    }
   ],
   "source": [
    "r = LinearRegression()\n",
    "fX = lambda x, _order=8: x[:,None]**(jnp.arange(_order)[None, :]) # artificially create more 'features' (wl**2, wl**3, wl**4, ...)\n",
    "X = fX(wl)\n",
    "r.fit(X, jnp.abs(s))\n",
    "asm, bsm = r.coef_, r.intercept_\n",
    "fsm = lambda x: fX(x)@asm + bsm  # fit symmetric module fiir\n",
    "\n",
    "plt.plot(wl, jnp.abs(s))\n",
    "plt.plot(wl, fsm(wl))\n",
    "plt.grid(True)\n",
    "plt.xlabel(\"Frequency [THz]\")\n",
    "plt.ylabel(\"Transmission\")\n",
    "plt.legend()\n",
    "plt.show()"
   ]
  },
  {
   "cell_type": "code",
   "execution_count": 62,
   "id": "966f429b-5e50-4053-b678-00377aa85fb8",
   "metadata": {
    "execution": {
     "iopub.execute_input": "2022-03-01T18:44:10.428568Z",
     "iopub.status.busy": "2022-03-01T18:44:10.428382Z",
     "iopub.status.idle": "2022-03-01T18:44:10.942396Z",
     "shell.execute_reply": "2022-03-01T18:44:10.941906Z"
    }
   },
   "outputs": [
    {
     "name": "stderr",
     "output_type": "stream",
     "text": [
      "WARNING:matplotlib.legend:No artists with labels found to put in legend.  Note that artists whose label start with an underscore are ignored when legend() is called with no argument.\n"
     ]
    },
    {
     "data": {
      "image/png": "[encoded data removed]",
      "text/plain": [
       "<Figure size 432x288 with 1 Axes>"
      ]
     },
     "metadata": {
      "needs_background": "light"
     },
     "output_type": "display_data"
    }
   ],
   "source": [
    "r = LinearRegression()\n",
    "r.fit(X, jnp.unwrap(jnp.angle(s)))\n",
    "asp, bsp = r.coef_, r.intercept_\n",
    "fsp = lambda x: fX(x)@asp + bsp # fit symmetric phase\n",
    "\n",
    "plt.plot(wl, jnp.unwrap(jnp.angle(s)))\n",
    "plt.plot(wl, fsp(wl))\n",
    "plt.grid(True)\n",
    "plt.xlabel(\"Frequency [THz]\")\n",
    "plt.ylabel(\"Angle [deg]\")\n",
    "plt.legend()\n",
    "plt.show()"
   ]
  },
  {
   "cell_type": "code",
   "execution_count": 63,
   "id": "62faeb50-e4b7-4f68-92ba-79ce4c74b370",
   "metadata": {
    "execution": {
     "iopub.execute_input": "2022-03-01T18:44:10.945725Z",
     "iopub.status.busy": "2022-03-01T18:44:10.945301Z",
     "iopub.status.idle": "2022-03-01T18:44:10.948472Z",
     "shell.execute_reply": "2022-03-01T18:44:10.947948Z"
    }
   },
   "outputs": [],
   "source": [
    "fs = lambda x: fsm(x)*jnp.exp(1j*fsp(x))"
   ]
  },
  {
   "cell_type": "markdown",
   "id": "415e725f-01a1-4309-937f-3d8f11fa9381",
   "metadata": {},
   "source": [
    "Lets fit the symmetric (t+k) and antisymmetric (t-k) transmission\n",
    "\n",
    "### Anti-Symmetric"
   ]
  },
  {
   "cell_type": "code",
   "execution_count": 64,
   "id": "c34f17c9-3f4e-4e07-a077-ebfd33dab49d",
   "metadata": {
    "execution": {
     "iopub.execute_input": "2022-03-01T18:44:10.951105Z",
     "iopub.status.busy": "2022-03-01T18:44:10.950708Z",
     "iopub.status.idle": "2022-03-01T18:44:11.096924Z",
     "shell.execute_reply": "2022-03-01T18:44:11.096401Z"
    }
   },
   "outputs": [
    {
     "name": "stderr",
     "output_type": "stream",
     "text": [
      "WARNING:matplotlib.legend:No artists with labels found to put in legend.  Note that artists whose label start with an underscore are ignored when legend() is called with no argument.\n"
     ]
    },
    {
     "data": {
      "image/png": "[encoded data removed]",
      "text/plain": [
       "<Figure size 432x288 with 1 Axes>"
      ]
     },
     "metadata": {
      "needs_background": "light"
     },
     "output_type": "display_data"
    }
   ],
   "source": [
    "r = LinearRegression()\n",
    "r.fit(X, jnp.abs(a))\n",
    "aam, bam = r.coef_, r.intercept_\n",
    "fam = lambda x: fX(x)@aam + bam\n",
    "\n",
    "plt.plot(wl, jnp.abs(a))\n",
    "plt.plot(wl, fam(wl))\n",
    "plt.grid(True)\n",
    "plt.xlabel(\"Frequency [THz]\")\n",
    "plt.ylabel(\"Transmission\")\n",
    "plt.legend()\n",
    "plt.show()"
   ]
  },
  {
   "cell_type": "code",
   "execution_count": 65,
   "id": "d09113f6-558b-4529-9bff-a68ceda85204",
   "metadata": {
    "execution": {
     "iopub.execute_input": "2022-03-01T18:44:11.099727Z",
     "iopub.status.busy": "2022-03-01T18:44:11.099308Z",
     "iopub.status.idle": "2022-03-01T18:44:11.233771Z",
     "shell.execute_reply": "2022-03-01T18:44:11.233110Z"
    }
   },
   "outputs": [
    {
     "name": "stderr",
     "output_type": "stream",
     "text": [
      "WARNING:matplotlib.legend:No artists with labels found to put in legend.  Note that artists whose label start with an underscore are ignored when legend() is called with no argument.\n"
     ]
    },
    {
     "data": {
      "image/png": "[encoded data removed]",
      "text/plain": [
       "<Figure size 432x288 with 1 Axes>"
      ]
     },
     "metadata": {
      "needs_background": "light"
     },
     "output_type": "display_data"
    }
   ],
   "source": [
    "r = LinearRegression()\n",
    "r.fit(X, jnp.unwrap(jnp.angle(a)))\n",
    "aap, bap = r.coef_, r.intercept_\n",
    "fap = lambda x: fX(x)@aap + bap\n",
    "\n",
    "plt.plot(wl, jnp.unwrap(jnp.angle(a)))\n",
    "plt.plot(wl, fap(wl))\n",
    "plt.grid(True)\n",
    "plt.xlabel(\"Frequency [THz]\")\n",
    "plt.ylabel(\"Angle [deg]\")\n",
    "plt.legend()\n",
    "plt.show()"
   ]
  },
  {
   "cell_type": "code",
   "execution_count": 66,
   "id": "5ef257ed-0dd8-4754-81e8-3226e39e335d",
   "metadata": {
    "execution": {
     "iopub.execute_input": "2022-03-01T18:44:11.238008Z",
     "iopub.status.busy": "2022-03-01T18:44:11.237054Z",
     "iopub.status.idle": "2022-03-01T18:44:11.241249Z",
     "shell.execute_reply": "2022-03-01T18:44:11.240831Z"
    }
   },
   "outputs": [],
   "source": [
    "fa = lambda x: fam(x)*jnp.exp(1j*fap(x))"
   ]
  },
  {
   "cell_type": "markdown",
   "id": "b050be26-aec0-4e1c-b9f7-0ff55857ed7a",
   "metadata": {},
   "source": [
    "### Total"
   ]
  },
  {
   "cell_type": "code",
   "execution_count": 67,
   "id": "23a6debb-d8b1-4883-a4c8-1a3edaf21509",
   "metadata": {
    "execution": {
     "iopub.execute_input": "2022-03-01T18:44:11.245065Z",
     "iopub.status.busy": "2022-03-01T18:44:11.244071Z",
     "iopub.status.idle": "2022-03-01T18:44:11.510046Z",
     "shell.execute_reply": "2022-03-01T18:44:11.509477Z"
    }
   },
   "outputs": [
    {
     "data": {
      "text/plain": [
       "Text(0, 0.5, 'Transmission')"
      ]
     },
     "execution_count": 67,
     "metadata": {},
     "output_type": "execute_result"
    },
    {
     "data": {
      "image/png": "[encoded data removed]",
      "text/plain": [
       "<Figure size 432x288 with 1 Axes>"
      ]
     },
     "metadata": {
      "needs_background": "light"
     },
     "output_type": "display_data"
    }
   ],
   "source": [
    "t_ = 0.5 * (fs(wl) + fa(wl))\n",
    "\n",
    "plt.plot(wl, jnp.abs(t))\n",
    "plt.plot(wl, jnp.abs(t_))\n",
    "plt.xlabel(\"Frequency [THz]\")\n",
    "plt.ylabel(\"Transmission\")"
   ]
  },
  {
   "cell_type": "code",
   "execution_count": 68,
   "id": "fcde546f-ba9f-44e6-8c11-a012c90326f8",
   "metadata": {
    "execution": {
     "iopub.execute_input": "2022-03-01T18:44:11.513748Z",
     "iopub.status.busy": "2022-03-01T18:44:11.513550Z",
     "iopub.status.idle": "2022-03-01T18:44:11.674138Z",
     "shell.execute_reply": "2022-03-01T18:44:11.673677Z"
    }
   },
   "outputs": [
    {
     "data": {
      "text/plain": [
       "Text(0, 0.5, 'Coupling')"
      ]
     },
     "execution_count": 68,
     "metadata": {},
     "output_type": "execute_result"
    },
    {
     "data": {
      "image/png": "[encoded data removed]",
      "text/plain": [
       "<Figure size 432x288 with 1 Axes>"
      ]
     },
     "metadata": {
      "needs_background": "light"
     },
     "output_type": "display_data"
    }
   ],
   "source": [
    "k_ = 0.5 * (fs(wl) - fa(wl))\n",
    "\n",
    "plt.plot(wl, jnp.abs(k))\n",
    "plt.plot(wl, jnp.abs(k_))\n",
    "plt.xlabel(\"Frequency [THz]\")\n",
    "plt.ylabel(\"Coupling\")"
   ]
  },
  {
   "cell_type": "code",
   "execution_count": 69,
   "id": "3a31d6a7-909e-46b7-b593-33cce3986bf4",
   "metadata": {
    "execution": {
     "iopub.execute_input": "2022-03-01T18:44:11.678566Z",
     "iopub.status.busy": "2022-03-01T18:44:11.677535Z",
     "iopub.status.idle": "2022-03-01T18:44:11.683660Z",
     "shell.execute_reply": "2022-03-01T18:44:11.683234Z"
    }
   },
   "outputs": [],
   "source": [
    "@jax.jit\n",
    "def coupler(wl=1.5):\n",
    "    wl = jnp.asarray(wl)\n",
    "    wl_shape = wl.shape\n",
    "    wl = wl.ravel()\n",
    "    t = (0.5 * (fs(wl) + fa(wl))).reshape(*wl_shape)\n",
    "    k = (0.5 * (fs(wl) - fa(wl))).reshape(*wl_shape)\n",
    "    sdict = {\n",
    "        (\"o1\", \"o4\"): t,\n",
    "        (\"o1\", \"o3\"): k,\n",
    "        (\"o2\", \"o3\"): k,\n",
    "        (\"o2\", \"o4\"): t,\n",
    "    }\n",
    "    return sax.reciprocal(sdict)"
   ]
  },
  {
   "cell_type": "code",
   "execution_count": 70,
   "id": "1c27fdcf-9287-4e7d-b75a-86806ebc048e",
   "metadata": {
    "execution": {
     "iopub.execute_input": "2022-03-01T18:44:11.687744Z",
     "iopub.status.busy": "2022-03-01T18:44:11.686727Z",
     "iopub.status.idle": "2022-03-01T18:44:12.396563Z",
     "shell.execute_reply": "2022-03-01T18:44:12.395902Z"
    }
   },
   "outputs": [
    {
     "data": {
      "image/png": "[encoded data removed]",
      "text/plain": [
       "<Figure size 864x216 with 2 Axes>"
      ]
     },
     "metadata": {
      "needs_background": "light"
     },
     "output_type": "display_data"
    }
   ],
   "source": [
    "f = jnp.linspace(c / 1.0e-6, c / 2.0e-6, 500) * 1e-12  # THz\n",
    "wl = c / (f * 1e12) * 1e6  # um\n",
    "\n",
    "filepath = gf.config.sparameters_path / \"coupler\" / \"coupler_G224n_L20_S220.csv\"\n",
    "coupler_fdtd = gf.partial(gs.read.sdict_from_csv, filepath, xkey=\"wavelength_nm\", prefix=\"S\", xunits=1e-3)\n",
    "sd = coupler_fdtd(wl=wl)\n",
    "sd_ = coupler(wl=wl)\n",
    "\n",
    "T = jnp.abs(sd[\"o1\", \"o4\"]) ** 2\n",
    "K = jnp.abs(sd[\"o1\", \"o3\"]) ** 2\n",
    "T_ = jnp.abs(sd_[\"o1\", \"o4\"]) ** 2\n",
    "K_ = jnp.abs(sd_[\"o1\", \"o3\"]) ** 2\n",
    "dP = jnp.unwrap(jnp.angle(sd[\"o1\", \"o3\"]) - jnp.angle(sd[\"o1\", \"o4\"]))\n",
    "dP_ = jnp.unwrap(jnp.angle(sd_[\"o1\", \"o3\"]) - jnp.angle(sd_[\"o1\", \"o4\"]))\n",
    "\n",
    "plt.figure(figsize=(12,3))\n",
    "plt.plot(wl, T, label=\"T (fdtd)\", c=\"C0\", ls=\":\", lw=\"6\")\n",
    "plt.plot(wl, T_, label=\"T (model)\", c=\"C0\")\n",
    "\n",
    "plt.plot(wl, K, label=\"K (fdtd)\", c=\"C1\", ls=\":\", lw=\"6\")\n",
    "plt.plot(wl, K_, label=\"K (model)\", c=\"C1\")\n",
    "\n",
    "plt.ylim(-0.05, 1.05)\n",
    "plt.grid(True)\n",
    "\n",
    "plt.twinx()\n",
    "plt.plot(wl, dP, label=\"ΔΦ (fdtd)\", color=\"C2\", ls=\":\", lw=\"6\")\n",
    "plt.plot(wl, dP_, label=\"ΔΦ (model)\", color=\"C2\")\n",
    "\n",
    "plt.xlabel(\"Frequency [THz]\")\n",
    "plt.ylabel(\"Transmission\")\n",
    "plt.figlegend(bbox_to_anchor=(1.08, 0.9))\n",
    "plt.savefig(\"fdtd_vs_model.png\", bbox_inches=\"tight\")\n",
    "plt.show()"
   ]
  },
  {
   "cell_type": "code",
   "execution_count": null,
   "id": "b1d3bd2e-8f98-4941-9e74-2435be2e9fc6",
   "metadata": {},
   "outputs": [],
   "source": []
  }
 ],
 "metadata": {
  "kernelspec": {
   "display_name": "Python 3 (ipykernel)",
   "language": "python",
   "name": "python3"
  },
  "language_info": {
   "codemirror_mode": {
    "name": "ipython",
    "version": 3
   },
   "file_extension": ".py",
   "mimetype": "text/x-python",
   "name": "python",
   "nbconvert_exporter": "python",
   "pygments_lexer": "ipython3",
   "version": "3.9.10"
  }
 },
 "nbformat": 4,
 "nbformat_minor": 5
}
